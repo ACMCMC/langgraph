{
 "cells": [
  {
   "cell_type": "code",
   "execution_count": 1,
   "id": "952e5a10-4a25-4fa3-bc3e-a23c84dfb438",
   "metadata": {},
   "outputs": [],
   "source": [
    "import os\n",
    "os.environ[\"OPENAI_API_KEY\"] = \"\""
   ]
  },
  {
   "cell_type": "code",
   "execution_count": 2,
   "id": "8cb22b06-7518-42d1-aaa5-faa38aa6f3bd",
   "metadata": {},
   "outputs": [],
   "source": [
    "from langchain_core.tools import tool"
   ]
  },
  {
   "cell_type": "code",
   "execution_count": 3,
   "id": "62c4fb30-8440-4035-8388-7c05ad16578a",
   "metadata": {},
   "outputs": [],
   "source": [
    "from langgraph.graph import GraphCommand"
   ]
  },
  {
   "cell_type": "markdown",
   "id": "54091c28-b2f7-4e7d-8cf2-42dfaabe148d",
   "metadata": {},
   "source": [
    "### Specialty agents"
   ]
  },
  {
   "cell_type": "markdown",
   "id": "dca0f950-5d2c-42c3-89bd-a78f4c46c12d",
   "metadata": {},
   "source": [
    "- flight-booking agent\n",
    "- hotel-booking "
   ]
  },
  {
   "cell_type": "code",
   "execution_count": 4,
   "id": "e9ee57c2-8283-41db-aaef-a6933f7ace00",
   "metadata": {},
   "outputs": [],
   "source": [
    "from langgraph.prebuilt.chat_agent_executor import make_agent_node, AgentRouterState\n",
    "from langchain_openai import ChatOpenAI"
   ]
  },
  {
   "cell_type": "code",
   "execution_count": 5,
   "id": "9edec7b5-4f8c-424a-9d1a-1e432a30ee65",
   "metadata": {},
   "outputs": [],
   "source": [
    "import uuid\n",
    "\n",
    "from langgraph.prebuilt import InjectedState\n",
    "from typing import Annotated, Literal\n",
    "\n",
    "from langchain_core.runnables import RunnableConfig"
   ]
  },
  {
   "cell_type": "code",
   "execution_count": 6,
   "id": "e253974a-56d7-4d21-9ddd-067c224c1a26",
   "metadata": {},
   "outputs": [],
   "source": [
    "model = ChatOpenAI(model=\"gpt-4o\")"
   ]
  },
  {
   "cell_type": "code",
   "execution_count": 7,
   "id": "f804da10-e571-40d1-99b5-48ce5d07e195",
   "metadata": {},
   "outputs": [],
   "source": [
    "def get_state_or_config_key(state: dict, config: RunnableConfig, key: str, raise_if_missing: bool = True):\n",
    "    user_id = state.get(key) or config.get(\"configurable\", {}).get(key)\n",
    "    if user_id is None and raise_if_missing:\n",
    "        raise ValueError(f\"{key} is missing\")\n",
    "\n",
    "    return user_id"
   ]
  },
  {
   "cell_type": "code",
   "execution_count": 8,
   "id": "e08e2adc-715b-489e-bc82-bca16c4f7430",
   "metadata": {},
   "outputs": [],
   "source": [
    "USERS = [\n",
    "    {\"id\": \"1\", \"first_name\": \"John\", \"last_name\": \"Smith\", \"title\": \"Mr\"},\n",
    "    {\"id\": \"2\", \"first_name\": \"Jane\", \"last_name\": \"Doe\", \"title\": \"Dr\"},\n",
    "    {\"id\": \"3\", \"first_name\": \"Oliver\", \"last_name\": \"Smith\", \"title\": \"Dr\"},\n",
    "]\n",
    "\n",
    "# super simplistic\n",
    "FLIGHTS = [\n",
    "    {\"id\": \"1\", \"departure_airport\": \"BOS\", \"arrival_airport\": \"JFK\", \"airline\": \"Jet Blue\", \"date\": \"2024-11-19\"},\n",
    "    {\"id\": \"2\", \"departure_airport\": \"BOS\", \"arrival_airport\": \"MIA\", \"airline\": \"American Airlines\", \"date\": \"2024-11-19\"},\n",
    "    {\"id\": \"3\", \"departure_airport\": \"JFK\", \"arrival_airport\": \"BOS\", \"airline\": \"Jet Blue\", \"date\": \"2024-11-29\"},\n",
    "    {\"id\": \"4\", \"departure_airport\": \"MIA\", \"arrival_airport\": \"BOS\", \"airline\": \"American Airlines\", \"date\": \"2024-11-29\"},\n",
    "]\n",
    "\n",
    "# super simplistic (no available dates)\n",
    "HOTELS = [\n",
    "    {\"id\": \"1\", \"location\": \"New York\", \"name\": \"McKittrick Hotel\", \"neighborhood\": \"Chelsea\"},\n",
    "    {\"id\": \"2\", \"location\": \"New York\", \"name\": \"Hyatt\", \"neighborhood\": \"Midtown\"},\n",
    "    {\"id\": \"3\", \"location\": \"Miami Beach\", \"name\": \"Nautilus Hotel\", \"neighborhood\": \"South Beach\"},\n",
    "]\n",
    "\n",
    "# overall itinerary reservations\n",
    "RESERVATIONS = [\n",
    "    {\n",
    "        \"number\": \"1-123\",\n",
    "        \"user_id\": \"1\",\n",
    "        \"flight_id\": \"1\",\n",
    "        \"hotel_id\": \"1\",\n",
    "        \"hotel_start_date\": \"2024-11-19\",\n",
    "        \"hotel_end_date\": \"2024-11-29\"\n",
    "    }\n",
    "]\n",
    "\n",
    "\n",
    "def get_reservation(state, config):\n",
    "    user_id = get_state_or_config_key(state, config, \"user_id\")\n",
    "    reservation_number = get_state_or_config_key(state, config, \"reservation_number\")\n",
    "\n",
    "    matching_reservations = [\n",
    "        reservation\n",
    "        for reservation in RESERVATIONS\n",
    "        if reservation[\"user_id\"] == user_id and reservation[\"number\"] == reservation_number\n",
    "    ]\n",
    "\n",
    "    if len(matching_reservations) == 0:\n",
    "        return \"Couldn't find a reservation for the provided number.\"\n",
    "\n",
    "    matching_reservation = matching_reservations[0]\n",
    "    return matching_reservation\n",
    "\n",
    "\n",
    "# FLIGHT TOOLS\n",
    "\n",
    "\n",
    "@tool(response_format=\"content_and_artifact\")\n",
    "def search_flights(departure_airport: str, arrival_airport: str):\n",
    "    \"\"\"Search flights. Use 3-letter airport codes.\"\"\"\n",
    "    matching_flights = [\n",
    "        flight\n",
    "        for flight in FLIGHTS \n",
    "        if flight[\"departure_airport\"] == departure_airport and flight[\"arrival_airport\"] == arrival_airport\n",
    "    ]\n",
    "    return matching_flights, GraphCommand(update={\"candidate_flights\": matching_flights})\n",
    "\n",
    "\n",
    "@tool(response_format=\"content_and_artifact\")\n",
    "def book_flight(\n",
    "    flight_id: str,\n",
    "    mode: Annotated[Literal[\"create\", \"update\"], \"If you have a reservation number, use 'update' mode\"],\n",
    "    state: Annotated[dict, InjectedState],\n",
    "    config: RunnableConfig\n",
    "):\n",
    "    \"\"\"Book a flight\"\"\"\n",
    "    user_id = get_state_or_config_key(state, config, \"user_id\")\n",
    "\n",
    "    if mode == \"create\":\n",
    "        reservation_number = str(uuid.uuid4())\n",
    "        reservation = {\"number\": reservation_number, \"flight_id\": flight_id, \"user_id\": user_id}\n",
    "        RESERVATIONS.append(reservation)\n",
    "\n",
    "        # switch active reservation to the new one\n",
    "        update = {\"reservation_number\": reservation_number, \"flight_id\": flight_id}\n",
    "    else:\n",
    "        matching_reservation = get_reservation(state, config)\n",
    "        matching_reservation[\"flight_id\"] = flight_id\n",
    "        update = None\n",
    "\n",
    "    return \"Successfully added a reservation for the flight\", GraphCommand(update=update)\n",
    "\n",
    "\n",
    "@tool\n",
    "def update_flight(\n",
    "    flight_id: str,\n",
    "    state: Annotated[dict, InjectedState],\n",
    "    config: RunnableConfig\n",
    "):\n",
    "    \"\"\"Update flight\"\"\"\n",
    "    matching_reservation = get_reservation(state, config)\n",
    "    matching_reservation[\"flight_id\"] = flight_id\n",
    "    return \"Successfully updated reservation for the flight\"\n",
    "\n",
    "\n",
    "@tool(response_format=\"content_and_artifact\")\n",
    "def cancel_flight(\n",
    "    state: Annotated[dict, InjectedState],\n",
    "    config: RunnableConfig\n",
    "):\n",
    "    \"\"\"Cancel flight\"\"\"\n",
    "    matching_reservation = get_reservation(state, config)\n",
    "    del matching_reservation[\"flight_id\"]\n",
    "\n",
    "    if not matching_reservation.get(\"hotel_id\"):\n",
    "        # remove reservation completely\n",
    "        RESERVATIONS.remove(matching_reservation)\n",
    "        update = {\"reservation_number\": None}\n",
    "    else:\n",
    "        update = {}\n",
    "\n",
    "    return \"Successfully removed flight from the reservation.\", GraphCommand(update=update)\n",
    "\n",
    "\n",
    "# HOTEL TOOLS\n",
    "\n",
    "\n",
    "@tool(response_format=\"content_and_artifact\")\n",
    "def search_hotels(location: str):\n",
    "    \"\"\"Search hotels. Use offical city names (proper nouns) for locations.\"\"\"\n",
    "    matching_hotels = [\n",
    "        hotel\n",
    "        for hotel in HOTELS \n",
    "        if hotel[\"location\"] == location\n",
    "    ]\n",
    "    return matching_hotels, GraphCommand(update={\"candidate_hotels\": matching_hotels})\n",
    "\n",
    "\n",
    "@tool(response_format=\"content_and_artifact\")\n",
    "def book_hotel(\n",
    "    hotel_id: str,\n",
    "    mode: Annotated[Literal[\"create\", \"update\"], \"If you have a reservation number, use 'update' mode\"],\n",
    "    state: Annotated[dict, InjectedState],\n",
    "    config: RunnableConfig\n",
    "):\n",
    "    \"\"\"Book a hotel\"\"\"\n",
    "    user_id = get_state_or_config_key(state, config, \"user_id\")\n",
    "\n",
    "    if mode == \"create\":\n",
    "        reservation_number = str(uuid.uuid4())\n",
    "        reservation = {\"number\": reservation_number, \"hotel_id\": hotel_id, \"user_id\": user_id}\n",
    "        RESERVATIONS.append(reservation)\n",
    "\n",
    "        # switch active reservation to the new one\n",
    "        update = {\"reservation_number\": reservation_number}\n",
    "    else:\n",
    "        matching_reservation = get_reservation(state, config)\n",
    "        matching_reservation[\"hotel_id\"] = hotel_id\n",
    "        update = None\n",
    "\n",
    "    return \"Successfully added a reservation for the hotel\", GraphCommand(update=update)\n",
    "\n",
    "\n",
    "@tool\n",
    "def update_hotel_reservation(\n",
    "    hotel_id: str,\n",
    "    state: Annotated[dict, InjectedState],\n",
    "    config: RunnableConfig\n",
    "):\n",
    "    \"\"\"Update hotel reservation\"\"\"\n",
    "    matching_reservation = get_reservation(state, config)\n",
    "    matching_reservation[\"hotel_id\"] = hotel_id\n",
    "    return \"Successfully updated reservation for the hotel\"\n",
    "\n",
    "\n",
    "@tool(response_format=\"content_and_artifact\")\n",
    "def cancel_hotel_reservation(\n",
    "    state: Annotated[dict, InjectedState],\n",
    "    config: RunnableConfig\n",
    "):\n",
    "    \"\"\"Cancel hotel reservation\"\"\"\n",
    "    matching_reservation = get_reservation(state, config)\n",
    "    del matching_reservation[\"hotel_id\"]\n",
    "\n",
    "    if not matching_reservation.get(\"flight_id\"):\n",
    "        # remove reservation completely\n",
    "        RESERVATIONS.remove(matching_reservation)\n",
    "        update = {\"reservation_number\": None}\n",
    "    else:\n",
    "        update = {}\n",
    "\n",
    "    return \"Successfully removed hotel from the reservation.\", GraphCommand(update=update)"
   ]
  },
  {
   "cell_type": "code",
   "execution_count": 103,
   "id": "31a92c7c-be89-4b6b-b4f5-c9b6d50ca963",
   "metadata": {},
   "outputs": [],
   "source": [
    "def make_state_modifier(base_system_prompt: str):\n",
    "    def state_modifier(state, config):\n",
    "        system_prompt = base_system_prompt\n",
    "        full_name = None\n",
    "    \n",
    "        # try to pull in the values from the state\n",
    "        if state.get(\"user_id\"):\n",
    "            full_name = \" \".join([state[\"user_title\"], state[\"user_first_name\"], state[\"user_last_name\"]])\n",
    "        # fall back on config\n",
    "        elif config.get(\"configurable\", {}).get(\"user_id\"):\n",
    "            configurable = config[\"configurable\"]\n",
    "            full_name = \" \".join([configurable[\"user_title\"], configurable[\"user_first_name\"], configurable[\"user_last_name\"]])\n",
    "    \n",
    "        if full_name:\n",
    "            system_prompt += f\"\\n\\nYou already know user's full name: {full_name}\"\n",
    "    \n",
    "        # Get reservation info\n",
    "        reservation_number = get_state_or_config_key(state, config, \"reservation_number\", raise_if_missing=False)\n",
    "        if reservation_number:\n",
    "            system_prompt += f\"\\n\\nUser's active reservation number is: {reservation_number}\"\n",
    "\n",
    "        # Get reservation info\n",
    "        reservation_info = get_state_or_config_key(state, config, \"reservation_info\", raise_if_missing=False)\n",
    "        if reservation_info is not None:\n",
    "            system_prompt += f\"\\n\\nUser's reservations: {reservation_info}\"\n",
    "\n",
    "        # Get flight / hotel info\n",
    "        candidate_flights = get_state_or_config_key(state, config, \"candidate_flights\", raise_if_missing=False)\n",
    "        if candidate_flights:\n",
    "            system_prompt += f\"\\n\\nLast discussed candidate flights: {candidate_flights}\"\n",
    "\n",
    "        candidate_hotels = get_state_or_config_key(state, config, \"candidate_hotels\", raise_if_missing=False)\n",
    "        if candidate_hotels:\n",
    "            system_prompt += f\"\\n\\nLast discussed candidate hotels: {candidate_hotels}\"\n",
    "    \n",
    "        return [{\"role\": \"system\", \"content\": system_prompt}] + state[\"messages\"]\n",
    "\n",
    "    return state_modifier"
   ]
  },
  {
   "cell_type": "code",
   "execution_count": 104,
   "id": "c6d4bd3a-1f8f-43ee-84e1-7577694ede24",
   "metadata": {},
   "outputs": [
    {
     "data": {
      "text/plain": [
       "[{'number': '1-123',\n",
       "  'user_id': '1',\n",
       "  'flight_id': '1',\n",
       "  'hotel_id': '1',\n",
       "  'hotel_start_date': '2024-11-19',\n",
       "  'hotel_end_date': '2024-11-29'}]"
      ]
     },
     "execution_count": 104,
     "metadata": {},
     "output_type": "execute_result"
    }
   ],
   "source": [
    "RESERVATIONS"
   ]
  },
  {
   "cell_type": "code",
   "execution_count": 105,
   "id": "36986552-d46c-4ade-a860-532b110cf36d",
   "metadata": {},
   "outputs": [],
   "source": [
    "# for chunk in flight_assistant.stream({\"messages\": [(\"user\", \"i am looking to fly from boston to ny\")]}, user_config):\n",
    "#     print(chunk)\n",
    "#     print(\"\\n\\n\")\n",
    "\n",
    "# for chunk in flight_assistant.stream({\"messages\": [(\"user\", \"yes please\")]}, user_config):\n",
    "#     print(chunk)\n",
    "#     print(\"\\n\\n\")\n",
    "\n",
    "# for chunk in flight_assistant.stream({\"messages\": [(\"user\", \"actually, changed my mind -- can you switch it to bos -> miami?\")]}, user_config):\n",
    "#     print(chunk)\n",
    "#     print(\"\\n\\n\")\n",
    "\n",
    "# for chunk in flight_assistant.stream({\"messages\": [(\"user\", \"yes\")]}, user_config):\n",
    "#     print(chunk)\n",
    "#     print(\"\\n\\n\")\n",
    "\n",
    "# for chunk in flight_assistant.stream({\"messages\": [(\"user\", \"actually, changed my mind -- can you cancel my flight?\")]}, user_config):\n",
    "#     print(chunk)\n",
    "#     print(\"\\n\\n\")"
   ]
  },
  {
   "cell_type": "code",
   "execution_count": 106,
   "id": "4869a86c-f470-4fd2-a7fa-bc9ebc031571",
   "metadata": {},
   "outputs": [],
   "source": [
    "# memory = MemorySaver()\n",
    "# flight_assistant = create_react_agent(\n",
    "#     model,\n",
    "#     [search_flights, book_flight, update_flight, cancel_flight],\n",
    "#     state_schema=State,\n",
    "#     state_modifier=make_state_modifier(\"You are a flight booking assistant.\"),\n",
    "#     checkpointer=memory\n",
    "# )\n",
    "\n",
    "# hotel_assistant = create_react_agent(\n",
    "#     model,\n",
    "#     [search_hotels, book_hotel, update_hotel_reservation, cancel_hotel_reservation],\n",
    "#     state_schema=State,\n",
    "#     state_modifier=make_state_modifier(\"You are a hotel booking assistant\"),\n",
    "#     checkpointer=memory\n",
    "# )"
   ]
  },
  {
   "cell_type": "code",
   "execution_count": 107,
   "id": "606ee515-977c-4c75-b078-0c6084e4c0ae",
   "metadata": {},
   "outputs": [],
   "source": [
    "# for chunk in hotel_assistant.stream({\"messages\": [(\"user\", \"i am looking for a hotel in ny\")], \"reservation_number\": \"1-123\"}, user_config):\n",
    "#     print(chunk)\n",
    "#     print(\"\\n\\n\")\n",
    "\n",
    "# for chunk in hotel_assistant.stream({\"messages\": [(\"user\", \"book mckittrick please\")]}, user_config):\n",
    "#     print(chunk)\n",
    "#     print(\"\\n\\n\")\n",
    "\n",
    "# for chunk in hotel_assistant.stream({\"messages\": [(\"user\", \"actually, nvm, cancel it\")]}, user_config):\n",
    "#     print(chunk)\n",
    "#     print(\"\\n\\n\")"
   ]
  },
  {
   "cell_type": "code",
   "execution_count": 108,
   "id": "75b4493a-56d2-4075-acb9-3b0ce3413d58",
   "metadata": {},
   "outputs": [
    {
     "data": {
      "text/plain": [
       "[{'number': '1-123',\n",
       "  'user_id': '1',\n",
       "  'flight_id': '1',\n",
       "  'hotel_id': '1',\n",
       "  'hotel_start_date': '2024-11-19',\n",
       "  'hotel_end_date': '2024-11-29'}]"
      ]
     },
     "execution_count": 108,
     "metadata": {},
     "output_type": "execute_result"
    }
   ],
   "source": [
    "RESERVATIONS"
   ]
  },
  {
   "cell_type": "markdown",
   "id": "28ce3292-d275-4f14-8462-8d65cb547541",
   "metadata": {},
   "source": [
    "### Main agent tools"
   ]
  },
  {
   "cell_type": "code",
   "execution_count": 109,
   "id": "6847451b-8082-442d-979e-6e516b2ecbb4",
   "metadata": {},
   "outputs": [],
   "source": [
    "from langgraph.prebuilt.handoff import create_handoff_tool"
   ]
  },
  {
   "cell_type": "code",
   "execution_count": 169,
   "id": "e87d217f-3f45-442c-a6c1-5ef6359df21d",
   "metadata": {},
   "outputs": [],
   "source": [
    "# NOTE: currently using create_handoff_tool because the agent node wrapper expects the destination names to construct type annotations correctly\n",
    "transfer_to_hotel_assistant = create_handoff_tool(\"hotel_assistant\", name=\"transfer_to_hotel_assistant\", description=\"Transfer user to the hotel-booking assistant that can create/update or cancel bookings.\")\n",
    "transfer_to_flight_assistant = create_handoff_tool(\"flight_assistant\", name=\"transfer_to_flight_assistant\", description=\"Transfer user to the flight-booking assistant that can create/update or cancel bookings.\")"
   ]
  },
  {
   "cell_type": "code",
   "execution_count": 170,
   "id": "71fea345-0a83-4dc9-a69e-42deaad0bd3f",
   "metadata": {},
   "outputs": [],
   "source": [
    "from typing import Optional\n",
    "\n",
    "class State(AgentRouterState):\n",
    "    # user info\n",
    "    user_id: str\n",
    "    user_title: str\n",
    "    user_first_name: str\n",
    "    user_last_name: str\n",
    "    # current reservation number\n",
    "    reservation_number: str\n",
    "    # current reservation INFO\n",
    "    reservation_info: list[dict]\n",
    "    # current flights/hotels under consideration\n",
    "    candidate_flights: list[str]\n",
    "    candidate_hotels: list[str]"
   ]
  },
  {
   "cell_type": "code",
   "execution_count": 171,
   "id": "14bc2184-e463-4d11-a7e8-63ee3aedaf54",
   "metadata": {},
   "outputs": [],
   "source": [
    "def expand_reservation(reservation):\n",
    "    expanded_reservation = {**reservation}\n",
    "\n",
    "    if flight_id := reservation.get(\"flight_id\"):\n",
    "        flight = [flight for flight in FLIGHTS if flight_id == flight_id][0]\n",
    "        flight_info = {**flight}\n",
    "        flight_info.pop(\"id\")\n",
    "        expanded_reservation[\"flight_info\"] = flight_info\n",
    "\n",
    "    if hotel_id := reservation.get(\"hotel_id\"):\n",
    "        hotel = [hotel for hotel in HOTELS if hotel_id == hotel_id][0]\n",
    "        hotel_info = {**hotel}\n",
    "        hotel_info.pop(\"id\")\n",
    "        expanded_reservation[\"hotel_info\"] = hotel_info\n",
    "\n",
    "    if flight_id is None and hotel_id is None:\n",
    "        raise ValueError(\"Malformed reservation -- missing flight ID and hotel ID\")\n",
    "\n",
    "    return expanded_reservation\n",
    "\n",
    "\n",
    "@tool(response_format=\"content_and_artifact\")\n",
    "def get_reservations(state: Annotated[dict, InjectedState], config: RunnableConfig):\n",
    "    \"\"\"Get reservations for the user.\"\"\"\n",
    "    user_id = get_state_or_config_key(state, config, \"user_id\")\n",
    "    reservations = [\n",
    "        expand_reservation(reservation)\n",
    "        for reservation in RESERVATIONS\n",
    "        if reservation[\"user_id\"] == user_id\n",
    "    ]\n",
    "    return reservations, GraphCommand(update={\"reservation_info\": reservations})"
   ]
  },
  {
   "cell_type": "code",
   "execution_count": 172,
   "id": "a328506d-7fab-4f90-9003-c736631e2d94",
   "metadata": {},
   "outputs": [],
   "source": [
    "@tool(response_format=\"content_and_artifact\")\n",
    "def verify_user_information(last_name: str, reservation_number: Optional[str]):\n",
    "    \"\"\"Look up and verify user information once they provide last name and, optionally, reservation number.\n",
    "\n",
    "    Args:\n",
    "        last_name: User last name.\n",
    "        reservation_number: Ask for this if the user is trying to modify an existing reservation.\n",
    "    \"\"\"\n",
    "    # the lookups are dumb\n",
    "    matching_users = [user for user in USERS if user[\"last_name\"].lower() == last_name.lower()]\n",
    "    if len(matching_users) == 0:\n",
    "        return \"No users found\", GraphCommand(goto=\"main_assistant\")\n",
    "    elif len(matching_users) > 1 and not reservation_number:\n",
    "        return \"Found multiple users with this last name. Please provider reservation number.\", None\n",
    "    \n",
    "    if reservation_number:\n",
    "        matching_reservations = [\n",
    "            reservation \n",
    "            for reservation in RESERVATIONS \n",
    "            if reservation[\"number\"] == reservation_number\n",
    "        ]\n",
    "        if len(matching_reservations) > 1:\n",
    "            raise ValueError(\"Found multiple reservations for the same number\")\n",
    "\n",
    "        if len(matching_reservations) == 1:\n",
    "            reservation = matching_reservations[0]\n",
    "            update = {\"reservation_number\": reservation[\"number\"]}\n",
    "            matching_users = [user for user in matching_users if user[\"id\"] == reservation[\"user_id\"]]\n",
    "        else:\n",
    "            return \"Couldn't find a reservation for the provided number.\", None\n",
    "\n",
    "    user = matching_users[0]\n",
    "    update = {\n",
    "        \"user_id\": user[\"id\"],\n",
    "        \"user_last_name\": user[\"last_name\"],\n",
    "        \"user_first_name\": user[\"first_name\"],\n",
    "        \"user_title\": user[\"title\"],\n",
    "    }\n",
    "\n",
    "    if reservation_number:\n",
    "        update[\"reservation_number\"] = reservation_number\n",
    "        update[\"reservation_info\"] = [expand_reservation(r) for r in matching_reservations]\n",
    "    else:\n",
    "        update[\"reservation_info\"] = [\n",
    "            expand_reservation(reservation)\n",
    "            for reservation in RESERVATIONS \n",
    "            if reservation[\"user_id\"] == user_id\n",
    "        ]\n",
    "\n",
    "    return \"Successfully authenticated\", GraphCommand(update=update)"
   ]
  },
  {
   "cell_type": "markdown",
   "id": "755f2957-3176-42f6-b289-f61f81669dbc",
   "metadata": {},
   "source": [
    "### What's a good way to handle the user info via the config?\n",
    "\n",
    "* the question is where the user info in this example should ultimately live -- in the state or in the config?\n",
    "    * if we want it to be in the state, we'd need to populate it with the values from the config in a separate step\n",
    "    * if we only need this for state modifier to include in the prompt, we can just pull in the values from the config directly\n",
    "* can also have a dedicated node in the beginning that updates the state to include information from the config\n",
    " \n",
    "For this example, will try to look in the state, and then fall back on the config"
   ]
  },
  {
   "cell_type": "code",
   "execution_count": 173,
   "id": "27383a01-84c5-45e5-adcc-c6d9b383b08f",
   "metadata": {},
   "outputs": [],
   "source": [
    "from langgraph.prebuilt import create_react_agent"
   ]
  },
  {
   "cell_type": "code",
   "execution_count": 174,
   "id": "235bbf66-f918-4998-b366-d1afe878a6d2",
   "metadata": {},
   "outputs": [],
   "source": [
    "from langgraph.graph import StateGraph, START\n",
    "from langgraph.checkpoint.memory import MemorySaver"
   ]
  },
  {
   "cell_type": "code",
   "execution_count": 207,
   "id": "4288d6df-4168-45ae-87d2-8645fcdb77d6",
   "metadata": {},
   "outputs": [],
   "source": [
    "from functools import partial\n",
    "from langchain_core.messages import HumanMessage\n",
    "\n",
    "# output processors\n",
    "\n",
    "\n",
    "def make_output_processor(agent_name: str = None):\n",
    "    def keep_last_message_as_human(state):\n",
    "        updated_state = state.copy()\n",
    "        last_message_content = updated_state[\"messages\"][-1].content\n",
    "        last_message = HumanMessage(content=last_message_content, name=agent_name)\n",
    "        updated_state[\"messages\"] = [last_message]\n",
    "        return updated_state\n",
    "    return keep_last_message_as_human"
   ]
  },
  {
   "cell_type": "code",
   "execution_count": 176,
   "id": "afbbff71-d101-4daa-9f5c-5158c7500068",
   "metadata": {},
   "outputs": [],
   "source": [
    "MAIN_ASSISTANT_SYSTEM_PROMPT = (\n",
    "    \"You are a travel booking assistant who can help the user with booking travel (flights and hotel) and updating existing bookings. \"\n",
    "    \"If you don't know their last name, you MUST ask them for it AND THEN call verification tool. \"\n",
    "    \"You MUST verify user info but ONLY if you don't already know their name. \"\n",
    "    \"Before transferring to flight/hotel assistants, check if the user has any existing reservations.\"\n",
    ")"
   ]
  },
  {
   "cell_type": "code",
   "execution_count": 292,
   "id": "7fe84dd7-e64d-45c5-a54e-788bf540a3e8",
   "metadata": {},
   "outputs": [],
   "source": [
    "main_assistant = make_agent_node(\n",
    "    model,\n",
    "    [verify_user_information, transfer_to_flight_assistant, transfer_to_hotel_assistant],\n",
    "    state_schema=State,\n",
    "    state_modifier=make_state_modifier(MAIN_ASSISTANT_SYSTEM_PROMPT)\n",
    ")\n",
    "\n",
    "flight_assistant = make_agent_node(\n",
    "    model,\n",
    "    [search_flights, book_flight, update_flight, cancel_flight, transfer_to_hotel_assistant],\n",
    "    state_schema=State,\n",
    "    state_modifier=make_state_modifier(\"You are a flight booking assistant\"),\n",
    "    output_processor=make_output_processor(agent_name=\"flight_assistant\"),\n",
    ")\n",
    "\n",
    "hotel_assistant = make_agent_node(\n",
    "    model,\n",
    "    [search_hotels, book_hotel, update_hotel_reservation, cancel_hotel_reservation, transfer_to_flight_assistant],\n",
    "    state_schema=State,\n",
    "    state_modifier=make_state_modifier(\"You are a hotel booking assistant\"),\n",
    "    output_processor=make_output_processor(agent_name=\"hotel_assistant\"),\n",
    ")"
   ]
  },
  {
   "cell_type": "markdown",
   "id": "0ef358b8-b86e-4d30-9151-de0e941c0f6a",
   "metadata": {},
   "source": [
    "### Define the graph"
   ]
  },
  {
   "cell_type": "code",
   "execution_count": 293,
   "id": "23fbdd7d-dbc7-43a7-a234-9590bd2b8cf4",
   "metadata": {},
   "outputs": [],
   "source": [
    "from langgraph.prebuilt.chat_agent_executor import add_entrypoint_router"
   ]
  },
  {
   "cell_type": "code",
   "execution_count": 294,
   "id": "b2eb449d-4f04-431a-8af5-73646bc1e9d4",
   "metadata": {},
   "outputs": [],
   "source": [
    "from langgraph.errors import NodeInterrupt"
   ]
  },
  {
   "cell_type": "code",
   "execution_count": 295,
   "id": "7095865e-dbbb-495c-81e0-685eb90ac390",
   "metadata": {},
   "outputs": [],
   "source": [
    "def entry_router(state: State) -> Literal[\"resolve_user_info\", \"main_assistant\", \"flight_assistant\", \"hotel_assistant\"]:\n",
    "    if state.get(\"user_id\") is not None:\n",
    "        return state.get(\"node\", \"main_assistant\")\n",
    "    else:\n",
    "        return \"resolve_user_info\""
   ]
  },
  {
   "cell_type": "code",
   "execution_count": 296,
   "id": "8fc0e334-39ac-4050-abeb-a0a734d18f5a",
   "metadata": {},
   "outputs": [],
   "source": [
    "def resolve_user_info(state: State, config: RunnableConfig):\n",
    "    user_id = get_state_or_config_key(state, config, \"user_id\", raise_if_missing=False)\n",
    "    user_last_name = get_state_or_config_key(state, config, \"user_last_name\", raise_if_missing=False)\n",
    "    reservation_number = get_state_or_config_key(state, config, \"reservation_number\", raise_if_missing=False)\n",
    "    \n",
    "    if user_id is not None:\n",
    "        matching_users = [user for user in USERS if user[\"id\"] == user_id]\n",
    "    elif user_last_name is not None:\n",
    "        matching_users = [user for user in USERS if user[\"last_name\"].lower() == user_last_name.lower()]\n",
    "\n",
    "    if len(matching_users) == 0:\n",
    "        raise NodeInterrupt(\"No matching users found\")\n",
    "\n",
    "    elif len(matching_users) > 1 and not reservation_number:\n",
    "        raise NodeInterrupt(\"Found multiple users with this last name. Please provider reservation number.\")\n",
    "\n",
    "    if reservation_number:\n",
    "        matching_reservations = [\n",
    "            reservation \n",
    "            for reservation in RESERVATIONS\n",
    "            if reservation[\"number\"] == reservation_number\n",
    "        ]\n",
    "        if len(matching_reservations) > 1:\n",
    "            raise ValueError(\"Found multiple reservations for the same number\")\n",
    "\n",
    "        if len(matching_reservations) == 1:\n",
    "            reservation = matching_reservations[0]\n",
    "            update = {\"reservation_number\": reservation[\"number\"]}\n",
    "            matching_users = [user for user in matching_users if user[\"id\"] == reservation[\"user_id\"]]\n",
    "        else:\n",
    "            raise NodeInterrupt(\"Couldn't find a reservation for the provided number.\")\n",
    "\n",
    "    user = matching_users[0]\n",
    "    update = {\n",
    "        \"user_id\": user[\"id\"],\n",
    "        \"user_last_name\": user[\"last_name\"],\n",
    "        \"user_first_name\": user[\"first_name\"],\n",
    "        \"user_title\": user[\"title\"],\n",
    "    }\n",
    "\n",
    "    if reservation_number:\n",
    "        update[\"reservation_number\"] = reservation_number\n",
    "        update[\"reservation_info\"] = [expand_reservation(r) for r in matching_reservations]\n",
    "    else:\n",
    "        update[\"reservation_info\"] = [\n",
    "            expand_reservation(reservation)\n",
    "            for reservation in RESERVATIONS \n",
    "            if reservation[\"user_id\"] == user_id\n",
    "        ]\n",
    "\n",
    "    return update"
   ]
  },
  {
   "cell_type": "code",
   "execution_count": 297,
   "id": "cb3841d7-7f8b-4bff-8f72-1920da3e26aa",
   "metadata": {},
   "outputs": [],
   "source": [
    "customer_support_builder = StateGraph(State)\n",
    "\n",
    "# a node that processes provided config and populates the state\n",
    "customer_support_builder.add_node(\"resolve_user_info\", resolve_user_info)\n",
    "customer_support_builder.add_node(\"main_assistant\", main_assistant)\n",
    "customer_support_builder.add_node(\"flight_assistant\", flight_assistant)\n",
    "customer_support_builder.add_node(\"hotel_assistant\", hotel_assistant)\n",
    "\n",
    "customer_support_builder.add_conditional_edges(START, entry_router)\n",
    "customer_support_builder.add_edge(\"resolve_user_info\", \"main_assistant\")\n",
    "\n",
    "checkpointer = MemorySaver()\n",
    "customer_support_graph = customer_support_builder.compile(checkpointer=checkpointer)"
   ]
  },
  {
   "cell_type": "code",
   "execution_count": 298,
   "id": "cc5a5afd-4eda-40fc-9015-fc0fc051e3b7",
   "metadata": {},
   "outputs": [],
   "source": [
    "from IPython.display import display, Image"
   ]
  },
  {
   "cell_type": "code",
   "execution_count": 299,
   "id": "223b9d78-b2c3-45c8-ad5a-e8d465b99da7",
   "metadata": {},
   "outputs": [
    {
     "data": {
      "image/jpeg": "[encoded data removed]",
      "text/plain": [
       "<IPython.core.display.Image object>"
      ]
     },
     "metadata": {},
     "output_type": "display_data"
    }
   ],
   "source": [
    "display(Image(customer_support_graph.get_graph().draw_mermaid_png()))"
   ]
  },
  {
   "cell_type": "code",
   "execution_count": 300,
   "id": "237f0fb8-5560-4be1-9e32-a5be06b67592",
   "metadata": {},
   "outputs": [],
   "source": [
    "user_info = {f\"user_{k}\": v for k, v in USERS[0].items()}"
   ]
  },
  {
   "cell_type": "code",
   "execution_count": 301,
   "id": "2be2f85d-3810-4b21-b174-b17fe9286acf",
   "metadata": {},
   "outputs": [],
   "source": [
    "# config = {\"configurable\": {\"thread_id\": \"1\"}}\n",
    "config = {\"configurable\": {\"thread_id\": \"1\", \"reservation_number\": \"1-123\", **user_info}}"
   ]
  },
  {
   "cell_type": "code",
   "execution_count": 303,
   "id": "2e8b4779-16fe-43fe-af89-33a963fdc613",
   "metadata": {},
   "outputs": [
    {
     "name": "stdout",
     "output_type": "stream",
     "text": [
      "((), {'resolve_user_info': {'user_id': '1', 'user_title': 'Mr', 'user_first_name': 'John', 'user_last_name': 'Smith', 'reservation_number': '1-123', 'reservation_info': [{'number': '1-123', 'user_id': '1', 'flight_id': '2', 'hotel_start_date': '2024-11-19', 'hotel_end_date': '2024-11-29', 'flight_info': {'departure_airport': 'BOS', 'arrival_airport': 'JFK', 'airline': 'Jet Blue', 'date': '2024-11-19'}}]}})\n",
      "\n",
      "\n",
      "\n",
      "(('main_assistant:337fca5c-688e-b405-8c96-33519ee1f0b9',), {'agent': {'messages': [AIMessage(content='Before proceeding with booking a new flight, I see that you have an existing reservation with the following details:\\n\\n- Reservation Number: 1-123\\n- Flight: Jet Blue from BOS to JFK on 2024-11-19\\n\\nWould you like to modify this existing reservation, or are you looking to book an entirely new flight?', additional_kwargs={'refusal': None}, response_metadata={'token_usage': {'completion_tokens': 69, 'prompt_tokens': 348, 'total_tokens': 417, 'completion_tokens_details': {'accepted_prediction_tokens': 0, 'audio_tokens': 0, 'reasoning_tokens': 0, 'rejected_prediction_tokens': 0}, 'prompt_tokens_details': {'audio_tokens': 0, 'cached_tokens': 0}}, 'model_name': 'gpt-4o-2024-08-06', 'system_fingerprint': 'fp_7e2833e5f9', 'finish_reason': 'stop', 'logprobs': None}, id='run-3c99d6e4-01f7-42a2-a744-196841f7751d-0', usage_metadata={'input_tokens': 348, 'output_tokens': 69, 'total_tokens': 417, 'input_token_details': {'audio': 0, 'cache_read': 0}, 'output_token_details': {'audio': 0, 'reasoning': 0}})]}})\n",
      "\n",
      "\n",
      "\n",
      "((), {'main_assistant': {'messages': [HumanMessage(content=\"hi, i'd like to book a flight\", additional_kwargs={}, response_metadata={}, id='454c5e25-7308-499e-87be-44d9a1599f6e'), AIMessage(content='Before proceeding with booking a new flight, I see that you have an existing reservation with the following details:\\n\\n- Reservation Number: 1-123\\n- Flight: Jet Blue from BOS to JFK on 2024-11-19\\n\\nWould you like to modify this existing reservation, or are you looking to book an entirely new flight?', additional_kwargs={'refusal': None}, response_metadata={'token_usage': {'completion_tokens': 69, 'prompt_tokens': 348, 'total_tokens': 417, 'completion_tokens_details': {'accepted_prediction_tokens': 0, 'audio_tokens': 0, 'reasoning_tokens': 0, 'rejected_prediction_tokens': 0}, 'prompt_tokens_details': {'audio_tokens': 0, 'cached_tokens': 0}}, 'model_name': 'gpt-4o-2024-08-06', 'system_fingerprint': 'fp_7e2833e5f9', 'finish_reason': 'stop', 'logprobs': None}, id='run-3c99d6e4-01f7-42a2-a744-196841f7751d-0', usage_metadata={'input_tokens': 348, 'output_tokens': 69, 'total_tokens': 417, 'input_token_details': {'audio': 0, 'cache_read': 0}, 'output_token_details': {'audio': 0, 'reasoning': 0}})], 'user_id': '1', 'user_title': 'Mr', 'user_first_name': 'John', 'user_last_name': 'Smith', 'reservation_number': '1-123', 'reservation_info': [{'number': '1-123', 'user_id': '1', 'flight_id': '2', 'hotel_start_date': '2024-11-19', 'hotel_end_date': '2024-11-29', 'flight_info': {'departure_airport': 'BOS', 'arrival_airport': 'JFK', 'airline': 'Jet Blue', 'date': '2024-11-19'}}]}})\n",
      "\n",
      "\n",
      "\n"
     ]
    }
   ],
   "source": [
    "for chunk in customer_support_graph.stream({\"messages\": [(\"user\", \"hi, i'd like to book a flight\")]}, config, subgraphs=True):\n",
    "    print(chunk)\n",
    "    print(\"\\n\\n\")"
   ]
  },
  {
   "cell_type": "code",
   "execution_count": null,
   "id": "3204f28b-e899-46c4-a093-b7984eaf6fe1",
   "metadata": {},
   "outputs": [],
   "source": [
    "# # for chunk in customer_support_graph.stream({\"messages\": [(\"user\", \"hi, i'd like to book a flight\")]}, config, subgraphs=True):\n",
    "# #     print(chunk)\n",
    "# #     print(\"\\n\\n\")\n",
    "\n",
    "# # for chunk in customer_support_graph.stream({\"messages\": [(\"user\", \"my last name is smith\")]}, config, subgraphs=True):\n",
    "# #     print(chunk)\n",
    "# #     print(\"\\n\\n\")\n",
    "\n",
    "# # for chunk in customer_support_graph.stream({\"messages\": [(\"user\", \"sure, it's 1-123\")]}, config, subgraphs=True):\n",
    "# #     print(chunk)\n",
    "# #     print(\"\\n\\n\")\n",
    "\n",
    "# for chunk in customer_support_graph.stream({\"messages\": [(\"user\", \"i am looking to fly from boston to ny (jfk)\")]}, config, subgraphs=True):\n",
    "#     print(chunk)\n",
    "#     print(\"\\n\\n\")\n",
    "\n",
    "# # for chunk in customer_support_graph.stream({\"messages\": [(\"user\", \"ah great keep it then! i'd also love to book a hotel\")]}, config, subgraphs=True):\n",
    "# #     print(chunk)\n",
    "# #     print(\"\\n\\n\")\n",
    "\n",
    "# for chunk in customer_support_graph.stream({\"messages\": [(\"user\", \"actually, i'd like to change my flight. want to fly to miami instead\")]}, config, subgraphs=True):\n",
    "#     print(chunk)\n",
    "#     print(\"\\n\\n\")"
   ]
  }
 ],
 "metadata": {
  "kernelspec": {
   "display_name": "langgraph",
   "language": "python",
   "name": "langgraph"
  },
  "language_info": {
   "codemirror_mode": {
    "name": "ipython",
    "version": 3
   },
   "file_extension": ".py",
   "mimetype": "text/x-python",
   "name": "python",
   "nbconvert_exporter": "python",
   "pygments_lexer": "ipython3",
   "version": "3.11.9"
  }
 },
 "nbformat": 4,
 "nbformat_minor": 5
}
