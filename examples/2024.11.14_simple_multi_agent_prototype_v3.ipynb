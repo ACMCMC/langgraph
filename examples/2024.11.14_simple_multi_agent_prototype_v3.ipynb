{
 "cells": [
  {
   "cell_type": "code",
   "execution_count": 33,
   "id": "828c1d96-6940-44ed-983f-134972cd4570",
   "metadata": {},
   "outputs": [],
   "source": [
    "from langchain_openai import ChatOpenAI\n",
    "from langchain_anthropic import ChatAnthropic\n",
    "\n",
    "import os\n",
    "import getpass\n",
    "os.environ['OPENAI_API_KEY'] = \"\"\n",
    "os.environ['ANTHROPIC_API_KEY'] = \"\""
   ]
  },
  {
   "cell_type": "code",
   "execution_count": 34,
   "id": "fc99d428-67e9-45a7-b953-a6bf1ad96da8",
   "metadata": {},
   "outputs": [],
   "source": [
    "def add(a: int, b: int):\n",
    "    \"\"\"Adds two numbers\"\"\"\n",
    "    return a + b"
   ]
  },
  {
   "cell_type": "code",
   "execution_count": 35,
   "id": "8bf48bbb-8da9-4afc-bb7c-111e7fadb0f3",
   "metadata": {},
   "outputs": [],
   "source": [
    "def multiply(a: int, b: int):\n",
    "    \"\"\"Multiplies two numbers\"\"\"\n",
    "    return a * b"
   ]
  },
  {
   "cell_type": "markdown",
   "id": "f5b6ef4a-2cbb-4aee-9a37-7fd4881391cd",
   "metadata": {},
   "source": [
    "### Wrapper for a single agent that can both call tools and transfer to other agents"
   ]
  },
  {
   "cell_type": "code",
   "execution_count": 36,
   "id": "98fb7cb5-1ff4-4603-9aa1-467c3b047b60",
   "metadata": {},
   "outputs": [],
   "source": [
    "from langgraph.prebuilt.chat_agent_executor import ActiveAgentState\n",
    "from langgraph.prebuilt import create_react_agent"
   ]
  },
  {
   "cell_type": "code",
   "execution_count": 37,
   "id": "96a9f030-e1b2-4355-8010-f322f76dfe26",
   "metadata": {},
   "outputs": [],
   "source": [
    "model = ChatOpenAI(model=\"gpt-4o\")"
   ]
  },
  {
   "cell_type": "code",
   "execution_count": 38,
   "id": "10133481-490b-4610-9603-62be431d6716",
   "metadata": {},
   "outputs": [],
   "source": [
    "model_anthropic = ChatAnthropic(model=\"claude-3-5-sonnet-latest\")"
   ]
  },
  {
   "cell_type": "code",
   "execution_count": 7,
   "id": "952dbd5f-f77b-4d64-92d2-cc7097c97f1a",
   "metadata": {},
   "outputs": [],
   "source": [
    "from langgraph.checkpoint.memory import MemorySaver\n",
    "from langgraph.graph import StateGraph, GraphCommand, START, END\n",
    "from typing import Literal"
   ]
  },
  {
   "cell_type": "code",
   "execution_count": 8,
   "id": "0ee88f4f-e1d7-4f91-b50b-a4878064836f",
   "metadata": {},
   "outputs": [],
   "source": [
    "from langgraph.prebuilt.handoff import create_handoff_tool, GraphCommandTool"
   ]
  },
  {
   "cell_type": "code",
   "execution_count": 9,
   "id": "6417909f-afb0-429c-ac27-ecc57fa121df",
   "metadata": {},
   "outputs": [],
   "source": [
    "from langchain_core.runnables import RunnableConfig"
   ]
  },
  {
   "cell_type": "code",
   "execution_count": 10,
   "id": "01acdf66-8fb2-4cb1-9c10-010e229fa4aa",
   "metadata": {},
   "outputs": [],
   "source": [
    "from langchain_core.messages import HumanMessage"
   ]
  },
  {
   "cell_type": "code",
   "execution_count": 13,
   "id": "fe093411-50a3-4586-8931-3861c0dbd5de",
   "metadata": {},
   "outputs": [],
   "source": [
    "from typing import Callable"
   ]
  },
  {
   "cell_type": "code",
   "execution_count": 14,
   "id": "f028c25f-cb72-4aa9-8274-287c537a6eb6",
   "metadata": {},
   "outputs": [],
   "source": [
    "# output processors\n",
    "\n",
    "# NOTE: this one actually won't even work\n",
    "# because in the case of transfer the last node from an agent is a \"dangling\" tool message without a corresponding AI message\n",
    "def keep_last_message(state):\n",
    "    updated_state = state.copy()\n",
    "    updated_state[\"messages\"] = updated_state[\"messages\"][-1:]\n",
    "    return updated_state\n",
    "\n",
    "\n",
    "def keep_last_message_as_human(state):\n",
    "    updated_state = state.copy()\n",
    "    last_message_content = updated_state[\"messages\"][-1].content\n",
    "    # TODO: how do we propagate agent name here?\n",
    "    last_message = HumanMessage(content=last_message_content)\n",
    "    updated_state[\"messages\"] = [last_message]\n",
    "    return updated_state"
   ]
  },
  {
   "cell_type": "code",
   "execution_count": 15,
   "id": "fa1892b4-1f69-4ee3-8613-26c8cb94d28c",
   "metadata": {},
   "outputs": [],
   "source": [
    "from langgraph.prebuilt.chat_agent_executor import make_agent_node, add_entrypoint_router"
   ]
  },
  {
   "cell_type": "code",
   "execution_count": 16,
   "id": "6d5ab915-2b79-4e7d-bb26-9fc4c288e505",
   "metadata": {},
   "outputs": [],
   "source": [
    "bob_tool = create_handoff_tool(\"bob\", name=\"transfer_to_bob\")\n",
    "alice_tool = create_handoff_tool(\"alice\", name=\"transfer_to_alice\")\n",
    "charlie_tool = create_handoff_tool(\"charlie\", name=\"transfer_to_charlie\")"
   ]
  },
  {
   "cell_type": "code",
   "execution_count": 17,
   "id": "c74780ec-2a1e-47a5-a39e-70a9ee55f210",
   "metadata": {},
   "outputs": [],
   "source": [
    "builder = StateGraph(ActiveAgentState)\n",
    "\n",
    "alice = make_agent_node(model, [add, bob_tool], state_modifier=\"You're Alice.\", output_processor=keep_last_message_as_human)\n",
    "bob = make_agent_node(model, [multiply, alice_tool], state_modifier=\"You're Bob.\", output_processor=keep_last_message_as_human)\n",
    "\n",
    "add_entrypoint_router(builder, route_to=[(\"alice\", alice), (\"bob\", bob)], default_start_node=\"alice\")\n",
    "memory = MemorySaver()\n",
    "graph = builder.compile(checkpointer=memory)"
   ]
  },
  {
   "cell_type": "code",
   "execution_count": 18,
   "id": "61f1ee4f-606b-4b4b-821d-584a710172f9",
   "metadata": {},
   "outputs": [],
   "source": [
    "from IPython.display import display, Image"
   ]
  },
  {
   "cell_type": "code",
   "execution_count": 19,
   "id": "f3fc3279-aabf-4965-b258-7a30b9042a0d",
   "metadata": {},
   "outputs": [
    {
     "data": {
      "image/png": "[encoded data removed]",
      "text/plain": [
       "<IPython.core.display.Image object>"
      ]
     },
     "metadata": {},
     "output_type": "display_data"
    }
   ],
   "source": [
    "display(Image(graph.get_graph().draw_mermaid_png()))"
   ]
  },
  {
   "cell_type": "code",
   "execution_count": 20,
   "id": "44dafb91-e603-4190-9eaa-b904ea02b864",
   "metadata": {},
   "outputs": [],
   "source": [
    "config = {\"configurable\": {\"thread_id\": \"1\"}}"
   ]
  },
  {
   "cell_type": "code",
   "execution_count": 21,
   "id": "cc5fb965-7164-4797-b686-a97accbb0663",
   "metadata": {},
   "outputs": [
    {
     "name": "stdout",
     "output_type": "stream",
     "text": [
      "{'alice': {'messages': [HumanMessage(content=\"Transferred to 'bob'!\", additional_kwargs={}, response_metadata={}, id='2283676d-1886-49bf-8e6a-fce57cafdb07')], 'node': 'bob'}}\n",
      "\n",
      "\n",
      "{'bob': {'messages': [HumanMessage(content='Hello! How can I assist you today?', additional_kwargs={}, response_metadata={}, id='8db2ec01-470f-4283-a23d-ff6a7b0f9d66')], 'node': 'bob'}}\n",
      "\n",
      "\n"
     ]
    }
   ],
   "source": [
    "for chunk in graph.stream({\"messages\": [(\"user\", \"hi! transfer me to bob\")]}, config):\n",
    "    print(chunk)\n",
    "    print(\"\\n\")"
   ]
  },
  {
   "cell_type": "code",
   "execution_count": 22,
   "id": "eef9ca85-9c25-4e89-a222-aa2423b24427",
   "metadata": {},
   "outputs": [
    {
     "name": "stdout",
     "output_type": "stream",
     "text": [
      "{'bob': {'messages': [HumanMessage(content=\"You're speaking to Bob. How can I assist you today?\", additional_kwargs={}, response_metadata={}, id='eeec1967-ff98-4d09-a556-9528e5f71c5c')], 'node': 'bob'}}\n",
      "\n",
      "\n"
     ]
    }
   ],
   "source": [
    "for chunk in graph.stream({\"messages\": [(\"user\", \"who am i speaking to?\")]}, config):\n",
    "    print(chunk)\n",
    "    print(\"\\n\")"
   ]
  },
  {
   "cell_type": "code",
   "execution_count": 24,
   "id": "2a2d56d8-ae6e-404d-84fb-9f2c689cd991",
   "metadata": {},
   "outputs": [
    {
     "name": "stdout",
     "output_type": "stream",
     "text": [
      "(('bob:7b4f24a7-b4f1-ed52-8720-de2b84b7144c',), {'agent': {'messages': [AIMessage(content='', additional_kwargs={'tool_calls': [{'id': 'call_Xlp6prSWJM5pdCQ9FMjS025H', 'function': {'arguments': '{\"a\":3,\"b\":14}', 'name': 'multiply'}, 'type': 'function'}], 'refusal': None}, response_metadata={'token_usage': {'completion_tokens': 17, 'prompt_tokens': 137, 'total_tokens': 154, 'completion_tokens_details': {'accepted_prediction_tokens': 0, 'audio_tokens': 0, 'reasoning_tokens': 0, 'rejected_prediction_tokens': 0}, 'prompt_tokens_details': {'audio_tokens': 0, 'cached_tokens': 0}}, 'model_name': 'gpt-4o-2024-08-06', 'system_fingerprint': 'fp_7e2833e5f9', 'finish_reason': 'tool_calls', 'logprobs': None}, id='run-bcc311d9-3bfa-4652-842c-680f4261d4d7-0', tool_calls=[{'name': 'multiply', 'args': {'a': 3, 'b': 14}, 'id': 'call_Xlp6prSWJM5pdCQ9FMjS025H', 'type': 'tool_call'}], usage_metadata={'input_tokens': 137, 'output_tokens': 17, 'total_tokens': 154, 'input_token_details': {'audio': 0, 'cache_read': 0}, 'output_token_details': {'audio': 0, 'reasoning': 0}})]}})\n",
      "\n",
      "\n",
      "(('bob:7b4f24a7-b4f1-ed52-8720-de2b84b7144c',), {'tools': {'messages': [ToolMessage(content='42', name='multiply', id='37fed625-2aef-4a3c-a70d-c28524c87b2a', tool_call_id='call_Xlp6prSWJM5pdCQ9FMjS025H')]}})\n",
      "\n",
      "\n",
      "(('bob:7b4f24a7-b4f1-ed52-8720-de2b84b7144c',), {'agent': {'messages': [AIMessage(content='3 times 14 is 42.', additional_kwargs={'refusal': None}, response_metadata={'token_usage': {'completion_tokens': 9, 'prompt_tokens': 162, 'total_tokens': 171, 'completion_tokens_details': {'accepted_prediction_tokens': 0, 'audio_tokens': 0, 'reasoning_tokens': 0, 'rejected_prediction_tokens': 0}, 'prompt_tokens_details': {'audio_tokens': 0, 'cached_tokens': 0}}, 'model_name': 'gpt-4o-2024-08-06', 'system_fingerprint': 'fp_7e2833e5f9', 'finish_reason': 'stop', 'logprobs': None}, id='run-a989e9af-9db9-438d-bfe3-c10154775d57-0', usage_metadata={'input_tokens': 162, 'output_tokens': 9, 'total_tokens': 171, 'input_token_details': {'audio': 0, 'cache_read': 0}, 'output_token_details': {'audio': 0, 'reasoning': 0}})]}})\n",
      "\n",
      "\n",
      "((), {'bob': {'messages': [HumanMessage(content='3 times 14 is 42.', additional_kwargs={}, response_metadata={})], 'node': 'bob'}})\n",
      "\n",
      "\n"
     ]
    }
   ],
   "source": [
    "for chunk in graph.stream({\"messages\": [(\"user\", \"what's 3 times 14?\")]}, config, subgraphs=True):\n",
    "    print(chunk)\n",
    "    print(\"\\n\")"
   ]
  },
  {
   "cell_type": "code",
   "execution_count": 25,
   "id": "1fb07133-9599-4843-bcb9-77babbc266f1",
   "metadata": {},
   "outputs": [
    {
     "name": "stdout",
     "output_type": "stream",
     "text": [
      "{'bob': {'messages': [HumanMessage(content=\"Transferred to 'alice'!\", additional_kwargs={}, response_metadata={}, id='6d745a2a-bf68-4b89-b3a3-8160c57593aa')], 'node': 'alice'}}\n",
      "\n",
      "\n",
      "{'alice': {'messages': [HumanMessage(content='Hi there! How can I assist you today?', additional_kwargs={}, response_metadata={}, id='c751d5a9-0c7a-44e2-9d4f-b403d5dce26c')], 'node': 'alice'}}\n",
      "\n",
      "\n"
     ]
    }
   ],
   "source": [
    "for chunk in graph.stream({\"messages\": [(\"user\", \"cool, now transfer me back to alice\")]}, config):\n",
    "    print(chunk)\n",
    "    print(\"\\n\")"
   ]
  },
  {
   "cell_type": "code",
   "execution_count": 26,
   "id": "16c2a896-2d2d-4b13-aca2-80a0dd83c28d",
   "metadata": {},
   "outputs": [
    {
     "name": "stdout",
     "output_type": "stream",
     "text": [
      "(('alice:64cd300e-2e01-5c5f-073d-0e0ca6429371',), {'agent': {'messages': [AIMessage(content='', additional_kwargs={'tool_calls': [{'id': 'call_aAzvaZqf46naWOwM6UceBQM9', 'function': {'arguments': '{\"a\":4,\"b\":9}', 'name': 'add'}, 'type': 'function'}], 'refusal': None}, response_metadata={'token_usage': {'completion_tokens': 17, 'prompt_tokens': 194, 'total_tokens': 211, 'completion_tokens_details': {'accepted_prediction_tokens': 0, 'audio_tokens': 0, 'reasoning_tokens': 0, 'rejected_prediction_tokens': 0}, 'prompt_tokens_details': {'audio_tokens': 0, 'cached_tokens': 0}}, 'model_name': 'gpt-4o-2024-08-06', 'system_fingerprint': 'fp_7e2833e5f9', 'finish_reason': 'tool_calls', 'logprobs': None}, id='run-3abc3043-d626-4372-8bec-34248019ae11-0', tool_calls=[{'name': 'add', 'args': {'a': 4, 'b': 9}, 'id': 'call_aAzvaZqf46naWOwM6UceBQM9', 'type': 'tool_call'}], usage_metadata={'input_tokens': 194, 'output_tokens': 17, 'total_tokens': 211, 'input_token_details': {'audio': 0, 'cache_read': 0}, 'output_token_details': {'audio': 0, 'reasoning': 0}})]}})\n",
      "\n",
      "\n",
      "(('alice:64cd300e-2e01-5c5f-073d-0e0ca6429371',), {'tools': {'messages': [ToolMessage(content='13', name='add', id='aeb64dc4-0b95-456c-985a-060d9c2ed620', tool_call_id='call_aAzvaZqf46naWOwM6UceBQM9')]}})\n",
      "\n",
      "\n",
      "(('alice:64cd300e-2e01-5c5f-073d-0e0ca6429371',), {'agent': {'messages': [AIMessage(content='4 + 9 is 13.', additional_kwargs={'refusal': None}, response_metadata={'token_usage': {'completion_tokens': 9, 'prompt_tokens': 219, 'total_tokens': 228, 'completion_tokens_details': {'accepted_prediction_tokens': 0, 'audio_tokens': 0, 'reasoning_tokens': 0, 'rejected_prediction_tokens': 0}, 'prompt_tokens_details': {'audio_tokens': 0, 'cached_tokens': 0}}, 'model_name': 'gpt-4o-2024-08-06', 'system_fingerprint': 'fp_7e2833e5f9', 'finish_reason': 'stop', 'logprobs': None}, id='run-346f0034-fed2-4874-8bd7-8a23e3e97941-0', usage_metadata={'input_tokens': 219, 'output_tokens': 9, 'total_tokens': 228, 'input_token_details': {'audio': 0, 'cache_read': 0}, 'output_token_details': {'audio': 0, 'reasoning': 0}})]}})\n",
      "\n",
      "\n",
      "((), {'alice': {'messages': [HumanMessage(content='4 + 9 is 13.', additional_kwargs={}, response_metadata={})], 'node': 'alice'}})\n",
      "\n",
      "\n"
     ]
    }
   ],
   "source": [
    "for chunk in graph.stream({\"messages\": [(\"user\", \"what's 4 + 9\")]}, config, subgraphs=True):\n",
    "    print(chunk)\n",
    "    print(\"\\n\")"
   ]
  },
  {
   "cell_type": "markdown",
   "id": "e108a6d1-e159-43c1-a879-487f33d94f8c",
   "metadata": {},
   "source": [
    "---"
   ]
  },
  {
   "cell_type": "code",
   "execution_count": 52,
   "id": "b026ec2a-0b1a-4464-a4c4-e431e3551f22",
   "metadata": {},
   "outputs": [],
   "source": [
    "builder = StateGraph(ActiveAgentState)\n",
    "\n",
    "alice = make_agent_node(model, [add, bob_tool], state_modifier=\"You're Alice the cat.\", keep_las)\n",
    "bob = make_agent_node(model, [multiply, alice_tool, charlie_tool], state_modifier=\"You're Bob the dog.\")\n",
    "charlie = make_agent_node(model, [bob_tool], state_modifier=\"You're Charlie the parrot.\")\n",
    "\n",
    "builder.add_node(\"alice\", alice)\n",
    "builder.add_node(\"bob\", bob)\n",
    "builder.add_node(\"charlie\", charlie)\n",
    "builder.add_edge(START, \"alice\")\n",
    "\n",
    "memory = MemorySaver()\n",
    "graph = builder.compile(checkpointer=memory)"
   ]
  },
  {
   "cell_type": "code",
   "execution_count": 53,
   "id": "8ecdd447-23eb-4b8e-9431-7defe660d7eb",
   "metadata": {},
   "outputs": [
    {
     "data": {
      "image/png": "[encoded data removed]",
      "text/plain": [
       "<IPython.core.display.Image object>"
      ]
     },
     "metadata": {},
     "output_type": "display_data"
    }
   ],
   "source": [
    "display(Image(graph.get_graph().draw_mermaid_png()))"
   ]
  },
  {
   "cell_type": "code",
   "execution_count": 54,
   "id": "23c0e2f4-ef0e-4f2e-b73c-ec7f9b67108d",
   "metadata": {},
   "outputs": [
    {
     "name": "stdout",
     "output_type": "stream",
     "text": [
      "{'alice': {'messages': [HumanMessage(content='hi! transfer me to bob', additional_kwargs={}, response_metadata={}, id='d28ce771-acbb-403f-8d39-d28043e00ac6'), AIMessage(content='', additional_kwargs={'tool_calls': [{'id': 'call_gOM1ghf8bQcx8Zu6qkDhT4DK', 'function': {'arguments': '{}', 'name': 'transfer_to_bob'}, 'type': 'function'}], 'refusal': None}, response_metadata={'token_usage': {'completion_tokens': 12, 'prompt_tokens': 76, 'total_tokens': 88, 'completion_tokens_details': {'accepted_prediction_tokens': 0, 'audio_tokens': 0, 'reasoning_tokens': 0, 'rejected_prediction_tokens': 0}, 'prompt_tokens_details': {'audio_tokens': 0, 'cached_tokens': 0}}, 'model_name': 'gpt-4o-2024-08-06', 'system_fingerprint': 'fp_45cf54deae', 'finish_reason': 'tool_calls', 'logprobs': None}, id='run-89558359-3208-4388-b391-0761b0b90423-0', tool_calls=[{'name': 'transfer_to_bob', 'args': {}, 'id': 'call_gOM1ghf8bQcx8Zu6qkDhT4DK', 'type': 'tool_call'}], usage_metadata={'input_tokens': 76, 'output_tokens': 12, 'total_tokens': 88, 'input_token_details': {'audio': 0, 'cache_read': 0}, 'output_token_details': {'audio': 0, 'reasoning': 0}}), ToolMessage(content=\"Transferred to 'bob'!\", name='transfer_to_bob', id='0ffd0c78-4adc-4cfc-980b-5f4942dc30d8', tool_call_id='call_gOM1ghf8bQcx8Zu6qkDhT4DK', artifact=Command(goto='bob'))], 'node': 'bob'}}\n",
      "\n",
      "\n",
      "{'bob': {'messages': [HumanMessage(content='hi! transfer me to bob', additional_kwargs={}, response_metadata={}, id='d28ce771-acbb-403f-8d39-d28043e00ac6'), AIMessage(content='', additional_kwargs={'tool_calls': [{'id': 'call_gOM1ghf8bQcx8Zu6qkDhT4DK', 'function': {'arguments': '{}', 'name': 'transfer_to_bob'}, 'type': 'function'}], 'refusal': None}, response_metadata={'token_usage': {'completion_tokens': 12, 'prompt_tokens': 76, 'total_tokens': 88, 'completion_tokens_details': {'accepted_prediction_tokens': 0, 'audio_tokens': 0, 'reasoning_tokens': 0, 'rejected_prediction_tokens': 0}, 'prompt_tokens_details': {'audio_tokens': 0, 'cached_tokens': 0}}, 'model_name': 'gpt-4o-2024-08-06', 'system_fingerprint': 'fp_45cf54deae', 'finish_reason': 'tool_calls', 'logprobs': None}, id='run-89558359-3208-4388-b391-0761b0b90423-0', tool_calls=[{'name': 'transfer_to_bob', 'args': {}, 'id': 'call_gOM1ghf8bQcx8Zu6qkDhT4DK', 'type': 'tool_call'}], usage_metadata={'input_tokens': 76, 'output_tokens': 12, 'total_tokens': 88, 'input_token_details': {'audio': 0, 'cache_read': 0}, 'output_token_details': {'audio': 0, 'reasoning': 0}}), ToolMessage(content=\"Transferred to 'bob'!\", name='transfer_to_bob', id='0ffd0c78-4adc-4cfc-980b-5f4942dc30d8', tool_call_id='call_gOM1ghf8bQcx8Zu6qkDhT4DK', artifact=Command(goto='bob')), AIMessage(content=\"You're now with Bob. How can I assist you today?\", additional_kwargs={'refusal': None}, response_metadata={'token_usage': {'completion_tokens': 13, 'prompt_tokens': 128, 'total_tokens': 141, 'completion_tokens_details': {'accepted_prediction_tokens': 0, 'audio_tokens': 0, 'reasoning_tokens': 0, 'rejected_prediction_tokens': 0}, 'prompt_tokens_details': {'audio_tokens': 0, 'cached_tokens': 0}}, 'model_name': 'gpt-4o-2024-08-06', 'system_fingerprint': 'fp_9ee9e968ea', 'finish_reason': 'stop', 'logprobs': None}, id='run-1ad5a6d5-6bdd-4196-89c8-fbd093177ebb-0', usage_metadata={'input_tokens': 128, 'output_tokens': 13, 'total_tokens': 141, 'input_token_details': {'audio': 0, 'cache_read': 0}, 'output_token_details': {'audio': 0, 'reasoning': 0}})], 'node': 'bob'}}\n",
      "\n",
      "\n"
     ]
    }
   ],
   "source": [
    "for chunk in graph.stream({\"messages\": [(\"user\", \"hi! transfer me to bob\")]}, config):\n",
    "    print(chunk)\n",
    "    print(\"\\n\")"
   ]
  },
  {
   "cell_type": "code",
   "execution_count": 27,
   "id": "406eb2a5-5366-4600-b1bd-1ce3fdacfe4c",
   "metadata": {},
   "outputs": [
    {
     "name": "stdout",
     "output_type": "stream",
     "text": [
      "{'alice': None}\n",
      "\n",
      "\n",
      "{'bob': {'messages': HumanMessage(content=\"Woof! You've been successfully transferred to Charlie!\", additional_kwargs={}, response_metadata={}, id='88dba54b-91c3-45e0-8398-58137ad1c4e3'), 'active_agent': 'charlie'}}\n",
      "\n",
      "\n",
      "{'charlie': {'messages': HumanMessage(content='Hello! How can I assist you today?', additional_kwargs={}, response_metadata={}, id='49a3a4e9-d8f3-41a4-b2d9-6e8db52c74e4'), 'active_agent': 'charlie'}}\n",
      "\n",
      "\n"
     ]
    }
   ],
   "source": [
    "for chunk in graph.stream({\"messages\": [(\"user\", \"transfer me to charlie\")]}, config):\n",
    "    print(chunk)\n",
    "    print(\"\\n\")"
   ]
  },
  {
   "cell_type": "code",
   "execution_count": 28,
   "id": "0f2e469c-7f7f-4f58-a1bd-fa59965018f8",
   "metadata": {},
   "outputs": [
    {
     "name": "stdout",
     "output_type": "stream",
     "text": [
      "{'alice': None}\n",
      "\n",
      "\n",
      "{'charlie': {'messages': HumanMessage(content=\"You've been successfully transferred to Bob!\", additional_kwargs={}, response_metadata={}, id='94d97e6f-f563-454d-aec0-5becadb8da50'), 'active_agent': 'bob'}}\n",
      "\n",
      "\n",
      "{'bob': {'messages': HumanMessage(content='Woof! How can I assist you today?', additional_kwargs={}, response_metadata={}, id='86102c35-7b1e-4c88-9b71-63c49c74c0c2'), 'active_agent': 'bob'}}\n",
      "\n",
      "\n"
     ]
    }
   ],
   "source": [
    "for chunk in graph.stream({\"messages\": [(\"user\", \"back to bob please\")]}, config):\n",
    "    print(chunk)\n",
    "    print(\"\\n\")"
   ]
  },
  {
   "cell_type": "markdown",
   "id": "46618927-40a7-4bf2-a20e-9377dfd3827f",
   "metadata": {},
   "source": [
    "---"
   ]
  },
  {
   "cell_type": "markdown",
   "id": "b12eb795-ac11-452b-a7e4-4056db373f0d",
   "metadata": {},
   "source": [
    "### Supervisor"
   ]
  },
  {
   "cell_type": "markdown",
   "id": "96c1c511-ce8e-4b59-b7b3-38fe687f1e2b",
   "metadata": {},
   "source": [
    "This is a bit broken right now. \n",
    "\n",
    "* One issue is that the supervisor tries to answer by itself even though it technically calls \"transfer\". This is because our approach is different from swarm where the agent object is literally swapped under the hood.\n",
    "* An even bigger issue is that even when the flow is correct, the worker agent loses information by the time that it returns to the supervisor. So maybe a simple answer is to share the full history? Something seems not right: there needs to be enough information to hand off to the supervisor (or any other agent) in the last message, when one agent is done."
   ]
  },
  {
   "cell_type": "code",
   "execution_count": 23,
   "id": "280f8ea7-62ed-4926-bf48-a1cd9e0ec58f",
   "metadata": {},
   "outputs": [],
   "source": [
    "# model_anthropic = ChatAnthropic(model=\"claude-3-5-sonnet-latest\")"
   ]
  },
  {
   "cell_type": "code",
   "execution_count": 24,
   "id": "e3208808-f02c-4a3b-822d-aca9e9316d16",
   "metadata": {},
   "outputs": [],
   "source": [
    "# def router(state) -> Literal[\"supervisor\", \"alice\", \"bob\"]:\n",
    "#     # default to alice\n",
    "#     active_agent = state.get(\"node\", \"alice\")\n",
    "#     return active_agent"
   ]
  },
  {
   "cell_type": "code",
   "execution_count": 39,
   "id": "e1a3912e-4d63-4668-b87c-05e325ff0dcb",
   "metadata": {},
   "outputs": [],
   "source": [
    "builder = StateGraph(ActiveAgentState)\n",
    "\n",
    "supervisor_tool = create_handoff_tool(\"supervisor\", name=\"transfer_to_supervisor\")\n",
    "\n",
    "supervisor = make_agent_node(model_anthropic, [alice_tool, bob_tool], state_modifier=(\n",
    "    \"You're team supervisor managing Alice and Bob. \"\n",
    "    \"Alice is an expert at multiplication, Bob is great at addition. \"\n",
    "    \"To answer user question, transfer to one of them that has the requisite skills. \"\n",
    "    \"Once you have the final answer to user question, do not transfer -- respond to user directly!\"\n",
    "))\n",
    "bob = make_agent_node(model_anthropic, [add, supervisor_tool], state_modifier=\"You're Bob. Once you're done adding, you MUST call supervisor.\")\n",
    "alice = make_agent_node(model_anthropic, [multiply, supervisor_tool], state_modifier=\"You're Alice. Once you're done multiplying, you MUST call supervisor.\")\n",
    "\n",
    "add_entrypoint_router(builder, route_to=[(\"supervisor\", supervisor), (\"alice\", alice), (\"bob\", bob)], default_start_node=\"supervisor\")\n",
    "memory = MemorySaver()\n",
    "graph = builder.compile(checkpointer=memory)"
   ]
  },
  {
   "cell_type": "code",
   "execution_count": 40,
   "id": "439522c6-2abc-449f-beb6-7f3e6146965b",
   "metadata": {},
   "outputs": [
    {
     "data": {
      "image/png": "[encoded data removed]",
      "text/plain": [
       "<IPython.core.display.Image object>"
      ]
     },
     "metadata": {},
     "output_type": "display_data"
    }
   ],
   "source": [
    "display(Image(graph.get_graph().draw_mermaid_png()))"
   ]
  },
  {
   "cell_type": "code",
   "execution_count": 41,
   "id": "8ef440d3-a290-4625-8d28-f29d02d217fc",
   "metadata": {
    "scrolled": true
   },
   "outputs": [
    {
     "name": "stdout",
     "output_type": "stream",
     "text": [
      "(('supervisor:beef9758-f205-7c9f-d1ba-06a9b6633001',), {'agent': {'messages': [AIMessage(content=[{'text': \"Since this is an addition problem, I'll transfer to Bob who specializes in addition.\", 'type': 'text'}, {'id': 'toolu_012MyX1kS52HB7LHX1EUhw5i', 'input': {}, 'name': 'transfer_to_bob', 'type': 'tool_use'}], additional_kwargs={}, response_metadata={'id': 'msg_01Ux8oH1gMGAeNWuEzgG8Pda', 'model': 'claude-3-5-sonnet-20241022', 'stop_reason': 'tool_use', 'stop_sequence': None, 'usage': {'input_tokens': 481, 'output_tokens': 57}}, id='run-76aedeec-31e0-4f7c-9a56-28d69d8a87be-0', tool_calls=[{'name': 'transfer_to_bob', 'args': {}, 'id': 'toolu_012MyX1kS52HB7LHX1EUhw5i', 'type': 'tool_call'}], usage_metadata={'input_tokens': 481, 'output_tokens': 57, 'total_tokens': 538, 'input_token_details': {}})]}})\n",
      "\n",
      "\n",
      "(('supervisor:beef9758-f205-7c9f-d1ba-06a9b6633001',), {'tools': {'messages': [ToolMessage(content=\"Transferred to 'bob'!\", name='transfer_to_bob', id='5f0549a4-0ceb-412a-a0f3-774c25fea07e', tool_call_id='toolu_012MyX1kS52HB7LHX1EUhw5i', artifact=Command(goto='bob'))]}})\n",
      "\n",
      "\n",
      "((), {'supervisor': {'messages': [HumanMessage(content=\"what's 391 + 193\", additional_kwargs={}, response_metadata={}, id='406b1a49-121c-4db4-beaa-aaecf02b3b34'), AIMessage(content=[{'text': \"Since this is an addition problem, I'll transfer to Bob who specializes in addition.\", 'type': 'text'}, {'id': 'toolu_012MyX1kS52HB7LHX1EUhw5i', 'input': {}, 'name': 'transfer_to_bob', 'type': 'tool_use'}], additional_kwargs={}, response_metadata={'id': 'msg_01Ux8oH1gMGAeNWuEzgG8Pda', 'model': 'claude-3-5-sonnet-20241022', 'stop_reason': 'tool_use', 'stop_sequence': None, 'usage': {'input_tokens': 481, 'output_tokens': 57}}, id='run-76aedeec-31e0-4f7c-9a56-28d69d8a87be-0', tool_calls=[{'name': 'transfer_to_bob', 'args': {}, 'id': 'toolu_012MyX1kS52HB7LHX1EUhw5i', 'type': 'tool_call'}], usage_metadata={'input_tokens': 481, 'output_tokens': 57, 'total_tokens': 538, 'input_token_details': {}}), ToolMessage(content=\"Transferred to 'bob'!\", name='transfer_to_bob', id='5f0549a4-0ceb-412a-a0f3-774c25fea07e', tool_call_id='toolu_012MyX1kS52HB7LHX1EUhw5i', artifact=Command(goto='bob'))], 'node': 'bob'}})\n",
      "\n",
      "\n",
      "(('bob:43b293de-d2a9-36f3-46da-a14f9e0efa44',), {'agent': {'messages': [AIMessage(content=[{'text': \"Hi, I'm Bob! I'll help you add those numbers using the add function.\", 'type': 'text'}, {'id': 'toolu_01MpSH445bvHAmB4K1iCRzgW', 'input': {'a': 391, 'b': 193}, 'name': 'add', 'type': 'tool_use'}], additional_kwargs={}, response_metadata={'id': 'msg_01B9f5EGYohVxxkGSWPaEwHE', 'model': 'claude-3-5-sonnet-20241022', 'stop_reason': 'tool_use', 'stop_sequence': None, 'usage': {'input_tokens': 530, 'output_tokens': 88}}, id='run-5141f348-fe9f-4b4d-ab8c-31da65db5bf2-0', tool_calls=[{'name': 'add', 'args': {'a': 391, 'b': 193}, 'id': 'toolu_01MpSH445bvHAmB4K1iCRzgW', 'type': 'tool_call'}], usage_metadata={'input_tokens': 530, 'output_tokens': 88, 'total_tokens': 618, 'input_token_details': {}})]}})\n",
      "\n",
      "\n",
      "(('bob:43b293de-d2a9-36f3-46da-a14f9e0efa44',), {'tools': {'messages': [ToolMessage(content='584', name='add', id='d2054370-76cf-4cdb-9f35-f3ac311d9cfe', tool_call_id='toolu_01MpSH445bvHAmB4K1iCRzgW')]}})\n",
      "\n",
      "\n",
      "(('bob:43b293de-d2a9-36f3-46da-a14f9e0efa44',), {'agent': {'messages': [AIMessage(content=[{'text': \"391 + 193 = 584\\n\\nNow that I'm done with the addition, I'll transfer to the supervisor as required.\", 'type': 'text'}, {'id': 'toolu_01EdFJTc9tU5dZQAm34r4mJp', 'input': {}, 'name': 'transfer_to_supervisor', 'type': 'tool_use'}], additional_kwargs={}, response_metadata={'id': 'msg_01QdC3K9wTQ9VokX8BV4jdif', 'model': 'claude-3-5-sonnet-20241022', 'stop_reason': 'tool_use', 'stop_sequence': None, 'usage': {'input_tokens': 630, 'output_tokens': 68}}, id='run-ae625130-3515-4286-a77a-6a88d1c15c48-0', tool_calls=[{'name': 'transfer_to_supervisor', 'args': {}, 'id': 'toolu_01EdFJTc9tU5dZQAm34r4mJp', 'type': 'tool_call'}], usage_metadata={'input_tokens': 630, 'output_tokens': 68, 'total_tokens': 698, 'input_token_details': {}})]}})\n",
      "\n",
      "\n",
      "(('bob:43b293de-d2a9-36f3-46da-a14f9e0efa44',), {'tools': {'messages': [ToolMessage(content=\"Transferred to 'supervisor'!\", name='transfer_to_supervisor', id='13c57ad2-9317-46fb-a4f6-6a63ec2fcbe2', tool_call_id='toolu_01EdFJTc9tU5dZQAm34r4mJp', artifact=Command(goto='supervisor'))]}})\n",
      "\n",
      "\n",
      "((), {'bob': {'messages': [HumanMessage(content=\"what's 391 + 193\", additional_kwargs={}, response_metadata={}, id='406b1a49-121c-4db4-beaa-aaecf02b3b34'), AIMessage(content=[{'text': \"Since this is an addition problem, I'll transfer to Bob who specializes in addition.\", 'type': 'text'}, {'id': 'toolu_012MyX1kS52HB7LHX1EUhw5i', 'input': {}, 'name': 'transfer_to_bob', 'type': 'tool_use'}], additional_kwargs={}, response_metadata={'id': 'msg_01Ux8oH1gMGAeNWuEzgG8Pda', 'model': 'claude-3-5-sonnet-20241022', 'stop_reason': 'tool_use', 'stop_sequence': None, 'usage': {'input_tokens': 481, 'output_tokens': 57}}, id='run-76aedeec-31e0-4f7c-9a56-28d69d8a87be-0', tool_calls=[{'name': 'transfer_to_bob', 'args': {}, 'id': 'toolu_012MyX1kS52HB7LHX1EUhw5i', 'type': 'tool_call'}], usage_metadata={'input_tokens': 481, 'output_tokens': 57, 'total_tokens': 538, 'input_token_details': {}}), ToolMessage(content=\"Transferred to 'bob'!\", name='transfer_to_bob', id='5f0549a4-0ceb-412a-a0f3-774c25fea07e', tool_call_id='toolu_012MyX1kS52HB7LHX1EUhw5i', artifact=Command(goto='bob')), AIMessage(content=[{'text': \"Hi, I'm Bob! I'll help you add those numbers using the add function.\", 'type': 'text'}, {'id': 'toolu_01MpSH445bvHAmB4K1iCRzgW', 'input': {'a': 391, 'b': 193}, 'name': 'add', 'type': 'tool_use'}], additional_kwargs={}, response_metadata={'id': 'msg_01B9f5EGYohVxxkGSWPaEwHE', 'model': 'claude-3-5-sonnet-20241022', 'stop_reason': 'tool_use', 'stop_sequence': None, 'usage': {'input_tokens': 530, 'output_tokens': 88}}, id='run-5141f348-fe9f-4b4d-ab8c-31da65db5bf2-0', tool_calls=[{'name': 'add', 'args': {'a': 391, 'b': 193}, 'id': 'toolu_01MpSH445bvHAmB4K1iCRzgW', 'type': 'tool_call'}], usage_metadata={'input_tokens': 530, 'output_tokens': 88, 'total_tokens': 618, 'input_token_details': {}}), ToolMessage(content='584', name='add', id='d2054370-76cf-4cdb-9f35-f3ac311d9cfe', tool_call_id='toolu_01MpSH445bvHAmB4K1iCRzgW'), AIMessage(content=[{'text': \"391 + 193 = 584\\n\\nNow that I'm done with the addition, I'll transfer to the supervisor as required.\", 'type': 'text'}, {'id': 'toolu_01EdFJTc9tU5dZQAm34r4mJp', 'input': {}, 'name': 'transfer_to_supervisor', 'type': 'tool_use'}], additional_kwargs={}, response_metadata={'id': 'msg_01QdC3K9wTQ9VokX8BV4jdif', 'model': 'claude-3-5-sonnet-20241022', 'stop_reason': 'tool_use', 'stop_sequence': None, 'usage': {'input_tokens': 630, 'output_tokens': 68}}, id='run-ae625130-3515-4286-a77a-6a88d1c15c48-0', tool_calls=[{'name': 'transfer_to_supervisor', 'args': {}, 'id': 'toolu_01EdFJTc9tU5dZQAm34r4mJp', 'type': 'tool_call'}], usage_metadata={'input_tokens': 630, 'output_tokens': 68, 'total_tokens': 698, 'input_token_details': {}}), ToolMessage(content=\"Transferred to 'supervisor'!\", name='transfer_to_supervisor', id='13c57ad2-9317-46fb-a4f6-6a63ec2fcbe2', tool_call_id='toolu_01EdFJTc9tU5dZQAm34r4mJp', artifact=Command(goto='supervisor'))], 'node': 'supervisor'}})\n",
      "\n",
      "\n",
      "(('supervisor:7d2c1eb8-b061-d184-eecb-38ddfd89ffa2',), {'agent': {'messages': [AIMessage(content='The answer to 391 + 193 is 584.', additional_kwargs={}, response_metadata={'id': 'msg_011zv2DdvuMxCGUagN5Vj96f', 'model': 'claude-3-5-sonnet-20241022', 'stop_reason': 'end_turn', 'stop_sequence': None, 'usage': {'input_tokens': 742, 'output_tokens': 18}}, id='run-84cb8012-d8b9-47a9-839f-d2e9007384f2-0', usage_metadata={'input_tokens': 742, 'output_tokens': 18, 'total_tokens': 760, 'input_token_details': {}})]}})\n",
      "\n",
      "\n",
      "((), {'supervisor': {'messages': [HumanMessage(content=\"what's 391 + 193\", additional_kwargs={}, response_metadata={}, id='406b1a49-121c-4db4-beaa-aaecf02b3b34'), AIMessage(content=[{'text': \"Since this is an addition problem, I'll transfer to Bob who specializes in addition.\", 'type': 'text'}, {'id': 'toolu_012MyX1kS52HB7LHX1EUhw5i', 'input': {}, 'name': 'transfer_to_bob', 'type': 'tool_use'}], additional_kwargs={}, response_metadata={'id': 'msg_01Ux8oH1gMGAeNWuEzgG8Pda', 'model': 'claude-3-5-sonnet-20241022', 'stop_reason': 'tool_use', 'stop_sequence': None, 'usage': {'input_tokens': 481, 'output_tokens': 57}}, id='run-76aedeec-31e0-4f7c-9a56-28d69d8a87be-0', tool_calls=[{'name': 'transfer_to_bob', 'args': {}, 'id': 'toolu_012MyX1kS52HB7LHX1EUhw5i', 'type': 'tool_call'}], usage_metadata={'input_tokens': 481, 'output_tokens': 57, 'total_tokens': 538, 'input_token_details': {}}), ToolMessage(content=\"Transferred to 'bob'!\", name='transfer_to_bob', id='5f0549a4-0ceb-412a-a0f3-774c25fea07e', tool_call_id='toolu_012MyX1kS52HB7LHX1EUhw5i', artifact=Command(goto='bob')), AIMessage(content=[{'text': \"Hi, I'm Bob! I'll help you add those numbers using the add function.\", 'type': 'text'}, {'id': 'toolu_01MpSH445bvHAmB4K1iCRzgW', 'input': {'a': 391, 'b': 193}, 'name': 'add', 'type': 'tool_use'}], additional_kwargs={}, response_metadata={'id': 'msg_01B9f5EGYohVxxkGSWPaEwHE', 'model': 'claude-3-5-sonnet-20241022', 'stop_reason': 'tool_use', 'stop_sequence': None, 'usage': {'input_tokens': 530, 'output_tokens': 88}}, id='run-5141f348-fe9f-4b4d-ab8c-31da65db5bf2-0', tool_calls=[{'name': 'add', 'args': {'a': 391, 'b': 193}, 'id': 'toolu_01MpSH445bvHAmB4K1iCRzgW', 'type': 'tool_call'}], usage_metadata={'input_tokens': 530, 'output_tokens': 88, 'total_tokens': 618, 'input_token_details': {}}), ToolMessage(content='584', name='add', id='d2054370-76cf-4cdb-9f35-f3ac311d9cfe', tool_call_id='toolu_01MpSH445bvHAmB4K1iCRzgW'), AIMessage(content=[{'text': \"391 + 193 = 584\\n\\nNow that I'm done with the addition, I'll transfer to the supervisor as required.\", 'type': 'text'}, {'id': 'toolu_01EdFJTc9tU5dZQAm34r4mJp', 'input': {}, 'name': 'transfer_to_supervisor', 'type': 'tool_use'}], additional_kwargs={}, response_metadata={'id': 'msg_01QdC3K9wTQ9VokX8BV4jdif', 'model': 'claude-3-5-sonnet-20241022', 'stop_reason': 'tool_use', 'stop_sequence': None, 'usage': {'input_tokens': 630, 'output_tokens': 68}}, id='run-ae625130-3515-4286-a77a-6a88d1c15c48-0', tool_calls=[{'name': 'transfer_to_supervisor', 'args': {}, 'id': 'toolu_01EdFJTc9tU5dZQAm34r4mJp', 'type': 'tool_call'}], usage_metadata={'input_tokens': 630, 'output_tokens': 68, 'total_tokens': 698, 'input_token_details': {}}), ToolMessage(content=\"Transferred to 'supervisor'!\", name='transfer_to_supervisor', id='13c57ad2-9317-46fb-a4f6-6a63ec2fcbe2', tool_call_id='toolu_01EdFJTc9tU5dZQAm34r4mJp', artifact=Command(goto='supervisor')), AIMessage(content='The answer to 391 + 193 is 584.', additional_kwargs={}, response_metadata={'id': 'msg_011zv2DdvuMxCGUagN5Vj96f', 'model': 'claude-3-5-sonnet-20241022', 'stop_reason': 'end_turn', 'stop_sequence': None, 'usage': {'input_tokens': 742, 'output_tokens': 18}}, id='run-84cb8012-d8b9-47a9-839f-d2e9007384f2-0', usage_metadata={'input_tokens': 742, 'output_tokens': 18, 'total_tokens': 760, 'input_token_details': {}})], 'node': 'supervisor'}})\n",
      "\n",
      "\n"
     ]
    }
   ],
   "source": [
    "for chunk in graph.stream({\"messages\": [(\"user\", \"what's 391 + 193\")]}, config, subgraphs=True):\n",
    "    print(chunk)\n",
    "    print(\"\\n\")"
   ]
  },
  {
   "cell_type": "code",
   "execution_count": 42,
   "id": "ced6d25d-545e-4573-9d08-749ba28d6720",
   "metadata": {},
   "outputs": [
    {
     "data": {
      "text/plain": [
       "AIMessage(content='The answer to 391 + 193 is 584.', additional_kwargs={}, response_metadata={'id': 'msg_011zv2DdvuMxCGUagN5Vj96f', 'model': 'claude-3-5-sonnet-20241022', 'stop_reason': 'end_turn', 'stop_sequence': None, 'usage': {'input_tokens': 742, 'output_tokens': 18}}, id='run-84cb8012-d8b9-47a9-839f-d2e9007384f2-0', usage_metadata={'input_tokens': 742, 'output_tokens': 18, 'total_tokens': 760, 'input_token_details': {}})"
      ]
     },
     "execution_count": 42,
     "metadata": {},
     "output_type": "execute_result"
    }
   ],
   "source": [
    "graph.get_state(config).values[\"messages\"][-1]"
   ]
  },
  {
   "cell_type": "markdown",
   "id": "f3a1e71f-d2b6-4771-b34c-56e3f250df99",
   "metadata": {},
   "source": [
    "---"
   ]
  },
  {
   "cell_type": "markdown",
   "id": "e9d0bc87-d23b-4b0b-90be-ba7b55a8b672",
   "metadata": {},
   "source": [
    "### Network"
   ]
  },
  {
   "cell_type": "code",
   "execution_count": 43,
   "id": "fe7547c4-d919-44bc-9058-e131df6ddcb7",
   "metadata": {},
   "outputs": [],
   "source": [
    "alice = make_agent_node(model_anthropic, [multiply, bob_tool], state_modifier=\"You're Alice, a multiplication expert. You can ask Bob for help with addition.\")\n",
    "bob = make_agent_node(model_anthropic, [add, alice_tool], state_modifier=\"You're Bob, an addition expert. You can ask Alice for help with muiltiplication.\")\n",
    "\n",
    "builder = StateGraph(ActiveAgentState)\n",
    "add_entrypoint_router(builder, route_to=[(\"alice\", alice), (\"bob\", bob)], default_start_node=\"alice\")\n",
    "memory = MemorySaver()\n",
    "graph = builder.compile(checkpointer=memory)"
   ]
  },
  {
   "cell_type": "code",
   "execution_count": 44,
   "id": "93c7b8fe-355a-4af3-af2d-09a8ab6dd32a",
   "metadata": {},
   "outputs": [],
   "source": [
    "config = {\"configurable\": {\"thread_id\": \"1\"}}"
   ]
  },
  {
   "cell_type": "code",
   "execution_count": 45,
   "id": "3327d9f9-1d93-40b7-ba95-d0552b91a4cb",
   "metadata": {},
   "outputs": [
    {
     "name": "stdout",
     "output_type": "stream",
     "text": [
      "(('alice:1edc48a1-d24c-9fdd-d168-dafc6df802cb',), {'agent': {'messages': [AIMessage(content=[{'text': \"Since I'm Alice and I specialize in multiplication, I'll need to ask Bob for help with this addition problem.\", 'type': 'text'}, {'id': 'toolu_01GgNACv9uRgjpgj5raBkSWF', 'input': {}, 'name': 'transfer_to_bob', 'type': 'tool_use'}], additional_kwargs={}, response_metadata={'id': 'msg_01LVBz2Cwe32vBBiWhHxRwzC', 'model': 'claude-3-5-sonnet-20241022', 'stop_reason': 'tool_use', 'stop_sequence': None, 'usage': {'input_tokens': 457, 'output_tokens': 63}}, id='run-366a6735-f78a-434c-be0f-c49136a049b1-0', tool_calls=[{'name': 'transfer_to_bob', 'args': {}, 'id': 'toolu_01GgNACv9uRgjpgj5raBkSWF', 'type': 'tool_call'}], usage_metadata={'input_tokens': 457, 'output_tokens': 63, 'total_tokens': 520, 'input_token_details': {}})]}})\n",
      "(('alice:1edc48a1-d24c-9fdd-d168-dafc6df802cb',), {'tools': {'messages': [ToolMessage(content=\"Transferred to 'bob'!\", name='transfer_to_bob', id='421ff8fd-abba-498b-8618-2f2ccf40b2fc', tool_call_id='toolu_01GgNACv9uRgjpgj5raBkSWF', artifact=Command(goto='bob'))]}})\n",
      "((), {'alice': {'messages': [HumanMessage(content=\"what's 2 + 3\", additional_kwargs={}, response_metadata={}, id='2634f1e3-d45e-4407-8b77-8f9c1c08c81e'), AIMessage(content=[{'text': \"Since I'm Alice and I specialize in multiplication, I'll need to ask Bob for help with this addition problem.\", 'type': 'text'}, {'id': 'toolu_01GgNACv9uRgjpgj5raBkSWF', 'input': {}, 'name': 'transfer_to_bob', 'type': 'tool_use'}], additional_kwargs={}, response_metadata={'id': 'msg_01LVBz2Cwe32vBBiWhHxRwzC', 'model': 'claude-3-5-sonnet-20241022', 'stop_reason': 'tool_use', 'stop_sequence': None, 'usage': {'input_tokens': 457, 'output_tokens': 63}}, id='run-366a6735-f78a-434c-be0f-c49136a049b1-0', tool_calls=[{'name': 'transfer_to_bob', 'args': {}, 'id': 'toolu_01GgNACv9uRgjpgj5raBkSWF', 'type': 'tool_call'}], usage_metadata={'input_tokens': 457, 'output_tokens': 63, 'total_tokens': 520, 'input_token_details': {}}), ToolMessage(content=\"Transferred to 'bob'!\", name='transfer_to_bob', id='421ff8fd-abba-498b-8618-2f2ccf40b2fc', tool_call_id='toolu_01GgNACv9uRgjpgj5raBkSWF', artifact=Command(goto='bob'))], 'node': 'bob'}})\n",
      "(('bob:b592b278-a132-1f6c-1aef-f39763e2885a',), {'agent': {'messages': [AIMessage(content=[{'text': \"Hi! I'm Bob, the addition expert. I can help you with adding 2 and 3 using the `add` function.\", 'type': 'text'}, {'id': 'toolu_013AjkfzBZnhVwGxEnn54kPY', 'input': {'a': 2, 'b': 3}, 'name': 'add', 'type': 'tool_use'}], additional_kwargs={}, response_metadata={'id': 'msg_015wYc1MsVh3FxWkFDMWzP67', 'model': 'claude-3-5-sonnet-20241022', 'stop_reason': 'tool_use', 'stop_sequence': None, 'usage': {'input_tokens': 540, 'output_tokens': 100}}, id='run-beabf602-8384-4bdc-a162-b5a5ec88a98d-0', tool_calls=[{'name': 'add', 'args': {'a': 2, 'b': 3}, 'id': 'toolu_013AjkfzBZnhVwGxEnn54kPY', 'type': 'tool_call'}], usage_metadata={'input_tokens': 540, 'output_tokens': 100, 'total_tokens': 640, 'input_token_details': {}})]}})\n",
      "(('bob:b592b278-a132-1f6c-1aef-f39763e2885a',), {'tools': {'messages': [ToolMessage(content='5', name='add', id='5ef93bbb-d375-4c45-aa03-e78ff4ccc292', tool_call_id='toolu_013AjkfzBZnhVwGxEnn54kPY')]}})\n",
      "(('bob:b592b278-a132-1f6c-1aef-f39763e2885a',), {'agent': {'messages': [AIMessage(content='The sum of 2 and 3 is 5!', additional_kwargs={}, response_metadata={'id': 'msg_01W6DBQhcxL3h88QjLnGf5vF', 'model': 'claude-3-5-sonnet-20241022', 'stop_reason': 'end_turn', 'stop_sequence': None, 'usage': {'input_tokens': 652, 'output_tokens': 18}}, id='run-a6086ad8-f0d4-463f-b294-3e2a48af8972-0', usage_metadata={'input_tokens': 652, 'output_tokens': 18, 'total_tokens': 670, 'input_token_details': {}})]}})\n",
      "((), {'bob': {'messages': [HumanMessage(content=\"what's 2 + 3\", additional_kwargs={}, response_metadata={}, id='2634f1e3-d45e-4407-8b77-8f9c1c08c81e'), AIMessage(content=[{'text': \"Since I'm Alice and I specialize in multiplication, I'll need to ask Bob for help with this addition problem.\", 'type': 'text'}, {'id': 'toolu_01GgNACv9uRgjpgj5raBkSWF', 'input': {}, 'name': 'transfer_to_bob', 'type': 'tool_use'}], additional_kwargs={}, response_metadata={'id': 'msg_01LVBz2Cwe32vBBiWhHxRwzC', 'model': 'claude-3-5-sonnet-20241022', 'stop_reason': 'tool_use', 'stop_sequence': None, 'usage': {'input_tokens': 457, 'output_tokens': 63}}, id='run-366a6735-f78a-434c-be0f-c49136a049b1-0', tool_calls=[{'name': 'transfer_to_bob', 'args': {}, 'id': 'toolu_01GgNACv9uRgjpgj5raBkSWF', 'type': 'tool_call'}], usage_metadata={'input_tokens': 457, 'output_tokens': 63, 'total_tokens': 520, 'input_token_details': {}}), ToolMessage(content=\"Transferred to 'bob'!\", name='transfer_to_bob', id='421ff8fd-abba-498b-8618-2f2ccf40b2fc', tool_call_id='toolu_01GgNACv9uRgjpgj5raBkSWF', artifact=Command(goto='bob')), AIMessage(content=[{'text': \"Hi! I'm Bob, the addition expert. I can help you with adding 2 and 3 using the `add` function.\", 'type': 'text'}, {'id': 'toolu_013AjkfzBZnhVwGxEnn54kPY', 'input': {'a': 2, 'b': 3}, 'name': 'add', 'type': 'tool_use'}], additional_kwargs={}, response_metadata={'id': 'msg_015wYc1MsVh3FxWkFDMWzP67', 'model': 'claude-3-5-sonnet-20241022', 'stop_reason': 'tool_use', 'stop_sequence': None, 'usage': {'input_tokens': 540, 'output_tokens': 100}}, id='run-beabf602-8384-4bdc-a162-b5a5ec88a98d-0', tool_calls=[{'name': 'add', 'args': {'a': 2, 'b': 3}, 'id': 'toolu_013AjkfzBZnhVwGxEnn54kPY', 'type': 'tool_call'}], usage_metadata={'input_tokens': 540, 'output_tokens': 100, 'total_tokens': 640, 'input_token_details': {}}), ToolMessage(content='5', name='add', id='5ef93bbb-d375-4c45-aa03-e78ff4ccc292', tool_call_id='toolu_013AjkfzBZnhVwGxEnn54kPY'), AIMessage(content='The sum of 2 and 3 is 5!', additional_kwargs={}, response_metadata={'id': 'msg_01W6DBQhcxL3h88QjLnGf5vF', 'model': 'claude-3-5-sonnet-20241022', 'stop_reason': 'end_turn', 'stop_sequence': None, 'usage': {'input_tokens': 652, 'output_tokens': 18}}, id='run-a6086ad8-f0d4-463f-b294-3e2a48af8972-0', usage_metadata={'input_tokens': 652, 'output_tokens': 18, 'total_tokens': 670, 'input_token_details': {}})], 'node': 'bob'}})\n"
     ]
    }
   ],
   "source": [
    "for chunk in graph.stream({\"messages\": [(\"user\", \"what's 2 + 3\")]}, config, subgraphs=True):\n",
    "    print(chunk)"
   ]
  },
  {
   "cell_type": "code",
   "execution_count": 46,
   "id": "4ca81767-4ac7-4486-a32d-6621fee26106",
   "metadata": {},
   "outputs": [
    {
     "name": "stdout",
     "output_type": "stream",
     "text": [
      "(('bob:a05e9657-0597-b1f7-29cc-96dcd0bc3926',), {'agent': {'messages': [AIMessage(content=[{'text': \"Since I'm Bob and I specialize in addition, I'll need to ask Alice for help with multiplication.\", 'type': 'text'}, {'id': 'toolu_01EMNJf3tVbzVCocUez6f1B9', 'input': {}, 'name': 'transfer_to_alice', 'type': 'tool_use'}], additional_kwargs={}, response_metadata={'id': 'msg_011V96NmAWoWmHNaUrYTKYRM', 'model': 'claude-3-5-sonnet-20241022', 'stop_reason': 'tool_use', 'stop_sequence': None, 'usage': {'input_tokens': 679, 'output_tokens': 61}}, id='run-79fedbcf-70ac-46bd-9a69-8761d075f128-0', tool_calls=[{'name': 'transfer_to_alice', 'args': {}, 'id': 'toolu_01EMNJf3tVbzVCocUez6f1B9', 'type': 'tool_call'}], usage_metadata={'input_tokens': 679, 'output_tokens': 61, 'total_tokens': 740, 'input_token_details': {}})]}})\n",
      "(('bob:a05e9657-0597-b1f7-29cc-96dcd0bc3926',), {'tools': {'messages': [ToolMessage(content=\"Transferred to 'alice'!\", name='transfer_to_alice', id='50d05bbd-d3d7-4e9f-8964-a36fd12bd052', tool_call_id='toolu_01EMNJf3tVbzVCocUez6f1B9', artifact=Command(goto='alice'))]}})\n",
      "((), {'bob': {'messages': [HumanMessage(content=\"what's 2 + 3\", additional_kwargs={}, response_metadata={}, id='2634f1e3-d45e-4407-8b77-8f9c1c08c81e'), AIMessage(content=[{'text': \"Since I'm Alice and I specialize in multiplication, I'll need to ask Bob for help with this addition problem.\", 'type': 'text'}, {'id': 'toolu_01GgNACv9uRgjpgj5raBkSWF', 'input': {}, 'name': 'transfer_to_bob', 'type': 'tool_use'}], additional_kwargs={}, response_metadata={'id': 'msg_01LVBz2Cwe32vBBiWhHxRwzC', 'model': 'claude-3-5-sonnet-20241022', 'stop_reason': 'tool_use', 'stop_sequence': None, 'usage': {'input_tokens': 457, 'output_tokens': 63}}, id='run-366a6735-f78a-434c-be0f-c49136a049b1-0', tool_calls=[{'name': 'transfer_to_bob', 'args': {}, 'id': 'toolu_01GgNACv9uRgjpgj5raBkSWF', 'type': 'tool_call'}], usage_metadata={'input_tokens': 457, 'output_tokens': 63, 'total_tokens': 520, 'input_token_details': {}}), ToolMessage(content=\"Transferred to 'bob'!\", name='transfer_to_bob', id='421ff8fd-abba-498b-8618-2f2ccf40b2fc', tool_call_id='toolu_01GgNACv9uRgjpgj5raBkSWF', artifact={'update': None, 'send': [], 'resume': None, 'goto': 'bob'}), AIMessage(content=[{'text': \"Hi! I'm Bob, the addition expert. I can help you with adding 2 and 3 using the `add` function.\", 'type': 'text'}, {'id': 'toolu_013AjkfzBZnhVwGxEnn54kPY', 'input': {'a': 2, 'b': 3}, 'name': 'add', 'type': 'tool_use'}], additional_kwargs={}, response_metadata={'id': 'msg_015wYc1MsVh3FxWkFDMWzP67', 'model': 'claude-3-5-sonnet-20241022', 'stop_reason': 'tool_use', 'stop_sequence': None, 'usage': {'input_tokens': 540, 'output_tokens': 100}}, id='run-beabf602-8384-4bdc-a162-b5a5ec88a98d-0', tool_calls=[{'name': 'add', 'args': {'a': 2, 'b': 3}, 'id': 'toolu_013AjkfzBZnhVwGxEnn54kPY', 'type': 'tool_call'}], usage_metadata={'input_tokens': 540, 'output_tokens': 100, 'total_tokens': 640, 'input_token_details': {}}), ToolMessage(content='5', name='add', id='5ef93bbb-d375-4c45-aa03-e78ff4ccc292', tool_call_id='toolu_013AjkfzBZnhVwGxEnn54kPY'), AIMessage(content='The sum of 2 and 3 is 5!', additional_kwargs={}, response_metadata={'id': 'msg_01W6DBQhcxL3h88QjLnGf5vF', 'model': 'claude-3-5-sonnet-20241022', 'stop_reason': 'end_turn', 'stop_sequence': None, 'usage': {'input_tokens': 652, 'output_tokens': 18}}, id='run-a6086ad8-f0d4-463f-b294-3e2a48af8972-0', usage_metadata={'input_tokens': 652, 'output_tokens': 18, 'total_tokens': 670, 'input_token_details': {}}), HumanMessage(content='now multiply that by 11', additional_kwargs={}, response_metadata={}, id='0c14c07d-39cb-4d62-982e-e6f3f20ae224'), AIMessage(content=[{'text': \"Since I'm Bob and I specialize in addition, I'll need to ask Alice for help with multiplication.\", 'type': 'text'}, {'id': 'toolu_01EMNJf3tVbzVCocUez6f1B9', 'input': {}, 'name': 'transfer_to_alice', 'type': 'tool_use'}], additional_kwargs={}, response_metadata={'id': 'msg_011V96NmAWoWmHNaUrYTKYRM', 'model': 'claude-3-5-sonnet-20241022', 'stop_reason': 'tool_use', 'stop_sequence': None, 'usage': {'input_tokens': 679, 'output_tokens': 61}}, id='run-79fedbcf-70ac-46bd-9a69-8761d075f128-0', tool_calls=[{'name': 'transfer_to_alice', 'args': {}, 'id': 'toolu_01EMNJf3tVbzVCocUez6f1B9', 'type': 'tool_call'}], usage_metadata={'input_tokens': 679, 'output_tokens': 61, 'total_tokens': 740, 'input_token_details': {}}), ToolMessage(content=\"Transferred to 'alice'!\", name='transfer_to_alice', id='50d05bbd-d3d7-4e9f-8964-a36fd12bd052', tool_call_id='toolu_01EMNJf3tVbzVCocUez6f1B9', artifact=Command(goto='alice'))], 'node': 'alice'}})\n",
      "(('alice:66755e98-90a8-e0da-25c8-452aa66d688e',), {'agent': {'messages': [AIMessage(content=[{'text': \"Hi! I'm Alice, and I'll help you multiply 5 by 11 using the multiply function.\", 'type': 'text'}, {'id': 'toolu_01AAYUY7GsMgNtZ9Um2xJt3j', 'input': {'a': 5, 'b': 11}, 'name': 'multiply', 'type': 'tool_use'}], additional_kwargs={}, response_metadata={'id': 'msg_01TdgPpqQqbRJ2ky2k8XaSNQ', 'model': 'claude-3-5-sonnet-20241022', 'stop_reason': 'tool_use', 'stop_sequence': None, 'usage': {'input_tokens': 756, 'output_tokens': 94}}, id='run-7d608d44-22a1-4785-a6d1-25f23e87a888-0', tool_calls=[{'name': 'multiply', 'args': {'a': 5, 'b': 11}, 'id': 'toolu_01AAYUY7GsMgNtZ9Um2xJt3j', 'type': 'tool_call'}], usage_metadata={'input_tokens': 756, 'output_tokens': 94, 'total_tokens': 850, 'input_token_details': {}})]}})\n",
      "(('alice:66755e98-90a8-e0da-25c8-452aa66d688e',), {'tools': {'messages': [ToolMessage(content='55', name='multiply', id='1beb239a-8bf3-4e17-94ad-77a811a2395f', tool_call_id='toolu_01AAYUY7GsMgNtZ9Um2xJt3j')]}})\n",
      "(('alice:66755e98-90a8-e0da-25c8-452aa66d688e',), {'agent': {'messages': [AIMessage(content='The result of multiplying 5 by 11 is 55!', additional_kwargs={}, response_metadata={'id': 'msg_01XdxL4nVpqfx5BmGdrNtRrw', 'model': 'claude-3-5-sonnet-20241022', 'stop_reason': 'end_turn', 'stop_sequence': None, 'usage': {'input_tokens': 862, 'output_tokens': 20}}, id='run-afdda7ce-097d-4e98-9431-b77a3017d352-0', usage_metadata={'input_tokens': 862, 'output_tokens': 20, 'total_tokens': 882, 'input_token_details': {}})]}})\n",
      "((), {'alice': {'messages': [HumanMessage(content=\"what's 2 + 3\", additional_kwargs={}, response_metadata={}, id='2634f1e3-d45e-4407-8b77-8f9c1c08c81e'), AIMessage(content=[{'text': \"Since I'm Alice and I specialize in multiplication, I'll need to ask Bob for help with this addition problem.\", 'type': 'text'}, {'id': 'toolu_01GgNACv9uRgjpgj5raBkSWF', 'input': {}, 'name': 'transfer_to_bob', 'type': 'tool_use'}], additional_kwargs={}, response_metadata={'id': 'msg_01LVBz2Cwe32vBBiWhHxRwzC', 'model': 'claude-3-5-sonnet-20241022', 'stop_reason': 'tool_use', 'stop_sequence': None, 'usage': {'input_tokens': 457, 'output_tokens': 63}}, id='run-366a6735-f78a-434c-be0f-c49136a049b1-0', tool_calls=[{'name': 'transfer_to_bob', 'args': {}, 'id': 'toolu_01GgNACv9uRgjpgj5raBkSWF', 'type': 'tool_call'}], usage_metadata={'input_tokens': 457, 'output_tokens': 63, 'total_tokens': 520, 'input_token_details': {}}), ToolMessage(content=\"Transferred to 'bob'!\", name='transfer_to_bob', id='421ff8fd-abba-498b-8618-2f2ccf40b2fc', tool_call_id='toolu_01GgNACv9uRgjpgj5raBkSWF', artifact={'update': None, 'send': [], 'resume': None, 'goto': 'bob'}), AIMessage(content=[{'text': \"Hi! I'm Bob, the addition expert. I can help you with adding 2 and 3 using the `add` function.\", 'type': 'text'}, {'id': 'toolu_013AjkfzBZnhVwGxEnn54kPY', 'input': {'a': 2, 'b': 3}, 'name': 'add', 'type': 'tool_use'}], additional_kwargs={}, response_metadata={'id': 'msg_015wYc1MsVh3FxWkFDMWzP67', 'model': 'claude-3-5-sonnet-20241022', 'stop_reason': 'tool_use', 'stop_sequence': None, 'usage': {'input_tokens': 540, 'output_tokens': 100}}, id='run-beabf602-8384-4bdc-a162-b5a5ec88a98d-0', tool_calls=[{'name': 'add', 'args': {'a': 2, 'b': 3}, 'id': 'toolu_013AjkfzBZnhVwGxEnn54kPY', 'type': 'tool_call'}], usage_metadata={'input_tokens': 540, 'output_tokens': 100, 'total_tokens': 640, 'input_token_details': {}}), ToolMessage(content='5', name='add', id='5ef93bbb-d375-4c45-aa03-e78ff4ccc292', tool_call_id='toolu_013AjkfzBZnhVwGxEnn54kPY'), AIMessage(content='The sum of 2 and 3 is 5!', additional_kwargs={}, response_metadata={'id': 'msg_01W6DBQhcxL3h88QjLnGf5vF', 'model': 'claude-3-5-sonnet-20241022', 'stop_reason': 'end_turn', 'stop_sequence': None, 'usage': {'input_tokens': 652, 'output_tokens': 18}}, id='run-a6086ad8-f0d4-463f-b294-3e2a48af8972-0', usage_metadata={'input_tokens': 652, 'output_tokens': 18, 'total_tokens': 670, 'input_token_details': {}}), HumanMessage(content='now multiply that by 11', additional_kwargs={}, response_metadata={}, id='0c14c07d-39cb-4d62-982e-e6f3f20ae224'), AIMessage(content=[{'text': \"Since I'm Bob and I specialize in addition, I'll need to ask Alice for help with multiplication.\", 'type': 'text'}, {'id': 'toolu_01EMNJf3tVbzVCocUez6f1B9', 'input': {}, 'name': 'transfer_to_alice', 'type': 'tool_use'}], additional_kwargs={}, response_metadata={'id': 'msg_011V96NmAWoWmHNaUrYTKYRM', 'model': 'claude-3-5-sonnet-20241022', 'stop_reason': 'tool_use', 'stop_sequence': None, 'usage': {'input_tokens': 679, 'output_tokens': 61}}, id='run-79fedbcf-70ac-46bd-9a69-8761d075f128-0', tool_calls=[{'name': 'transfer_to_alice', 'args': {}, 'id': 'toolu_01EMNJf3tVbzVCocUez6f1B9', 'type': 'tool_call'}], usage_metadata={'input_tokens': 679, 'output_tokens': 61, 'total_tokens': 740, 'input_token_details': {}}), ToolMessage(content=\"Transferred to 'alice'!\", name='transfer_to_alice', id='50d05bbd-d3d7-4e9f-8964-a36fd12bd052', tool_call_id='toolu_01EMNJf3tVbzVCocUez6f1B9', artifact=Command(goto='alice')), AIMessage(content=[{'text': \"Hi! I'm Alice, and I'll help you multiply 5 by 11 using the multiply function.\", 'type': 'text'}, {'id': 'toolu_01AAYUY7GsMgNtZ9Um2xJt3j', 'input': {'a': 5, 'b': 11}, 'name': 'multiply', 'type': 'tool_use'}], additional_kwargs={}, response_metadata={'id': 'msg_01TdgPpqQqbRJ2ky2k8XaSNQ', 'model': 'claude-3-5-sonnet-20241022', 'stop_reason': 'tool_use', 'stop_sequence': None, 'usage': {'input_tokens': 756, 'output_tokens': 94}}, id='run-7d608d44-22a1-4785-a6d1-25f23e87a888-0', tool_calls=[{'name': 'multiply', 'args': {'a': 5, 'b': 11}, 'id': 'toolu_01AAYUY7GsMgNtZ9Um2xJt3j', 'type': 'tool_call'}], usage_metadata={'input_tokens': 756, 'output_tokens': 94, 'total_tokens': 850, 'input_token_details': {}}), ToolMessage(content='55', name='multiply', id='1beb239a-8bf3-4e17-94ad-77a811a2395f', tool_call_id='toolu_01AAYUY7GsMgNtZ9Um2xJt3j'), AIMessage(content='The result of multiplying 5 by 11 is 55!', additional_kwargs={}, response_metadata={'id': 'msg_01XdxL4nVpqfx5BmGdrNtRrw', 'model': 'claude-3-5-sonnet-20241022', 'stop_reason': 'end_turn', 'stop_sequence': None, 'usage': {'input_tokens': 862, 'output_tokens': 20}}, id='run-afdda7ce-097d-4e98-9431-b77a3017d352-0', usage_metadata={'input_tokens': 862, 'output_tokens': 20, 'total_tokens': 882, 'input_token_details': {}})], 'node': 'alice'}})\n"
     ]
    }
   ],
   "source": [
    "for chunk in graph.stream({\"messages\": [(\"user\", \"now multiply that by 11\")]}, config, subgraphs=True):\n",
    "    print(chunk)"
   ]
  },
  {
   "cell_type": "code",
   "execution_count": 47,
   "id": "bc502ddd-0250-4408-9272-0265da426058",
   "metadata": {},
   "outputs": [
    {
     "data": {
      "text/plain": [
       "[HumanMessage(content=\"what's 2 + 3\", additional_kwargs={}, response_metadata={}, id='2634f1e3-d45e-4407-8b77-8f9c1c08c81e'),\n",
       " AIMessage(content=[{'text': \"Since I'm Alice and I specialize in multiplication, I'll need to ask Bob for help with this addition problem.\", 'type': 'text'}, {'id': 'toolu_01GgNACv9uRgjpgj5raBkSWF', 'input': {}, 'name': 'transfer_to_bob', 'type': 'tool_use'}], additional_kwargs={}, response_metadata={'id': 'msg_01LVBz2Cwe32vBBiWhHxRwzC', 'model': 'claude-3-5-sonnet-20241022', 'stop_reason': 'tool_use', 'stop_sequence': None, 'usage': {'input_tokens': 457, 'output_tokens': 63}}, id='run-366a6735-f78a-434c-be0f-c49136a049b1-0', tool_calls=[{'name': 'transfer_to_bob', 'args': {}, 'id': 'toolu_01GgNACv9uRgjpgj5raBkSWF', 'type': 'tool_call'}], usage_metadata={'input_tokens': 457, 'output_tokens': 63, 'total_tokens': 520, 'input_token_details': {}}),\n",
       " ToolMessage(content=\"Transferred to 'bob'!\", name='transfer_to_bob', id='421ff8fd-abba-498b-8618-2f2ccf40b2fc', tool_call_id='toolu_01GgNACv9uRgjpgj5raBkSWF', artifact={'update': None, 'send': [], 'resume': None, 'goto': 'bob'}),\n",
       " AIMessage(content=[{'text': \"Hi! I'm Bob, the addition expert. I can help you with adding 2 and 3 using the `add` function.\", 'type': 'text'}, {'id': 'toolu_013AjkfzBZnhVwGxEnn54kPY', 'input': {'a': 2, 'b': 3}, 'name': 'add', 'type': 'tool_use'}], additional_kwargs={}, response_metadata={'id': 'msg_015wYc1MsVh3FxWkFDMWzP67', 'model': 'claude-3-5-sonnet-20241022', 'stop_reason': 'tool_use', 'stop_sequence': None, 'usage': {'input_tokens': 540, 'output_tokens': 100}}, id='run-beabf602-8384-4bdc-a162-b5a5ec88a98d-0', tool_calls=[{'name': 'add', 'args': {'a': 2, 'b': 3}, 'id': 'toolu_013AjkfzBZnhVwGxEnn54kPY', 'type': 'tool_call'}], usage_metadata={'input_tokens': 540, 'output_tokens': 100, 'total_tokens': 640, 'input_token_details': {}}),\n",
       " ToolMessage(content='5', name='add', id='5ef93bbb-d375-4c45-aa03-e78ff4ccc292', tool_call_id='toolu_013AjkfzBZnhVwGxEnn54kPY'),\n",
       " AIMessage(content='The sum of 2 and 3 is 5!', additional_kwargs={}, response_metadata={'id': 'msg_01W6DBQhcxL3h88QjLnGf5vF', 'model': 'claude-3-5-sonnet-20241022', 'stop_reason': 'end_turn', 'stop_sequence': None, 'usage': {'input_tokens': 652, 'output_tokens': 18}}, id='run-a6086ad8-f0d4-463f-b294-3e2a48af8972-0', usage_metadata={'input_tokens': 652, 'output_tokens': 18, 'total_tokens': 670, 'input_token_details': {}}),\n",
       " HumanMessage(content='now multiply that by 11', additional_kwargs={}, response_metadata={}, id='0c14c07d-39cb-4d62-982e-e6f3f20ae224'),\n",
       " AIMessage(content=[{'text': \"Since I'm Bob and I specialize in addition, I'll need to ask Alice for help with multiplication.\", 'type': 'text'}, {'id': 'toolu_01EMNJf3tVbzVCocUez6f1B9', 'input': {}, 'name': 'transfer_to_alice', 'type': 'tool_use'}], additional_kwargs={}, response_metadata={'id': 'msg_011V96NmAWoWmHNaUrYTKYRM', 'model': 'claude-3-5-sonnet-20241022', 'stop_reason': 'tool_use', 'stop_sequence': None, 'usage': {'input_tokens': 679, 'output_tokens': 61}}, id='run-79fedbcf-70ac-46bd-9a69-8761d075f128-0', tool_calls=[{'name': 'transfer_to_alice', 'args': {}, 'id': 'toolu_01EMNJf3tVbzVCocUez6f1B9', 'type': 'tool_call'}], usage_metadata={'input_tokens': 679, 'output_tokens': 61, 'total_tokens': 740, 'input_token_details': {}}),\n",
       " ToolMessage(content=\"Transferred to 'alice'!\", name='transfer_to_alice', id='50d05bbd-d3d7-4e9f-8964-a36fd12bd052', tool_call_id='toolu_01EMNJf3tVbzVCocUez6f1B9', artifact={'update': None, 'send': [], 'resume': None, 'goto': 'alice'}),\n",
       " AIMessage(content=[{'text': \"Hi! I'm Alice, and I'll help you multiply 5 by 11 using the multiply function.\", 'type': 'text'}, {'id': 'toolu_01AAYUY7GsMgNtZ9Um2xJt3j', 'input': {'a': 5, 'b': 11}, 'name': 'multiply', 'type': 'tool_use'}], additional_kwargs={}, response_metadata={'id': 'msg_01TdgPpqQqbRJ2ky2k8XaSNQ', 'model': 'claude-3-5-sonnet-20241022', 'stop_reason': 'tool_use', 'stop_sequence': None, 'usage': {'input_tokens': 756, 'output_tokens': 94}}, id='run-7d608d44-22a1-4785-a6d1-25f23e87a888-0', tool_calls=[{'name': 'multiply', 'args': {'a': 5, 'b': 11}, 'id': 'toolu_01AAYUY7GsMgNtZ9Um2xJt3j', 'type': 'tool_call'}], usage_metadata={'input_tokens': 756, 'output_tokens': 94, 'total_tokens': 850, 'input_token_details': {}}),\n",
       " ToolMessage(content='55', name='multiply', id='1beb239a-8bf3-4e17-94ad-77a811a2395f', tool_call_id='toolu_01AAYUY7GsMgNtZ9Um2xJt3j'),\n",
       " AIMessage(content='The result of multiplying 5 by 11 is 55!', additional_kwargs={}, response_metadata={'id': 'msg_01XdxL4nVpqfx5BmGdrNtRrw', 'model': 'claude-3-5-sonnet-20241022', 'stop_reason': 'end_turn', 'stop_sequence': None, 'usage': {'input_tokens': 862, 'output_tokens': 20}}, id='run-afdda7ce-097d-4e98-9431-b77a3017d352-0', usage_metadata={'input_tokens': 862, 'output_tokens': 20, 'total_tokens': 882, 'input_token_details': {}})]"
      ]
     },
     "execution_count": 47,
     "metadata": {},
     "output_type": "execute_result"
    }
   ],
   "source": [
    "graph.get_state(config).values[\"messages\"]"
   ]
  }
 ],
 "metadata": {
  "kernelspec": {
   "display_name": "langgraph",
   "language": "python",
   "name": "langgraph"
  },
  "language_info": {
   "codemirror_mode": {
    "name": "ipython",
    "version": 3
   },
   "file_extension": ".py",
   "mimetype": "text/x-python",
   "name": "python",
   "nbconvert_exporter": "python",
   "pygments_lexer": "ipython3",
   "version": "3.11.9"
  }
 },
 "nbformat": 4,
 "nbformat_minor": 5
}
