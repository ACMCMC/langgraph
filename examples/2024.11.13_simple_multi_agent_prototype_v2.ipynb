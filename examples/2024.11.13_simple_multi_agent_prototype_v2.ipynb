{
 "cells": [
  {
   "cell_type": "code",
   "execution_count": 1,
   "id": "828c1d96-6940-44ed-983f-134972cd4570",
   "metadata": {},
   "outputs": [],
   "source": [
    "from langchain_openai import ChatOpenAI\n",
    "\n",
    "import os\n",
    "import getpass\n",
    "os.environ['OPENAI_API_KEY'] = \"\""
   ]
  },
  {
   "cell_type": "code",
   "execution_count": 2,
   "id": "fc99d428-67e9-45a7-b953-a6bf1ad96da8",
   "metadata": {},
   "outputs": [],
   "source": [
    "def add(a: int, b: int):\n",
    "    \"\"\"Adds two numbers\"\"\"\n",
    "    return a + b"
   ]
  },
  {
   "cell_type": "code",
   "execution_count": 3,
   "id": "8bf48bbb-8da9-4afc-bb7c-111e7fadb0f3",
   "metadata": {},
   "outputs": [],
   "source": [
    "def multiply(a: int, b: int):\n",
    "    \"\"\"Multiplies two numbers\"\"\"\n",
    "    return a * b"
   ]
  },
  {
   "cell_type": "markdown",
   "id": "f5b6ef4a-2cbb-4aee-9a37-7fd4881391cd",
   "metadata": {},
   "source": [
    "### Wrapper for a single agent that can both call tools and transfer to other agents"
   ]
  },
  {
   "cell_type": "code",
   "execution_count": 4,
   "id": "98fb7cb5-1ff4-4603-9aa1-467c3b047b60",
   "metadata": {},
   "outputs": [],
   "source": [
    "from langgraph.prebuilt.chat_agent_executor import AgentState as PrebuiltAgentState\n",
    "from langgraph.prebuilt import create_react_agent"
   ]
  },
  {
   "cell_type": "code",
   "execution_count": 5,
   "id": "767a7d68-4042-4dcd-8725-c5acfcd2da4f",
   "metadata": {},
   "outputs": [],
   "source": [
    "class AgentState(PrebuiltAgentState):\n",
    "    active_agent: str"
   ]
  },
  {
   "cell_type": "code",
   "execution_count": 6,
   "id": "96a9f030-e1b2-4355-8010-f322f76dfe26",
   "metadata": {},
   "outputs": [],
   "source": [
    "model = ChatOpenAI(model=\"gpt-4o\")"
   ]
  },
  {
   "cell_type": "code",
   "execution_count": 7,
   "id": "952dbd5f-f77b-4d64-92d2-cc7097c97f1a",
   "metadata": {},
   "outputs": [],
   "source": [
    "from langgraph.checkpoint.memory import MemorySaver\n",
    "from langgraph.graph import StateGraph, GraphCommand, START, END\n",
    "from typing import Literal"
   ]
  },
  {
   "cell_type": "code",
   "execution_count": 8,
   "id": "0ee88f4f-e1d7-4f91-b50b-a4878064836f",
   "metadata": {},
   "outputs": [],
   "source": [
    "from langgraph.prebuilt.handoff import create_handoff_tool, HandoffTool"
   ]
  },
  {
   "cell_type": "code",
   "execution_count": 9,
   "id": "6417909f-afb0-429c-ac27-ecc57fa121df",
   "metadata": {},
   "outputs": [],
   "source": [
    "from langchain_core.runnables import RunnableConfig"
   ]
  },
  {
   "cell_type": "code",
   "execution_count": 10,
   "id": "9e7fc06b-c4fa-45a1-ba01-e34493a146ab",
   "metadata": {},
   "outputs": [],
   "source": [
    "def make_agent_node(model, tools, system_prompt=None, return_direct: bool = True):\n",
    "    handoff_tools = [tool for tool in tools if isinstance(tool, HandoffTool)]\n",
    "    destinations = [tool.metadata[\"hand_off_to\"] for tool in handoff_tools]\n",
    "    if return_direct:\n",
    "        destinations.append(END)\n",
    "\n",
    "    agent = create_react_agent(model, tools, state_schema=AgentState, state_modifier=system_prompt)\n",
    "\n",
    "    def call_agent(state: AgentState, config: RunnableConfig) -> GraphCommand[Literal[*destinations]]:\n",
    "        agent_name = config[\"metadata\"][\"langgraph_node\"]\n",
    "        active_agent = state.get(\"active_agent\", agent_name)\n",
    "\n",
    "        # return right away if we need to switch to a different agent\n",
    "        if active_agent != agent_name:\n",
    "            return GraphCommand(goto=active_agent)\n",
    "\n",
    "        # call agent & determine state update / where we need to go next\n",
    "        response = agent.invoke(state)\n",
    "        goto = response.get(\"active_agent\", agent_name)\n",
    "        update = {\"messages\": response[\"messages\"][-1], \"active_agent\": goto}\n",
    "\n",
    "        if goto == agent_name and return_direct:\n",
    "            goto = END\n",
    "\n",
    "        return GraphCommand(update=update, goto=goto)\n",
    "\n",
    "    return call_agent"
   ]
  },
  {
   "cell_type": "code",
   "execution_count": 11,
   "id": "6d5ab915-2b79-4e7d-bb26-9fc4c288e505",
   "metadata": {},
   "outputs": [],
   "source": [
    "bob_tool = create_handoff_tool(\"bob\", name=\"transfer_to_bob\")\n",
    "alice_tool = create_handoff_tool(\"alice\", name=\"transfer_to_alice\")\n",
    "charlie_tool = create_handoff_tool(\"charlie\", name=\"transfer_to_charlie\")"
   ]
  },
  {
   "cell_type": "code",
   "execution_count": 12,
   "id": "c74780ec-2a1e-47a5-a39e-70a9ee55f210",
   "metadata": {},
   "outputs": [],
   "source": [
    "builder = StateGraph(AgentState)\n",
    "\n",
    "alice = make_agent_node(model, [add, bob_tool], system_prompt=\"You're Alice.\")\n",
    "bob = make_agent_node(model, [multiply, alice_tool], system_prompt=\"You're Bob.\")\n",
    "\n",
    "builder.add_node(\"alice\", alice)\n",
    "builder.add_node(\"bob\", bob)\n",
    "builder.add_edge(START, \"alice\")\n",
    "\n",
    "memory = MemorySaver()\n",
    "graph = builder.compile(checkpointer=memory)"
   ]
  },
  {
   "cell_type": "code",
   "execution_count": 13,
   "id": "61f1ee4f-606b-4b4b-821d-584a710172f9",
   "metadata": {},
   "outputs": [],
   "source": [
    "from IPython.display import display, Image"
   ]
  },
  {
   "cell_type": "code",
   "execution_count": 14,
   "id": "f3fc3279-aabf-4965-b258-7a30b9042a0d",
   "metadata": {},
   "outputs": [
    {
     "data": {
      "image/png": "[encoded data removed]",
      "text/plain": [
       "<IPython.core.display.Image object>"
      ]
     },
     "metadata": {},
     "output_type": "display_data"
    }
   ],
   "source": [
    "display(Image(graph.get_graph().draw_mermaid_png()))"
   ]
  },
  {
   "cell_type": "code",
   "execution_count": 15,
   "id": "44dafb91-e603-4190-9eaa-b904ea02b864",
   "metadata": {},
   "outputs": [],
   "source": [
    "config = {\"configurable\": {\"thread_id\": \"1\"}}"
   ]
  },
  {
   "cell_type": "code",
   "execution_count": 16,
   "id": "cc5fb965-7164-4797-b686-a97accbb0663",
   "metadata": {},
   "outputs": [
    {
     "name": "stdout",
     "output_type": "stream",
     "text": [
      "{'alice': {'messages': AIMessage(content='You have been successfully transferred to Bob!', additional_kwargs={'refusal': None}, response_metadata={'token_usage': {'completion_tokens': 9, 'prompt_tokens': 102, 'total_tokens': 111, 'completion_tokens_details': {'accepted_prediction_tokens': 0, 'audio_tokens': 0, 'reasoning_tokens': 0, 'rejected_prediction_tokens': 0}, 'prompt_tokens_details': {'audio_tokens': 0, 'cached_tokens': 0}}, 'model_name': 'gpt-4o-2024-08-06', 'system_fingerprint': 'fp_159d8341cc', 'finish_reason': 'stop', 'logprobs': None}, id='run-750076e6-6112-41b5-aeab-647e0b8c12d0-0', usage_metadata={'input_tokens': 102, 'output_tokens': 9, 'total_tokens': 111, 'input_token_details': {'audio': 0, 'cache_read': 0}, 'output_token_details': {'audio': 0, 'reasoning': 0}}), 'active_agent': 'bob'}}\n",
      "\n",
      "\n",
      "{'bob': {'messages': AIMessage(content='How can I assist you today?', additional_kwargs={'refusal': None}, response_metadata={'token_usage': {'completion_tokens': 8, 'prompt_tokens': 88, 'total_tokens': 96, 'completion_tokens_details': {'accepted_prediction_tokens': 0, 'audio_tokens': 0, 'reasoning_tokens': 0, 'rejected_prediction_tokens': 0}, 'prompt_tokens_details': {'audio_tokens': 0, 'cached_tokens': 0}}, 'model_name': 'gpt-4o-2024-08-06', 'system_fingerprint': 'fp_159d8341cc', 'finish_reason': 'stop', 'logprobs': None}, id='run-ca223290-959e-42e8-a70a-1383eb27be06-0', usage_metadata={'input_tokens': 88, 'output_tokens': 8, 'total_tokens': 96, 'input_token_details': {'audio': 0, 'cache_read': 0}, 'output_token_details': {'audio': 0, 'reasoning': 0}}), 'active_agent': 'bob'}}\n",
      "\n",
      "\n"
     ]
    }
   ],
   "source": [
    "for chunk in graph.stream({\"messages\": [(\"user\", \"hi! transfer me to bob\")]}, config):\n",
    "    print(chunk)\n",
    "    print(\"\\n\")"
   ]
  },
  {
   "cell_type": "code",
   "execution_count": 17,
   "id": "eef9ca85-9c25-4e89-a222-aa2423b24427",
   "metadata": {},
   "outputs": [
    {
     "name": "stdout",
     "output_type": "stream",
     "text": [
      "{'alice': None}\n",
      "\n",
      "\n",
      "{'bob': {'messages': AIMessage(content=\"You're speaking to Bob. How can I assist you today?\", additional_kwargs={'refusal': None}, response_metadata={'token_usage': {'completion_tokens': 13, 'prompt_tokens': 109, 'total_tokens': 122, 'completion_tokens_details': {'accepted_prediction_tokens': 0, 'audio_tokens': 0, 'reasoning_tokens': 0, 'rejected_prediction_tokens': 0}, 'prompt_tokens_details': {'audio_tokens': 0, 'cached_tokens': 0}}, 'model_name': 'gpt-4o-2024-08-06', 'system_fingerprint': 'fp_159d8341cc', 'finish_reason': 'stop', 'logprobs': None}, id='run-4727c391-743b-438b-8b03-e58938f67000-0', usage_metadata={'input_tokens': 109, 'output_tokens': 13, 'total_tokens': 122, 'input_token_details': {'audio': 0, 'cache_read': 0}, 'output_token_details': {'audio': 0, 'reasoning': 0}}), 'active_agent': 'bob'}}\n",
      "\n",
      "\n"
     ]
    }
   ],
   "source": [
    "for chunk in graph.stream({\"messages\": [(\"user\", \"who am i speaking to?\")]}, config):\n",
    "    print(chunk)\n",
    "    print(\"\\n\")"
   ]
  },
  {
   "cell_type": "code",
   "execution_count": 18,
   "id": "2a2d56d8-ae6e-404d-84fb-9f2c689cd991",
   "metadata": {},
   "outputs": [
    {
     "name": "stdout",
     "output_type": "stream",
     "text": [
      "((), {'alice': None})\n",
      "\n",
      "\n",
      "(('bob:6493e960-209a-bee6-ce87-80092b1a8b9e',), {'agent': {'messages': [AIMessage(content='', additional_kwargs={'tool_calls': [{'id': 'call_LO8aqlZ1NoOsVnq1OjU6Gk8D', 'function': {'arguments': '{\"a\":3,\"b\":14}', 'name': 'multiply'}, 'type': 'function'}], 'refusal': None}, response_metadata={'token_usage': {'completion_tokens': 17, 'prompt_tokens': 137, 'total_tokens': 154, 'completion_tokens_details': {'accepted_prediction_tokens': 0, 'audio_tokens': 0, 'reasoning_tokens': 0, 'rejected_prediction_tokens': 0}, 'prompt_tokens_details': {'audio_tokens': 0, 'cached_tokens': 0}}, 'model_name': 'gpt-4o-2024-08-06', 'system_fingerprint': 'fp_159d8341cc', 'finish_reason': 'tool_calls', 'logprobs': None}, id='run-657dfa92-9487-4a1e-a164-089a340066e8-0', tool_calls=[{'name': 'multiply', 'args': {'a': 3, 'b': 14}, 'id': 'call_LO8aqlZ1NoOsVnq1OjU6Gk8D', 'type': 'tool_call'}], usage_metadata={'input_tokens': 137, 'output_tokens': 17, 'total_tokens': 154, 'input_token_details': {'audio': 0, 'cache_read': 0}, 'output_token_details': {'audio': 0, 'reasoning': 0}})]}})\n",
      "\n",
      "\n",
      "(('bob:6493e960-209a-bee6-ce87-80092b1a8b9e',), {'tools': {'messages': [ToolMessage(content='42', name='multiply', id='ecc92ffd-69e1-4bac-aefa-7b4cd92f736c', tool_call_id='call_LO8aqlZ1NoOsVnq1OjU6Gk8D')]}})\n",
      "\n",
      "\n",
      "(('bob:6493e960-209a-bee6-ce87-80092b1a8b9e',), {'agent': {'messages': [AIMessage(content='3 times 14 is 42.', additional_kwargs={'refusal': None}, response_metadata={'token_usage': {'completion_tokens': 9, 'prompt_tokens': 162, 'total_tokens': 171, 'completion_tokens_details': {'accepted_prediction_tokens': 0, 'audio_tokens': 0, 'reasoning_tokens': 0, 'rejected_prediction_tokens': 0}, 'prompt_tokens_details': {'audio_tokens': 0, 'cached_tokens': 0}}, 'model_name': 'gpt-4o-2024-08-06', 'system_fingerprint': 'fp_159d8341cc', 'finish_reason': 'stop', 'logprobs': None}, id='run-d40bb9b8-2a6e-4c4f-b943-9243f07466bb-0', usage_metadata={'input_tokens': 162, 'output_tokens': 9, 'total_tokens': 171, 'input_token_details': {'audio': 0, 'cache_read': 0}, 'output_token_details': {'audio': 0, 'reasoning': 0}})]}})\n",
      "\n",
      "\n",
      "((), {'bob': {'messages': AIMessage(content='3 times 14 is 42.', additional_kwargs={'refusal': None}, response_metadata={'token_usage': {'completion_tokens': 9, 'prompt_tokens': 162, 'total_tokens': 171, 'completion_tokens_details': {'accepted_prediction_tokens': 0, 'audio_tokens': 0, 'reasoning_tokens': 0, 'rejected_prediction_tokens': 0}, 'prompt_tokens_details': {'audio_tokens': 0, 'cached_tokens': 0}}, 'model_name': 'gpt-4o-2024-08-06', 'system_fingerprint': 'fp_159d8341cc', 'finish_reason': 'stop', 'logprobs': None}, id='run-d40bb9b8-2a6e-4c4f-b943-9243f07466bb-0', usage_metadata={'input_tokens': 162, 'output_tokens': 9, 'total_tokens': 171, 'input_token_details': {'audio': 0, 'cache_read': 0}, 'output_token_details': {'audio': 0, 'reasoning': 0}}), 'active_agent': 'bob'}})\n",
      "\n",
      "\n"
     ]
    }
   ],
   "source": [
    "for chunk in graph.stream({\"messages\": [(\"user\", \"what's 3 times 14?\")]}, config, subgraphs=True):\n",
    "    print(chunk)\n",
    "    print(\"\\n\")"
   ]
  },
  {
   "cell_type": "code",
   "execution_count": 19,
   "id": "1fb07133-9599-4843-bcb9-77babbc266f1",
   "metadata": {},
   "outputs": [
    {
     "name": "stdout",
     "output_type": "stream",
     "text": [
      "{'alice': None}\n",
      "\n",
      "\n",
      "{'bob': {'messages': AIMessage(content='You have been successfully transferred back to Alice!', additional_kwargs={'refusal': None}, response_metadata={'token_usage': {'completion_tokens': 10, 'prompt_tokens': 189, 'total_tokens': 199, 'completion_tokens_details': {'accepted_prediction_tokens': 0, 'audio_tokens': 0, 'reasoning_tokens': 0, 'rejected_prediction_tokens': 0}, 'prompt_tokens_details': {'audio_tokens': 0, 'cached_tokens': 0}}, 'model_name': 'gpt-4o-2024-08-06', 'system_fingerprint': 'fp_159d8341cc', 'finish_reason': 'stop', 'logprobs': None}, id='run-2068443f-3ced-40d0-8c6b-c2d3f471662e-0', usage_metadata={'input_tokens': 189, 'output_tokens': 10, 'total_tokens': 199, 'input_token_details': {'audio': 0, 'cache_read': 0}, 'output_token_details': {'audio': 0, 'reasoning': 0}}), 'active_agent': 'alice'}}\n",
      "\n",
      "\n",
      "{'alice': {'messages': AIMessage(content='Welcome back! How can I assist you today?', additional_kwargs={'refusal': None}, response_metadata={'token_usage': {'completion_tokens': 11, 'prompt_tokens': 172, 'total_tokens': 183, 'completion_tokens_details': {'accepted_prediction_tokens': 0, 'audio_tokens': 0, 'reasoning_tokens': 0, 'rejected_prediction_tokens': 0}, 'prompt_tokens_details': {'audio_tokens': 0, 'cached_tokens': 0}}, 'model_name': 'gpt-4o-2024-08-06', 'system_fingerprint': 'fp_45cf54deae', 'finish_reason': 'stop', 'logprobs': None}, id='run-9729fc58-e732-45cf-b077-73c411f918e8-0', usage_metadata={'input_tokens': 172, 'output_tokens': 11, 'total_tokens': 183, 'input_token_details': {'audio': 0, 'cache_read': 0}, 'output_token_details': {'audio': 0, 'reasoning': 0}}), 'active_agent': 'alice'}}\n",
      "\n",
      "\n"
     ]
    }
   ],
   "source": [
    "for chunk in graph.stream({\"messages\": [(\"user\", \"cool, now transfer me back to alice\")]}, config):\n",
    "    print(chunk)\n",
    "    print(\"\\n\")"
   ]
  },
  {
   "cell_type": "code",
   "execution_count": 20,
   "id": "16c2a896-2d2d-4b13-aca2-80a0dd83c28d",
   "metadata": {},
   "outputs": [
    {
     "name": "stdout",
     "output_type": "stream",
     "text": [
      "(('alice:43763c90-69ef-251a-4d26-da95bca2d862',), {'agent': {'messages': [AIMessage(content='', additional_kwargs={'tool_calls': [{'id': 'call_4ID2dJLOC6NE0ZdvJMxM2Kgr', 'function': {'arguments': '{\"a\":4,\"b\":9}', 'name': 'add'}, 'type': 'function'}], 'refusal': None}, response_metadata={'token_usage': {'completion_tokens': 17, 'prompt_tokens': 197, 'total_tokens': 214, 'completion_tokens_details': {'accepted_prediction_tokens': 0, 'audio_tokens': 0, 'reasoning_tokens': 0, 'rejected_prediction_tokens': 0}, 'prompt_tokens_details': {'audio_tokens': 0, 'cached_tokens': 0}}, 'model_name': 'gpt-4o-2024-08-06', 'system_fingerprint': 'fp_45cf54deae', 'finish_reason': 'tool_calls', 'logprobs': None}, id='run-9a6b49bb-e70a-450b-b912-9ccd8f34d513-0', tool_calls=[{'name': 'add', 'args': {'a': 4, 'b': 9}, 'id': 'call_4ID2dJLOC6NE0ZdvJMxM2Kgr', 'type': 'tool_call'}], usage_metadata={'input_tokens': 197, 'output_tokens': 17, 'total_tokens': 214, 'input_token_details': {'audio': 0, 'cache_read': 0}, 'output_token_details': {'audio': 0, 'reasoning': 0}})]}})\n",
      "\n",
      "\n",
      "(('alice:43763c90-69ef-251a-4d26-da95bca2d862',), {'tools': {'messages': [ToolMessage(content='13', name='add', id='ef872115-58d2-47c7-9bf7-60439a99be3a', tool_call_id='call_4ID2dJLOC6NE0ZdvJMxM2Kgr')]}})\n",
      "\n",
      "\n",
      "(('alice:43763c90-69ef-251a-4d26-da95bca2d862',), {'agent': {'messages': [AIMessage(content='4 plus 9 equals 13.', additional_kwargs={'refusal': None}, response_metadata={'token_usage': {'completion_tokens': 9, 'prompt_tokens': 222, 'total_tokens': 231, 'completion_tokens_details': {'accepted_prediction_tokens': 0, 'audio_tokens': 0, 'reasoning_tokens': 0, 'rejected_prediction_tokens': 0}, 'prompt_tokens_details': {'audio_tokens': 0, 'cached_tokens': 0}}, 'model_name': 'gpt-4o-2024-08-06', 'system_fingerprint': 'fp_45cf54deae', 'finish_reason': 'stop', 'logprobs': None}, id='run-074d476e-fa9e-4352-ad38-fd1c678023bd-0', usage_metadata={'input_tokens': 222, 'output_tokens': 9, 'total_tokens': 231, 'input_token_details': {'audio': 0, 'cache_read': 0}, 'output_token_details': {'audio': 0, 'reasoning': 0}})]}})\n",
      "\n",
      "\n",
      "((), {'alice': {'messages': AIMessage(content='4 plus 9 equals 13.', additional_kwargs={'refusal': None}, response_metadata={'token_usage': {'completion_tokens': 9, 'prompt_tokens': 222, 'total_tokens': 231, 'completion_tokens_details': {'accepted_prediction_tokens': 0, 'audio_tokens': 0, 'reasoning_tokens': 0, 'rejected_prediction_tokens': 0}, 'prompt_tokens_details': {'audio_tokens': 0, 'cached_tokens': 0}}, 'model_name': 'gpt-4o-2024-08-06', 'system_fingerprint': 'fp_45cf54deae', 'finish_reason': 'stop', 'logprobs': None}, id='run-074d476e-fa9e-4352-ad38-fd1c678023bd-0', usage_metadata={'input_tokens': 222, 'output_tokens': 9, 'total_tokens': 231, 'input_token_details': {'audio': 0, 'cache_read': 0}, 'output_token_details': {'audio': 0, 'reasoning': 0}}), 'active_agent': 'alice'}})\n",
      "\n",
      "\n"
     ]
    }
   ],
   "source": [
    "for chunk in graph.stream({\"messages\": [(\"user\", \"what's 4 + 9\")]}, config, subgraphs=True):\n",
    "    print(chunk)\n",
    "    print(\"\\n\")"
   ]
  },
  {
   "cell_type": "markdown",
   "id": "e108a6d1-e159-43c1-a879-487f33d94f8c",
   "metadata": {},
   "source": [
    "---"
   ]
  },
  {
   "cell_type": "code",
   "execution_count": 21,
   "id": "b026ec2a-0b1a-4464-a4c4-e431e3551f22",
   "metadata": {},
   "outputs": [],
   "source": [
    "builder = StateGraph(AgentState)\n",
    "\n",
    "alice = make_agent_node(model, [add, bob_tool], system_prompt=\"You're Alice the cat.\")\n",
    "bob = make_agent_node(model, [multiply, alice_tool, charlie_tool], system_prompt=\"You're Bob the dog.\")\n",
    "charlie = make_agent_node(model, [bob_tool], system_prompt=\"You're Charlie the parrot.\")\n",
    "\n",
    "builder.add_node(\"alice\", alice)\n",
    "builder.add_node(\"bob\", bob)\n",
    "builder.add_node(\"charlie\", charlie)\n",
    "builder.add_edge(START, \"alice\")\n",
    "\n",
    "memory = MemorySaver()\n",
    "graph = builder.compile(checkpointer=memory)"
   ]
  },
  {
   "cell_type": "code",
   "execution_count": 22,
   "id": "8ecdd447-23eb-4b8e-9431-7defe660d7eb",
   "metadata": {},
   "outputs": [
    {
     "data": {
      "image/png": "[encoded data removed]",
      "text/plain": [
       "<IPython.core.display.Image object>"
      ]
     },
     "metadata": {},
     "output_type": "display_data"
    }
   ],
   "source": [
    "display(Image(graph.get_graph().draw_mermaid_png()))"
   ]
  },
  {
   "cell_type": "code",
   "execution_count": 25,
   "id": "23c0e2f4-ef0e-4f2e-b73c-ec7f9b67108d",
   "metadata": {},
   "outputs": [
    {
     "name": "stdout",
     "output_type": "stream",
     "text": [
      "{'alice': {'messages': AIMessage(content=\"You've been successfully transferred to 'bob'!\", additional_kwargs={'refusal': None}, response_metadata={'token_usage': {'completion_tokens': 10, 'prompt_tokens': 96, 'total_tokens': 106, 'completion_tokens_details': {'accepted_prediction_tokens': 0, 'audio_tokens': 0, 'reasoning_tokens': 0, 'rejected_prediction_tokens': 0}, 'prompt_tokens_details': {'audio_tokens': 0, 'cached_tokens': 0}}, 'model_name': 'gpt-4o-2024-08-06', 'system_fingerprint': 'fp_159d8341cc', 'finish_reason': 'stop', 'logprobs': None}, id='run-6ea92008-ed70-4b29-88be-b3bba5114e94-0', usage_metadata={'input_tokens': 96, 'output_tokens': 10, 'total_tokens': 106, 'input_token_details': {'audio': 0, 'cache_read': 0}, 'output_token_details': {'audio': 0, 'reasoning': 0}}), 'active_agent': 'bob'}}\n",
      "\n",
      "\n",
      "{'bob': {'messages': AIMessage(content='If you need any help, feel free to ask!', additional_kwargs={'refusal': None}, response_metadata={'token_usage': {'completion_tokens': 12, 'prompt_tokens': 108, 'total_tokens': 120, 'completion_tokens_details': {'accepted_prediction_tokens': 0, 'audio_tokens': 0, 'reasoning_tokens': 0, 'rejected_prediction_tokens': 0}, 'prompt_tokens_details': {'audio_tokens': 0, 'cached_tokens': 0}}, 'model_name': 'gpt-4o-2024-08-06', 'system_fingerprint': 'fp_45cf54deae', 'finish_reason': 'stop', 'logprobs': None}, id='run-a7750d87-7d13-4e9b-9826-c12532eb20f2-0', usage_metadata={'input_tokens': 108, 'output_tokens': 12, 'total_tokens': 120, 'input_token_details': {'audio': 0, 'cache_read': 0}, 'output_token_details': {'audio': 0, 'reasoning': 0}}), 'active_agent': 'bob'}}\n",
      "\n",
      "\n"
     ]
    }
   ],
   "source": [
    "for chunk in graph.stream({\"messages\": [(\"user\", \"hi! transfer me to bob\")]}, config):\n",
    "    print(chunk)\n",
    "    print(\"\\n\")"
   ]
  },
  {
   "cell_type": "code",
   "execution_count": 26,
   "id": "406eb2a5-5366-4600-b1bd-1ce3fdacfe4c",
   "metadata": {},
   "outputs": [
    {
     "name": "stdout",
     "output_type": "stream",
     "text": [
      "{'alice': None}\n",
      "\n",
      "\n",
      "{'bob': {'messages': AIMessage(content=\"You've been successfully transferred to 'charlie'! If there's anything else you need, just let me know.\", additional_kwargs={'refusal': None}, response_metadata={'token_usage': {'completion_tokens': 23, 'prompt_tokens': 157, 'total_tokens': 180, 'completion_tokens_details': {'accepted_prediction_tokens': 0, 'audio_tokens': 0, 'reasoning_tokens': 0, 'rejected_prediction_tokens': 0}, 'prompt_tokens_details': {'audio_tokens': 0, 'cached_tokens': 0}}, 'model_name': 'gpt-4o-2024-08-06', 'system_fingerprint': 'fp_45cf54deae', 'finish_reason': 'stop', 'logprobs': None}, id='run-06952f0d-fc93-4500-ae3c-cd4abe1d8328-0', usage_metadata={'input_tokens': 157, 'output_tokens': 23, 'total_tokens': 180, 'input_token_details': {'audio': 0, 'cache_read': 0}, 'output_token_details': {'audio': 0, 'reasoning': 0}}), 'active_agent': 'charlie'}}\n",
      "\n",
      "\n",
      "{'charlie': {'messages': AIMessage(content=\"If there's anything else you need, just let me know!\", additional_kwargs={'refusal': None}, response_metadata={'token_usage': {'completion_tokens': 13, 'prompt_tokens': 116, 'total_tokens': 129, 'completion_tokens_details': {'accepted_prediction_tokens': 0, 'audio_tokens': 0, 'reasoning_tokens': 0, 'rejected_prediction_tokens': 0}, 'prompt_tokens_details': {'audio_tokens': 0, 'cached_tokens': 0}}, 'model_name': 'gpt-4o-2024-08-06', 'system_fingerprint': 'fp_45cf54deae', 'finish_reason': 'stop', 'logprobs': None}, id='run-8f94fe83-7bba-4fbc-bdd2-bbb9347fc0f8-0', usage_metadata={'input_tokens': 116, 'output_tokens': 13, 'total_tokens': 129, 'input_token_details': {'audio': 0, 'cache_read': 0}, 'output_token_details': {'audio': 0, 'reasoning': 0}}), 'active_agent': 'charlie'}}\n",
      "\n",
      "\n"
     ]
    }
   ],
   "source": [
    "for chunk in graph.stream({\"messages\": [(\"user\", \"transfer me to charlie\")]}, config):\n",
    "    print(chunk)\n",
    "    print(\"\\n\")"
   ]
  },
  {
   "cell_type": "code",
   "execution_count": 27,
   "id": "0f2e469c-7f7f-4f58-a1bd-fa59965018f8",
   "metadata": {},
   "outputs": [
    {
     "name": "stdout",
     "output_type": "stream",
     "text": [
      "{'alice': None}\n",
      "\n",
      "\n",
      "{'charlie': {'messages': AIMessage(content=\"You've been successfully transferred to 'bob'! If you need assistance with anything else, just let me know.\", additional_kwargs={'refusal': None}, response_metadata={'token_usage': {'completion_tokens': 23, 'prompt_tokens': 163, 'total_tokens': 186, 'completion_tokens_details': {'accepted_prediction_tokens': 0, 'audio_tokens': 0, 'reasoning_tokens': 0, 'rejected_prediction_tokens': 0}, 'prompt_tokens_details': {'audio_tokens': 0, 'cached_tokens': 0}}, 'model_name': 'gpt-4o-2024-08-06', 'system_fingerprint': 'fp_a7d06e42a7', 'finish_reason': 'stop', 'logprobs': None}, id='run-42d019ea-bbff-4a8a-b515-54e97e97b457-0', usage_metadata={'input_tokens': 163, 'output_tokens': 23, 'total_tokens': 186, 'input_token_details': {'audio': 0, 'cache_read': 0}, 'output_token_details': {'audio': 0, 'reasoning': 0}}), 'active_agent': 'bob'}}\n",
      "\n",
      "\n",
      "{'bob': {'messages': AIMessage(content=\"You're back with 'bob'! If you need assistance with anything else, just let me know.\", additional_kwargs={'refusal': None}, response_metadata={'token_usage': {'completion_tokens': 21, 'prompt_tokens': 208, 'total_tokens': 229, 'completion_tokens_details': {'accepted_prediction_tokens': 0, 'audio_tokens': 0, 'reasoning_tokens': 0, 'rejected_prediction_tokens': 0}, 'prompt_tokens_details': {'audio_tokens': 0, 'cached_tokens': 0}}, 'model_name': 'gpt-4o-2024-08-06', 'system_fingerprint': 'fp_45cf54deae', 'finish_reason': 'stop', 'logprobs': None}, id='run-da1fa9d9-0fec-4ad7-9796-990f3f8ba607-0', usage_metadata={'input_tokens': 208, 'output_tokens': 21, 'total_tokens': 229, 'input_token_details': {'audio': 0, 'cache_read': 0}, 'output_token_details': {'audio': 0, 'reasoning': 0}}), 'active_agent': 'bob'}}\n",
      "\n",
      "\n"
     ]
    }
   ],
   "source": [
    "for chunk in graph.stream({\"messages\": [(\"user\", \"back to bob please\")]}, config):\n",
    "    print(chunk)\n",
    "    print(\"\\n\")"
   ]
  },
  {
   "cell_type": "markdown",
   "id": "46618927-40a7-4bf2-a20e-9377dfd3827f",
   "metadata": {},
   "source": [
    "---"
   ]
  },
  {
   "cell_type": "markdown",
   "id": "b12eb795-ac11-452b-a7e4-4056db373f0d",
   "metadata": {},
   "source": [
    "### Supervisor"
   ]
  },
  {
   "cell_type": "markdown",
   "id": "96c1c511-ce8e-4b59-b7b3-38fe687f1e2b",
   "metadata": {},
   "source": [
    "This is a bit broken right now. The biggest issue is that the supervisor tries to answer by itself even though it technically calls \"transfer\". This is because our approach is different from swarm where the agent object is literally swapped under the hood."
   ]
  },
  {
   "cell_type": "code",
   "execution_count": 44,
   "id": "e1a3912e-4d63-4668-b87c-05e325ff0dcb",
   "metadata": {},
   "outputs": [],
   "source": [
    "builder = StateGraph(AgentState)\n",
    "\n",
    "supervisor_tool = create_handoff_tool(\"supervisor\", name=\"transfer_to_supervisor\")\n",
    "\n",
    "supervisor = make_agent_node(model, [alice_tool, bob_tool], system_prompt=(\n",
    "    \"You're team supervisor managing Alice and Bob. \"\n",
    "    \"Alice is an expert at multiplication, Bob is great at addition. \"\n",
    "    \"To answer user question, transfer to one of them that has the requisite skills. \"\n",
    "    \"Once you have the final answer to user question, do not transfer -- respond to user directly!\"\n",
    "))\n",
    "alice = make_agent_node(model, [multiply, supervisor_tool], system_prompt=\"You're Alice. Once you're done multiplying, call to supervisor.\", return_direct=False)\n",
    "bob = make_agent_node(model, [add, supervisor_tool], system_prompt=\"You're Bob. Once you're done adding, call to supervisor.\", return_direct=False)\n",
    "\n",
    "builder.add_node(\"supervisor\", supervisor)\n",
    "builder.add_node(\"alice\", alice)\n",
    "builder.add_node(\"bob\", bob)\n",
    "builder.add_edge(START, \"supervisor\")\n",
    "\n",
    "memory = MemorySaver()\n",
    "graph = builder.compile(checkpointer=memory)"
   ]
  },
  {
   "cell_type": "code",
   "execution_count": 45,
   "id": "439522c6-2abc-449f-beb6-7f3e6146965b",
   "metadata": {},
   "outputs": [
    {
     "data": {
      "image/png": "[encoded data removed]",
      "text/plain": [
       "<IPython.core.display.Image object>"
      ]
     },
     "metadata": {},
     "output_type": "display_data"
    }
   ],
   "source": [
    "display(Image(graph.get_graph().draw_mermaid_png()))"
   ]
  },
  {
   "cell_type": "code",
   "execution_count": 48,
   "id": "8ef440d3-a290-4625-8d28-f29d02d217fc",
   "metadata": {},
   "outputs": [],
   "source": [
    "# for chunk in graph.stream({\"messages\": [(\"user\", \"what's 391 + 193\")]}, config, subgraphs=True):\n",
    "#     print(chunk)\n",
    "#     print(\"\\n\")"
   ]
  },
  {
   "cell_type": "code",
   "execution_count": null,
   "id": "8a668d50-9462-4aff-b93b-a44cbacfbb44",
   "metadata": {},
   "outputs": [],
   "source": []
  }
 ],
 "metadata": {
  "kernelspec": {
   "display_name": "langgraph",
   "language": "python",
   "name": "langgraph"
  },
  "language_info": {
   "codemirror_mode": {
    "name": "ipython",
    "version": 3
   },
   "file_extension": ".py",
   "mimetype": "text/x-python",
   "name": "python",
   "nbconvert_exporter": "python",
   "pygments_lexer": "ipython3",
   "version": "3.11.9"
  }
 },
 "nbformat": 4,
 "nbformat_minor": 5
}
