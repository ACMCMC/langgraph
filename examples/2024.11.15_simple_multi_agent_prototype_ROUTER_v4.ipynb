{
 "cells": [
  {
   "cell_type": "code",
   "execution_count": 1,
   "id": "828c1d96-6940-44ed-983f-134972cd4570",
   "metadata": {},
   "outputs": [],
   "source": [
    "from langchain_openai import ChatOpenAI\n",
    "from langchain_anthropic import ChatAnthropic\n",
    "\n",
    "import os\n",
    "import getpass\n",
    "os.environ['OPENAI_API_KEY'] = \"\"\n",
    "os.environ['ANTHROPIC_API_KEY'] = \"\""
   ]
  },
  {
   "cell_type": "code",
   "execution_count": 2,
   "id": "fc99d428-67e9-45a7-b953-a6bf1ad96da8",
   "metadata": {},
   "outputs": [],
   "source": [
    "def add(a: int, b: int):\n",
    "    \"\"\"Adds two numbers\"\"\"\n",
    "    return a + b"
   ]
  },
  {
   "cell_type": "code",
   "execution_count": 3,
   "id": "8bf48bbb-8da9-4afc-bb7c-111e7fadb0f3",
   "metadata": {},
   "outputs": [],
   "source": [
    "def multiply(a: int, b: int):\n",
    "    \"\"\"Multiplies two numbers\"\"\"\n",
    "    return a * b"
   ]
  },
  {
   "cell_type": "markdown",
   "id": "f5b6ef4a-2cbb-4aee-9a37-7fd4881391cd",
   "metadata": {},
   "source": [
    "### Wrapper for a single agent that can both call tools and transfer to other agents"
   ]
  },
  {
   "cell_type": "code",
   "execution_count": 4,
   "id": "98fb7cb5-1ff4-4603-9aa1-467c3b047b60",
   "metadata": {},
   "outputs": [],
   "source": [
    "from langgraph.prebuilt.chat_agent_executor import AgentRouterState\n",
    "from langgraph.prebuilt import create_react_agent"
   ]
  },
  {
   "cell_type": "code",
   "execution_count": 5,
   "id": "96a9f030-e1b2-4355-8010-f322f76dfe26",
   "metadata": {},
   "outputs": [],
   "source": [
    "model = ChatOpenAI(model=\"gpt-4o\")"
   ]
  },
  {
   "cell_type": "code",
   "execution_count": 6,
   "id": "10133481-490b-4610-9603-62be431d6716",
   "metadata": {},
   "outputs": [],
   "source": [
    "model_anthropic = ChatAnthropic(model=\"claude-3-5-sonnet-latest\")"
   ]
  },
  {
   "cell_type": "code",
   "execution_count": 7,
   "id": "952dbd5f-f77b-4d64-92d2-cc7097c97f1a",
   "metadata": {},
   "outputs": [],
   "source": [
    "from langgraph.checkpoint.memory import MemorySaver\n",
    "from langgraph.graph import StateGraph, GraphCommand, START, END\n",
    "from typing import Literal"
   ]
  },
  {
   "cell_type": "code",
   "execution_count": 8,
   "id": "0ee88f4f-e1d7-4f91-b50b-a4878064836f",
   "metadata": {},
   "outputs": [],
   "source": [
    "from langgraph.prebuilt.handoff import create_handoff_tool, GraphCommandTool"
   ]
  },
  {
   "cell_type": "code",
   "execution_count": 9,
   "id": "6417909f-afb0-429c-ac27-ecc57fa121df",
   "metadata": {},
   "outputs": [],
   "source": [
    "from langchain_core.runnables import RunnableConfig"
   ]
  },
  {
   "cell_type": "code",
   "execution_count": 10,
   "id": "01acdf66-8fb2-4cb1-9c10-010e229fa4aa",
   "metadata": {},
   "outputs": [],
   "source": [
    "from langchain_core.messages import HumanMessage"
   ]
  },
  {
   "cell_type": "code",
   "execution_count": 11,
   "id": "fe093411-50a3-4586-8931-3861c0dbd5de",
   "metadata": {},
   "outputs": [],
   "source": [
    "from typing import Callable"
   ]
  },
  {
   "cell_type": "code",
   "execution_count": 12,
   "id": "f028c25f-cb72-4aa9-8274-287c537a6eb6",
   "metadata": {},
   "outputs": [],
   "source": [
    "# output processors\n",
    "\n",
    "def keep_last_message_as_human(state):\n",
    "    updated_state = state.copy()\n",
    "    last_message_content = updated_state[\"messages\"][-1].content\n",
    "    # TODO: how do we propagate agent name here?\n",
    "    last_message = HumanMessage(content=last_message_content)\n",
    "    updated_state[\"messages\"] = [last_message]\n",
    "    return updated_state"
   ]
  },
  {
   "cell_type": "code",
   "execution_count": 13,
   "id": "fa1892b4-1f69-4ee3-8613-26c8cb94d28c",
   "metadata": {},
   "outputs": [],
   "source": [
    "from langgraph.prebuilt.chat_agent_executor import make_agent_node, add_entrypoint_router"
   ]
  },
  {
   "cell_type": "code",
   "execution_count": 14,
   "id": "6d5ab915-2b79-4e7d-bb26-9fc4c288e505",
   "metadata": {},
   "outputs": [],
   "source": [
    "bob_tool = create_handoff_tool(\"bob\", name=\"transfer_to_bob\")\n",
    "alice_tool = create_handoff_tool(\"alice\", name=\"transfer_to_alice\")\n",
    "charlie_tool = create_handoff_tool(\"charlie\", name=\"transfer_to_charlie\")"
   ]
  },
  {
   "cell_type": "code",
   "execution_count": 15,
   "id": "c74780ec-2a1e-47a5-a39e-70a9ee55f210",
   "metadata": {},
   "outputs": [],
   "source": [
    "builder = StateGraph(AgentRouterState)\n",
    "\n",
    "alice = make_agent_node(model, [add, bob_tool], state_modifier=\"You're Alice.\", output_processor=keep_last_message_as_human)\n",
    "bob = make_agent_node(model, [multiply, alice_tool], state_modifier=\"You're Bob.\", output_processor=keep_last_message_as_human)\n",
    "\n",
    "add_entrypoint_router(builder, route_to=[(\"alice\", alice), (\"bob\", bob)], default_start_node=\"alice\")\n",
    "memory = MemorySaver()\n",
    "graph = builder.compile(checkpointer=memory)"
   ]
  },
  {
   "cell_type": "code",
   "execution_count": 16,
   "id": "61f1ee4f-606b-4b4b-821d-584a710172f9",
   "metadata": {},
   "outputs": [],
   "source": [
    "from IPython.display import display, Image"
   ]
  },
  {
   "cell_type": "code",
   "execution_count": 17,
   "id": "f3fc3279-aabf-4965-b258-7a30b9042a0d",
   "metadata": {},
   "outputs": [],
   "source": [
    "# display(Image(graph.get_graph(xray=True).draw_mermaid_png()))"
   ]
  },
  {
   "cell_type": "code",
   "execution_count": 18,
   "id": "44dafb91-e603-4190-9eaa-b904ea02b864",
   "metadata": {},
   "outputs": [],
   "source": [
    "config = {\"configurable\": {\"thread_id\": \"1\"}}"
   ]
  },
  {
   "cell_type": "code",
   "execution_count": 19,
   "id": "cc5fb965-7164-4797-b686-a97accbb0663",
   "metadata": {},
   "outputs": [
    {
     "name": "stdout",
     "output_type": "stream",
     "text": [
      "{'alice': {'messages': [HumanMessage(content=\"Transferred to 'bob'!\", additional_kwargs={}, response_metadata={}, id='1b5ab3c8-66e5-432b-b505-98e8e7e849eb')], 'node': 'bob'}}\n",
      "\n",
      "\n"
     ]
    }
   ],
   "source": [
    "for chunk in graph.stream({\"messages\": [(\"user\", \"hi! transfer me to bob\")]}, config):\n",
    "    print(chunk)\n",
    "    print(\"\\n\")"
   ]
  },
  {
   "cell_type": "code",
   "execution_count": 20,
   "id": "eef9ca85-9c25-4e89-a222-aa2423b24427",
   "metadata": {},
   "outputs": [
    {
     "name": "stdout",
     "output_type": "stream",
     "text": [
      "{'bob': {'messages': [HumanMessage(content=\"You're speaking to Bob! How can I assist you today?\", additional_kwargs={}, response_metadata={}, id='9e047a7c-474c-4fca-9810-b27d0a563478')], 'node': 'bob'}}\n",
      "\n",
      "\n"
     ]
    }
   ],
   "source": [
    "for chunk in graph.stream({\"messages\": [(\"user\", \"who am i speaking to?\")]}, config):\n",
    "    print(chunk)\n",
    "    print(\"\\n\")"
   ]
  },
  {
   "cell_type": "code",
   "execution_count": 21,
   "id": "4018a7e8-5665-403e-b1e2-1dad04090afb",
   "metadata": {},
   "outputs": [
    {
     "name": "stdout",
     "output_type": "stream",
     "text": [
      "{'bob': {'messages': [HumanMessage(content=\"I'm Bob. How can I help you today?\", additional_kwargs={}, response_metadata={}, id='c4e8fbe5-d222-4d3e-a9ce-b489495201e5')], 'node': 'bob'}}\n",
      "\n",
      "\n"
     ]
    }
   ],
   "source": [
    "for chunk in graph.stream({\"messages\": [(\"user\", \"what's your name?\")]}, config):\n",
    "    print(chunk)\n",
    "    print(\"\\n\")"
   ]
  },
  {
   "cell_type": "code",
   "execution_count": 23,
   "id": "2a2d56d8-ae6e-404d-84fb-9f2c689cd991",
   "metadata": {},
   "outputs": [
    {
     "name": "stdout",
     "output_type": "stream",
     "text": [
      "(('bob:eb9a8760-4891-179e-8428-c9851ea273e3',), {'agent': {'messages': [AIMessage(content='', additional_kwargs={'tool_calls': [{'id': 'call_fQoClZIZGaTFYje9y609f5il', 'function': {'arguments': '{\"a\":3,\"b\":14}', 'name': 'multiply'}, 'type': 'function'}], 'refusal': None}, response_metadata={'token_usage': {'completion_tokens': 17, 'prompt_tokens': 147, 'total_tokens': 164, 'completion_tokens_details': {'accepted_prediction_tokens': 0, 'audio_tokens': 0, 'reasoning_tokens': 0, 'rejected_prediction_tokens': 0}, 'prompt_tokens_details': {'audio_tokens': 0, 'cached_tokens': 0}}, 'model_name': 'gpt-4o-2024-08-06', 'system_fingerprint': 'fp_45cf54deae', 'finish_reason': 'tool_calls', 'logprobs': None}, id='run-b66b9884-63ff-41ff-aa0e-f1cd76d61545-0', tool_calls=[{'name': 'multiply', 'args': {'a': 3, 'b': 14}, 'id': 'call_fQoClZIZGaTFYje9y609f5il', 'type': 'tool_call'}], usage_metadata={'input_tokens': 147, 'output_tokens': 17, 'total_tokens': 164, 'input_token_details': {'audio': 0, 'cache_read': 0}, 'output_token_details': {'audio': 0, 'reasoning': 0}})]}})\n",
      "\n",
      "\n",
      "(('bob:eb9a8760-4891-179e-8428-c9851ea273e3',), {'tools': {'messages': [ToolMessage(content='42', name='multiply', id='f3f2f366-6c5d-4715-ae88-dce0676107cf', tool_call_id='call_fQoClZIZGaTFYje9y609f5il')]}})\n",
      "\n",
      "\n",
      "(('bob:eb9a8760-4891-179e-8428-c9851ea273e3',), {'agent': {'messages': [AIMessage(content='3 times 14 is 42.', additional_kwargs={'refusal': None}, response_metadata={'token_usage': {'completion_tokens': 9, 'prompt_tokens': 172, 'total_tokens': 181, 'completion_tokens_details': {'accepted_prediction_tokens': 0, 'audio_tokens': 0, 'reasoning_tokens': 0, 'rejected_prediction_tokens': 0}, 'prompt_tokens_details': {'audio_tokens': 0, 'cached_tokens': 0}}, 'model_name': 'gpt-4o-2024-08-06', 'system_fingerprint': 'fp_45cf54deae', 'finish_reason': 'stop', 'logprobs': None}, id='run-5fc1614c-d2bf-48d7-8fe1-86fec6af59bb-0', usage_metadata={'input_tokens': 172, 'output_tokens': 9, 'total_tokens': 181, 'input_token_details': {'audio': 0, 'cache_read': 0}, 'output_token_details': {'audio': 0, 'reasoning': 0}})]}})\n",
      "\n",
      "\n",
      "((), {'bob': {'messages': [HumanMessage(content='3 times 14 is 42.', additional_kwargs={}, response_metadata={})], 'node': 'bob'}})\n",
      "\n",
      "\n"
     ]
    }
   ],
   "source": [
    "for chunk in graph.stream({\"messages\": [(\"user\", \"what's 3 times 14?\")]}, config, subgraphs=True):\n",
    "    print(chunk)\n",
    "    print(\"\\n\")"
   ]
  },
  {
   "cell_type": "code",
   "execution_count": 24,
   "id": "1fb07133-9599-4843-bcb9-77babbc266f1",
   "metadata": {},
   "outputs": [
    {
     "name": "stdout",
     "output_type": "stream",
     "text": [
      "{'bob': {'messages': [HumanMessage(content=\"Transferred to 'alice'!\", additional_kwargs={}, response_metadata={}, id='a320b789-0cd0-420b-ba08-21c4d5758cf5')], 'node': 'alice'}}\n",
      "\n",
      "\n"
     ]
    }
   ],
   "source": [
    "for chunk in graph.stream({\"messages\": [(\"user\", \"cool, now transfer me back to alice\")]}, config):\n",
    "    print(chunk)\n",
    "    print(\"\\n\")"
   ]
  },
  {
   "cell_type": "code",
   "execution_count": 25,
   "id": "16c2a896-2d2d-4b13-aca2-80a0dd83c28d",
   "metadata": {},
   "outputs": [
    {
     "name": "stdout",
     "output_type": "stream",
     "text": [
      "(('alice:a6cbfa75-2601-a2a5-7a9e-cc53572582f8',), {'agent': {'messages': [AIMessage(content='', additional_kwargs={'tool_calls': [{'id': 'call_3CTcu5kojCkI2vEXkvnZeV5K', 'function': {'arguments': '{\"a\":4,\"b\":9}', 'name': 'add'}, 'type': 'function'}], 'refusal': None}, response_metadata={'token_usage': {'completion_tokens': 17, 'prompt_tokens': 190, 'total_tokens': 207, 'completion_tokens_details': {'accepted_prediction_tokens': 0, 'audio_tokens': 0, 'reasoning_tokens': 0, 'rejected_prediction_tokens': 0}, 'prompt_tokens_details': {'audio_tokens': 0, 'cached_tokens': 0}}, 'model_name': 'gpt-4o-2024-08-06', 'system_fingerprint': 'fp_45cf54deae', 'finish_reason': 'tool_calls', 'logprobs': None}, id='run-c8f5247f-3faa-4075-8009-4f3f9d04a2b8-0', tool_calls=[{'name': 'add', 'args': {'a': 4, 'b': 9}, 'id': 'call_3CTcu5kojCkI2vEXkvnZeV5K', 'type': 'tool_call'}], usage_metadata={'input_tokens': 190, 'output_tokens': 17, 'total_tokens': 207, 'input_token_details': {'audio': 0, 'cache_read': 0}, 'output_token_details': {'audio': 0, 'reasoning': 0}})]}})\n",
      "\n",
      "\n",
      "(('alice:a6cbfa75-2601-a2a5-7a9e-cc53572582f8',), {'tools': {'messages': [ToolMessage(content='13', name='add', id='e216353a-d330-4f1f-b11b-c862c9c417dc', tool_call_id='call_3CTcu5kojCkI2vEXkvnZeV5K')]}})\n",
      "\n",
      "\n",
      "(('alice:a6cbfa75-2601-a2a5-7a9e-cc53572582f8',), {'agent': {'messages': [AIMessage(content='4 + 9 is 13.', additional_kwargs={'refusal': None}, response_metadata={'token_usage': {'completion_tokens': 9, 'prompt_tokens': 215, 'total_tokens': 224, 'completion_tokens_details': {'accepted_prediction_tokens': 0, 'audio_tokens': 0, 'reasoning_tokens': 0, 'rejected_prediction_tokens': 0}, 'prompt_tokens_details': {'audio_tokens': 0, 'cached_tokens': 0}}, 'model_name': 'gpt-4o-2024-08-06', 'system_fingerprint': 'fp_45cf54deae', 'finish_reason': 'stop', 'logprobs': None}, id='run-2c88356f-734a-4c62-befa-ba91d9c3d8fb-0', usage_metadata={'input_tokens': 215, 'output_tokens': 9, 'total_tokens': 224, 'input_token_details': {'audio': 0, 'cache_read': 0}, 'output_token_details': {'audio': 0, 'reasoning': 0}})]}})\n",
      "\n",
      "\n",
      "((), {'alice': {'messages': [HumanMessage(content='4 + 9 is 13.', additional_kwargs={}, response_metadata={})], 'node': 'alice'}})\n",
      "\n",
      "\n"
     ]
    }
   ],
   "source": [
    "for chunk in graph.stream({\"messages\": [(\"user\", \"what's 4 + 9\")]}, config, subgraphs=True):\n",
    "    print(chunk)\n",
    "    print(\"\\n\")"
   ]
  },
  {
   "cell_type": "markdown",
   "id": "e108a6d1-e159-43c1-a879-487f33d94f8c",
   "metadata": {},
   "source": [
    "---"
   ]
  },
  {
   "cell_type": "code",
   "execution_count": 26,
   "id": "b026ec2a-0b1a-4464-a4c4-e431e3551f22",
   "metadata": {},
   "outputs": [],
   "source": [
    "builder = StateGraph(AgentRouterState)\n",
    "\n",
    "alice = make_agent_node(model, [add, bob_tool], state_modifier=\"You're Alice the cat.\", output_processor=keep_last_message_as_human)\n",
    "bob = make_agent_node(model, [multiply, alice_tool, charlie_tool], state_modifier=\"You're Bob the dog.\", output_processor=keep_last_message_as_human)\n",
    "charlie = make_agent_node(model, [bob_tool], state_modifier=\"You're Charlie the parrot.\", output_processor=keep_last_message_as_human)\n",
    "\n",
    "add_entrypoint_router(builder, route_to=[(\"alice\", alice), (\"bob\", bob), (\"charlie\", bob)], default_start_node=\"alice\")\n",
    "\n",
    "memory = MemorySaver()\n",
    "graph = builder.compile(checkpointer=memory)"
   ]
  },
  {
   "cell_type": "code",
   "execution_count": 27,
   "id": "8ecdd447-23eb-4b8e-9431-7defe660d7eb",
   "metadata": {},
   "outputs": [
    {
     "data": {
      "image/png": "[encoded data removed]",
      "text/plain": [
       "<IPython.core.display.Image object>"
      ]
     },
     "metadata": {},
     "output_type": "display_data"
    }
   ],
   "source": [
    "display(Image(graph.get_graph().draw_mermaid_png()))"
   ]
  },
  {
   "cell_type": "code",
   "execution_count": 36,
   "id": "23c0e2f4-ef0e-4f2e-b73c-ec7f9b67108d",
   "metadata": {},
   "outputs": [
    {
     "name": "stdout",
     "output_type": "stream",
     "text": [
      "{'alice': {'messages': [HumanMessage(content=\"Transferred to 'bob'!\", additional_kwargs={}, response_metadata={}, id='6139789a-4edc-4e29-bd75-56f62746cb21')], 'node': 'bob'}}\n",
      "\n",
      "\n"
     ]
    }
   ],
   "source": [
    "for chunk in graph.stream({\"messages\": [(\"user\", \"hi! transfer me to bob\")]}, config):\n",
    "    print(chunk)\n",
    "    print(\"\\n\")"
   ]
  },
  {
   "cell_type": "code",
   "execution_count": 37,
   "id": "406eb2a5-5366-4600-b1bd-1ce3fdacfe4c",
   "metadata": {},
   "outputs": [
    {
     "name": "stdout",
     "output_type": "stream",
     "text": [
      "{'bob': {'messages': [HumanMessage(content=\"Transferred to 'charlie'!\", additional_kwargs={}, response_metadata={}, id='43e15185-ea2f-49ac-95d9-ed6bfdd20948')], 'node': 'charlie'}}\n",
      "\n",
      "\n"
     ]
    }
   ],
   "source": [
    "for chunk in graph.stream({\"messages\": [(\"user\", \"transfer me to charlie\")]}, config):\n",
    "    print(chunk)\n",
    "    print(\"\\n\")"
   ]
  },
  {
   "cell_type": "code",
   "execution_count": 38,
   "id": "0f2e469c-7f7f-4f58-a1bd-fa59965018f8",
   "metadata": {},
   "outputs": [
    {
     "name": "stdout",
     "output_type": "stream",
     "text": [
      "{'charlie': {'messages': [HumanMessage(content=\"Transferred back to 'bob'! How can I assist you today?\", additional_kwargs={}, response_metadata={}, id='d169666e-a5e6-4c9c-abe0-6bc7400e3ee3')], 'node': 'charlie'}}\n",
      "\n",
      "\n"
     ]
    }
   ],
   "source": [
    "for chunk in graph.stream({\"messages\": [(\"user\", \"back to bob please\")]}, config):\n",
    "    print(chunk)\n",
    "    print(\"\\n\")"
   ]
  },
  {
   "cell_type": "markdown",
   "id": "46618927-40a7-4bf2-a20e-9377dfd3827f",
   "metadata": {},
   "source": [
    "---"
   ]
  },
  {
   "cell_type": "markdown",
   "id": "b12eb795-ac11-452b-a7e4-4056db373f0d",
   "metadata": {},
   "source": [
    "### Supervisor"
   ]
  },
  {
   "cell_type": "code",
   "execution_count": 51,
   "id": "e1a3912e-4d63-4668-b87c-05e325ff0dcb",
   "metadata": {},
   "outputs": [],
   "source": [
    "builder = StateGraph(AgentRouterState)\n",
    "\n",
    "supervisor_tool = create_handoff_tool(\"supervisor\", name=\"transfer_to_supervisor\")\n",
    "\n",
    "supervisor = make_agent_node(model_anthropic, [alice_tool, bob_tool], state_modifier=(\n",
    "    \"You're team supervisor managing Alice and Bob. \"\n",
    "    \"Alice is an expert at multiplication, Bob is great at addition. \"\n",
    "    \"To answer user question, transfer to one of them that has the requisite skills. \"\n",
    "    \"Once you have the final answer to user question, do not transfer -- respond to user directly!\"\n",
    "))\n",
    "bob = make_agent_node(model_anthropic, [add, supervisor_tool], state_modifier=\"You're Bob. Once you're done adding, you MUST call supervisor.\")\n",
    "alice = make_agent_node(model_anthropic, [multiply, supervisor_tool], state_modifier=\"You're Alice. Once you're done multiplying, you MUST call supervisor.\")\n",
    "\n",
    "add_entrypoint_router(builder, route_to=[(\"supervisor\", supervisor), (\"alice\", alice), (\"bob\", bob)], default_start_node=\"supervisor\")\n",
    "\n",
    "# this just doesn't make any sense because requires manually running every step (ie looping yourself) OR adding crazy conditional edges\n",
    "def route_from_node(state, config):\n",
    "    last_active_node = config[\"metadata\"][\"langgraph_node\"]\n",
    "    goto_node = state.get(\"node\")\n",
    "    if last_active_node == goto_node:\n",
    "        return \"__end__\"\n",
    "\n",
    "    return goto_node\n",
    "\n",
    "builder.add_conditional_edges(\"supervisor\", route_from_node)\n",
    "builder.add_conditional_edges(\"alice\", route_from_node)\n",
    "builder.add_conditional_edges(\"bob\", route_from_node)\n",
    "\n",
    "memory = MemorySaver()\n",
    "graph = builder.compile(checkpointer=memory)"
   ]
  },
  {
   "cell_type": "code",
   "execution_count": 52,
   "id": "439522c6-2abc-449f-beb6-7f3e6146965b",
   "metadata": {},
   "outputs": [
    {
     "data": {
      "image/png": "[encoded data removed]",
      "text/plain": [
       "<IPython.core.display.Image object>"
      ]
     },
     "metadata": {},
     "output_type": "display_data"
    }
   ],
   "source": [
    "display(Image(graph.get_graph().draw_mermaid_png()))"
   ]
  },
  {
   "cell_type": "code",
   "execution_count": 53,
   "id": "8ef440d3-a290-4625-8d28-f29d02d217fc",
   "metadata": {
    "scrolled": true
   },
   "outputs": [
    {
     "name": "stdout",
     "output_type": "stream",
     "text": [
      "(('supervisor:f58be38e-f1a2-bbcb-9ad6-c83c335782b1',), {'agent': {'messages': [AIMessage(content=[{'text': \"Since this is an addition problem, I'll transfer to Bob who specializes in addition.\", 'type': 'text'}, {'id': 'toolu_01FhsG3FMCLYfEaK6gr7bKG1', 'input': {}, 'name': 'transfer_to_bob', 'type': 'tool_use'}], additional_kwargs={}, response_metadata={'id': 'msg_016CohLgdQVFm4GhB3svtSc2', 'model': 'claude-3-5-sonnet-20241022', 'stop_reason': 'tool_use', 'stop_sequence': None, 'usage': {'input_tokens': 481, 'output_tokens': 57}}, id='run-7f647901-80d7-4de6-b8d8-4e5feff62377-0', tool_calls=[{'name': 'transfer_to_bob', 'args': {}, 'id': 'toolu_01FhsG3FMCLYfEaK6gr7bKG1', 'type': 'tool_call'}], usage_metadata={'input_tokens': 481, 'output_tokens': 57, 'total_tokens': 538, 'input_token_details': {}})]}})\n",
      "\n",
      "\n",
      "(('supervisor:f58be38e-f1a2-bbcb-9ad6-c83c335782b1',), {'tools': {'messages': [ToolMessage(content=\"Transferred to 'bob'!\", name='transfer_to_bob', id='b34f4a63-80c6-4a93-8aa0-ca64e7cf6457', tool_call_id='toolu_01FhsG3FMCLYfEaK6gr7bKG1', artifact=Command(goto='bob'))]}})\n",
      "\n",
      "\n",
      "((), {'supervisor': {'messages': [HumanMessage(content=\"what's 391 + 193\", additional_kwargs={}, response_metadata={}, id='fe42043c-b1d8-4ce2-b937-3245ab651ae2'), AIMessage(content=[{'text': \"Since this is an addition problem, I'll transfer to Bob who specializes in addition.\", 'type': 'text'}, {'id': 'toolu_01FhsG3FMCLYfEaK6gr7bKG1', 'input': {}, 'name': 'transfer_to_bob', 'type': 'tool_use'}], additional_kwargs={}, response_metadata={'id': 'msg_016CohLgdQVFm4GhB3svtSc2', 'model': 'claude-3-5-sonnet-20241022', 'stop_reason': 'tool_use', 'stop_sequence': None, 'usage': {'input_tokens': 481, 'output_tokens': 57}}, id='run-7f647901-80d7-4de6-b8d8-4e5feff62377-0', tool_calls=[{'name': 'transfer_to_bob', 'args': {}, 'id': 'toolu_01FhsG3FMCLYfEaK6gr7bKG1', 'type': 'tool_call'}], usage_metadata={'input_tokens': 481, 'output_tokens': 57, 'total_tokens': 538, 'input_token_details': {}}), ToolMessage(content=\"Transferred to 'bob'!\", name='transfer_to_bob', id='b34f4a63-80c6-4a93-8aa0-ca64e7cf6457', tool_call_id='toolu_01FhsG3FMCLYfEaK6gr7bKG1', artifact=Command(goto='bob'))], 'node': 'bob'}})\n",
      "\n",
      "\n",
      "(('bob:384eb398-da20-273a-e8bd-9bda1d695c0d',), {'agent': {'messages': [AIMessage(content=[{'text': \"Hi, I'm Bob! I'll help you add those numbers together.\", 'type': 'text'}, {'id': 'toolu_01MHTk8njtuMpCnsRSCbkB2r', 'input': {'a': 391, 'b': 193}, 'name': 'add', 'type': 'tool_use'}], additional_kwargs={}, response_metadata={'id': 'msg_01TuTE7Z8YhnfNHyA3V4FcGZ', 'model': 'claude-3-5-sonnet-20241022', 'stop_reason': 'tool_use', 'stop_sequence': None, 'usage': {'input_tokens': 530, 'output_tokens': 85}}, id='run-29d87aab-357c-4c8d-80ec-a82fe65c299b-0', tool_calls=[{'name': 'add', 'args': {'a': 391, 'b': 193}, 'id': 'toolu_01MHTk8njtuMpCnsRSCbkB2r', 'type': 'tool_call'}], usage_metadata={'input_tokens': 530, 'output_tokens': 85, 'total_tokens': 615, 'input_token_details': {}})]}})\n",
      "\n",
      "\n",
      "(('bob:384eb398-da20-273a-e8bd-9bda1d695c0d',), {'tools': {'messages': [ToolMessage(content='584', name='add', id='f24733ba-07b8-4cd6-96f8-df7be97e6214', tool_call_id='toolu_01MHTk8njtuMpCnsRSCbkB2r')]}})\n",
      "\n",
      "\n",
      "(('bob:384eb398-da20-273a-e8bd-9bda1d695c0d',), {'agent': {'messages': [AIMessage(content=[{'text': \"391 + 193 = 584\\n\\nNow that I'm done with the addition, I'll transfer you to the supervisor.\", 'type': 'text'}, {'id': 'toolu_018KtiDTMcNqTEot7FTfMSmb', 'input': {}, 'name': 'transfer_to_supervisor', 'type': 'tool_use'}], additional_kwargs={}, response_metadata={'id': 'msg_01NANt3QDDRSYaKS7pBgHuF3', 'model': 'claude-3-5-sonnet-20241022', 'stop_reason': 'tool_use', 'stop_sequence': None, 'usage': {'input_tokens': 627, 'output_tokens': 67}}, id='run-77aebefc-7b6a-4938-874e-21d4f850da85-0', tool_calls=[{'name': 'transfer_to_supervisor', 'args': {}, 'id': 'toolu_018KtiDTMcNqTEot7FTfMSmb', 'type': 'tool_call'}], usage_metadata={'input_tokens': 627, 'output_tokens': 67, 'total_tokens': 694, 'input_token_details': {}})]}})\n",
      "\n",
      "\n",
      "(('bob:384eb398-da20-273a-e8bd-9bda1d695c0d',), {'tools': {'messages': [ToolMessage(content=\"Transferred to 'supervisor'!\", name='transfer_to_supervisor', id='1d223ccf-fdd5-43a7-a743-a6fdd82354bb', tool_call_id='toolu_018KtiDTMcNqTEot7FTfMSmb', artifact=Command(goto='supervisor'))]}})\n",
      "\n",
      "\n",
      "((), {'bob': {'messages': [HumanMessage(content=\"what's 391 + 193\", additional_kwargs={}, response_metadata={}, id='fe42043c-b1d8-4ce2-b937-3245ab651ae2'), AIMessage(content=[{'text': \"Since this is an addition problem, I'll transfer to Bob who specializes in addition.\", 'type': 'text'}, {'id': 'toolu_01FhsG3FMCLYfEaK6gr7bKG1', 'input': {}, 'name': 'transfer_to_bob', 'type': 'tool_use'}], additional_kwargs={}, response_metadata={'id': 'msg_016CohLgdQVFm4GhB3svtSc2', 'model': 'claude-3-5-sonnet-20241022', 'stop_reason': 'tool_use', 'stop_sequence': None, 'usage': {'input_tokens': 481, 'output_tokens': 57}}, id='run-7f647901-80d7-4de6-b8d8-4e5feff62377-0', tool_calls=[{'name': 'transfer_to_bob', 'args': {}, 'id': 'toolu_01FhsG3FMCLYfEaK6gr7bKG1', 'type': 'tool_call'}], usage_metadata={'input_tokens': 481, 'output_tokens': 57, 'total_tokens': 538, 'input_token_details': {}}), ToolMessage(content=\"Transferred to 'bob'!\", name='transfer_to_bob', id='b34f4a63-80c6-4a93-8aa0-ca64e7cf6457', tool_call_id='toolu_01FhsG3FMCLYfEaK6gr7bKG1', artifact=Command(goto='bob')), AIMessage(content=[{'text': \"Hi, I'm Bob! I'll help you add those numbers together.\", 'type': 'text'}, {'id': 'toolu_01MHTk8njtuMpCnsRSCbkB2r', 'input': {'a': 391, 'b': 193}, 'name': 'add', 'type': 'tool_use'}], additional_kwargs={}, response_metadata={'id': 'msg_01TuTE7Z8YhnfNHyA3V4FcGZ', 'model': 'claude-3-5-sonnet-20241022', 'stop_reason': 'tool_use', 'stop_sequence': None, 'usage': {'input_tokens': 530, 'output_tokens': 85}}, id='run-29d87aab-357c-4c8d-80ec-a82fe65c299b-0', tool_calls=[{'name': 'add', 'args': {'a': 391, 'b': 193}, 'id': 'toolu_01MHTk8njtuMpCnsRSCbkB2r', 'type': 'tool_call'}], usage_metadata={'input_tokens': 530, 'output_tokens': 85, 'total_tokens': 615, 'input_token_details': {}}), ToolMessage(content='584', name='add', id='f24733ba-07b8-4cd6-96f8-df7be97e6214', tool_call_id='toolu_01MHTk8njtuMpCnsRSCbkB2r'), AIMessage(content=[{'text': \"391 + 193 = 584\\n\\nNow that I'm done with the addition, I'll transfer you to the supervisor.\", 'type': 'text'}, {'id': 'toolu_018KtiDTMcNqTEot7FTfMSmb', 'input': {}, 'name': 'transfer_to_supervisor', 'type': 'tool_use'}], additional_kwargs={}, response_metadata={'id': 'msg_01NANt3QDDRSYaKS7pBgHuF3', 'model': 'claude-3-5-sonnet-20241022', 'stop_reason': 'tool_use', 'stop_sequence': None, 'usage': {'input_tokens': 627, 'output_tokens': 67}}, id='run-77aebefc-7b6a-4938-874e-21d4f850da85-0', tool_calls=[{'name': 'transfer_to_supervisor', 'args': {}, 'id': 'toolu_018KtiDTMcNqTEot7FTfMSmb', 'type': 'tool_call'}], usage_metadata={'input_tokens': 627, 'output_tokens': 67, 'total_tokens': 694, 'input_token_details': {}}), ToolMessage(content=\"Transferred to 'supervisor'!\", name='transfer_to_supervisor', id='1d223ccf-fdd5-43a7-a743-a6fdd82354bb', tool_call_id='toolu_018KtiDTMcNqTEot7FTfMSmb', artifact=Command(goto='supervisor'))], 'node': 'supervisor'}})\n",
      "\n",
      "\n",
      "(('supervisor:171e7a48-ec61-1003-ca52-b47069458631',), {'agent': {'messages': [AIMessage(content='The answer to your addition problem is 584.', additional_kwargs={}, response_metadata={'id': 'msg_019d4AUeHWcqKLCvUNXDaBw9', 'model': 'claude-3-5-sonnet-20241022', 'stop_reason': 'end_turn', 'stop_sequence': None, 'usage': {'input_tokens': 738, 'output_tokens': 14}}, id='run-69d6b951-1b4d-43eb-96d8-8b2c053a51ab-0', usage_metadata={'input_tokens': 738, 'output_tokens': 14, 'total_tokens': 752, 'input_token_details': {}})]}})\n",
      "\n",
      "\n",
      "((), {'supervisor': {'messages': [HumanMessage(content=\"what's 391 + 193\", additional_kwargs={}, response_metadata={}, id='fe42043c-b1d8-4ce2-b937-3245ab651ae2'), AIMessage(content=[{'text': \"Since this is an addition problem, I'll transfer to Bob who specializes in addition.\", 'type': 'text'}, {'id': 'toolu_01FhsG3FMCLYfEaK6gr7bKG1', 'input': {}, 'name': 'transfer_to_bob', 'type': 'tool_use'}], additional_kwargs={}, response_metadata={'id': 'msg_016CohLgdQVFm4GhB3svtSc2', 'model': 'claude-3-5-sonnet-20241022', 'stop_reason': 'tool_use', 'stop_sequence': None, 'usage': {'input_tokens': 481, 'output_tokens': 57}}, id='run-7f647901-80d7-4de6-b8d8-4e5feff62377-0', tool_calls=[{'name': 'transfer_to_bob', 'args': {}, 'id': 'toolu_01FhsG3FMCLYfEaK6gr7bKG1', 'type': 'tool_call'}], usage_metadata={'input_tokens': 481, 'output_tokens': 57, 'total_tokens': 538, 'input_token_details': {}}), ToolMessage(content=\"Transferred to 'bob'!\", name='transfer_to_bob', id='b34f4a63-80c6-4a93-8aa0-ca64e7cf6457', tool_call_id='toolu_01FhsG3FMCLYfEaK6gr7bKG1', artifact=Command(goto='bob')), AIMessage(content=[{'text': \"Hi, I'm Bob! I'll help you add those numbers together.\", 'type': 'text'}, {'id': 'toolu_01MHTk8njtuMpCnsRSCbkB2r', 'input': {'a': 391, 'b': 193}, 'name': 'add', 'type': 'tool_use'}], additional_kwargs={}, response_metadata={'id': 'msg_01TuTE7Z8YhnfNHyA3V4FcGZ', 'model': 'claude-3-5-sonnet-20241022', 'stop_reason': 'tool_use', 'stop_sequence': None, 'usage': {'input_tokens': 530, 'output_tokens': 85}}, id='run-29d87aab-357c-4c8d-80ec-a82fe65c299b-0', tool_calls=[{'name': 'add', 'args': {'a': 391, 'b': 193}, 'id': 'toolu_01MHTk8njtuMpCnsRSCbkB2r', 'type': 'tool_call'}], usage_metadata={'input_tokens': 530, 'output_tokens': 85, 'total_tokens': 615, 'input_token_details': {}}), ToolMessage(content='584', name='add', id='f24733ba-07b8-4cd6-96f8-df7be97e6214', tool_call_id='toolu_01MHTk8njtuMpCnsRSCbkB2r'), AIMessage(content=[{'text': \"391 + 193 = 584\\n\\nNow that I'm done with the addition, I'll transfer you to the supervisor.\", 'type': 'text'}, {'id': 'toolu_018KtiDTMcNqTEot7FTfMSmb', 'input': {}, 'name': 'transfer_to_supervisor', 'type': 'tool_use'}], additional_kwargs={}, response_metadata={'id': 'msg_01NANt3QDDRSYaKS7pBgHuF3', 'model': 'claude-3-5-sonnet-20241022', 'stop_reason': 'tool_use', 'stop_sequence': None, 'usage': {'input_tokens': 627, 'output_tokens': 67}}, id='run-77aebefc-7b6a-4938-874e-21d4f850da85-0', tool_calls=[{'name': 'transfer_to_supervisor', 'args': {}, 'id': 'toolu_018KtiDTMcNqTEot7FTfMSmb', 'type': 'tool_call'}], usage_metadata={'input_tokens': 627, 'output_tokens': 67, 'total_tokens': 694, 'input_token_details': {}}), ToolMessage(content=\"Transferred to 'supervisor'!\", name='transfer_to_supervisor', id='1d223ccf-fdd5-43a7-a743-a6fdd82354bb', tool_call_id='toolu_018KtiDTMcNqTEot7FTfMSmb', artifact=Command(goto='supervisor')), AIMessage(content='The answer to your addition problem is 584.', additional_kwargs={}, response_metadata={'id': 'msg_019d4AUeHWcqKLCvUNXDaBw9', 'model': 'claude-3-5-sonnet-20241022', 'stop_reason': 'end_turn', 'stop_sequence': None, 'usage': {'input_tokens': 738, 'output_tokens': 14}}, id='run-69d6b951-1b4d-43eb-96d8-8b2c053a51ab-0', usage_metadata={'input_tokens': 738, 'output_tokens': 14, 'total_tokens': 752, 'input_token_details': {}})], 'node': 'supervisor'}})\n",
      "\n",
      "\n"
     ]
    }
   ],
   "source": [
    "for chunk in graph.stream({\"messages\": [(\"user\", \"what's 391 + 193\")]}, config, subgraphs=True):\n",
    "    print(chunk)\n",
    "    print(\"\\n\")"
   ]
  },
  {
   "cell_type": "code",
   "execution_count": 54,
   "id": "66efda16-8265-4868-a336-783ea34bc25e",
   "metadata": {},
   "outputs": [],
   "source": [
    "# this would be needed if we're running step-by-step w/o conditional edges\n",
    "\n",
    "# for chunk in graph.stream({\"messages\": []}, config, subgraphs=True):\n",
    "#     print(chunk)\n",
    "#     print(\"\\n\")"
   ]
  },
  {
   "cell_type": "code",
   "execution_count": 55,
   "id": "83ae1259-0848-4fe0-a190-94ecfb557569",
   "metadata": {},
   "outputs": [
    {
     "data": {
      "text/plain": [
       "[HumanMessage(content=\"what's 391 + 193\", additional_kwargs={}, response_metadata={}, id='fe42043c-b1d8-4ce2-b937-3245ab651ae2'),\n",
       " AIMessage(content=[{'text': \"Since this is an addition problem, I'll transfer to Bob who specializes in addition.\", 'type': 'text'}, {'id': 'toolu_01FhsG3FMCLYfEaK6gr7bKG1', 'input': {}, 'name': 'transfer_to_bob', 'type': 'tool_use'}], additional_kwargs={}, response_metadata={'id': 'msg_016CohLgdQVFm4GhB3svtSc2', 'model': 'claude-3-5-sonnet-20241022', 'stop_reason': 'tool_use', 'stop_sequence': None, 'usage': {'input_tokens': 481, 'output_tokens': 57}}, id='run-7f647901-80d7-4de6-b8d8-4e5feff62377-0', tool_calls=[{'name': 'transfer_to_bob', 'args': {}, 'id': 'toolu_01FhsG3FMCLYfEaK6gr7bKG1', 'type': 'tool_call'}], usage_metadata={'input_tokens': 481, 'output_tokens': 57, 'total_tokens': 538, 'input_token_details': {}}),\n",
       " ToolMessage(content=\"Transferred to 'bob'!\", name='transfer_to_bob', id='b34f4a63-80c6-4a93-8aa0-ca64e7cf6457', tool_call_id='toolu_01FhsG3FMCLYfEaK6gr7bKG1', artifact={'update': None, 'send': [], 'resume': None, 'goto': 'bob'}),\n",
       " AIMessage(content=[{'text': \"Hi, I'm Bob! I'll help you add those numbers together.\", 'type': 'text'}, {'id': 'toolu_01MHTk8njtuMpCnsRSCbkB2r', 'input': {'a': 391, 'b': 193}, 'name': 'add', 'type': 'tool_use'}], additional_kwargs={}, response_metadata={'id': 'msg_01TuTE7Z8YhnfNHyA3V4FcGZ', 'model': 'claude-3-5-sonnet-20241022', 'stop_reason': 'tool_use', 'stop_sequence': None, 'usage': {'input_tokens': 530, 'output_tokens': 85}}, id='run-29d87aab-357c-4c8d-80ec-a82fe65c299b-0', tool_calls=[{'name': 'add', 'args': {'a': 391, 'b': 193}, 'id': 'toolu_01MHTk8njtuMpCnsRSCbkB2r', 'type': 'tool_call'}], usage_metadata={'input_tokens': 530, 'output_tokens': 85, 'total_tokens': 615, 'input_token_details': {}}),\n",
       " ToolMessage(content='584', name='add', id='f24733ba-07b8-4cd6-96f8-df7be97e6214', tool_call_id='toolu_01MHTk8njtuMpCnsRSCbkB2r'),\n",
       " AIMessage(content=[{'text': \"391 + 193 = 584\\n\\nNow that I'm done with the addition, I'll transfer you to the supervisor.\", 'type': 'text'}, {'id': 'toolu_018KtiDTMcNqTEot7FTfMSmb', 'input': {}, 'name': 'transfer_to_supervisor', 'type': 'tool_use'}], additional_kwargs={}, response_metadata={'id': 'msg_01NANt3QDDRSYaKS7pBgHuF3', 'model': 'claude-3-5-sonnet-20241022', 'stop_reason': 'tool_use', 'stop_sequence': None, 'usage': {'input_tokens': 627, 'output_tokens': 67}}, id='run-77aebefc-7b6a-4938-874e-21d4f850da85-0', tool_calls=[{'name': 'transfer_to_supervisor', 'args': {}, 'id': 'toolu_018KtiDTMcNqTEot7FTfMSmb', 'type': 'tool_call'}], usage_metadata={'input_tokens': 627, 'output_tokens': 67, 'total_tokens': 694, 'input_token_details': {}}),\n",
       " ToolMessage(content=\"Transferred to 'supervisor'!\", name='transfer_to_supervisor', id='1d223ccf-fdd5-43a7-a743-a6fdd82354bb', tool_call_id='toolu_018KtiDTMcNqTEot7FTfMSmb', artifact={'update': None, 'send': [], 'resume': None, 'goto': 'supervisor'}),\n",
       " AIMessage(content='The answer to your addition problem is 584.', additional_kwargs={}, response_metadata={'id': 'msg_019d4AUeHWcqKLCvUNXDaBw9', 'model': 'claude-3-5-sonnet-20241022', 'stop_reason': 'end_turn', 'stop_sequence': None, 'usage': {'input_tokens': 738, 'output_tokens': 14}}, id='run-69d6b951-1b4d-43eb-96d8-8b2c053a51ab-0', usage_metadata={'input_tokens': 738, 'output_tokens': 14, 'total_tokens': 752, 'input_token_details': {}})]"
      ]
     },
     "execution_count": 55,
     "metadata": {},
     "output_type": "execute_result"
    }
   ],
   "source": [
    "graph.get_state(config).values[\"messages\"]"
   ]
  },
  {
   "cell_type": "code",
   "execution_count": 56,
   "id": "ced6d25d-545e-4573-9d08-749ba28d6720",
   "metadata": {},
   "outputs": [
    {
     "data": {
      "text/plain": [
       "AIMessage(content='The answer to your addition problem is 584.', additional_kwargs={}, response_metadata={'id': 'msg_019d4AUeHWcqKLCvUNXDaBw9', 'model': 'claude-3-5-sonnet-20241022', 'stop_reason': 'end_turn', 'stop_sequence': None, 'usage': {'input_tokens': 738, 'output_tokens': 14}}, id='run-69d6b951-1b4d-43eb-96d8-8b2c053a51ab-0', usage_metadata={'input_tokens': 738, 'output_tokens': 14, 'total_tokens': 752, 'input_token_details': {}})"
      ]
     },
     "execution_count": 56,
     "metadata": {},
     "output_type": "execute_result"
    }
   ],
   "source": [
    "graph.get_state(config).values[\"messages\"][-1]"
   ]
  },
  {
   "cell_type": "markdown",
   "id": "4fba110d-dfa1-44d1-9441-1dfa3a498520",
   "metadata": {},
   "source": [
    "---"
   ]
  },
  {
   "cell_type": "markdown",
   "id": "e9d0bc87-d23b-4b0b-90be-ba7b55a8b672",
   "metadata": {},
   "source": [
    "### Network"
   ]
  },
  {
   "cell_type": "code",
   "execution_count": 64,
   "id": "fe7547c4-d919-44bc-9058-e131df6ddcb7",
   "metadata": {},
   "outputs": [],
   "source": [
    "alice = make_agent_node(model_anthropic, [multiply, bob_tool], state_modifier=\"You're Alice, a multiplication expert. You can ask Bob for help with addition.\")\n",
    "bob = make_agent_node(model_anthropic, [add, alice_tool], state_modifier=\"You're Bob, an addition expert. You can ask Alice for help with muiltiplication.\")\n",
    "\n",
    "builder = StateGraph(AgentRouterState)\n",
    "add_entrypoint_router(builder, route_to=[(\"alice\", alice), (\"bob\", bob)], default_start_node=\"alice\")\n",
    "memory = MemorySaver()\n",
    "graph = builder.compile(checkpointer=memory)"
   ]
  },
  {
   "cell_type": "code",
   "execution_count": 65,
   "id": "93c7b8fe-355a-4af3-af2d-09a8ab6dd32a",
   "metadata": {},
   "outputs": [],
   "source": [
    "config = {\"configurable\": {\"thread_id\": \"1\"}}"
   ]
  },
  {
   "cell_type": "code",
   "execution_count": 66,
   "id": "3327d9f9-1d93-40b7-ba95-d0552b91a4cb",
   "metadata": {},
   "outputs": [
    {
     "name": "stdout",
     "output_type": "stream",
     "text": [
      "(('alice:7bab2927-85e4-934a-d98b-88603572db69',), {'agent': {'messages': [AIMessage(content=[{'text': \"Since I'm Alice and I specialize in multiplication, not addition, I'll need to transfer this question to Bob who can help with addition.\", 'type': 'text'}, {'id': 'toolu_01BvELp3WNftHMCxaATP3Gkq', 'input': {}, 'name': 'transfer_to_bob', 'type': 'tool_use'}], additional_kwargs={}, response_metadata={'id': 'msg_01FC32BFRbjTSWWa28KtF2i6', 'model': 'claude-3-5-sonnet-20241022', 'stop_reason': 'tool_use', 'stop_sequence': None, 'usage': {'input_tokens': 457, 'output_tokens': 68}}, id='run-01f121eb-e0c9-48a9-8b6c-a0a4e3329aaf-0', tool_calls=[{'name': 'transfer_to_bob', 'args': {}, 'id': 'toolu_01BvELp3WNftHMCxaATP3Gkq', 'type': 'tool_call'}], usage_metadata={'input_tokens': 457, 'output_tokens': 68, 'total_tokens': 525, 'input_token_details': {}})]}})\n",
      "(('alice:7bab2927-85e4-934a-d98b-88603572db69',), {'tools': {'messages': [ToolMessage(content=\"Transferred to 'bob'!\", name='transfer_to_bob', id='d179d756-6f41-4cda-9f3c-36717ab3f001', tool_call_id='toolu_01BvELp3WNftHMCxaATP3Gkq', artifact=Command(goto='bob'))]}})\n",
      "((), {'alice': {'messages': [HumanMessage(content=\"what's 2 + 3\", additional_kwargs={}, response_metadata={}, id='df3ea9d6-7bd8-490e-a8c9-ab252c2314d2'), AIMessage(content=[{'text': \"Since I'm Alice and I specialize in multiplication, not addition, I'll need to transfer this question to Bob who can help with addition.\", 'type': 'text'}, {'id': 'toolu_01BvELp3WNftHMCxaATP3Gkq', 'input': {}, 'name': 'transfer_to_bob', 'type': 'tool_use'}], additional_kwargs={}, response_metadata={'id': 'msg_01FC32BFRbjTSWWa28KtF2i6', 'model': 'claude-3-5-sonnet-20241022', 'stop_reason': 'tool_use', 'stop_sequence': None, 'usage': {'input_tokens': 457, 'output_tokens': 68}}, id='run-01f121eb-e0c9-48a9-8b6c-a0a4e3329aaf-0', tool_calls=[{'name': 'transfer_to_bob', 'args': {}, 'id': 'toolu_01BvELp3WNftHMCxaATP3Gkq', 'type': 'tool_call'}], usage_metadata={'input_tokens': 457, 'output_tokens': 68, 'total_tokens': 525, 'input_token_details': {}}), ToolMessage(content=\"Transferred to 'bob'!\", name='transfer_to_bob', id='d179d756-6f41-4cda-9f3c-36717ab3f001', tool_call_id='toolu_01BvELp3WNftHMCxaATP3Gkq', artifact=Command(goto='bob'))], 'node': 'bob'}})\n"
     ]
    }
   ],
   "source": [
    "for chunk in graph.stream({\"messages\": [(\"user\", \"what's 2 + 3\")]}, config, subgraphs=True):\n",
    "    print(chunk)"
   ]
  },
  {
   "cell_type": "code",
   "execution_count": 67,
   "id": "e19b1f7a-26f6-45b0-8b1e-1495351f7e80",
   "metadata": {},
   "outputs": [
    {
     "name": "stdout",
     "output_type": "stream",
     "text": [
      "(('bob:5f9c1b93-55b7-7e17-7df4-6e73a0141c10',), {'agent': {'messages': [AIMessage(content=[{'text': \"Hi! This is Bob. I'm an addition expert and I'll help you with adding 2 + 3.\", 'type': 'text'}, {'id': 'toolu_01FtbxY4AEok86vBWuFFuJmR', 'input': {'a': 2, 'b': 3}, 'name': 'add', 'type': 'tool_use'}], additional_kwargs={}, response_metadata={'id': 'msg_01MssqdAKEo8ZkHAuVSCtSUN', 'model': 'claude-3-5-sonnet-20241022', 'stop_reason': 'tool_use', 'stop_sequence': None, 'usage': {'input_tokens': 545, 'output_tokens': 95}}, id='run-4c58aebb-25aa-4af0-8cfb-f8571a426d76-0', tool_calls=[{'name': 'add', 'args': {'a': 2, 'b': 3}, 'id': 'toolu_01FtbxY4AEok86vBWuFFuJmR', 'type': 'tool_call'}], usage_metadata={'input_tokens': 545, 'output_tokens': 95, 'total_tokens': 640, 'input_token_details': {}})]}})\n",
      "(('bob:5f9c1b93-55b7-7e17-7df4-6e73a0141c10',), {'tools': {'messages': [ToolMessage(content='5', name='add', id='ca20a888-dcd4-4856-ad41-2ee931905532', tool_call_id='toolu_01FtbxY4AEok86vBWuFFuJmR')]}})\n",
      "(('bob:5f9c1b93-55b7-7e17-7df4-6e73a0141c10',), {'agent': {'messages': [AIMessage(content='The sum of 2 + 3 = 5.', additional_kwargs={}, response_metadata={'id': 'msg_01Kzc2SYknygkSgT8dLYQFyB', 'model': 'claude-3-5-sonnet-20241022', 'stop_reason': 'end_turn', 'stop_sequence': None, 'usage': {'input_tokens': 652, 'output_tokens': 18}}, id='run-3a80a753-e23b-4926-9aaf-034b7ab2dc1b-0', usage_metadata={'input_tokens': 652, 'output_tokens': 18, 'total_tokens': 670, 'input_token_details': {}})]}})\n",
      "((), {'bob': {'messages': [HumanMessage(content=\"what's 2 + 3\", additional_kwargs={}, response_metadata={}, id='df3ea9d6-7bd8-490e-a8c9-ab252c2314d2'), AIMessage(content=[{'text': \"Since I'm Alice and I specialize in multiplication, not addition, I'll need to transfer this question to Bob who can help with addition.\", 'type': 'text'}, {'id': 'toolu_01BvELp3WNftHMCxaATP3Gkq', 'input': {}, 'name': 'transfer_to_bob', 'type': 'tool_use'}], additional_kwargs={}, response_metadata={'id': 'msg_01FC32BFRbjTSWWa28KtF2i6', 'model': 'claude-3-5-sonnet-20241022', 'stop_reason': 'tool_use', 'stop_sequence': None, 'usage': {'input_tokens': 457, 'output_tokens': 68}}, id='run-01f121eb-e0c9-48a9-8b6c-a0a4e3329aaf-0', tool_calls=[{'name': 'transfer_to_bob', 'args': {}, 'id': 'toolu_01BvELp3WNftHMCxaATP3Gkq', 'type': 'tool_call'}], usage_metadata={'input_tokens': 457, 'output_tokens': 68, 'total_tokens': 525, 'input_token_details': {}}), ToolMessage(content=\"Transferred to 'bob'!\", name='transfer_to_bob', id='d179d756-6f41-4cda-9f3c-36717ab3f001', tool_call_id='toolu_01BvELp3WNftHMCxaATP3Gkq', artifact={'update': None, 'send': [], 'resume': None, 'goto': 'bob'}), AIMessage(content=[{'text': \"Hi! This is Bob. I'm an addition expert and I'll help you with adding 2 + 3.\", 'type': 'text'}, {'id': 'toolu_01FtbxY4AEok86vBWuFFuJmR', 'input': {'a': 2, 'b': 3}, 'name': 'add', 'type': 'tool_use'}], additional_kwargs={}, response_metadata={'id': 'msg_01MssqdAKEo8ZkHAuVSCtSUN', 'model': 'claude-3-5-sonnet-20241022', 'stop_reason': 'tool_use', 'stop_sequence': None, 'usage': {'input_tokens': 545, 'output_tokens': 95}}, id='run-4c58aebb-25aa-4af0-8cfb-f8571a426d76-0', tool_calls=[{'name': 'add', 'args': {'a': 2, 'b': 3}, 'id': 'toolu_01FtbxY4AEok86vBWuFFuJmR', 'type': 'tool_call'}], usage_metadata={'input_tokens': 545, 'output_tokens': 95, 'total_tokens': 640, 'input_token_details': {}}), ToolMessage(content='5', name='add', id='ca20a888-dcd4-4856-ad41-2ee931905532', tool_call_id='toolu_01FtbxY4AEok86vBWuFFuJmR'), AIMessage(content='The sum of 2 + 3 = 5.', additional_kwargs={}, response_metadata={'id': 'msg_01Kzc2SYknygkSgT8dLYQFyB', 'model': 'claude-3-5-sonnet-20241022', 'stop_reason': 'end_turn', 'stop_sequence': None, 'usage': {'input_tokens': 652, 'output_tokens': 18}}, id='run-3a80a753-e23b-4926-9aaf-034b7ab2dc1b-0', usage_metadata={'input_tokens': 652, 'output_tokens': 18, 'total_tokens': 670, 'input_token_details': {}})], 'node': 'bob'}})\n"
     ]
    }
   ],
   "source": [
    "# extra call\n",
    "for chunk in graph.stream({\"messages\": []}, config, subgraphs=True):\n",
    "    print(chunk)"
   ]
  },
  {
   "cell_type": "code",
   "execution_count": 68,
   "id": "4ca81767-4ac7-4486-a32d-6621fee26106",
   "metadata": {},
   "outputs": [
    {
     "name": "stdout",
     "output_type": "stream",
     "text": [
      "(('bob:fd9a8ff9-2f3e-9e0e-62c6-e6a81d552ee3',), {'agent': {'messages': [AIMessage(content=[{'text': \"Since I'm Bob and I specialize in addition, not multiplication, I'll need to transfer this to Alice who can help with multiplication.\", 'type': 'text'}, {'id': 'toolu_01CJ8iedUZVzAe2KhSTQxBuK', 'input': {}, 'name': 'transfer_to_alice', 'type': 'tool_use'}], additional_kwargs={}, response_metadata={'id': 'msg_01JcEHahcMCxnahWmpS2K8TM', 'model': 'claude-3-5-sonnet-20241022', 'stop_reason': 'tool_use', 'stop_sequence': None, 'usage': {'input_tokens': 679, 'output_tokens': 67}}, id='run-53676875-68a0-4325-8b54-a7a675592641-0', tool_calls=[{'name': 'transfer_to_alice', 'args': {}, 'id': 'toolu_01CJ8iedUZVzAe2KhSTQxBuK', 'type': 'tool_call'}], usage_metadata={'input_tokens': 679, 'output_tokens': 67, 'total_tokens': 746, 'input_token_details': {}})]}})\n",
      "(('bob:fd9a8ff9-2f3e-9e0e-62c6-e6a81d552ee3',), {'tools': {'messages': [ToolMessage(content=\"Transferred to 'alice'!\", name='transfer_to_alice', id='2dfcdaf3-9208-4e11-9d74-ccffe0acd0c7', tool_call_id='toolu_01CJ8iedUZVzAe2KhSTQxBuK', artifact=Command(goto='alice'))]}})\n",
      "((), {'bob': {'messages': [HumanMessage(content=\"what's 2 + 3\", additional_kwargs={}, response_metadata={}, id='df3ea9d6-7bd8-490e-a8c9-ab252c2314d2'), AIMessage(content=[{'text': \"Since I'm Alice and I specialize in multiplication, not addition, I'll need to transfer this question to Bob who can help with addition.\", 'type': 'text'}, {'id': 'toolu_01BvELp3WNftHMCxaATP3Gkq', 'input': {}, 'name': 'transfer_to_bob', 'type': 'tool_use'}], additional_kwargs={}, response_metadata={'id': 'msg_01FC32BFRbjTSWWa28KtF2i6', 'model': 'claude-3-5-sonnet-20241022', 'stop_reason': 'tool_use', 'stop_sequence': None, 'usage': {'input_tokens': 457, 'output_tokens': 68}}, id='run-01f121eb-e0c9-48a9-8b6c-a0a4e3329aaf-0', tool_calls=[{'name': 'transfer_to_bob', 'args': {}, 'id': 'toolu_01BvELp3WNftHMCxaATP3Gkq', 'type': 'tool_call'}], usage_metadata={'input_tokens': 457, 'output_tokens': 68, 'total_tokens': 525, 'input_token_details': {}}), ToolMessage(content=\"Transferred to 'bob'!\", name='transfer_to_bob', id='d179d756-6f41-4cda-9f3c-36717ab3f001', tool_call_id='toolu_01BvELp3WNftHMCxaATP3Gkq', artifact={'update': None, 'send': [], 'resume': None, 'goto': 'bob'}), AIMessage(content=[{'text': \"Hi! This is Bob. I'm an addition expert and I'll help you with adding 2 + 3.\", 'type': 'text'}, {'id': 'toolu_01FtbxY4AEok86vBWuFFuJmR', 'input': {'a': 2, 'b': 3}, 'name': 'add', 'type': 'tool_use'}], additional_kwargs={}, response_metadata={'id': 'msg_01MssqdAKEo8ZkHAuVSCtSUN', 'model': 'claude-3-5-sonnet-20241022', 'stop_reason': 'tool_use', 'stop_sequence': None, 'usage': {'input_tokens': 545, 'output_tokens': 95}}, id='run-4c58aebb-25aa-4af0-8cfb-f8571a426d76-0', tool_calls=[{'name': 'add', 'args': {'a': 2, 'b': 3}, 'id': 'toolu_01FtbxY4AEok86vBWuFFuJmR', 'type': 'tool_call'}], usage_metadata={'input_tokens': 545, 'output_tokens': 95, 'total_tokens': 640, 'input_token_details': {}}), ToolMessage(content='5', name='add', id='ca20a888-dcd4-4856-ad41-2ee931905532', tool_call_id='toolu_01FtbxY4AEok86vBWuFFuJmR'), AIMessage(content='The sum of 2 + 3 = 5.', additional_kwargs={}, response_metadata={'id': 'msg_01Kzc2SYknygkSgT8dLYQFyB', 'model': 'claude-3-5-sonnet-20241022', 'stop_reason': 'end_turn', 'stop_sequence': None, 'usage': {'input_tokens': 652, 'output_tokens': 18}}, id='run-3a80a753-e23b-4926-9aaf-034b7ab2dc1b-0', usage_metadata={'input_tokens': 652, 'output_tokens': 18, 'total_tokens': 670, 'input_token_details': {}}), HumanMessage(content='now multiply that by 11', additional_kwargs={}, response_metadata={}, id='b5a0d774-5d37-40c7-9759-d9181a26832c'), AIMessage(content=[{'text': \"Since I'm Bob and I specialize in addition, not multiplication, I'll need to transfer this to Alice who can help with multiplication.\", 'type': 'text'}, {'id': 'toolu_01CJ8iedUZVzAe2KhSTQxBuK', 'input': {}, 'name': 'transfer_to_alice', 'type': 'tool_use'}], additional_kwargs={}, response_metadata={'id': 'msg_01JcEHahcMCxnahWmpS2K8TM', 'model': 'claude-3-5-sonnet-20241022', 'stop_reason': 'tool_use', 'stop_sequence': None, 'usage': {'input_tokens': 679, 'output_tokens': 67}}, id='run-53676875-68a0-4325-8b54-a7a675592641-0', tool_calls=[{'name': 'transfer_to_alice', 'args': {}, 'id': 'toolu_01CJ8iedUZVzAe2KhSTQxBuK', 'type': 'tool_call'}], usage_metadata={'input_tokens': 679, 'output_tokens': 67, 'total_tokens': 746, 'input_token_details': {}}), ToolMessage(content=\"Transferred to 'alice'!\", name='transfer_to_alice', id='2dfcdaf3-9208-4e11-9d74-ccffe0acd0c7', tool_call_id='toolu_01CJ8iedUZVzAe2KhSTQxBuK', artifact=Command(goto='alice'))], 'node': 'alice'}})\n"
     ]
    }
   ],
   "source": [
    "for chunk in graph.stream({\"messages\": [(\"user\", \"now multiply that by 11\")]}, config, subgraphs=True):\n",
    "    print(chunk)"
   ]
  },
  {
   "cell_type": "code",
   "execution_count": 69,
   "id": "64436bae-8e62-4302-be5c-1c3cf444eeb7",
   "metadata": {},
   "outputs": [
    {
     "name": "stdout",
     "output_type": "stream",
     "text": [
      "(('alice:40f9195d-6eaa-8ef9-1d29-8ecd9051807b',), {'agent': {'messages': [AIMessage(content=[{'text': \"Hi! This is Alice. I'll help you multiply 5 by 11.\", 'type': 'text'}, {'id': 'toolu_01415cUu4yCe2Yn6KwjvpZ6u', 'input': {'a': 5, 'b': 11}, 'name': 'multiply', 'type': 'tool_use'}], additional_kwargs={}, response_metadata={'id': 'msg_01EwxXRNSG4UzhwFtCVjwnUQ', 'model': 'claude-3-5-sonnet-20241022', 'stop_reason': 'tool_use', 'stop_sequence': None, 'usage': {'input_tokens': 762, 'output_tokens': 88}}, id='run-7eb79b04-a3ae-4514-8ef7-f770ce776896-0', tool_calls=[{'name': 'multiply', 'args': {'a': 5, 'b': 11}, 'id': 'toolu_01415cUu4yCe2Yn6KwjvpZ6u', 'type': 'tool_call'}], usage_metadata={'input_tokens': 762, 'output_tokens': 88, 'total_tokens': 850, 'input_token_details': {}})]}})\n",
      "(('alice:40f9195d-6eaa-8ef9-1d29-8ecd9051807b',), {'tools': {'messages': [ToolMessage(content='55', name='multiply', id='03685341-fe32-44c7-a5fb-c60735ec9955', tool_call_id='toolu_01415cUu4yCe2Yn6KwjvpZ6u')]}})\n",
      "(('alice:40f9195d-6eaa-8ef9-1d29-8ecd9051807b',), {'agent': {'messages': [AIMessage(content='5 × 11 = 55', additional_kwargs={}, response_metadata={'id': 'msg_014Q41hhXDQAVMSsKMAatKCM', 'model': 'claude-3-5-sonnet-20241022', 'stop_reason': 'end_turn', 'stop_sequence': None, 'usage': {'input_tokens': 862, 'output_tokens': 13}}, id='run-d494adf5-4d3f-4846-97b6-04b38f3ee847-0', usage_metadata={'input_tokens': 862, 'output_tokens': 13, 'total_tokens': 875, 'input_token_details': {}})]}})\n",
      "((), {'alice': {'messages': [HumanMessage(content=\"what's 2 + 3\", additional_kwargs={}, response_metadata={}, id='df3ea9d6-7bd8-490e-a8c9-ab252c2314d2'), AIMessage(content=[{'text': \"Since I'm Alice and I specialize in multiplication, not addition, I'll need to transfer this question to Bob who can help with addition.\", 'type': 'text'}, {'id': 'toolu_01BvELp3WNftHMCxaATP3Gkq', 'input': {}, 'name': 'transfer_to_bob', 'type': 'tool_use'}], additional_kwargs={}, response_metadata={'id': 'msg_01FC32BFRbjTSWWa28KtF2i6', 'model': 'claude-3-5-sonnet-20241022', 'stop_reason': 'tool_use', 'stop_sequence': None, 'usage': {'input_tokens': 457, 'output_tokens': 68}}, id='run-01f121eb-e0c9-48a9-8b6c-a0a4e3329aaf-0', tool_calls=[{'name': 'transfer_to_bob', 'args': {}, 'id': 'toolu_01BvELp3WNftHMCxaATP3Gkq', 'type': 'tool_call'}], usage_metadata={'input_tokens': 457, 'output_tokens': 68, 'total_tokens': 525, 'input_token_details': {}}), ToolMessage(content=\"Transferred to 'bob'!\", name='transfer_to_bob', id='d179d756-6f41-4cda-9f3c-36717ab3f001', tool_call_id='toolu_01BvELp3WNftHMCxaATP3Gkq', artifact={'update': None, 'send': [], 'resume': None, 'goto': 'bob'}), AIMessage(content=[{'text': \"Hi! This is Bob. I'm an addition expert and I'll help you with adding 2 + 3.\", 'type': 'text'}, {'id': 'toolu_01FtbxY4AEok86vBWuFFuJmR', 'input': {'a': 2, 'b': 3}, 'name': 'add', 'type': 'tool_use'}], additional_kwargs={}, response_metadata={'id': 'msg_01MssqdAKEo8ZkHAuVSCtSUN', 'model': 'claude-3-5-sonnet-20241022', 'stop_reason': 'tool_use', 'stop_sequence': None, 'usage': {'input_tokens': 545, 'output_tokens': 95}}, id='run-4c58aebb-25aa-4af0-8cfb-f8571a426d76-0', tool_calls=[{'name': 'add', 'args': {'a': 2, 'b': 3}, 'id': 'toolu_01FtbxY4AEok86vBWuFFuJmR', 'type': 'tool_call'}], usage_metadata={'input_tokens': 545, 'output_tokens': 95, 'total_tokens': 640, 'input_token_details': {}}), ToolMessage(content='5', name='add', id='ca20a888-dcd4-4856-ad41-2ee931905532', tool_call_id='toolu_01FtbxY4AEok86vBWuFFuJmR'), AIMessage(content='The sum of 2 + 3 = 5.', additional_kwargs={}, response_metadata={'id': 'msg_01Kzc2SYknygkSgT8dLYQFyB', 'model': 'claude-3-5-sonnet-20241022', 'stop_reason': 'end_turn', 'stop_sequence': None, 'usage': {'input_tokens': 652, 'output_tokens': 18}}, id='run-3a80a753-e23b-4926-9aaf-034b7ab2dc1b-0', usage_metadata={'input_tokens': 652, 'output_tokens': 18, 'total_tokens': 670, 'input_token_details': {}}), HumanMessage(content='now multiply that by 11', additional_kwargs={}, response_metadata={}, id='b5a0d774-5d37-40c7-9759-d9181a26832c'), AIMessage(content=[{'text': \"Since I'm Bob and I specialize in addition, not multiplication, I'll need to transfer this to Alice who can help with multiplication.\", 'type': 'text'}, {'id': 'toolu_01CJ8iedUZVzAe2KhSTQxBuK', 'input': {}, 'name': 'transfer_to_alice', 'type': 'tool_use'}], additional_kwargs={}, response_metadata={'id': 'msg_01JcEHahcMCxnahWmpS2K8TM', 'model': 'claude-3-5-sonnet-20241022', 'stop_reason': 'tool_use', 'stop_sequence': None, 'usage': {'input_tokens': 679, 'output_tokens': 67}}, id='run-53676875-68a0-4325-8b54-a7a675592641-0', tool_calls=[{'name': 'transfer_to_alice', 'args': {}, 'id': 'toolu_01CJ8iedUZVzAe2KhSTQxBuK', 'type': 'tool_call'}], usage_metadata={'input_tokens': 679, 'output_tokens': 67, 'total_tokens': 746, 'input_token_details': {}}), ToolMessage(content=\"Transferred to 'alice'!\", name='transfer_to_alice', id='2dfcdaf3-9208-4e11-9d74-ccffe0acd0c7', tool_call_id='toolu_01CJ8iedUZVzAe2KhSTQxBuK', artifact={'update': None, 'send': [], 'resume': None, 'goto': 'alice'}), AIMessage(content=[{'text': \"Hi! This is Alice. I'll help you multiply 5 by 11.\", 'type': 'text'}, {'id': 'toolu_01415cUu4yCe2Yn6KwjvpZ6u', 'input': {'a': 5, 'b': 11}, 'name': 'multiply', 'type': 'tool_use'}], additional_kwargs={}, response_metadata={'id': 'msg_01EwxXRNSG4UzhwFtCVjwnUQ', 'model': 'claude-3-5-sonnet-20241022', 'stop_reason': 'tool_use', 'stop_sequence': None, 'usage': {'input_tokens': 762, 'output_tokens': 88}}, id='run-7eb79b04-a3ae-4514-8ef7-f770ce776896-0', tool_calls=[{'name': 'multiply', 'args': {'a': 5, 'b': 11}, 'id': 'toolu_01415cUu4yCe2Yn6KwjvpZ6u', 'type': 'tool_call'}], usage_metadata={'input_tokens': 762, 'output_tokens': 88, 'total_tokens': 850, 'input_token_details': {}}), ToolMessage(content='55', name='multiply', id='03685341-fe32-44c7-a5fb-c60735ec9955', tool_call_id='toolu_01415cUu4yCe2Yn6KwjvpZ6u'), AIMessage(content='5 × 11 = 55', additional_kwargs={}, response_metadata={'id': 'msg_014Q41hhXDQAVMSsKMAatKCM', 'model': 'claude-3-5-sonnet-20241022', 'stop_reason': 'end_turn', 'stop_sequence': None, 'usage': {'input_tokens': 862, 'output_tokens': 13}}, id='run-d494adf5-4d3f-4846-97b6-04b38f3ee847-0', usage_metadata={'input_tokens': 862, 'output_tokens': 13, 'total_tokens': 875, 'input_token_details': {}})], 'node': 'alice'}})\n"
     ]
    }
   ],
   "source": [
    "for chunk in graph.stream({\"messages\": []}, config, subgraphs=True):\n",
    "    print(chunk)"
   ]
  },
  {
   "cell_type": "code",
   "execution_count": 70,
   "id": "bc502ddd-0250-4408-9272-0265da426058",
   "metadata": {},
   "outputs": [
    {
     "data": {
      "text/plain": [
       "[HumanMessage(content=\"what's 2 + 3\", additional_kwargs={}, response_metadata={}, id='df3ea9d6-7bd8-490e-a8c9-ab252c2314d2'),\n",
       " AIMessage(content=[{'text': \"Since I'm Alice and I specialize in multiplication, not addition, I'll need to transfer this question to Bob who can help with addition.\", 'type': 'text'}, {'id': 'toolu_01BvELp3WNftHMCxaATP3Gkq', 'input': {}, 'name': 'transfer_to_bob', 'type': 'tool_use'}], additional_kwargs={}, response_metadata={'id': 'msg_01FC32BFRbjTSWWa28KtF2i6', 'model': 'claude-3-5-sonnet-20241022', 'stop_reason': 'tool_use', 'stop_sequence': None, 'usage': {'input_tokens': 457, 'output_tokens': 68}}, id='run-01f121eb-e0c9-48a9-8b6c-a0a4e3329aaf-0', tool_calls=[{'name': 'transfer_to_bob', 'args': {}, 'id': 'toolu_01BvELp3WNftHMCxaATP3Gkq', 'type': 'tool_call'}], usage_metadata={'input_tokens': 457, 'output_tokens': 68, 'total_tokens': 525, 'input_token_details': {}}),\n",
       " ToolMessage(content=\"Transferred to 'bob'!\", name='transfer_to_bob', id='d179d756-6f41-4cda-9f3c-36717ab3f001', tool_call_id='toolu_01BvELp3WNftHMCxaATP3Gkq', artifact={'update': None, 'send': [], 'resume': None, 'goto': 'bob'}),\n",
       " AIMessage(content=[{'text': \"Hi! This is Bob. I'm an addition expert and I'll help you with adding 2 + 3.\", 'type': 'text'}, {'id': 'toolu_01FtbxY4AEok86vBWuFFuJmR', 'input': {'a': 2, 'b': 3}, 'name': 'add', 'type': 'tool_use'}], additional_kwargs={}, response_metadata={'id': 'msg_01MssqdAKEo8ZkHAuVSCtSUN', 'model': 'claude-3-5-sonnet-20241022', 'stop_reason': 'tool_use', 'stop_sequence': None, 'usage': {'input_tokens': 545, 'output_tokens': 95}}, id='run-4c58aebb-25aa-4af0-8cfb-f8571a426d76-0', tool_calls=[{'name': 'add', 'args': {'a': 2, 'b': 3}, 'id': 'toolu_01FtbxY4AEok86vBWuFFuJmR', 'type': 'tool_call'}], usage_metadata={'input_tokens': 545, 'output_tokens': 95, 'total_tokens': 640, 'input_token_details': {}}),\n",
       " ToolMessage(content='5', name='add', id='ca20a888-dcd4-4856-ad41-2ee931905532', tool_call_id='toolu_01FtbxY4AEok86vBWuFFuJmR'),\n",
       " AIMessage(content='The sum of 2 + 3 = 5.', additional_kwargs={}, response_metadata={'id': 'msg_01Kzc2SYknygkSgT8dLYQFyB', 'model': 'claude-3-5-sonnet-20241022', 'stop_reason': 'end_turn', 'stop_sequence': None, 'usage': {'input_tokens': 652, 'output_tokens': 18}}, id='run-3a80a753-e23b-4926-9aaf-034b7ab2dc1b-0', usage_metadata={'input_tokens': 652, 'output_tokens': 18, 'total_tokens': 670, 'input_token_details': {}}),\n",
       " HumanMessage(content='now multiply that by 11', additional_kwargs={}, response_metadata={}, id='b5a0d774-5d37-40c7-9759-d9181a26832c'),\n",
       " AIMessage(content=[{'text': \"Since I'm Bob and I specialize in addition, not multiplication, I'll need to transfer this to Alice who can help with multiplication.\", 'type': 'text'}, {'id': 'toolu_01CJ8iedUZVzAe2KhSTQxBuK', 'input': {}, 'name': 'transfer_to_alice', 'type': 'tool_use'}], additional_kwargs={}, response_metadata={'id': 'msg_01JcEHahcMCxnahWmpS2K8TM', 'model': 'claude-3-5-sonnet-20241022', 'stop_reason': 'tool_use', 'stop_sequence': None, 'usage': {'input_tokens': 679, 'output_tokens': 67}}, id='run-53676875-68a0-4325-8b54-a7a675592641-0', tool_calls=[{'name': 'transfer_to_alice', 'args': {}, 'id': 'toolu_01CJ8iedUZVzAe2KhSTQxBuK', 'type': 'tool_call'}], usage_metadata={'input_tokens': 679, 'output_tokens': 67, 'total_tokens': 746, 'input_token_details': {}}),\n",
       " ToolMessage(content=\"Transferred to 'alice'!\", name='transfer_to_alice', id='2dfcdaf3-9208-4e11-9d74-ccffe0acd0c7', tool_call_id='toolu_01CJ8iedUZVzAe2KhSTQxBuK', artifact={'update': None, 'send': [], 'resume': None, 'goto': 'alice'}),\n",
       " AIMessage(content=[{'text': \"Hi! This is Alice. I'll help you multiply 5 by 11.\", 'type': 'text'}, {'id': 'toolu_01415cUu4yCe2Yn6KwjvpZ6u', 'input': {'a': 5, 'b': 11}, 'name': 'multiply', 'type': 'tool_use'}], additional_kwargs={}, response_metadata={'id': 'msg_01EwxXRNSG4UzhwFtCVjwnUQ', 'model': 'claude-3-5-sonnet-20241022', 'stop_reason': 'tool_use', 'stop_sequence': None, 'usage': {'input_tokens': 762, 'output_tokens': 88}}, id='run-7eb79b04-a3ae-4514-8ef7-f770ce776896-0', tool_calls=[{'name': 'multiply', 'args': {'a': 5, 'b': 11}, 'id': 'toolu_01415cUu4yCe2Yn6KwjvpZ6u', 'type': 'tool_call'}], usage_metadata={'input_tokens': 762, 'output_tokens': 88, 'total_tokens': 850, 'input_token_details': {}}),\n",
       " ToolMessage(content='55', name='multiply', id='03685341-fe32-44c7-a5fb-c60735ec9955', tool_call_id='toolu_01415cUu4yCe2Yn6KwjvpZ6u'),\n",
       " AIMessage(content='5 × 11 = 55', additional_kwargs={}, response_metadata={'id': 'msg_014Q41hhXDQAVMSsKMAatKCM', 'model': 'claude-3-5-sonnet-20241022', 'stop_reason': 'end_turn', 'stop_sequence': None, 'usage': {'input_tokens': 862, 'output_tokens': 13}}, id='run-d494adf5-4d3f-4846-97b6-04b38f3ee847-0', usage_metadata={'input_tokens': 862, 'output_tokens': 13, 'total_tokens': 875, 'input_token_details': {}})]"
      ]
     },
     "execution_count": 70,
     "metadata": {},
     "output_type": "execute_result"
    }
   ],
   "source": [
    "graph.get_state(config).values[\"messages\"]"
   ]
  },
  {
   "cell_type": "markdown",
   "id": "a9100689-fa42-4c36-841f-2911a0cb2a10",
   "metadata": {},
   "source": [
    "---"
   ]
  },
  {
   "cell_type": "markdown",
   "id": "d3cc4cc6-cc76-4924-b296-d0bcd90994b4",
   "metadata": {},
   "source": [
    "### Different state schema in parent vs child state"
   ]
  },
  {
   "cell_type": "code",
   "execution_count": 19,
   "id": "57eece96-91a8-4e8d-a514-bbd370fed77e",
   "metadata": {},
   "outputs": [],
   "source": [
    "from langgraph.graph.message import add_messages\n",
    "from langchain_core.messages import BaseMessage\n",
    "from typing import Annotated, TypedDict"
   ]
  },
  {
   "cell_type": "code",
   "execution_count": 20,
   "id": "37edc91f-10c5-49c2-9bc4-16a3a275e005",
   "metadata": {},
   "outputs": [],
   "source": [
    "class CustomParentState(TypedDict):\n",
    "    # deliberately use a different key here\n",
    "    parent_messages: Annotated[list[BaseMessage], add_messages]\n",
    "    node: str"
   ]
  },
  {
   "cell_type": "code",
   "execution_count": 21,
   "id": "80ca274d-2240-405b-8d89-1cf8f911d92c",
   "metadata": {},
   "outputs": [],
   "source": [
    "def input_processor(state):\n",
    "    return {**state, \"messages\": state[\"parent_messages\"]}\n",
    "\n",
    "def output_processor(state):\n",
    "    updated_state = keep_last_message_as_human(state)\n",
    "    return {**updated_state, \"parent_messages\": updated_state[\"messages\"]}"
   ]
  },
  {
   "cell_type": "code",
   "execution_count": 22,
   "id": "6e6c8360-1e29-4e10-bb7a-3620851c8ab5",
   "metadata": {},
   "outputs": [],
   "source": [
    "alice = make_agent_node(\n",
    "    model_anthropic,\n",
    "    [multiply, bob_tool],\n",
    "    input_processor=input_processor,\n",
    "    output_processor=output_processor,\n",
    "    state_modifier=\"You're Alice, a multiplication expert. You can ask Bob for help with addition.\"\n",
    ")\n",
    "bob = make_agent_node(\n",
    "    model_anthropic,\n",
    "    [add, alice_tool],\n",
    "    input_processor=input_processor,\n",
    "    output_processor=output_processor,\n",
    "    state_modifier=\"You're Bob, an addition expert. You can ask Alice for help with muiltiplication.\"\n",
    ")\n",
    "\n",
    "builder = StateGraph(CustomParentState)\n",
    "add_entrypoint_router(builder, route_to=[(\"alice\", alice), (\"bob\", bob)], default_start_node=\"alice\")\n",
    "memory = MemorySaver()\n",
    "graph = builder.compile(checkpointer=memory)"
   ]
  },
  {
   "cell_type": "code",
   "execution_count": 23,
   "id": "88549d73-1415-4f18-9dac-65d3fbad4f21",
   "metadata": {},
   "outputs": [],
   "source": [
    "config = {\"configurable\": {\"thread_id\": \"1\"}}"
   ]
  },
  {
   "cell_type": "code",
   "execution_count": 100,
   "id": "eb45116b-45dd-4c44-8ec9-14d46a6f3af1",
   "metadata": {},
   "outputs": [
    {
     "name": "stdout",
     "output_type": "stream",
     "text": [
      "(('alice:f6ef16c4-e48d-6de0-8a66-076db6b25e2b',), {'agent': {'messages': [AIMessage(content=[{'text': 'As Alice, I specialize in multiplication, but not addition. Let me transfer this question to Bob who can help with addition.', 'type': 'text'}, {'id': 'toolu_018rT2G9eyprmkhucyD7Yvvf', 'input': {}, 'name': 'transfer_to_bob', 'type': 'tool_use'}], additional_kwargs={}, response_metadata={'id': 'msg_01U71DztgJjRYC1Ca834xusM', 'model': 'claude-3-5-sonnet-20241022', 'stop_reason': 'tool_use', 'stop_sequence': None, 'usage': {'input_tokens': 457, 'output_tokens': 65}}, id='run-211da428-576e-4733-90dc-193fb56c0214-0', tool_calls=[{'name': 'transfer_to_bob', 'args': {}, 'id': 'toolu_018rT2G9eyprmkhucyD7Yvvf', 'type': 'tool_call'}], usage_metadata={'input_tokens': 457, 'output_tokens': 65, 'total_tokens': 522, 'input_token_details': {}})]}})\n",
      "(('alice:f6ef16c4-e48d-6de0-8a66-076db6b25e2b',), {'tools': {'messages': [ToolMessage(content=\"Transferred to 'bob'!\", name='transfer_to_bob', id='69562771-a91c-4565-9785-5acc36a9d203', tool_call_id='toolu_018rT2G9eyprmkhucyD7Yvvf', artifact=Command(goto='bob'))]}})\n",
      "((), {'alice': {'parent_messages': [HumanMessage(content=\"Transferred to 'bob'!\", additional_kwargs={}, response_metadata={})], 'node': 'bob'}})\n"
     ]
    }
   ],
   "source": [
    "for chunk in graph.stream({\"parent_messages\": [(\"user\", \"what's 2 + 3\")]}, config, subgraphs=True):\n",
    "    print(chunk)"
   ]
  },
  {
   "cell_type": "code",
   "execution_count": 101,
   "id": "aa249c0e-4c7b-4e61-a45e-0e7d7a4bd3aa",
   "metadata": {},
   "outputs": [
    {
     "name": "stdout",
     "output_type": "stream",
     "text": [
      "(('bob:51eb5ae0-8ab5-a015-62c2-f4c07a3b32dd',), {'agent': {'messages': [AIMessage(content=[{'text': 'I can help you add 2 and 3! Let me use the add function.', 'type': 'text'}, {'id': 'toolu_01C7yeptGHGYEiKpNkHY84pm', 'input': {'a': 2, 'b': 3}, 'name': 'add', 'type': 'tool_use'}], additional_kwargs={}, response_metadata={'id': 'msg_01K2GC9iSxASCeQ9J6XT9L31', 'model': 'claude-3-5-sonnet-20241022', 'stop_reason': 'tool_use', 'stop_sequence': None, 'usage': {'input_tokens': 467, 'output_tokens': 88}}, id='run-6af37d8d-eda5-4147-b52f-5c0b18fe8bf8-0', tool_calls=[{'name': 'add', 'args': {'a': 2, 'b': 3}, 'id': 'toolu_01C7yeptGHGYEiKpNkHY84pm', 'type': 'tool_call'}], usage_metadata={'input_tokens': 467, 'output_tokens': 88, 'total_tokens': 555, 'input_token_details': {}})]}})\n",
      "(('bob:51eb5ae0-8ab5-a015-62c2-f4c07a3b32dd',), {'tools': {'messages': [ToolMessage(content='5', name='add', id='8df91d77-8db1-45be-bb55-b8acbbafa2bc', tool_call_id='toolu_01C7yeptGHGYEiKpNkHY84pm')]}})\n",
      "(('bob:51eb5ae0-8ab5-a015-62c2-f4c07a3b32dd',), {'agent': {'messages': [AIMessage(content='2 + 3 = 5!', additional_kwargs={}, response_metadata={'id': 'msg_018Cwuug3BC3qf6eKcySCgrb', 'model': 'claude-3-5-sonnet-20241022', 'stop_reason': 'end_turn', 'stop_sequence': None, 'usage': {'input_tokens': 567, 'output_tokens': 14}}, id='run-be2218b5-8ba8-4d6b-a5ea-b0d7e18c0aee-0', usage_metadata={'input_tokens': 567, 'output_tokens': 14, 'total_tokens': 581, 'input_token_details': {}})]}})\n",
      "((), {'bob': {'parent_messages': [HumanMessage(content='2 + 3 = 5!', additional_kwargs={}, response_metadata={})], 'node': 'bob'}})\n"
     ]
    }
   ],
   "source": [
    "for chunk in graph.stream({\"parent_messages\": []}, config, subgraphs=True):\n",
    "    print(chunk)"
   ]
  },
  {
   "cell_type": "code",
   "execution_count": 102,
   "id": "1eed029e-3c15-416a-8067-ee7701fda748",
   "metadata": {},
   "outputs": [
    {
     "data": {
      "text/plain": [
       "dict_keys(['parent_messages', 'node'])"
      ]
     },
     "execution_count": 102,
     "metadata": {},
     "output_type": "execute_result"
    }
   ],
   "source": [
    "graph.get_state(config).values.keys()"
   ]
  },
  {
   "cell_type": "code",
   "execution_count": 103,
   "id": "06898fe1-58c6-4016-a5e7-e2a29897a520",
   "metadata": {},
   "outputs": [
    {
     "data": {
      "text/plain": [
       "[HumanMessage(content=\"what's 2 + 3\", additional_kwargs={}, response_metadata={}, id='f13151d6-2712-4003-9372-ed4c78ef2113'),\n",
       " HumanMessage(content=\"Transferred to 'bob'!\", additional_kwargs={}, response_metadata={}, id='1882dc46-4f2c-488c-bb43-539071161b3f'),\n",
       " HumanMessage(content='2 + 3 = 5!', additional_kwargs={}, response_metadata={}, id='9d8c90a4-9b66-471c-ab22-3ef50e67335a')]"
      ]
     },
     "execution_count": 103,
     "metadata": {},
     "output_type": "execute_result"
    }
   ],
   "source": [
    "graph.get_state(config).values[\"parent_messages\"]"
   ]
  },
  {
   "cell_type": "markdown",
   "id": "33294cd3-b158-47dc-84eb-1c1f7ba05a1f",
   "metadata": {},
   "source": [
    "### Tools that update state (externally)"
   ]
  },
  {
   "cell_type": "code",
   "execution_count": 24,
   "id": "903f1e05-c9a6-4c46-b9c5-3e798a025b1a",
   "metadata": {},
   "outputs": [],
   "source": [
    "class CustomParentState(TypedDict):\n",
    "    # deliberately use a different key here\n",
    "    parent_messages: Annotated[list[BaseMessage], add_messages]\n",
    "    node: str\n",
    "    user_name: str"
   ]
  },
  {
   "cell_type": "code",
   "execution_count": 25,
   "id": "f5322c61-2dfb-4fb0-bfdb-1f25831cc14c",
   "metadata": {},
   "outputs": [],
   "source": [
    "from langchain_core.tools import tool"
   ]
  },
  {
   "cell_type": "code",
   "execution_count": 26,
   "id": "9d1cd607-68f1-42d4-81bb-76b020ae3eaa",
   "metadata": {},
   "outputs": [],
   "source": [
    "@tool(response_format=\"content_and_artifact\", return_direct=True)\n",
    "def get_user_name():\n",
    "    \"\"\"Retrieve user name\"\"\"\n",
    "    return \"Successfully retrieved user name\", GraphCommand(update={\"user_name\": \"Meow\"})"
   ]
  },
  {
   "cell_type": "code",
   "execution_count": 32,
   "id": "638a2bf0-a3be-4589-b365-9ce859c97b38",
   "metadata": {},
   "outputs": [],
   "source": [
    "def input_processor(state):\n",
    "    return {**state, \"messages\": state[\"parent_messages\"]}\n",
    "\n",
    "def output_processor(state):\n",
    "    state = keep_last_message_as_human(state)\n",
    "    return {**state, \"parent_messages\": state[\"messages\"]}"
   ]
  },
  {
   "cell_type": "code",
   "execution_count": 33,
   "id": "760048d7-e5f4-48fe-bf4e-90d63ea2758b",
   "metadata": {},
   "outputs": [],
   "source": [
    "alice = make_agent_node(\n",
    "    model,\n",
    "    [get_user_name],\n",
    "    input_processor=input_processor,\n",
    "    output_processor=output_processor,\n",
    ")\n",
    "\n",
    "builder = StateGraph(CustomParentState)\n",
    "builder.add_node(\"alice\", alice)\n",
    "builder.add_edge(START, \"alice\")\n",
    "memory = MemorySaver()\n",
    "graph = builder.compile(checkpointer=memory)"
   ]
  },
  {
   "cell_type": "code",
   "execution_count": 34,
   "id": "e46e6cba-0f1f-4a16-8336-299a447e21fc",
   "metadata": {},
   "outputs": [],
   "source": [
    "config = {\"configurable\": {\"thread_id\": \"1\"}}"
   ]
  },
  {
   "cell_type": "code",
   "execution_count": 35,
   "id": "e2e8e5b3-b875-4b90-b207-9cf81985db5a",
   "metadata": {},
   "outputs": [
    {
     "name": "stdout",
     "output_type": "stream",
     "text": [
      "{'alice': {'parent_messages': [HumanMessage(content='Successfully retrieved user name', additional_kwargs={}, response_metadata={}, id='c8a26619-7803-4ab7-b0b1-f924b187a771')], 'user_name': 'Meow'}}\n"
     ]
    }
   ],
   "source": [
    "for chunk in graph.stream({\"parent_messages\": [(\"user\", \"get user name\")]}, config):\n",
    "    print(chunk)"
   ]
  },
  {
   "cell_type": "code",
   "execution_count": 36,
   "id": "5b599e9d-ec0b-46fb-a5d9-4fcdf7b564c0",
   "metadata": {},
   "outputs": [
    {
     "data": {
      "text/plain": [
       "{'parent_messages': [HumanMessage(content='get user name', additional_kwargs={}, response_metadata={}, id='0c4c298e-d55d-4614-9ee2-00176941641f'),\n",
       "  HumanMessage(content='Successfully retrieved user name', additional_kwargs={}, response_metadata={}, id='c8a26619-7803-4ab7-b0b1-f924b187a771')],\n",
       " 'user_name': 'Meow'}"
      ]
     },
     "execution_count": 36,
     "metadata": {},
     "output_type": "execute_result"
    }
   ],
   "source": [
    "graph.get_state(config).values"
   ]
  },
  {
   "cell_type": "markdown",
   "id": "c2dea686-e58e-46c7-96df-81c779d708f4",
   "metadata": {},
   "source": [
    "### Tools that update state (internally)"
   ]
  },
  {
   "cell_type": "code",
   "execution_count": 39,
   "id": "9705a14e-4346-4c5b-b032-945903fc330e",
   "metadata": {},
   "outputs": [],
   "source": [
    "class CustomState(AgentRouterState):\n",
    "    user_name: str"
   ]
  },
  {
   "cell_type": "code",
   "execution_count": 40,
   "id": "342efc34-1640-46b6-b385-e6d2cc6857ee",
   "metadata": {},
   "outputs": [],
   "source": [
    "from langchain_core.tools import tool"
   ]
  },
  {
   "cell_type": "code",
   "execution_count": 41,
   "id": "4cc181d0-46ac-40a5-a4c4-91b003f4541e",
   "metadata": {},
   "outputs": [],
   "source": [
    "@tool(response_format=\"content_and_artifact\", return_direct=True)\n",
    "def get_user_name():\n",
    "    \"\"\"Retrieve user name\"\"\"\n",
    "    return \"Successfully retrieved user name\", GraphCommand(update={\"user_name\": \"Meow\"})"
   ]
  },
  {
   "cell_type": "code",
   "execution_count": 42,
   "id": "77890ba8-38ed-4a90-b6f6-78d63fae092b",
   "metadata": {},
   "outputs": [],
   "source": [
    "def state_modifier(state):\n",
    "    user_name = state.get(\"user_name\")\n",
    "    if user_name is None:\n",
    "        return state[\"messages\"]\n",
    "\n",
    "    system_msg = f\"User name is {user_name}\"\n",
    "    return [{\"role\": \"system\", \"content\": system_msg}] + state[\"messages\"]"
   ]
  },
  {
   "cell_type": "code",
   "execution_count": 43,
   "id": "e58e1229-6bbb-455d-9e79-320e91c10972",
   "metadata": {},
   "outputs": [],
   "source": [
    "checkpointer = MemorySaver()\n",
    "test_agent = create_react_agent(model, [get_user_name], state_schema=CustomState, state_modifier=state_modifier, checkpointer=checkpointer)"
   ]
  },
  {
   "cell_type": "code",
   "execution_count": 44,
   "id": "465912ef-60cc-4b7d-950f-6606da10b224",
   "metadata": {},
   "outputs": [],
   "source": [
    "config = {\"configurable\": {\"thread_id\": \"1\"}}"
   ]
  },
  {
   "cell_type": "code",
   "execution_count": 45,
   "id": "44c7a2d4-a664-48d7-afef-ca5cffe3c665",
   "metadata": {},
   "outputs": [
    {
     "data": {
      "text/plain": [
       "{'messages': [HumanMessage(content='hi -- please get the user name', additional_kwargs={}, response_metadata={}, id='786fed4c-dca3-4fa0-adc5-fcd4b0efa0c7'),\n",
       "  AIMessage(content='', additional_kwargs={'tool_calls': [{'id': 'call_DY1q6xNuUl4l5H8GOXthXRfL', 'function': {'arguments': '{}', 'name': 'get_user_name'}, 'type': 'function'}], 'refusal': None}, response_metadata={'token_usage': {'completion_tokens': 11, 'prompt_tokens': 43, 'total_tokens': 54, 'completion_tokens_details': {'accepted_prediction_tokens': 0, 'audio_tokens': 0, 'reasoning_tokens': 0, 'rejected_prediction_tokens': 0}, 'prompt_tokens_details': {'audio_tokens': 0, 'cached_tokens': 0}}, 'model_name': 'gpt-4o-2024-08-06', 'system_fingerprint': 'fp_45cf54deae', 'finish_reason': 'tool_calls', 'logprobs': None}, id='run-2fd78c26-a054-4feb-a883-a51f0733d13f-0', tool_calls=[{'name': 'get_user_name', 'args': {}, 'id': 'call_DY1q6xNuUl4l5H8GOXthXRfL', 'type': 'tool_call'}], usage_metadata={'input_tokens': 43, 'output_tokens': 11, 'total_tokens': 54, 'input_token_details': {'audio': 0, 'cache_read': 0}, 'output_token_details': {'audio': 0, 'reasoning': 0}}),\n",
       "  ToolMessage(content='Successfully retrieved user name', name='get_user_name', id='f81e5399-0dd7-4a46-bba3-0da9ff0d6d0b', tool_call_id='call_DY1q6xNuUl4l5H8GOXthXRfL', artifact=Command(update={'user_name': 'Meow'}))],\n",
       " 'user_name': 'Meow'}"
      ]
     },
     "execution_count": 45,
     "metadata": {},
     "output_type": "execute_result"
    }
   ],
   "source": [
    "test_agent.invoke({\"messages\": [(\"user\", \"hi -- please get the user name\")]}, config)"
   ]
  },
  {
   "cell_type": "code",
   "execution_count": 46,
   "id": "406eeace-1aba-4e45-8d3e-b59a6586510d",
   "metadata": {},
   "outputs": [
    {
     "data": {
      "text/plain": [
       "{'messages': [HumanMessage(content='hi -- please get the user name', additional_kwargs={}, response_metadata={}, id='786fed4c-dca3-4fa0-adc5-fcd4b0efa0c7'),\n",
       "  AIMessage(content='', additional_kwargs={'tool_calls': [{'id': 'call_DY1q6xNuUl4l5H8GOXthXRfL', 'function': {'arguments': '{}', 'name': 'get_user_name'}, 'type': 'function'}], 'refusal': None}, response_metadata={'token_usage': {'completion_tokens': 11, 'prompt_tokens': 43, 'total_tokens': 54, 'completion_tokens_details': {'accepted_prediction_tokens': 0, 'audio_tokens': 0, 'reasoning_tokens': 0, 'rejected_prediction_tokens': 0}, 'prompt_tokens_details': {'audio_tokens': 0, 'cached_tokens': 0}}, 'model_name': 'gpt-4o-2024-08-06', 'system_fingerprint': 'fp_45cf54deae', 'finish_reason': 'tool_calls', 'logprobs': None}, id='run-2fd78c26-a054-4feb-a883-a51f0733d13f-0', tool_calls=[{'name': 'get_user_name', 'args': {}, 'id': 'call_DY1q6xNuUl4l5H8GOXthXRfL', 'type': 'tool_call'}], usage_metadata={'input_tokens': 43, 'output_tokens': 11, 'total_tokens': 54, 'input_token_details': {'audio': 0, 'cache_read': 0}, 'output_token_details': {'audio': 0, 'reasoning': 0}}),\n",
       "  ToolMessage(content='Successfully retrieved user name', name='get_user_name', id='f81e5399-0dd7-4a46-bba3-0da9ff0d6d0b', tool_call_id='call_DY1q6xNuUl4l5H8GOXthXRfL', artifact={'update': {'user_name': 'Meow'}, 'send': [], 'resume': None, 'goto': []}),\n",
       "  HumanMessage(content='whats my name', additional_kwargs={}, response_metadata={}, id='0088ffd4-71d9-4716-b2a1-6422575d2c8b'),\n",
       "  AIMessage(content='Your name is Meow.', additional_kwargs={'refusal': None}, response_metadata={'token_usage': {'completion_tokens': 7, 'prompt_tokens': 81, 'total_tokens': 88, 'completion_tokens_details': {'accepted_prediction_tokens': 0, 'audio_tokens': 0, 'reasoning_tokens': 0, 'rejected_prediction_tokens': 0}, 'prompt_tokens_details': {'audio_tokens': 0, 'cached_tokens': 0}}, 'model_name': 'gpt-4o-2024-08-06', 'system_fingerprint': 'fp_45cf54deae', 'finish_reason': 'stop', 'logprobs': None}, id='run-523d2ba7-e50a-4805-b145-7ed36ce1da46-0', usage_metadata={'input_tokens': 81, 'output_tokens': 7, 'total_tokens': 88, 'input_token_details': {'audio': 0, 'cache_read': 0}, 'output_token_details': {'audio': 0, 'reasoning': 0}})],\n",
       " 'user_name': 'Meow'}"
      ]
     },
     "execution_count": 46,
     "metadata": {},
     "output_type": "execute_result"
    }
   ],
   "source": [
    "test_agent.invoke({\"messages\": [(\"user\", \"whats my name\")]}, config)"
   ]
  },
  {
   "cell_type": "markdown",
   "id": "62ee09b3-6144-4c67-97aa-b64cf7b224ce",
   "metadata": {},
   "source": [
    "---"
   ]
  },
  {
   "cell_type": "markdown",
   "id": "12bbd4ad-c77b-4556-b91e-b0a98a2cb16e",
   "metadata": {},
   "source": [
    "### Test interrupts from inside tools"
   ]
  },
  {
   "cell_type": "markdown",
   "id": "6484cf5b-3217-4cbd-b6ce-a86852ad4afc",
   "metadata": {},
   "source": [
    "TL;DR works w/ a single graph, doesn't work w/ subgraphs"
   ]
  },
  {
   "cell_type": "code",
   "execution_count": 79,
   "id": "1f3fef42-c90c-4e62-91ba-3425eb1b52cf",
   "metadata": {},
   "outputs": [],
   "source": [
    "from langgraph.types import interrupt, Command"
   ]
  },
  {
   "cell_type": "code",
   "execution_count": 80,
   "id": "0421c787-801e-48dc-8978-e53d4d12a20a",
   "metadata": {},
   "outputs": [],
   "source": [
    "@tool(response_format=\"content_and_artifact\")  #, return_direct=True)\n",
    "def get_user_name():\n",
    "    \"\"\"Retrieve user name\"\"\"\n",
    "    user_name = interrupt(\"Please provider user name\")\n",
    "    return \"Successfully retrieved user name\", GraphCommand(update={\"user_name\": user_name})"
   ]
  },
  {
   "cell_type": "code",
   "execution_count": 81,
   "id": "03e32dfe-8702-406f-9efb-a88d51bf5869",
   "metadata": {},
   "outputs": [],
   "source": [
    "def state_modifier(state):\n",
    "    user_name = state.get(\"user_name\")\n",
    "    if user_name is None:\n",
    "        return state[\"messages\"]\n",
    "\n",
    "    system_msg = f\"User name is {user_name}\"\n",
    "    return [{\"role\": \"system\", \"content\": system_msg}] + state[\"messages\"]"
   ]
  },
  {
   "cell_type": "code",
   "execution_count": 89,
   "id": "b983206f-3f7c-42f6-a678-cb66bbdddabb",
   "metadata": {},
   "outputs": [],
   "source": [
    "test_agent = make_agent_node(model, [get_user_name], state_schema=CustomState, state_modifier=state_modifier)\n",
    "\n",
    "builder = StateGraph(CustomState)\n",
    "builder.add_node(\"agent\", test_agent)\n",
    "builder.add_edge(START, \"agent\")\n",
    "checkpointer = MemorySaver()\n",
    "graph = builder.compile(checkpointer=checkpointer)"
   ]
  },
  {
   "cell_type": "code",
   "execution_count": 90,
   "id": "21b7dcab-9335-4534-9f98-43088ad8c721",
   "metadata": {},
   "outputs": [],
   "source": [
    "# checkpointer = MemorySaver()\n",
    "# test_agent = create_react_agent(model, [get_user_name], checkpointer=checkpointer)"
   ]
  },
  {
   "cell_type": "code",
   "execution_count": 92,
   "id": "d3e520e3-1e6a-48d4-a21c-398575a4d4e1",
   "metadata": {},
   "outputs": [
    {
     "data": {
      "text/plain": [
       "{'messages': [HumanMessage(content='hi -- please get the user name', additional_kwargs={}, response_metadata={}, id='5b4f9de3-13d3-4d1e-963d-e1b8b80dea96')]}"
      ]
     },
     "execution_count": 92,
     "metadata": {},
     "output_type": "execute_result"
    }
   ],
   "source": [
    "graph.invoke({\"messages\": [(\"user\", \"hi -- please get the user name\")]}, config)"
   ]
  },
  {
   "cell_type": "code",
   "execution_count": 94,
   "id": "b5faa93a-691d-4434-8a90-5defee3dc040",
   "metadata": {},
   "outputs": [
    {
     "data": {
      "text/plain": [
       "(PregelTask(id='54922a05-cd7e-3094-ebe0-e55eb21bf24e', name='agent', path=('__pregel_pull', 'agent'), error=None, interrupts=(Interrupt(value='Please provider user name', resumable=True, ns=['agent:54922a05-cd7e-3094-ebe0-e55eb21bf24e', 'tools:d70d2003-c7b7-06fe-faf1-0ee3731a77f2'], when='during'),), state={'configurable': {'thread_id': '1', 'checkpoint_ns': 'agent:54922a05-cd7e-3094-ebe0-e55eb21bf24e'}}, result=None),)"
      ]
     },
     "execution_count": 94,
     "metadata": {},
     "output_type": "execute_result"
    }
   ],
   "source": [
    "graph.get_state(config).tasks"
   ]
  },
  {
   "cell_type": "code",
   "execution_count": 96,
   "id": "05bff0ec-05a6-4443-9fe5-923a3a960452",
   "metadata": {},
   "outputs": [],
   "source": [
    "# graph.invoke(Command(resume=\"Archibald\"), config)"
   ]
  },
  {
   "cell_type": "code",
   "execution_count": 88,
   "id": "4e36809d-9504-49cd-9b56-f27d88531af6",
   "metadata": {},
   "outputs": [
    {
     "data": {
      "text/plain": [
       "{'messages': [HumanMessage(content='hi -- please get the user name', additional_kwargs={}, response_metadata={}, id='3662d0e1-7f5b-4a39-b8fb-d114d69c5138'),\n",
       "  AIMessage(content='', additional_kwargs={'tool_calls': [{'id': 'call_KJah0Kamn5i3Gk8v8qaBukCR', 'function': {'arguments': '{}', 'name': 'get_user_name'}, 'type': 'function'}], 'refusal': None}, response_metadata={'token_usage': {'completion_tokens': 11, 'prompt_tokens': 43, 'total_tokens': 54, 'completion_tokens_details': {'accepted_prediction_tokens': 0, 'audio_tokens': 0, 'reasoning_tokens': 0, 'rejected_prediction_tokens': 0}, 'prompt_tokens_details': {'audio_tokens': 0, 'cached_tokens': 0}}, 'model_name': 'gpt-4o-2024-08-06', 'system_fingerprint': 'fp_62f96df568', 'finish_reason': 'tool_calls', 'logprobs': None}, id='run-d5cf2ceb-5417-4c57-9955-059cd1d84c9e-0', tool_calls=[{'name': 'get_user_name', 'args': {}, 'id': 'call_KJah0Kamn5i3Gk8v8qaBukCR', 'type': 'tool_call'}], usage_metadata={'input_tokens': 43, 'output_tokens': 11, 'total_tokens': 54, 'input_token_details': {'audio': 0, 'cache_read': 0}, 'output_token_details': {'audio': 0, 'reasoning': 0}}),\n",
       "  ToolMessage(content='Successfully retrieved user name', name='get_user_name', id='b6145308-e069-4d62-855b-0f08784e7ba3', tool_call_id='call_KJah0Kamn5i3Gk8v8qaBukCR', artifact={'update': {'user_name': 'Archibald'}, 'send': [], 'resume': None, 'goto': []}),\n",
       "  AIMessage(content=\"Hello! I've successfully retrieved the user name. How can I assist you further today?\", additional_kwargs={'refusal': None}, response_metadata={'token_usage': {'completion_tokens': 18, 'prompt_tokens': 67, 'total_tokens': 85, 'completion_tokens_details': {'accepted_prediction_tokens': 0, 'audio_tokens': 0, 'reasoning_tokens': 0, 'rejected_prediction_tokens': 0}, 'prompt_tokens_details': {'audio_tokens': 0, 'cached_tokens': 0}}, 'model_name': 'gpt-4o-2024-08-06', 'system_fingerprint': 'fp_62f96df568', 'finish_reason': 'stop', 'logprobs': None}, id='run-bf275205-dcb0-4ac3-903f-744c0124a16f-0', usage_metadata={'input_tokens': 67, 'output_tokens': 18, 'total_tokens': 85, 'input_token_details': {'audio': 0, 'cache_read': 0}, 'output_token_details': {'audio': 0, 'reasoning': 0}}),\n",
       "  HumanMessage(content='whats my name', additional_kwargs={}, response_metadata={}, id='7af4574e-1a61-4660-9482-f953870b2483'),\n",
       "  AIMessage(content='Your name is not displayed in the information I can access. If you would like me to remember or use a specific name, please let me know!', additional_kwargs={'refusal': None}, response_metadata={'token_usage': {'completion_tokens': 31, 'prompt_tokens': 96, 'total_tokens': 127, 'completion_tokens_details': {'accepted_prediction_tokens': 0, 'audio_tokens': 0, 'reasoning_tokens': 0, 'rejected_prediction_tokens': 0}, 'prompt_tokens_details': {'audio_tokens': 0, 'cached_tokens': 0}}, 'model_name': 'gpt-4o-2024-08-06', 'system_fingerprint': 'fp_467dc6e35f', 'finish_reason': 'stop', 'logprobs': None}, id='run-e80eb201-1d31-4093-9409-2091cca3c629-0', usage_metadata={'input_tokens': 96, 'output_tokens': 31, 'total_tokens': 127, 'input_token_details': {'audio': 0, 'cache_read': 0}, 'output_token_details': {'audio': 0, 'reasoning': 0}})]}"
      ]
     },
     "execution_count": 88,
     "metadata": {},
     "output_type": "execute_result"
    }
   ],
   "source": [
    "test_agent.invoke({\"messages\": [(\"user\", \"whats my name\")]}, config)"
   ]
  },
  {
   "cell_type": "markdown",
   "id": "5a0e3470-1f97-4259-bd6f-b0db1a4734d9",
   "metadata": {},
   "source": [
    "---"
   ]
  }
 ],
 "metadata": {
  "kernelspec": {
   "display_name": "langgraph",
   "language": "python",
   "name": "langgraph"
  },
  "language_info": {
   "codemirror_mode": {
    "name": "ipython",
    "version": 3
   },
   "file_extension": ".py",
   "mimetype": "text/x-python",
   "name": "python",
   "nbconvert_exporter": "python",
   "pygments_lexer": "ipython3",
   "version": "3.11.9"
  }
 },
 "nbformat": 4,
 "nbformat_minor": 5
}
