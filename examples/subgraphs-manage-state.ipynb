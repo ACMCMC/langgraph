{
 "cells": [
  {
   "attachments": {},
   "cell_type": "markdown",
   "metadata": {},
   "source": [
    "# How to manage state in subgraphs\n",
    "\n",
    "For more complex systems, sub-graphs are a useful design principle. Sub-graphs allow you to create and manage different states in different parts of your graph. This allows you build things like [multi-agent teams](https://langchain-ai.github.io/langgraph/tutorials/multi_agent/hierarchical_agent_teams/), where each team can track its own separate state.\n",
    "\n",
    "In this how-to guide we will cover how to manage the persisted state in subgraphs. This will enable a lot of the human-in-the-loop interaction patterns."
   ]
  },
  {
   "cell_type": "code",
   "execution_count": 3,
   "metadata": {},
   "outputs": [],
   "source": [
    "%%capture --no-stderr\n",
    "%pip install -U langgraph"
   ]
  },
  {
   "attachments": {},
   "cell_type": "markdown",
   "metadata": {},
   "source": [
    "## Setup SubGraph\n",
    "\n",
    "First, let's set up our subgraph. For this, we will create a simple graph that can get the weather for a specific city."
   ]
  },
  {
   "cell_type": "code",
   "execution_count": 16,
   "metadata": {},
   "outputs": [],
   "source": [
    "from langgraph.graph import StateGraph, END, START, MessagesState\n",
    "from langchain_core.tools import tool\n",
    "from langchain_openai import ChatOpenAI\n",
    "\n",
    "\n",
    "@tool\n",
    "def get_weather(city: str):\n",
    "    \"\"\"Get the weather for a specific city\"\"\"\n",
    "    return f\"I'ts sunny in {city}!\"\n",
    "\n",
    "raw_model = ChatOpenAI()\n",
    "model = raw_model.with_structured_output(get_weather)\n",
    "\n",
    "\n",
    "class SubGraphState(MessagesState):\n",
    "    city: str\n",
    "\n",
    "\n",
    "def model_node(state: SubGraphState):\n",
    "    result = model.invoke(state['messages'])\n",
    "    return {\"city\": result[\"city\"]}\n",
    "\n",
    "def weather_node(state: SubGraphState):\n",
    "    result = get_weather.invoke({\"city\": state['city']})\n",
    "    return {\"messages\": [{\"role\": \"assistant\", \"content\": result}]}\n",
    "\n",
    "\n",
    "subgraph = StateGraph(SubGraphState)\n",
    "subgraph.add_node(model_node)\n",
    "subgraph.add_node(weather_node)\n",
    "subgraph.add_edge(START, \"model_node\")\n",
    "subgraph.add_edge(\"model_node\", \"weather_node\")\n",
    "subgraph.add_edge(\"weather_node\", END)\n",
    "subgraph = subgraph.compile(interrupt_before=[\"weather_node\"])"
   ]
  },
  {
   "cell_type": "markdown",
   "metadata": {},
   "source": [
    "## Setup Graph\n",
    "\n",
    "We can now setup the overall graph. This graph will first route to the subgraph if it needs to get the weather, otherwise it will route to a normal LLM."
   ]
  },
  {
   "cell_type": "code",
   "execution_count": 17,
   "metadata": {},
   "outputs": [],
   "source": [
    "from typing import TypedDict, Literal\n",
    "from langgraph.checkpoint.memory import MemorySaver\n",
    "\n",
    "\n",
    "memory = MemorySaver()\n",
    "\n",
    "\n",
    "class RouterState(MessagesState):\n",
    "    route: Literal[\"weather\", \"other\"]\n",
    "\n",
    "\n",
    "class Router(TypedDict):\n",
    "    route: Literal[\"weather\", \"other\"]\n",
    "\n",
    "router_model = raw_model.with_structured_output(Router)\n",
    "    \n",
    "def router_node(state: RouterState):\n",
    "    system_message = \"Classify the incoming query as either about weather or not.\"\n",
    "    messages = [{\"role\": \"system\", \"content\": system_message}] + state['messages']\n",
    "    route = router_model.invoke(messages)\n",
    "    return {\"route\": route['route']}\n",
    "\n",
    "\n",
    "def normal_llm_node(state: RouterState):\n",
    "    response = raw_model.invoke(state['messages'])\n",
    "    return {\"messages\": [response]}\n",
    "\n",
    "\n",
    "def route_after_prediction(state: RouterState):\n",
    "    if state['route'] == \"weather\":\n",
    "        return \"weather_graph\"\n",
    "    else:\n",
    "        return \"normal_llm_node\"\n",
    "\n",
    "\n",
    "graph = StateGraph(RouterState)\n",
    "graph.add_node(router_node)\n",
    "graph.add_node(normal_llm_node)\n",
    "graph.add_node(\"weather_graph\", subgraph)\n",
    "graph.add_edge(START, \"router_node\")\n",
    "graph.add_conditional_edges(\"router_node\", route_after_prediction)\n",
    "graph.add_edge(\"normal_llm_node\", END)\n",
    "graph.add_edge(\"weather_graph\", END)\n",
    "graph = graph.compile(checkpointer=memory)"
   ]
  },
  {
   "cell_type": "code",
   "execution_count": 18,
   "metadata": {},
   "outputs": [
    {
     "data": {
      "image/jpeg": "[encoded data removed]",
      "text/plain": [
       "<IPython.core.display.Image object>"
      ]
     },
     "metadata": {},
     "output_type": "display_data"
    }
   ],
   "source": [
    "from IPython.display import Image, display\n",
    "\n",
    "# Setting xray to 1 will show the internal structure of the nested graph\n",
    "display(Image(graph.get_graph(xray=1).draw_mermaid_png()))"
   ]
  },
  {
   "cell_type": "markdown",
   "metadata": {},
   "source": [
    "Let's test this out with a normal query!"
   ]
  },
  {
   "cell_type": "code",
   "execution_count": 19,
   "metadata": {},
   "outputs": [
    {
     "name": "stdout",
     "output_type": "stream",
     "text": [
      "{'router_node': {'route': 'other'}}\n",
      "{'normal_llm_node': {'messages': [AIMessage(content='Hello! How can I assist you today?', response_metadata={'token_usage': {'completion_tokens': 9, 'prompt_tokens': 9, 'total_tokens': 18}, 'model_name': 'gpt-3.5-turbo-0125', 'system_fingerprint': None, 'finish_reason': 'stop', 'logprobs': None}, id='run-32af0384-dfde-429d-b81c-e411c0836843-0', usage_metadata={'input_tokens': 9, 'output_tokens': 9, 'total_tokens': 18})]}}\n"
     ]
    }
   ],
   "source": [
    "config = {\"configurable\": {\"thread_id\": \"1\"}}\n",
    "inputs = {\"messages\": [{\"role\": \"user\", \"content\": \"hi!\"}]}\n",
    "for update in graph.stream(inputs, config=config, stream_mode=\"updates\"):\n",
    "    print(update)"
   ]
  },
  {
   "cell_type": "markdown",
   "metadata": {},
   "source": [
    "## Resuming from breakpoints\n",
    "\n",
    "Let's now look at what happens with breakpoints. Let's invoke it with a query that should get routed to the weather subgraph where we have the interrupt node."
   ]
  },
  {
   "cell_type": "code",
   "execution_count": 20,
   "metadata": {},
   "outputs": [
    {
     "name": "stdout",
     "output_type": "stream",
     "text": [
      "{'router_node': {'route': 'weather'}}\n"
     ]
    }
   ],
   "source": [
    "config = {\"configurable\": {\"thread_id\": \"2\"}}\n",
    "inputs = {\"messages\": [{\"role\": \"user\", \"content\": \"what's the weather in sf\"}]}\n",
    "for update in graph.stream(inputs, config=config, stream_mode=\"updates\"):\n",
    "    print(update)"
   ]
  },
  {
   "cell_type": "markdown",
   "metadata": {},
   "source": [
    "If we get the state now, we can see that it's paused on `weather_graph`"
   ]
  },
  {
   "cell_type": "code",
   "execution_count": 21,
   "metadata": {},
   "outputs": [
    {
     "data": {
      "text/plain": [
       "('weather_graph',)"
      ]
     },
     "execution_count": 21,
     "metadata": {},
     "output_type": "execute_result"
    }
   ],
   "source": [
    "state = graph.get_state(config)\n",
    "state.next"
   ]
  },
  {
   "cell_type": "markdown",
   "metadata": {},
   "source": [
    "We can look further inside the `subgraph_state_snapshots` on the state to see the state of any subgraphs. From this, we can see that it is paused at the `weather_node`. Note that we can also see the `city` attribute - this is only available on the state of the subgraph."
   ]
  },
  {
   "cell_type": "code",
   "execution_count": 22,
   "metadata": {},
   "outputs": [
    {
     "data": {
      "text/plain": [
       "{'weather_graph': StateSnapshot(values={'messages': [HumanMessage(content=\"what's the weather in sf\", id='25fd45be-8973-4462-8770-fbfb242a1065')], 'city': 'San Francisco'}, next=('weather_node',), config={'configurable': {'thread_id': '2', 'checkpoint_ns': 'weather_graph', 'checkpoint_id': '1ef5b8d9-18e7-69e6-8001-96abbb8eff7b'}}, metadata={'source': 'loop', 'writes': {'model_node': {'city': 'San Francisco'}}, 'step': 1}, created_at='2024-08-16T05:08:26.786549+00:00', parent_config={'configurable': {'thread_id': '2', 'checkpoint_ns': 'weather_graph', 'checkpoint_id': '1ef5b8d9-18e7-69e6-8001-96abbb8eff7b'}}, subgraph_state_snapshots=None)}"
      ]
     },
     "execution_count": 22,
     "metadata": {},
     "output_type": "execute_result"
    }
   ],
   "source": [
    "state.subgraph_state_snapshots"
   ]
  },
  {
   "cell_type": "markdown",
   "metadata": {},
   "source": [
    "To resume execution, we can just invoke the outer graph as normal"
   ]
  },
  {
   "cell_type": "code",
   "execution_count": 23,
   "metadata": {},
   "outputs": [
    {
     "name": "stdout",
     "output_type": "stream",
     "text": [
      "{'weather_graph': {'messages': [HumanMessage(content=\"what's the weather in sf\", id='25fd45be-8973-4462-8770-fbfb242a1065'), AIMessage(content=\"I'ts sunny in San Francisco!\", id='2f40b062-d065-4367-981d-c3f4238f7072')]}}\n"
     ]
    }
   ],
   "source": [
    "for update in graph.stream(None, config=config, stream_mode=\"updates\"):\n",
    "    print(update)"
   ]
  },
  {
   "cell_type": "markdown",
   "metadata": {},
   "source": [
    "## Modifying state\n",
    "\n",
    "What if we want to modify the state? We can do this by updating the state at the point in time.\n",
    "\n",
    "By default, when calling `update_state` it"
   ]
  },
  {
   "cell_type": "code",
   "execution_count": 24,
   "metadata": {},
   "outputs": [
    {
     "name": "stdout",
     "output_type": "stream",
     "text": [
      "{'router_node': {'route': 'weather'}}\n"
     ]
    }
   ],
   "source": [
    "config = {\"configurable\": {\"thread_id\": \"4\"}}\n",
    "inputs = {\"messages\": [{\"role\": \"user\", \"content\": \"what's the weather in sf\"}]}\n",
    "for update in graph.stream(inputs, config=config, stream_mode=\"updates\"):\n",
    "    print(update)"
   ]
  },
  {
   "cell_type": "code",
   "execution_count": 25,
   "metadata": {},
   "outputs": [
    {
     "data": {
      "text/plain": [
       "[HumanMessage(content=\"what's the weather in sf\", id='032ab116-3cf9-4812-b3d2-12a8f0fa7ec0')]"
      ]
     },
     "execution_count": 25,
     "metadata": {},
     "output_type": "execute_result"
    }
   ],
   "source": [
    "state = graph.get_state(config)\n",
    "state.values['messages']"
   ]
  },
  {
   "cell_type": "code",
   "execution_count": 26,
   "metadata": {},
   "outputs": [
    {
     "data": {
      "text/plain": [
       "{'configurable': {'thread_id': '4',\n",
       "  'checkpoint_ns': '',\n",
       "  'checkpoint_id': '1ef5b8d9-4424-601e-8002-d081bfa974d9'}}"
      ]
     },
     "execution_count": 26,
     "metadata": {},
     "output_type": "execute_result"
    }
   ],
   "source": [
    "graph.update_state(config, {\"city\": \"la\"})"
   ]
  },
  {
   "cell_type": "code",
   "execution_count": 27,
   "metadata": {},
   "outputs": [
    {
     "name": "stdout",
     "output_type": "stream",
     "text": [
      "{'weather_graph': {'messages': [HumanMessage(content=\"what's the weather in sf\", id='032ab116-3cf9-4812-b3d2-12a8f0fa7ec0'), AIMessage(content=\"I'ts sunny in la!\", id='d57a0691-9f80-4ad2-99f0-9e0111df0c07')]}}\n"
     ]
    }
   ],
   "source": [
    "for update in graph.stream(None, config=config, stream_mode=\"updates\"):\n",
    "    print(update)"
   ]
  },
  {
   "cell_type": "markdown",
   "metadata": {},
   "source": [
    "If we want to, we we can also update the state by adding a message acting as the weather node in the subgraph. Note that to act as a subgraph we have to specify the `as_node` argument as a list of strings, representing first the subgraph and then the node within that subgraph"
   ]
  },
  {
   "cell_type": "code",
   "execution_count": 34,
   "metadata": {},
   "outputs": [
    {
     "name": "stdout",
     "output_type": "stream",
     "text": [
      "{'router_node': {'route': 'weather'}}\n",
      "{'weather_graph': None}\n",
      "[HumanMessage(content=\"what's the weather in sf\", id='766988e1-6258-43b2-90f0-79756eb6b62e'), AIMessage(content='rainy', id='0851faf4-7a21-42b2-be3c-e3f749da78c7')]\n"
     ]
    }
   ],
   "source": [
    "config = {\"configurable\": {\"thread_id\": \"7\"}}\n",
    "inputs = {\"messages\": [{\"role\": \"user\", \"content\": \"what's the weather in sf\"}]}\n",
    "for update in graph.stream(inputs, config=config, stream_mode=\"updates\"):\n",
    "    print(update)\n",
    "graph.update_state(config, {\"messages\": [{\"role\": \"assistant\", \"content\": \"rainy\"}]}, as_node=[\"weather_graph\", \"weather_node\"])\n",
    "for update in graph.stream(None, config=config, stream_mode=\"updates\"):\n",
    "    print(update)\n",
    "print(graph.get_state(config).values['messages'])"
   ]
  },
  {
   "cell_type": "markdown",
   "metadata": {},
   "source": [
    "We could also update the graph just acting as the **entire** subgraph. This is done with normal arguments to `as_node`"
   ]
  },
  {
   "cell_type": "code",
   "execution_count": 36,
   "metadata": {},
   "outputs": [
    {
     "name": "stdout",
     "output_type": "stream",
     "text": [
      "{'router_node': {'route': 'weather'}}\n",
      "[HumanMessage(content=\"what's the weather in sf\", id='d6260faa-c8ce-4935-af8b-7f0d40e2b211'), AIMessage(content='rainy', id='061291a8-a141-4cc4-8d9a-195c0358d142')]\n"
     ]
    }
   ],
   "source": [
    "config = {\"configurable\": {\"thread_id\": \"8\"}}\n",
    "inputs = {\"messages\": [{\"role\": \"user\", \"content\": \"what's the weather in sf\"}]}\n",
    "for update in graph.stream(inputs, config=config, stream_mode=\"updates\"):\n",
    "    print(update)\n",
    "graph.update_state(config, {\"messages\": [{\"role\": \"assistant\", \"content\": \"rainy\"}]}, as_node=[\"weather_graph\"])\n",
    "for update in graph.stream(None, config=config, stream_mode=\"updates\"):\n",
    "    print(update)\n",
    "print(graph.get_state(config).values['messages'])"
   ]
  },
  {
   "cell_type": "code",
   "execution_count": null,
   "metadata": {},
   "outputs": [],
   "source": []
  }
 ],
 "metadata": {
  "kernelspec": {
   "display_name": "Python 3 (ipykernel)",
   "language": "python",
   "name": "python3"
  },
  "language_info": {
   "codemirror_mode": {
    "name": "ipython",
    "version": 3
   },
   "file_extension": ".py",
   "mimetype": "text/x-python",
   "name": "python",
   "nbconvert_exporter": "python",
   "pygments_lexer": "ipython3",
   "version": "3.11.1"
  }
 },
 "nbformat": 4,
 "nbformat_minor": 4
}
