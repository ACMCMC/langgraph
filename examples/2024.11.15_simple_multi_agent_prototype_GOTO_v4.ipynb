{
 "cells": [
  {
   "cell_type": "code",
   "execution_count": 1,
   "id": "828c1d96-6940-44ed-983f-134972cd4570",
   "metadata": {},
   "outputs": [],
   "source": [
    "from langchain_openai import ChatOpenAI\n",
    "from langchain_anthropic import ChatAnthropic\n",
    "\n",
    "import os\n",
    "import getpass\n",
    "os.environ['OPENAI_API_KEY'] = \"\"\n",
    "os.environ['ANTHROPIC_API_KEY'] = \"\""
   ]
  },
  {
   "cell_type": "code",
   "execution_count": 2,
   "id": "fc99d428-67e9-45a7-b953-a6bf1ad96da8",
   "metadata": {},
   "outputs": [],
   "source": [
    "def add(a: int, b: int):\n",
    "    \"\"\"Adds two numbers\"\"\"\n",
    "    return a + b"
   ]
  },
  {
   "cell_type": "code",
   "execution_count": 3,
   "id": "8bf48bbb-8da9-4afc-bb7c-111e7fadb0f3",
   "metadata": {},
   "outputs": [],
   "source": [
    "def multiply(a: int, b: int):\n",
    "    \"\"\"Multiplies two numbers\"\"\"\n",
    "    return a * b"
   ]
  },
  {
   "cell_type": "markdown",
   "id": "f5b6ef4a-2cbb-4aee-9a37-7fd4881391cd",
   "metadata": {},
   "source": [
    "### Wrapper for a single agent that can both call tools and transfer to other agents"
   ]
  },
  {
   "cell_type": "code",
   "execution_count": 4,
   "id": "98fb7cb5-1ff4-4603-9aa1-467c3b047b60",
   "metadata": {},
   "outputs": [],
   "source": [
    "from langgraph.prebuilt.chat_agent_executor import AgentRouterState\n",
    "from langgraph.prebuilt import create_react_agent"
   ]
  },
  {
   "cell_type": "code",
   "execution_count": 5,
   "id": "96a9f030-e1b2-4355-8010-f322f76dfe26",
   "metadata": {},
   "outputs": [],
   "source": [
    "model = ChatOpenAI(model=\"gpt-4o\")"
   ]
  },
  {
   "cell_type": "code",
   "execution_count": 6,
   "id": "10133481-490b-4610-9603-62be431d6716",
   "metadata": {},
   "outputs": [],
   "source": [
    "model_anthropic = ChatAnthropic(model=\"claude-3-5-sonnet-latest\")"
   ]
  },
  {
   "cell_type": "code",
   "execution_count": 7,
   "id": "952dbd5f-f77b-4d64-92d2-cc7097c97f1a",
   "metadata": {},
   "outputs": [],
   "source": [
    "from langgraph.checkpoint.memory import MemorySaver\n",
    "from langgraph.graph import StateGraph, GraphCommand, START, END\n",
    "from typing import Literal"
   ]
  },
  {
   "cell_type": "code",
   "execution_count": 8,
   "id": "0ee88f4f-e1d7-4f91-b50b-a4878064836f",
   "metadata": {},
   "outputs": [],
   "source": [
    "from langgraph.prebuilt.handoff import create_handoff_tool, GraphCommandTool"
   ]
  },
  {
   "cell_type": "code",
   "execution_count": 9,
   "id": "6417909f-afb0-429c-ac27-ecc57fa121df",
   "metadata": {},
   "outputs": [],
   "source": [
    "from langchain_core.runnables import RunnableConfig"
   ]
  },
  {
   "cell_type": "code",
   "execution_count": 10,
   "id": "01acdf66-8fb2-4cb1-9c10-010e229fa4aa",
   "metadata": {},
   "outputs": [],
   "source": [
    "from langchain_core.messages import HumanMessage"
   ]
  },
  {
   "cell_type": "code",
   "execution_count": 11,
   "id": "fe093411-50a3-4586-8931-3861c0dbd5de",
   "metadata": {},
   "outputs": [],
   "source": [
    "from typing import Callable"
   ]
  },
  {
   "cell_type": "code",
   "execution_count": 12,
   "id": "f028c25f-cb72-4aa9-8274-287c537a6eb6",
   "metadata": {},
   "outputs": [],
   "source": [
    "# output processors\n",
    "\n",
    "def keep_last_message_as_human(state):\n",
    "    updated_state = state.copy()\n",
    "    last_message_content = updated_state[\"messages\"][-1].content\n",
    "    # TODO: how do we propagate agent name here?\n",
    "    last_message = HumanMessage(content=last_message_content)\n",
    "    updated_state[\"messages\"] = [last_message]\n",
    "    return updated_state"
   ]
  },
  {
   "cell_type": "code",
   "execution_count": 13,
   "id": "fa1892b4-1f69-4ee3-8613-26c8cb94d28c",
   "metadata": {},
   "outputs": [],
   "source": [
    "from langgraph.prebuilt.chat_agent_executor import make_agent_node, add_entrypoint_router"
   ]
  },
  {
   "cell_type": "code",
   "execution_count": 14,
   "id": "6d5ab915-2b79-4e7d-bb26-9fc4c288e505",
   "metadata": {},
   "outputs": [],
   "source": [
    "bob_tool = create_handoff_tool(\"bob\", name=\"transfer_to_bob\")\n",
    "alice_tool = create_handoff_tool(\"alice\", name=\"transfer_to_alice\")\n",
    "charlie_tool = create_handoff_tool(\"charlie\", name=\"transfer_to_charlie\")"
   ]
  },
  {
   "cell_type": "code",
   "execution_count": 15,
   "id": "c74780ec-2a1e-47a5-a39e-70a9ee55f210",
   "metadata": {},
   "outputs": [],
   "source": [
    "builder = StateGraph(AgentRouterState)\n",
    "\n",
    "alice = make_agent_node(model, [add, bob_tool], state_modifier=\"You're Alice.\", output_processor=keep_last_message_as_human)\n",
    "bob = make_agent_node(model, [multiply, alice_tool], state_modifier=\"You're Bob.\", output_processor=keep_last_message_as_human)\n",
    "\n",
    "add_entrypoint_router(builder, route_to=[(\"alice\", alice), (\"bob\", bob)], default_start_node=\"alice\")\n",
    "memory = MemorySaver()\n",
    "graph = builder.compile(checkpointer=memory)"
   ]
  },
  {
   "cell_type": "code",
   "execution_count": 16,
   "id": "61f1ee4f-606b-4b4b-821d-584a710172f9",
   "metadata": {},
   "outputs": [],
   "source": [
    "from IPython.display import display, Image"
   ]
  },
  {
   "cell_type": "code",
   "execution_count": 19,
   "id": "f3fc3279-aabf-4965-b258-7a30b9042a0d",
   "metadata": {},
   "outputs": [
    {
     "data": {
      "image/png": "[encoded data removed]",
      "text/plain": [
       "<IPython.core.display.Image object>"
      ]
     },
     "metadata": {},
     "output_type": "display_data"
    }
   ],
   "source": [
    "display(Image(graph.get_graph().draw_mermaid_png()))"
   ]
  },
  {
   "cell_type": "code",
   "execution_count": 20,
   "id": "44dafb91-e603-4190-9eaa-b904ea02b864",
   "metadata": {},
   "outputs": [],
   "source": [
    "config = {\"configurable\": {\"thread_id\": \"1\"}}"
   ]
  },
  {
   "cell_type": "code",
   "execution_count": 21,
   "id": "cc5fb965-7164-4797-b686-a97accbb0663",
   "metadata": {},
   "outputs": [
    {
     "name": "stdout",
     "output_type": "stream",
     "text": [
      "{'alice': {'messages': [HumanMessage(content=\"Transferred to 'bob'!\", additional_kwargs={}, response_metadata={}, id='fcac6c21-dfd7-416e-9f9d-2a476c9a64d0')], 'node': 'bob'}}\n",
      "\n",
      "\n",
      "{'bob': {'messages': [HumanMessage(content='Welcome! How can I assist you today?', additional_kwargs={}, response_metadata={}, id='16fd4c80-cf4d-4f90-bd77-38736a38fe5d')], 'node': 'bob'}}\n",
      "\n",
      "\n"
     ]
    }
   ],
   "source": [
    "for chunk in graph.stream({\"messages\": [(\"user\", \"hi! transfer me to bob\")]}, config):\n",
    "    print(chunk)\n",
    "    print(\"\\n\")"
   ]
  },
  {
   "cell_type": "code",
   "execution_count": 22,
   "id": "eef9ca85-9c25-4e89-a222-aa2423b24427",
   "metadata": {},
   "outputs": [
    {
     "name": "stdout",
     "output_type": "stream",
     "text": [
      "{'bob': {'messages': [HumanMessage(content=\"You're speaking to Bob! How can I assist you today?\", additional_kwargs={}, response_metadata={}, id='6452f635-6132-4e37-ae83-2236386a0f24')], 'node': 'bob'}}\n",
      "\n",
      "\n"
     ]
    }
   ],
   "source": [
    "for chunk in graph.stream({\"messages\": [(\"user\", \"who am i speaking to?\")]}, config):\n",
    "    print(chunk)\n",
    "    print(\"\\n\")"
   ]
  },
  {
   "cell_type": "code",
   "execution_count": 23,
   "id": "4018a7e8-5665-403e-b1e2-1dad04090afb",
   "metadata": {},
   "outputs": [
    {
     "name": "stdout",
     "output_type": "stream",
     "text": [
      "{'bob': {'messages': [HumanMessage(content='My name is Bob. How can I help you today?', additional_kwargs={}, response_metadata={}, id='7e1ecea9-fd8e-4417-b21a-ce0cc410ebc1')], 'node': 'bob'}}\n",
      "\n",
      "\n"
     ]
    }
   ],
   "source": [
    "for chunk in graph.stream({\"messages\": [(\"user\", \"what's your name?\")]}, config):\n",
    "    print(chunk)\n",
    "    print(\"\\n\")"
   ]
  },
  {
   "cell_type": "code",
   "execution_count": 24,
   "id": "2a2d56d8-ae6e-404d-84fb-9f2c689cd991",
   "metadata": {},
   "outputs": [
    {
     "name": "stdout",
     "output_type": "stream",
     "text": [
      "(('bob:c4a72001-25dd-8443-c966-8c24c18310a4',), {'agent': {'messages': [AIMessage(content='', additional_kwargs={'tool_calls': [{'id': 'call_EfLL5Sy5zZktEOMwPEFgSrz6', 'function': {'arguments': '{\"a\":3,\"b\":14}', 'name': 'multiply'}, 'type': 'function'}], 'refusal': None}, response_metadata={'token_usage': {'completion_tokens': 17, 'prompt_tokens': 162, 'total_tokens': 179, 'completion_tokens_details': {'accepted_prediction_tokens': 0, 'audio_tokens': 0, 'reasoning_tokens': 0, 'rejected_prediction_tokens': 0}, 'prompt_tokens_details': {'audio_tokens': 0, 'cached_tokens': 0}}, 'model_name': 'gpt-4o-2024-08-06', 'system_fingerprint': 'fp_159d8341cc', 'finish_reason': 'tool_calls', 'logprobs': None}, id='run-92181704-f67b-490b-9031-fcba3dbaae71-0', tool_calls=[{'name': 'multiply', 'args': {'a': 3, 'b': 14}, 'id': 'call_EfLL5Sy5zZktEOMwPEFgSrz6', 'type': 'tool_call'}], usage_metadata={'input_tokens': 162, 'output_tokens': 17, 'total_tokens': 179, 'input_token_details': {'audio': 0, 'cache_read': 0}, 'output_token_details': {'audio': 0, 'reasoning': 0}})]}})\n",
      "\n",
      "\n",
      "(('bob:c4a72001-25dd-8443-c966-8c24c18310a4',), {'tools': {'messages': [ToolMessage(content='42', name='multiply', id='817cd15c-a327-48fd-8317-61fff361a428', tool_call_id='call_EfLL5Sy5zZktEOMwPEFgSrz6')]}})\n",
      "\n",
      "\n",
      "(('bob:c4a72001-25dd-8443-c966-8c24c18310a4',), {'agent': {'messages': [AIMessage(content='3 times 14 is 42. Is there anything else you need?', additional_kwargs={'refusal': None}, response_metadata={'token_usage': {'completion_tokens': 16, 'prompt_tokens': 187, 'total_tokens': 203, 'completion_tokens_details': {'accepted_prediction_tokens': 0, 'audio_tokens': 0, 'reasoning_tokens': 0, 'rejected_prediction_tokens': 0}, 'prompt_tokens_details': {'audio_tokens': 0, 'cached_tokens': 0}}, 'model_name': 'gpt-4o-2024-08-06', 'system_fingerprint': 'fp_159d8341cc', 'finish_reason': 'stop', 'logprobs': None}, id='run-06dd66e8-563f-4f7c-9a7a-c6b76471ee46-0', usage_metadata={'input_tokens': 187, 'output_tokens': 16, 'total_tokens': 203, 'input_token_details': {'audio': 0, 'cache_read': 0}, 'output_token_details': {'audio': 0, 'reasoning': 0}})]}})\n",
      "\n",
      "\n",
      "((), {'bob': {'messages': [HumanMessage(content='3 times 14 is 42. Is there anything else you need?', additional_kwargs={}, response_metadata={})], 'node': 'bob'}})\n",
      "\n",
      "\n"
     ]
    }
   ],
   "source": [
    "for chunk in graph.stream({\"messages\": [(\"user\", \"what's 3 times 14?\")]}, config, subgraphs=True):\n",
    "    print(chunk)\n",
    "    print(\"\\n\")"
   ]
  },
  {
   "cell_type": "code",
   "execution_count": 25,
   "id": "1fb07133-9599-4843-bcb9-77babbc266f1",
   "metadata": {},
   "outputs": [
    {
     "name": "stdout",
     "output_type": "stream",
     "text": [
      "{'bob': {'messages': [HumanMessage(content=\"Transferred to 'alice'!\", additional_kwargs={}, response_metadata={}, id='aa11ecdd-fafe-411f-98b8-dddfa7735f17')], 'node': 'alice'}}\n",
      "\n",
      "\n",
      "{'alice': {'messages': [HumanMessage(content='Hi! How can I assist you today?', additional_kwargs={}, response_metadata={}, id='bd70f40e-3938-4d5b-99f6-5cf1ca8dc21c')], 'node': 'alice'}}\n",
      "\n",
      "\n"
     ]
    }
   ],
   "source": [
    "for chunk in graph.stream({\"messages\": [(\"user\", \"cool, now transfer me back to alice\")]}, config):\n",
    "    print(chunk)\n",
    "    print(\"\\n\")"
   ]
  },
  {
   "cell_type": "code",
   "execution_count": 26,
   "id": "16c2a896-2d2d-4b13-aca2-80a0dd83c28d",
   "metadata": {},
   "outputs": [
    {
     "name": "stdout",
     "output_type": "stream",
     "text": [
      "(('alice:cc44000d-88fd-c6e5-ed5b-d45d57695bdd',), {'agent': {'messages': [AIMessage(content='', additional_kwargs={'tool_calls': [{'id': 'call_au8sBrvIzrUKTij5m4RCzUXD', 'function': {'arguments': '{\"a\":4,\"b\":9}', 'name': 'add'}, 'type': 'function'}], 'refusal': None}, response_metadata={'token_usage': {'completion_tokens': 17, 'prompt_tokens': 225, 'total_tokens': 242, 'completion_tokens_details': {'accepted_prediction_tokens': 0, 'audio_tokens': 0, 'reasoning_tokens': 0, 'rejected_prediction_tokens': 0}, 'prompt_tokens_details': {'audio_tokens': 0, 'cached_tokens': 0}}, 'model_name': 'gpt-4o-2024-08-06', 'system_fingerprint': 'fp_467dc6e35f', 'finish_reason': 'tool_calls', 'logprobs': None}, id='run-52b315a2-b6a9-41c4-b17b-106d108e9e10-0', tool_calls=[{'name': 'add', 'args': {'a': 4, 'b': 9}, 'id': 'call_au8sBrvIzrUKTij5m4RCzUXD', 'type': 'tool_call'}], usage_metadata={'input_tokens': 225, 'output_tokens': 17, 'total_tokens': 242, 'input_token_details': {'audio': 0, 'cache_read': 0}, 'output_token_details': {'audio': 0, 'reasoning': 0}})]}})\n",
      "\n",
      "\n",
      "(('alice:cc44000d-88fd-c6e5-ed5b-d45d57695bdd',), {'tools': {'messages': [ToolMessage(content='13', name='add', id='67e1a910-2ec2-4944-9f8b-88b6cd6c336e', tool_call_id='call_au8sBrvIzrUKTij5m4RCzUXD')]}})\n",
      "\n",
      "\n",
      "(('alice:cc44000d-88fd-c6e5-ed5b-d45d57695bdd',), {'agent': {'messages': [AIMessage(content='4 + 9 is 13. Is there anything else you need?', additional_kwargs={'refusal': None}, response_metadata={'token_usage': {'completion_tokens': 16, 'prompt_tokens': 250, 'total_tokens': 266, 'completion_tokens_details': {'accepted_prediction_tokens': 0, 'audio_tokens': 0, 'reasoning_tokens': 0, 'rejected_prediction_tokens': 0}, 'prompt_tokens_details': {'audio_tokens': 0, 'cached_tokens': 0}}, 'model_name': 'gpt-4o-2024-08-06', 'system_fingerprint': 'fp_467dc6e35f', 'finish_reason': 'stop', 'logprobs': None}, id='run-57759356-78d2-4687-9f79-ca8a2d68e7ab-0', usage_metadata={'input_tokens': 250, 'output_tokens': 16, 'total_tokens': 266, 'input_token_details': {'audio': 0, 'cache_read': 0}, 'output_token_details': {'audio': 0, 'reasoning': 0}})]}})\n",
      "\n",
      "\n",
      "((), {'alice': {'messages': [HumanMessage(content='4 + 9 is 13. Is there anything else you need?', additional_kwargs={}, response_metadata={})], 'node': 'alice'}})\n",
      "\n",
      "\n"
     ]
    }
   ],
   "source": [
    "for chunk in graph.stream({\"messages\": [(\"user\", \"what's 4 + 9\")]}, config, subgraphs=True):\n",
    "    print(chunk)\n",
    "    print(\"\\n\")"
   ]
  },
  {
   "cell_type": "markdown",
   "id": "e108a6d1-e159-43c1-a879-487f33d94f8c",
   "metadata": {},
   "source": [
    "---"
   ]
  },
  {
   "cell_type": "code",
   "execution_count": 31,
   "id": "b026ec2a-0b1a-4464-a4c4-e431e3551f22",
   "metadata": {},
   "outputs": [],
   "source": [
    "builder = StateGraph(AgentRouterState)\n",
    "\n",
    "alice = make_agent_node(model, [add, bob_tool], state_modifier=\"You're Alice the cat.\", output_processor=keep_last_message_as_human)\n",
    "bob = make_agent_node(model, [multiply, alice_tool, charlie_tool], state_modifier=\"You're Bob the dog.\", output_processor=keep_last_message_as_human)\n",
    "charlie = make_agent_node(model, [bob_tool], state_modifier=\"You're Charlie the parrot.\", output_processor=keep_last_message_as_human)\n",
    "\n",
    "add_entrypoint_router(builder, route_to=[(\"alice\", alice), (\"bob\", bob), (\"charlie\", bob)], default_start_node=\"alice\")\n",
    "\n",
    "memory = MemorySaver()\n",
    "graph = builder.compile(checkpointer=memory)"
   ]
  },
  {
   "cell_type": "code",
   "execution_count": 32,
   "id": "8ecdd447-23eb-4b8e-9431-7defe660d7eb",
   "metadata": {},
   "outputs": [
    {
     "data": {
      "image/png": "[encoded data removed]",
      "text/plain": [
       "<IPython.core.display.Image object>"
      ]
     },
     "metadata": {},
     "output_type": "display_data"
    }
   ],
   "source": [
    "display(Image(graph.get_graph().draw_mermaid_png()))"
   ]
  },
  {
   "cell_type": "code",
   "execution_count": 33,
   "id": "23c0e2f4-ef0e-4f2e-b73c-ec7f9b67108d",
   "metadata": {},
   "outputs": [
    {
     "name": "stdout",
     "output_type": "stream",
     "text": [
      "{'alice': {'messages': [HumanMessage(content=\"Transferred to 'bob'!\", additional_kwargs={}, response_metadata={}, id='1561b5a8-a1c6-4791-881c-12b93b89c1e5')], 'node': 'bob'}}\n",
      "\n",
      "\n",
      "{'bob': {'messages': [HumanMessage(content='Woof! How can I assist you today?', additional_kwargs={}, response_metadata={}, id='21835c26-c0ea-4b6d-9c02-0dc3cdc3112a')], 'node': 'bob'}}\n",
      "\n",
      "\n"
     ]
    }
   ],
   "source": [
    "for chunk in graph.stream({\"messages\": [(\"user\", \"hi! transfer me to bob\")]}, config):\n",
    "    print(chunk)\n",
    "    print(\"\\n\")"
   ]
  },
  {
   "cell_type": "code",
   "execution_count": 34,
   "id": "406eb2a5-5366-4600-b1bd-1ce3fdacfe4c",
   "metadata": {},
   "outputs": [
    {
     "name": "stdout",
     "output_type": "stream",
     "text": [
      "{'bob': {'messages': [HumanMessage(content=\"Transferred to 'charlie'!\", additional_kwargs={}, response_metadata={}, id='39c6fefc-8f3f-42d0-9a46-59d1cd3a689c')], 'node': 'charlie'}}\n",
      "\n",
      "\n",
      "{'charlie': {'messages': [HumanMessage(content=\"Transferred to 'charlie'!\", additional_kwargs={}, response_metadata={}, id='92a72c78-add3-45db-b65e-570973dfae7f')], 'node': 'charlie'}}\n",
      "\n",
      "\n",
      "{'charlie': {'messages': [HumanMessage(content='Woof! How can I assist you today?', additional_kwargs={}, response_metadata={}, id='368e301e-4023-4c7d-8344-eb76089bad9b')], 'node': 'charlie'}}\n",
      "\n",
      "\n"
     ]
    }
   ],
   "source": [
    "for chunk in graph.stream({\"messages\": [(\"user\", \"transfer me to charlie\")]}, config):\n",
    "    print(chunk)\n",
    "    print(\"\\n\")"
   ]
  },
  {
   "cell_type": "code",
   "execution_count": 35,
   "id": "0f2e469c-7f7f-4f58-a1bd-fa59965018f8",
   "metadata": {},
   "outputs": [
    {
     "name": "stdout",
     "output_type": "stream",
     "text": [
      "{'charlie': {'messages': [HumanMessage(content=\"Transferred to 'bob'!\", additional_kwargs={}, response_metadata={}, id='a9143fab-a367-40b3-9e21-027f52f48943')], 'node': 'charlie'}}\n",
      "\n",
      "\n"
     ]
    }
   ],
   "source": [
    "for chunk in graph.stream({\"messages\": [(\"user\", \"back to bob please\")]}, config):\n",
    "    print(chunk)\n",
    "    print(\"\\n\")"
   ]
  },
  {
   "cell_type": "markdown",
   "id": "46618927-40a7-4bf2-a20e-9377dfd3827f",
   "metadata": {},
   "source": [
    "---"
   ]
  },
  {
   "cell_type": "markdown",
   "id": "b12eb795-ac11-452b-a7e4-4056db373f0d",
   "metadata": {},
   "source": [
    "### Supervisor"
   ]
  },
  {
   "cell_type": "code",
   "execution_count": 38,
   "id": "e1a3912e-4d63-4668-b87c-05e325ff0dcb",
   "metadata": {},
   "outputs": [],
   "source": [
    "builder = StateGraph(AgentRouterState)\n",
    "\n",
    "supervisor_tool = create_handoff_tool(\"supervisor\", name=\"transfer_to_supervisor\")\n",
    "\n",
    "supervisor = make_agent_node(model_anthropic, [alice_tool, bob_tool], state_modifier=(\n",
    "    \"You're team supervisor managing Alice and Bob. \"\n",
    "    \"Alice is an expert at multiplication, Bob is great at addition. \"\n",
    "    \"To answer user question, transfer to one of them that has the requisite skills. \"\n",
    "    \"Once you have the final answer to user question, do not transfer -- respond to user directly!\"\n",
    "))\n",
    "bob = make_agent_node(model_anthropic, [add, supervisor_tool], state_modifier=\"You're Bob. Once you're done adding, you MUST call supervisor.\")\n",
    "alice = make_agent_node(model_anthropic, [multiply, supervisor_tool], state_modifier=\"You're Alice. Once you're done multiplying, you MUST call supervisor.\")\n",
    "\n",
    "add_entrypoint_router(builder, route_to=[(\"supervisor\", supervisor), (\"alice\", alice), (\"bob\", bob)], default_start_node=\"supervisor\")\n",
    "\n",
    "memory = MemorySaver()\n",
    "graph = builder.compile(checkpointer=memory)"
   ]
  },
  {
   "cell_type": "code",
   "execution_count": 39,
   "id": "439522c6-2abc-449f-beb6-7f3e6146965b",
   "metadata": {},
   "outputs": [
    {
     "data": {
      "image/png": "[encoded data removed]",
      "text/plain": [
       "<IPython.core.display.Image object>"
      ]
     },
     "metadata": {},
     "output_type": "display_data"
    }
   ],
   "source": [
    "display(Image(graph.get_graph().draw_mermaid_png()))"
   ]
  },
  {
   "cell_type": "code",
   "execution_count": 40,
   "id": "8ef440d3-a290-4625-8d28-f29d02d217fc",
   "metadata": {
    "scrolled": true
   },
   "outputs": [
    {
     "name": "stdout",
     "output_type": "stream",
     "text": [
      "(('supervisor:0b0c4234-4803-7b9f-47e6-3dbb84127a48',), {'agent': {'messages': [AIMessage(content=[{'text': \"Since this is an addition problem, I'll transfer to Bob who specializes in addition.\", 'type': 'text'}, {'id': 'toolu_01B2Pj3HXoUSfYwT1tZuw59q', 'input': {}, 'name': 'transfer_to_bob', 'type': 'tool_use'}], additional_kwargs={}, response_metadata={'id': 'msg_01VohUmQTGJbzt7nFji7gFiA', 'model': 'claude-3-5-sonnet-20241022', 'stop_reason': 'tool_use', 'stop_sequence': None, 'usage': {'input_tokens': 481, 'output_tokens': 57}}, id='run-e6d2f1dd-9d24-415d-a6bc-d95b3a278732-0', tool_calls=[{'name': 'transfer_to_bob', 'args': {}, 'id': 'toolu_01B2Pj3HXoUSfYwT1tZuw59q', 'type': 'tool_call'}], usage_metadata={'input_tokens': 481, 'output_tokens': 57, 'total_tokens': 538, 'input_token_details': {}})]}})\n",
      "\n",
      "\n",
      "(('supervisor:0b0c4234-4803-7b9f-47e6-3dbb84127a48',), {'tools': {'messages': [ToolMessage(content=\"Transferred to 'bob'!\", name='transfer_to_bob', id='7e5e6235-5eea-4170-9b4d-2e503d03e169', tool_call_id='toolu_01B2Pj3HXoUSfYwT1tZuw59q', artifact=Command(goto='bob'))]}})\n",
      "\n",
      "\n",
      "((), {'supervisor': {'messages': [HumanMessage(content=\"what's 391 + 193\", additional_kwargs={}, response_metadata={}, id='d5123131-38cf-4337-98f1-6379b6018bef'), AIMessage(content=[{'text': \"Since this is an addition problem, I'll transfer to Bob who specializes in addition.\", 'type': 'text'}, {'id': 'toolu_01B2Pj3HXoUSfYwT1tZuw59q', 'input': {}, 'name': 'transfer_to_bob', 'type': 'tool_use'}], additional_kwargs={}, response_metadata={'id': 'msg_01VohUmQTGJbzt7nFji7gFiA', 'model': 'claude-3-5-sonnet-20241022', 'stop_reason': 'tool_use', 'stop_sequence': None, 'usage': {'input_tokens': 481, 'output_tokens': 57}}, id='run-e6d2f1dd-9d24-415d-a6bc-d95b3a278732-0', tool_calls=[{'name': 'transfer_to_bob', 'args': {}, 'id': 'toolu_01B2Pj3HXoUSfYwT1tZuw59q', 'type': 'tool_call'}], usage_metadata={'input_tokens': 481, 'output_tokens': 57, 'total_tokens': 538, 'input_token_details': {}}), ToolMessage(content=\"Transferred to 'bob'!\", name='transfer_to_bob', id='7e5e6235-5eea-4170-9b4d-2e503d03e169', tool_call_id='toolu_01B2Pj3HXoUSfYwT1tZuw59q', artifact=Command(goto='bob'))], 'node': 'bob'}})\n",
      "\n",
      "\n",
      "(('bob:b5eb6b9b-744c-17e3-5582-28503ca70e42',), {'agent': {'messages': [AIMessage(content=[{'text': \"Hi there! I'm Bob. Let me help you add those numbers together.\", 'type': 'text'}, {'id': 'toolu_0121oTEPDbAnvA23bokjo9tb', 'input': {'a': 391, 'b': 193}, 'name': 'add', 'type': 'tool_use'}], additional_kwargs={}, response_metadata={'id': 'msg_01Thd74XwA4AkaNhu2vqeMDu', 'model': 'claude-3-5-sonnet-20241022', 'stop_reason': 'tool_use', 'stop_sequence': None, 'usage': {'input_tokens': 530, 'output_tokens': 86}}, id='run-c8484344-f602-423d-b009-40cab7bd72f1-0', tool_calls=[{'name': 'add', 'args': {'a': 391, 'b': 193}, 'id': 'toolu_0121oTEPDbAnvA23bokjo9tb', 'type': 'tool_call'}], usage_metadata={'input_tokens': 530, 'output_tokens': 86, 'total_tokens': 616, 'input_token_details': {}})]}})\n",
      "\n",
      "\n",
      "(('bob:b5eb6b9b-744c-17e3-5582-28503ca70e42',), {'tools': {'messages': [ToolMessage(content='584', name='add', id='1f160af9-487a-47eb-8429-bff65b5dbf96', tool_call_id='toolu_0121oTEPDbAnvA23bokjo9tb')]}})\n",
      "\n",
      "\n",
      "(('bob:b5eb6b9b-744c-17e3-5582-28503ca70e42',), {'agent': {'messages': [AIMessage(content=[{'text': \"391 + 193 = 584\\n\\nNow that I'm done with the addition, I'll transfer you to the supervisor as required.\", 'type': 'text'}, {'id': 'toolu_01Fq3ZdSmhiHuNm5ZTKdiFgj', 'input': {}, 'name': 'transfer_to_supervisor', 'type': 'tool_use'}], additional_kwargs={}, response_metadata={'id': 'msg_01WWrpAhELCWzFi5B2xCL1Te', 'model': 'claude-3-5-sonnet-20241022', 'stop_reason': 'tool_use', 'stop_sequence': None, 'usage': {'input_tokens': 628, 'output_tokens': 69}}, id='run-df887ce7-2d23-4c46-b85b-973cb4a89ae8-0', tool_calls=[{'name': 'transfer_to_supervisor', 'args': {}, 'id': 'toolu_01Fq3ZdSmhiHuNm5ZTKdiFgj', 'type': 'tool_call'}], usage_metadata={'input_tokens': 628, 'output_tokens': 69, 'total_tokens': 697, 'input_token_details': {}})]}})\n",
      "\n",
      "\n",
      "(('bob:b5eb6b9b-744c-17e3-5582-28503ca70e42',), {'tools': {'messages': [ToolMessage(content=\"Transferred to 'supervisor'!\", name='transfer_to_supervisor', id='7960c7e3-8ff5-48f0-b800-ed7b7ab128f6', tool_call_id='toolu_01Fq3ZdSmhiHuNm5ZTKdiFgj', artifact=Command(goto='supervisor'))]}})\n",
      "\n",
      "\n",
      "((), {'bob': {'messages': [HumanMessage(content=\"what's 391 + 193\", additional_kwargs={}, response_metadata={}, id='d5123131-38cf-4337-98f1-6379b6018bef'), AIMessage(content=[{'text': \"Since this is an addition problem, I'll transfer to Bob who specializes in addition.\", 'type': 'text'}, {'id': 'toolu_01B2Pj3HXoUSfYwT1tZuw59q', 'input': {}, 'name': 'transfer_to_bob', 'type': 'tool_use'}], additional_kwargs={}, response_metadata={'id': 'msg_01VohUmQTGJbzt7nFji7gFiA', 'model': 'claude-3-5-sonnet-20241022', 'stop_reason': 'tool_use', 'stop_sequence': None, 'usage': {'input_tokens': 481, 'output_tokens': 57}}, id='run-e6d2f1dd-9d24-415d-a6bc-d95b3a278732-0', tool_calls=[{'name': 'transfer_to_bob', 'args': {}, 'id': 'toolu_01B2Pj3HXoUSfYwT1tZuw59q', 'type': 'tool_call'}], usage_metadata={'input_tokens': 481, 'output_tokens': 57, 'total_tokens': 538, 'input_token_details': {}}), ToolMessage(content=\"Transferred to 'bob'!\", name='transfer_to_bob', id='7e5e6235-5eea-4170-9b4d-2e503d03e169', tool_call_id='toolu_01B2Pj3HXoUSfYwT1tZuw59q', artifact=Command(goto='bob')), AIMessage(content=[{'text': \"Hi there! I'm Bob. Let me help you add those numbers together.\", 'type': 'text'}, {'id': 'toolu_0121oTEPDbAnvA23bokjo9tb', 'input': {'a': 391, 'b': 193}, 'name': 'add', 'type': 'tool_use'}], additional_kwargs={}, response_metadata={'id': 'msg_01Thd74XwA4AkaNhu2vqeMDu', 'model': 'claude-3-5-sonnet-20241022', 'stop_reason': 'tool_use', 'stop_sequence': None, 'usage': {'input_tokens': 530, 'output_tokens': 86}}, id='run-c8484344-f602-423d-b009-40cab7bd72f1-0', tool_calls=[{'name': 'add', 'args': {'a': 391, 'b': 193}, 'id': 'toolu_0121oTEPDbAnvA23bokjo9tb', 'type': 'tool_call'}], usage_metadata={'input_tokens': 530, 'output_tokens': 86, 'total_tokens': 616, 'input_token_details': {}}), ToolMessage(content='584', name='add', id='1f160af9-487a-47eb-8429-bff65b5dbf96', tool_call_id='toolu_0121oTEPDbAnvA23bokjo9tb'), AIMessage(content=[{'text': \"391 + 193 = 584\\n\\nNow that I'm done with the addition, I'll transfer you to the supervisor as required.\", 'type': 'text'}, {'id': 'toolu_01Fq3ZdSmhiHuNm5ZTKdiFgj', 'input': {}, 'name': 'transfer_to_supervisor', 'type': 'tool_use'}], additional_kwargs={}, response_metadata={'id': 'msg_01WWrpAhELCWzFi5B2xCL1Te', 'model': 'claude-3-5-sonnet-20241022', 'stop_reason': 'tool_use', 'stop_sequence': None, 'usage': {'input_tokens': 628, 'output_tokens': 69}}, id='run-df887ce7-2d23-4c46-b85b-973cb4a89ae8-0', tool_calls=[{'name': 'transfer_to_supervisor', 'args': {}, 'id': 'toolu_01Fq3ZdSmhiHuNm5ZTKdiFgj', 'type': 'tool_call'}], usage_metadata={'input_tokens': 628, 'output_tokens': 69, 'total_tokens': 697, 'input_token_details': {}}), ToolMessage(content=\"Transferred to 'supervisor'!\", name='transfer_to_supervisor', id='7960c7e3-8ff5-48f0-b800-ed7b7ab128f6', tool_call_id='toolu_01Fq3ZdSmhiHuNm5ZTKdiFgj', artifact=Command(goto='supervisor'))], 'node': 'supervisor'}})\n",
      "\n",
      "\n",
      "(('supervisor:3fa280ec-6506-fb13-10c5-41cd45f03658',), {'agent': {'messages': [AIMessage(content='I have the answer for you: 391 + 193 = 584. Is there anything else I can help you with?', additional_kwargs={}, response_metadata={'id': 'msg_01Cp4JqZnQfcCQj3HRzsLZLE', 'model': 'claude-3-5-sonnet-20241022', 'stop_reason': 'end_turn', 'stop_sequence': None, 'usage': {'input_tokens': 741, 'output_tokens': 32}}, id='run-2284e002-dc2f-4f3c-8df4-3bad17c3609c-0', usage_metadata={'input_tokens': 741, 'output_tokens': 32, 'total_tokens': 773, 'input_token_details': {}})]}})\n",
      "\n",
      "\n",
      "((), {'supervisor': {'messages': [HumanMessage(content=\"what's 391 + 193\", additional_kwargs={}, response_metadata={}, id='d5123131-38cf-4337-98f1-6379b6018bef'), AIMessage(content=[{'text': \"Since this is an addition problem, I'll transfer to Bob who specializes in addition.\", 'type': 'text'}, {'id': 'toolu_01B2Pj3HXoUSfYwT1tZuw59q', 'input': {}, 'name': 'transfer_to_bob', 'type': 'tool_use'}], additional_kwargs={}, response_metadata={'id': 'msg_01VohUmQTGJbzt7nFji7gFiA', 'model': 'claude-3-5-sonnet-20241022', 'stop_reason': 'tool_use', 'stop_sequence': None, 'usage': {'input_tokens': 481, 'output_tokens': 57}}, id='run-e6d2f1dd-9d24-415d-a6bc-d95b3a278732-0', tool_calls=[{'name': 'transfer_to_bob', 'args': {}, 'id': 'toolu_01B2Pj3HXoUSfYwT1tZuw59q', 'type': 'tool_call'}], usage_metadata={'input_tokens': 481, 'output_tokens': 57, 'total_tokens': 538, 'input_token_details': {}}), ToolMessage(content=\"Transferred to 'bob'!\", name='transfer_to_bob', id='7e5e6235-5eea-4170-9b4d-2e503d03e169', tool_call_id='toolu_01B2Pj3HXoUSfYwT1tZuw59q', artifact=Command(goto='bob')), AIMessage(content=[{'text': \"Hi there! I'm Bob. Let me help you add those numbers together.\", 'type': 'text'}, {'id': 'toolu_0121oTEPDbAnvA23bokjo9tb', 'input': {'a': 391, 'b': 193}, 'name': 'add', 'type': 'tool_use'}], additional_kwargs={}, response_metadata={'id': 'msg_01Thd74XwA4AkaNhu2vqeMDu', 'model': 'claude-3-5-sonnet-20241022', 'stop_reason': 'tool_use', 'stop_sequence': None, 'usage': {'input_tokens': 530, 'output_tokens': 86}}, id='run-c8484344-f602-423d-b009-40cab7bd72f1-0', tool_calls=[{'name': 'add', 'args': {'a': 391, 'b': 193}, 'id': 'toolu_0121oTEPDbAnvA23bokjo9tb', 'type': 'tool_call'}], usage_metadata={'input_tokens': 530, 'output_tokens': 86, 'total_tokens': 616, 'input_token_details': {}}), ToolMessage(content='584', name='add', id='1f160af9-487a-47eb-8429-bff65b5dbf96', tool_call_id='toolu_0121oTEPDbAnvA23bokjo9tb'), AIMessage(content=[{'text': \"391 + 193 = 584\\n\\nNow that I'm done with the addition, I'll transfer you to the supervisor as required.\", 'type': 'text'}, {'id': 'toolu_01Fq3ZdSmhiHuNm5ZTKdiFgj', 'input': {}, 'name': 'transfer_to_supervisor', 'type': 'tool_use'}], additional_kwargs={}, response_metadata={'id': 'msg_01WWrpAhELCWzFi5B2xCL1Te', 'model': 'claude-3-5-sonnet-20241022', 'stop_reason': 'tool_use', 'stop_sequence': None, 'usage': {'input_tokens': 628, 'output_tokens': 69}}, id='run-df887ce7-2d23-4c46-b85b-973cb4a89ae8-0', tool_calls=[{'name': 'transfer_to_supervisor', 'args': {}, 'id': 'toolu_01Fq3ZdSmhiHuNm5ZTKdiFgj', 'type': 'tool_call'}], usage_metadata={'input_tokens': 628, 'output_tokens': 69, 'total_tokens': 697, 'input_token_details': {}}), ToolMessage(content=\"Transferred to 'supervisor'!\", name='transfer_to_supervisor', id='7960c7e3-8ff5-48f0-b800-ed7b7ab128f6', tool_call_id='toolu_01Fq3ZdSmhiHuNm5ZTKdiFgj', artifact=Command(goto='supervisor')), AIMessage(content='I have the answer for you: 391 + 193 = 584. Is there anything else I can help you with?', additional_kwargs={}, response_metadata={'id': 'msg_01Cp4JqZnQfcCQj3HRzsLZLE', 'model': 'claude-3-5-sonnet-20241022', 'stop_reason': 'end_turn', 'stop_sequence': None, 'usage': {'input_tokens': 741, 'output_tokens': 32}}, id='run-2284e002-dc2f-4f3c-8df4-3bad17c3609c-0', usage_metadata={'input_tokens': 741, 'output_tokens': 32, 'total_tokens': 773, 'input_token_details': {}})], 'node': 'supervisor'}})\n",
      "\n",
      "\n"
     ]
    }
   ],
   "source": [
    "for chunk in graph.stream({\"messages\": [(\"user\", \"what's 391 + 193\")]}, config, subgraphs=True):\n",
    "    print(chunk)\n",
    "    print(\"\\n\")"
   ]
  },
  {
   "cell_type": "code",
   "execution_count": 41,
   "id": "83ae1259-0848-4fe0-a190-94ecfb557569",
   "metadata": {},
   "outputs": [
    {
     "data": {
      "text/plain": [
       "[HumanMessage(content=\"what's 391 + 193\", additional_kwargs={}, response_metadata={}, id='d5123131-38cf-4337-98f1-6379b6018bef'),\n",
       " AIMessage(content=[{'text': \"Since this is an addition problem, I'll transfer to Bob who specializes in addition.\", 'type': 'text'}, {'id': 'toolu_01B2Pj3HXoUSfYwT1tZuw59q', 'input': {}, 'name': 'transfer_to_bob', 'type': 'tool_use'}], additional_kwargs={}, response_metadata={'id': 'msg_01VohUmQTGJbzt7nFji7gFiA', 'model': 'claude-3-5-sonnet-20241022', 'stop_reason': 'tool_use', 'stop_sequence': None, 'usage': {'input_tokens': 481, 'output_tokens': 57}}, id='run-e6d2f1dd-9d24-415d-a6bc-d95b3a278732-0', tool_calls=[{'name': 'transfer_to_bob', 'args': {}, 'id': 'toolu_01B2Pj3HXoUSfYwT1tZuw59q', 'type': 'tool_call'}], usage_metadata={'input_tokens': 481, 'output_tokens': 57, 'total_tokens': 538, 'input_token_details': {}}),\n",
       " ToolMessage(content=\"Transferred to 'bob'!\", name='transfer_to_bob', id='7e5e6235-5eea-4170-9b4d-2e503d03e169', tool_call_id='toolu_01B2Pj3HXoUSfYwT1tZuw59q', artifact={'update': None, 'send': [], 'resume': None, 'goto': 'bob'}),\n",
       " AIMessage(content=[{'text': \"Hi there! I'm Bob. Let me help you add those numbers together.\", 'type': 'text'}, {'id': 'toolu_0121oTEPDbAnvA23bokjo9tb', 'input': {'a': 391, 'b': 193}, 'name': 'add', 'type': 'tool_use'}], additional_kwargs={}, response_metadata={'id': 'msg_01Thd74XwA4AkaNhu2vqeMDu', 'model': 'claude-3-5-sonnet-20241022', 'stop_reason': 'tool_use', 'stop_sequence': None, 'usage': {'input_tokens': 530, 'output_tokens': 86}}, id='run-c8484344-f602-423d-b009-40cab7bd72f1-0', tool_calls=[{'name': 'add', 'args': {'a': 391, 'b': 193}, 'id': 'toolu_0121oTEPDbAnvA23bokjo9tb', 'type': 'tool_call'}], usage_metadata={'input_tokens': 530, 'output_tokens': 86, 'total_tokens': 616, 'input_token_details': {}}),\n",
       " ToolMessage(content='584', name='add', id='1f160af9-487a-47eb-8429-bff65b5dbf96', tool_call_id='toolu_0121oTEPDbAnvA23bokjo9tb'),\n",
       " AIMessage(content=[{'text': \"391 + 193 = 584\\n\\nNow that I'm done with the addition, I'll transfer you to the supervisor as required.\", 'type': 'text'}, {'id': 'toolu_01Fq3ZdSmhiHuNm5ZTKdiFgj', 'input': {}, 'name': 'transfer_to_supervisor', 'type': 'tool_use'}], additional_kwargs={}, response_metadata={'id': 'msg_01WWrpAhELCWzFi5B2xCL1Te', 'model': 'claude-3-5-sonnet-20241022', 'stop_reason': 'tool_use', 'stop_sequence': None, 'usage': {'input_tokens': 628, 'output_tokens': 69}}, id='run-df887ce7-2d23-4c46-b85b-973cb4a89ae8-0', tool_calls=[{'name': 'transfer_to_supervisor', 'args': {}, 'id': 'toolu_01Fq3ZdSmhiHuNm5ZTKdiFgj', 'type': 'tool_call'}], usage_metadata={'input_tokens': 628, 'output_tokens': 69, 'total_tokens': 697, 'input_token_details': {}}),\n",
       " ToolMessage(content=\"Transferred to 'supervisor'!\", name='transfer_to_supervisor', id='7960c7e3-8ff5-48f0-b800-ed7b7ab128f6', tool_call_id='toolu_01Fq3ZdSmhiHuNm5ZTKdiFgj', artifact={'update': None, 'send': [], 'resume': None, 'goto': 'supervisor'}),\n",
       " AIMessage(content='I have the answer for you: 391 + 193 = 584. Is there anything else I can help you with?', additional_kwargs={}, response_metadata={'id': 'msg_01Cp4JqZnQfcCQj3HRzsLZLE', 'model': 'claude-3-5-sonnet-20241022', 'stop_reason': 'end_turn', 'stop_sequence': None, 'usage': {'input_tokens': 741, 'output_tokens': 32}}, id='run-2284e002-dc2f-4f3c-8df4-3bad17c3609c-0', usage_metadata={'input_tokens': 741, 'output_tokens': 32, 'total_tokens': 773, 'input_token_details': {}})]"
      ]
     },
     "execution_count": 41,
     "metadata": {},
     "output_type": "execute_result"
    }
   ],
   "source": [
    "graph.get_state(config).values[\"messages\"]"
   ]
  },
  {
   "cell_type": "code",
   "execution_count": 42,
   "id": "ced6d25d-545e-4573-9d08-749ba28d6720",
   "metadata": {},
   "outputs": [
    {
     "data": {
      "text/plain": [
       "AIMessage(content='I have the answer for you: 391 + 193 = 584. Is there anything else I can help you with?', additional_kwargs={}, response_metadata={'id': 'msg_01Cp4JqZnQfcCQj3HRzsLZLE', 'model': 'claude-3-5-sonnet-20241022', 'stop_reason': 'end_turn', 'stop_sequence': None, 'usage': {'input_tokens': 741, 'output_tokens': 32}}, id='run-2284e002-dc2f-4f3c-8df4-3bad17c3609c-0', usage_metadata={'input_tokens': 741, 'output_tokens': 32, 'total_tokens': 773, 'input_token_details': {}})"
      ]
     },
     "execution_count": 42,
     "metadata": {},
     "output_type": "execute_result"
    }
   ],
   "source": [
    "graph.get_state(config).values[\"messages\"][-1]"
   ]
  },
  {
   "cell_type": "markdown",
   "id": "4fba110d-dfa1-44d1-9441-1dfa3a498520",
   "metadata": {},
   "source": [
    "---"
   ]
  },
  {
   "cell_type": "markdown",
   "id": "e9d0bc87-d23b-4b0b-90be-ba7b55a8b672",
   "metadata": {},
   "source": [
    "### Network"
   ]
  },
  {
   "cell_type": "code",
   "execution_count": 43,
   "id": "fe7547c4-d919-44bc-9058-e131df6ddcb7",
   "metadata": {},
   "outputs": [],
   "source": [
    "alice = make_agent_node(model_anthropic, [multiply, bob_tool], state_modifier=\"You're Alice, a multiplication expert. You can ask Bob for help with addition.\")\n",
    "bob = make_agent_node(model_anthropic, [add, alice_tool], state_modifier=\"You're Bob, an addition expert. You can ask Alice for help with muiltiplication.\")\n",
    "\n",
    "builder = StateGraph(AgentRouterState)\n",
    "add_entrypoint_router(builder, route_to=[(\"alice\", alice), (\"bob\", bob)], default_start_node=\"alice\")\n",
    "memory = MemorySaver()\n",
    "graph = builder.compile(checkpointer=memory)"
   ]
  },
  {
   "cell_type": "code",
   "execution_count": 44,
   "id": "93c7b8fe-355a-4af3-af2d-09a8ab6dd32a",
   "metadata": {},
   "outputs": [],
   "source": [
    "config = {\"configurable\": {\"thread_id\": \"1\"}}"
   ]
  },
  {
   "cell_type": "code",
   "execution_count": 45,
   "id": "3327d9f9-1d93-40b7-ba95-d0552b91a4cb",
   "metadata": {},
   "outputs": [
    {
     "name": "stdout",
     "output_type": "stream",
     "text": [
      "(('alice:b8fc0d5d-4aa9-c9a4-ee49-b43d1aa3a8fc',), {'agent': {'messages': [AIMessage(content=[{'text': \"I apologize, but as Alice the multiplication expert, I can't directly help with addition. However, I can transfer this question to Bob who specializes in addition.\", 'type': 'text'}, {'id': 'toolu_01LwnG8jZh9WjqWErLpiA4Wy', 'input': {}, 'name': 'transfer_to_bob', 'type': 'tool_use'}], additional_kwargs={}, response_metadata={'id': 'msg_01RJBJvSnnG6ZPN1XEghggZL', 'model': 'claude-3-5-sonnet-20241022', 'stop_reason': 'tool_use', 'stop_sequence': None, 'usage': {'input_tokens': 457, 'output_tokens': 73}}, id='run-5f5847ae-6365-444e-9662-a2bf94ba8b6a-0', tool_calls=[{'name': 'transfer_to_bob', 'args': {}, 'id': 'toolu_01LwnG8jZh9WjqWErLpiA4Wy', 'type': 'tool_call'}], usage_metadata={'input_tokens': 457, 'output_tokens': 73, 'total_tokens': 530, 'input_token_details': {}})]}})\n",
      "(('alice:b8fc0d5d-4aa9-c9a4-ee49-b43d1aa3a8fc',), {'tools': {'messages': [ToolMessage(content=\"Transferred to 'bob'!\", name='transfer_to_bob', id='faa38705-e30d-4127-9a0d-6f9a0f918cdd', tool_call_id='toolu_01LwnG8jZh9WjqWErLpiA4Wy', artifact=Command(goto='bob'))]}})\n",
      "((), {'alice': {'messages': [HumanMessage(content=\"what's 2 + 3\", additional_kwargs={}, response_metadata={}, id='867523a6-8009-49a3-beb7-1c937ea0ca5b'), AIMessage(content=[{'text': \"I apologize, but as Alice the multiplication expert, I can't directly help with addition. However, I can transfer this question to Bob who specializes in addition.\", 'type': 'text'}, {'id': 'toolu_01LwnG8jZh9WjqWErLpiA4Wy', 'input': {}, 'name': 'transfer_to_bob', 'type': 'tool_use'}], additional_kwargs={}, response_metadata={'id': 'msg_01RJBJvSnnG6ZPN1XEghggZL', 'model': 'claude-3-5-sonnet-20241022', 'stop_reason': 'tool_use', 'stop_sequence': None, 'usage': {'input_tokens': 457, 'output_tokens': 73}}, id='run-5f5847ae-6365-444e-9662-a2bf94ba8b6a-0', tool_calls=[{'name': 'transfer_to_bob', 'args': {}, 'id': 'toolu_01LwnG8jZh9WjqWErLpiA4Wy', 'type': 'tool_call'}], usage_metadata={'input_tokens': 457, 'output_tokens': 73, 'total_tokens': 530, 'input_token_details': {}}), ToolMessage(content=\"Transferred to 'bob'!\", name='transfer_to_bob', id='faa38705-e30d-4127-9a0d-6f9a0f918cdd', tool_call_id='toolu_01LwnG8jZh9WjqWErLpiA4Wy', artifact=Command(goto='bob'))], 'node': 'bob'}})\n",
      "(('bob:5420d3a4-bbfe-2695-8831-9421d08235b9',), {'agent': {'messages': [AIMessage(content=[{'text': \"Hello! This is Bob, the addition expert. I'll help you add 2 and 3 using the add function.\", 'type': 'text'}, {'id': 'toolu_01H21nBwg4RuoYZybZ2bhLqg', 'input': {'a': 2, 'b': 3}, 'name': 'add', 'type': 'tool_use'}], additional_kwargs={}, response_metadata={'id': 'msg_01Jmtt3erPCjobYYkPhfGkg7', 'model': 'claude-3-5-sonnet-20241022', 'stop_reason': 'tool_use', 'stop_sequence': None, 'usage': {'input_tokens': 550, 'output_tokens': 97}}, id='run-c1a11302-3fc3-4102-8b60-b5cc53d1dcc8-0', tool_calls=[{'name': 'add', 'args': {'a': 2, 'b': 3}, 'id': 'toolu_01H21nBwg4RuoYZybZ2bhLqg', 'type': 'tool_call'}], usage_metadata={'input_tokens': 550, 'output_tokens': 97, 'total_tokens': 647, 'input_token_details': {}})]}})\n",
      "(('bob:5420d3a4-bbfe-2695-8831-9421d08235b9',), {'tools': {'messages': [ToolMessage(content='5', name='add', id='b879ff40-60d0-47f9-bbd1-39eadba6563c', tool_call_id='toolu_01H21nBwg4RuoYZybZ2bhLqg')]}})\n",
      "(('bob:5420d3a4-bbfe-2695-8831-9421d08235b9',), {'agent': {'messages': [AIMessage(content='The sum of 2 and 3 is 5.', additional_kwargs={}, response_metadata={'id': 'msg_0181Eu7EacV2Vf6gL24LAYeK', 'model': 'claude-3-5-sonnet-20241022', 'stop_reason': 'end_turn', 'stop_sequence': None, 'usage': {'input_tokens': 659, 'output_tokens': 18}}, id='run-7f5d78f6-684a-4c2a-8adb-89f02b2da59b-0', usage_metadata={'input_tokens': 659, 'output_tokens': 18, 'total_tokens': 677, 'input_token_details': {}})]}})\n",
      "((), {'bob': {'messages': [HumanMessage(content=\"what's 2 + 3\", additional_kwargs={}, response_metadata={}, id='867523a6-8009-49a3-beb7-1c937ea0ca5b'), AIMessage(content=[{'text': \"I apologize, but as Alice the multiplication expert, I can't directly help with addition. However, I can transfer this question to Bob who specializes in addition.\", 'type': 'text'}, {'id': 'toolu_01LwnG8jZh9WjqWErLpiA4Wy', 'input': {}, 'name': 'transfer_to_bob', 'type': 'tool_use'}], additional_kwargs={}, response_metadata={'id': 'msg_01RJBJvSnnG6ZPN1XEghggZL', 'model': 'claude-3-5-sonnet-20241022', 'stop_reason': 'tool_use', 'stop_sequence': None, 'usage': {'input_tokens': 457, 'output_tokens': 73}}, id='run-5f5847ae-6365-444e-9662-a2bf94ba8b6a-0', tool_calls=[{'name': 'transfer_to_bob', 'args': {}, 'id': 'toolu_01LwnG8jZh9WjqWErLpiA4Wy', 'type': 'tool_call'}], usage_metadata={'input_tokens': 457, 'output_tokens': 73, 'total_tokens': 530, 'input_token_details': {}}), ToolMessage(content=\"Transferred to 'bob'!\", name='transfer_to_bob', id='faa38705-e30d-4127-9a0d-6f9a0f918cdd', tool_call_id='toolu_01LwnG8jZh9WjqWErLpiA4Wy', artifact=Command(goto='bob')), AIMessage(content=[{'text': \"Hello! This is Bob, the addition expert. I'll help you add 2 and 3 using the add function.\", 'type': 'text'}, {'id': 'toolu_01H21nBwg4RuoYZybZ2bhLqg', 'input': {'a': 2, 'b': 3}, 'name': 'add', 'type': 'tool_use'}], additional_kwargs={}, response_metadata={'id': 'msg_01Jmtt3erPCjobYYkPhfGkg7', 'model': 'claude-3-5-sonnet-20241022', 'stop_reason': 'tool_use', 'stop_sequence': None, 'usage': {'input_tokens': 550, 'output_tokens': 97}}, id='run-c1a11302-3fc3-4102-8b60-b5cc53d1dcc8-0', tool_calls=[{'name': 'add', 'args': {'a': 2, 'b': 3}, 'id': 'toolu_01H21nBwg4RuoYZybZ2bhLqg', 'type': 'tool_call'}], usage_metadata={'input_tokens': 550, 'output_tokens': 97, 'total_tokens': 647, 'input_token_details': {}}), ToolMessage(content='5', name='add', id='b879ff40-60d0-47f9-bbd1-39eadba6563c', tool_call_id='toolu_01H21nBwg4RuoYZybZ2bhLqg'), AIMessage(content='The sum of 2 and 3 is 5.', additional_kwargs={}, response_metadata={'id': 'msg_0181Eu7EacV2Vf6gL24LAYeK', 'model': 'claude-3-5-sonnet-20241022', 'stop_reason': 'end_turn', 'stop_sequence': None, 'usage': {'input_tokens': 659, 'output_tokens': 18}}, id='run-7f5d78f6-684a-4c2a-8adb-89f02b2da59b-0', usage_metadata={'input_tokens': 659, 'output_tokens': 18, 'total_tokens': 677, 'input_token_details': {}})], 'node': 'bob'}})\n"
     ]
    }
   ],
   "source": [
    "for chunk in graph.stream({\"messages\": [(\"user\", \"what's 2 + 3\")]}, config, subgraphs=True):\n",
    "    print(chunk)"
   ]
  },
  {
   "cell_type": "code",
   "execution_count": 46,
   "id": "4ca81767-4ac7-4486-a32d-6621fee26106",
   "metadata": {},
   "outputs": [
    {
     "name": "stdout",
     "output_type": "stream",
     "text": [
      "(('bob:50810f00-fd81-15c3-5019-377a5f887bb1',), {'agent': {'messages': [AIMessage(content=[{'text': \"Since I'm Bob the addition expert, I'm not able to help with multiplication. Let me transfer this to Alice who specializes in multiplication.\", 'type': 'text'}, {'id': 'toolu_01RWvNP7tjG192kWyeyMjjEK', 'input': {}, 'name': 'transfer_to_alice', 'type': 'tool_use'}], additional_kwargs={}, response_metadata={'id': 'msg_01HD7w4JG6Fx7vGqz2mkew81', 'model': 'claude-3-5-sonnet-20241022', 'stop_reason': 'tool_use', 'stop_sequence': None, 'usage': {'input_tokens': 686, 'output_tokens': 68}}, id='run-a08b537e-0a9a-4405-90fc-b502a4d343e4-0', tool_calls=[{'name': 'transfer_to_alice', 'args': {}, 'id': 'toolu_01RWvNP7tjG192kWyeyMjjEK', 'type': 'tool_call'}], usage_metadata={'input_tokens': 686, 'output_tokens': 68, 'total_tokens': 754, 'input_token_details': {}})]}})\n",
      "(('bob:50810f00-fd81-15c3-5019-377a5f887bb1',), {'tools': {'messages': [ToolMessage(content=\"Transferred to 'alice'!\", name='transfer_to_alice', id='0fcbe3ce-999f-4f5b-b77b-a8961a09b58d', tool_call_id='toolu_01RWvNP7tjG192kWyeyMjjEK', artifact=Command(goto='alice'))]}})\n",
      "((), {'bob': {'messages': [HumanMessage(content=\"what's 2 + 3\", additional_kwargs={}, response_metadata={}, id='867523a6-8009-49a3-beb7-1c937ea0ca5b'), AIMessage(content=[{'text': \"I apologize, but as Alice the multiplication expert, I can't directly help with addition. However, I can transfer this question to Bob who specializes in addition.\", 'type': 'text'}, {'id': 'toolu_01LwnG8jZh9WjqWErLpiA4Wy', 'input': {}, 'name': 'transfer_to_bob', 'type': 'tool_use'}], additional_kwargs={}, response_metadata={'id': 'msg_01RJBJvSnnG6ZPN1XEghggZL', 'model': 'claude-3-5-sonnet-20241022', 'stop_reason': 'tool_use', 'stop_sequence': None, 'usage': {'input_tokens': 457, 'output_tokens': 73}}, id='run-5f5847ae-6365-444e-9662-a2bf94ba8b6a-0', tool_calls=[{'name': 'transfer_to_bob', 'args': {}, 'id': 'toolu_01LwnG8jZh9WjqWErLpiA4Wy', 'type': 'tool_call'}], usage_metadata={'input_tokens': 457, 'output_tokens': 73, 'total_tokens': 530, 'input_token_details': {}}), ToolMessage(content=\"Transferred to 'bob'!\", name='transfer_to_bob', id='faa38705-e30d-4127-9a0d-6f9a0f918cdd', tool_call_id='toolu_01LwnG8jZh9WjqWErLpiA4Wy', artifact={'update': None, 'send': [], 'resume': None, 'goto': 'bob'}), AIMessage(content=[{'text': \"Hello! This is Bob, the addition expert. I'll help you add 2 and 3 using the add function.\", 'type': 'text'}, {'id': 'toolu_01H21nBwg4RuoYZybZ2bhLqg', 'input': {'a': 2, 'b': 3}, 'name': 'add', 'type': 'tool_use'}], additional_kwargs={}, response_metadata={'id': 'msg_01Jmtt3erPCjobYYkPhfGkg7', 'model': 'claude-3-5-sonnet-20241022', 'stop_reason': 'tool_use', 'stop_sequence': None, 'usage': {'input_tokens': 550, 'output_tokens': 97}}, id='run-c1a11302-3fc3-4102-8b60-b5cc53d1dcc8-0', tool_calls=[{'name': 'add', 'args': {'a': 2, 'b': 3}, 'id': 'toolu_01H21nBwg4RuoYZybZ2bhLqg', 'type': 'tool_call'}], usage_metadata={'input_tokens': 550, 'output_tokens': 97, 'total_tokens': 647, 'input_token_details': {}}), ToolMessage(content='5', name='add', id='b879ff40-60d0-47f9-bbd1-39eadba6563c', tool_call_id='toolu_01H21nBwg4RuoYZybZ2bhLqg'), AIMessage(content='The sum of 2 and 3 is 5.', additional_kwargs={}, response_metadata={'id': 'msg_0181Eu7EacV2Vf6gL24LAYeK', 'model': 'claude-3-5-sonnet-20241022', 'stop_reason': 'end_turn', 'stop_sequence': None, 'usage': {'input_tokens': 659, 'output_tokens': 18}}, id='run-7f5d78f6-684a-4c2a-8adb-89f02b2da59b-0', usage_metadata={'input_tokens': 659, 'output_tokens': 18, 'total_tokens': 677, 'input_token_details': {}}), HumanMessage(content='now multiply that by 11', additional_kwargs={}, response_metadata={}, id='f8cdd50a-1f17-4330-83af-b9241a6951fb'), AIMessage(content=[{'text': \"Since I'm Bob the addition expert, I'm not able to help with multiplication. Let me transfer this to Alice who specializes in multiplication.\", 'type': 'text'}, {'id': 'toolu_01RWvNP7tjG192kWyeyMjjEK', 'input': {}, 'name': 'transfer_to_alice', 'type': 'tool_use'}], additional_kwargs={}, response_metadata={'id': 'msg_01HD7w4JG6Fx7vGqz2mkew81', 'model': 'claude-3-5-sonnet-20241022', 'stop_reason': 'tool_use', 'stop_sequence': None, 'usage': {'input_tokens': 686, 'output_tokens': 68}}, id='run-a08b537e-0a9a-4405-90fc-b502a4d343e4-0', tool_calls=[{'name': 'transfer_to_alice', 'args': {}, 'id': 'toolu_01RWvNP7tjG192kWyeyMjjEK', 'type': 'tool_call'}], usage_metadata={'input_tokens': 686, 'output_tokens': 68, 'total_tokens': 754, 'input_token_details': {}}), ToolMessage(content=\"Transferred to 'alice'!\", name='transfer_to_alice', id='0fcbe3ce-999f-4f5b-b77b-a8961a09b58d', tool_call_id='toolu_01RWvNP7tjG192kWyeyMjjEK', artifact=Command(goto='alice'))], 'node': 'alice'}})\n",
      "(('alice:02cbbf5f-6b16-6a52-d8f5-6110476b5fa7',), {'agent': {'messages': [AIMessage(content=[{'text': \"Hello! This is Alice, the multiplication expert. I'll help you multiply 5 by 11.\", 'type': 'text'}, {'id': 'toolu_01Uj8b3aKWWHPt2GAi4VG85F', 'input': {'a': 5, 'b': 11}, 'name': 'multiply', 'type': 'tool_use'}], additional_kwargs={}, response_metadata={'id': 'msg_01AvhW1xpJwxESrXSV3Fab4S', 'model': 'claude-3-5-sonnet-20241022', 'stop_reason': 'tool_use', 'stop_sequence': None, 'usage': {'input_tokens': 770, 'output_tokens': 92}}, id='run-51113aba-81de-47d9-9af2-4e604baf41ad-0', tool_calls=[{'name': 'multiply', 'args': {'a': 5, 'b': 11}, 'id': 'toolu_01Uj8b3aKWWHPt2GAi4VG85F', 'type': 'tool_call'}], usage_metadata={'input_tokens': 770, 'output_tokens': 92, 'total_tokens': 862, 'input_token_details': {}})]}})\n",
      "(('alice:02cbbf5f-6b16-6a52-d8f5-6110476b5fa7',), {'tools': {'messages': [ToolMessage(content='55', name='multiply', id='97bd199b-7ca6-4177-9d5d-c2e65e26e2b0', tool_call_id='toolu_01Uj8b3aKWWHPt2GAi4VG85F')]}})\n",
      "(('alice:02cbbf5f-6b16-6a52-d8f5-6110476b5fa7',), {'agent': {'messages': [AIMessage(content='5 multiplied by 11 equals 55.', additional_kwargs={}, response_metadata={'id': 'msg_016MBfH9KgTUPLFihkk2yKnp', 'model': 'claude-3-5-sonnet-20241022', 'stop_reason': 'end_turn', 'stop_sequence': None, 'usage': {'input_tokens': 874, 'output_tokens': 16}}, id='run-fd1ac76f-4802-4ad9-8d52-2e64e8311705-0', usage_metadata={'input_tokens': 874, 'output_tokens': 16, 'total_tokens': 890, 'input_token_details': {}})]}})\n",
      "((), {'alice': {'messages': [HumanMessage(content=\"what's 2 + 3\", additional_kwargs={}, response_metadata={}, id='867523a6-8009-49a3-beb7-1c937ea0ca5b'), AIMessage(content=[{'text': \"I apologize, but as Alice the multiplication expert, I can't directly help with addition. However, I can transfer this question to Bob who specializes in addition.\", 'type': 'text'}, {'id': 'toolu_01LwnG8jZh9WjqWErLpiA4Wy', 'input': {}, 'name': 'transfer_to_bob', 'type': 'tool_use'}], additional_kwargs={}, response_metadata={'id': 'msg_01RJBJvSnnG6ZPN1XEghggZL', 'model': 'claude-3-5-sonnet-20241022', 'stop_reason': 'tool_use', 'stop_sequence': None, 'usage': {'input_tokens': 457, 'output_tokens': 73}}, id='run-5f5847ae-6365-444e-9662-a2bf94ba8b6a-0', tool_calls=[{'name': 'transfer_to_bob', 'args': {}, 'id': 'toolu_01LwnG8jZh9WjqWErLpiA4Wy', 'type': 'tool_call'}], usage_metadata={'input_tokens': 457, 'output_tokens': 73, 'total_tokens': 530, 'input_token_details': {}}), ToolMessage(content=\"Transferred to 'bob'!\", name='transfer_to_bob', id='faa38705-e30d-4127-9a0d-6f9a0f918cdd', tool_call_id='toolu_01LwnG8jZh9WjqWErLpiA4Wy', artifact={'update': None, 'send': [], 'resume': None, 'goto': 'bob'}), AIMessage(content=[{'text': \"Hello! This is Bob, the addition expert. I'll help you add 2 and 3 using the add function.\", 'type': 'text'}, {'id': 'toolu_01H21nBwg4RuoYZybZ2bhLqg', 'input': {'a': 2, 'b': 3}, 'name': 'add', 'type': 'tool_use'}], additional_kwargs={}, response_metadata={'id': 'msg_01Jmtt3erPCjobYYkPhfGkg7', 'model': 'claude-3-5-sonnet-20241022', 'stop_reason': 'tool_use', 'stop_sequence': None, 'usage': {'input_tokens': 550, 'output_tokens': 97}}, id='run-c1a11302-3fc3-4102-8b60-b5cc53d1dcc8-0', tool_calls=[{'name': 'add', 'args': {'a': 2, 'b': 3}, 'id': 'toolu_01H21nBwg4RuoYZybZ2bhLqg', 'type': 'tool_call'}], usage_metadata={'input_tokens': 550, 'output_tokens': 97, 'total_tokens': 647, 'input_token_details': {}}), ToolMessage(content='5', name='add', id='b879ff40-60d0-47f9-bbd1-39eadba6563c', tool_call_id='toolu_01H21nBwg4RuoYZybZ2bhLqg'), AIMessage(content='The sum of 2 and 3 is 5.', additional_kwargs={}, response_metadata={'id': 'msg_0181Eu7EacV2Vf6gL24LAYeK', 'model': 'claude-3-5-sonnet-20241022', 'stop_reason': 'end_turn', 'stop_sequence': None, 'usage': {'input_tokens': 659, 'output_tokens': 18}}, id='run-7f5d78f6-684a-4c2a-8adb-89f02b2da59b-0', usage_metadata={'input_tokens': 659, 'output_tokens': 18, 'total_tokens': 677, 'input_token_details': {}}), HumanMessage(content='now multiply that by 11', additional_kwargs={}, response_metadata={}, id='f8cdd50a-1f17-4330-83af-b9241a6951fb'), AIMessage(content=[{'text': \"Since I'm Bob the addition expert, I'm not able to help with multiplication. Let me transfer this to Alice who specializes in multiplication.\", 'type': 'text'}, {'id': 'toolu_01RWvNP7tjG192kWyeyMjjEK', 'input': {}, 'name': 'transfer_to_alice', 'type': 'tool_use'}], additional_kwargs={}, response_metadata={'id': 'msg_01HD7w4JG6Fx7vGqz2mkew81', 'model': 'claude-3-5-sonnet-20241022', 'stop_reason': 'tool_use', 'stop_sequence': None, 'usage': {'input_tokens': 686, 'output_tokens': 68}}, id='run-a08b537e-0a9a-4405-90fc-b502a4d343e4-0', tool_calls=[{'name': 'transfer_to_alice', 'args': {}, 'id': 'toolu_01RWvNP7tjG192kWyeyMjjEK', 'type': 'tool_call'}], usage_metadata={'input_tokens': 686, 'output_tokens': 68, 'total_tokens': 754, 'input_token_details': {}}), ToolMessage(content=\"Transferred to 'alice'!\", name='transfer_to_alice', id='0fcbe3ce-999f-4f5b-b77b-a8961a09b58d', tool_call_id='toolu_01RWvNP7tjG192kWyeyMjjEK', artifact=Command(goto='alice')), AIMessage(content=[{'text': \"Hello! This is Alice, the multiplication expert. I'll help you multiply 5 by 11.\", 'type': 'text'}, {'id': 'toolu_01Uj8b3aKWWHPt2GAi4VG85F', 'input': {'a': 5, 'b': 11}, 'name': 'multiply', 'type': 'tool_use'}], additional_kwargs={}, response_metadata={'id': 'msg_01AvhW1xpJwxESrXSV3Fab4S', 'model': 'claude-3-5-sonnet-20241022', 'stop_reason': 'tool_use', 'stop_sequence': None, 'usage': {'input_tokens': 770, 'output_tokens': 92}}, id='run-51113aba-81de-47d9-9af2-4e604baf41ad-0', tool_calls=[{'name': 'multiply', 'args': {'a': 5, 'b': 11}, 'id': 'toolu_01Uj8b3aKWWHPt2GAi4VG85F', 'type': 'tool_call'}], usage_metadata={'input_tokens': 770, 'output_tokens': 92, 'total_tokens': 862, 'input_token_details': {}}), ToolMessage(content='55', name='multiply', id='97bd199b-7ca6-4177-9d5d-c2e65e26e2b0', tool_call_id='toolu_01Uj8b3aKWWHPt2GAi4VG85F'), AIMessage(content='5 multiplied by 11 equals 55.', additional_kwargs={}, response_metadata={'id': 'msg_016MBfH9KgTUPLFihkk2yKnp', 'model': 'claude-3-5-sonnet-20241022', 'stop_reason': 'end_turn', 'stop_sequence': None, 'usage': {'input_tokens': 874, 'output_tokens': 16}}, id='run-fd1ac76f-4802-4ad9-8d52-2e64e8311705-0', usage_metadata={'input_tokens': 874, 'output_tokens': 16, 'total_tokens': 890, 'input_token_details': {}})], 'node': 'alice'}})\n"
     ]
    }
   ],
   "source": [
    "for chunk in graph.stream({\"messages\": [(\"user\", \"now multiply that by 11\")]}, config, subgraphs=True):\n",
    "    print(chunk)"
   ]
  },
  {
   "cell_type": "code",
   "execution_count": 48,
   "id": "bc502ddd-0250-4408-9272-0265da426058",
   "metadata": {},
   "outputs": [
    {
     "data": {
      "text/plain": [
       "AIMessage(content='5 multiplied by 11 equals 55.', additional_kwargs={}, response_metadata={'id': 'msg_016MBfH9KgTUPLFihkk2yKnp', 'model': 'claude-3-5-sonnet-20241022', 'stop_reason': 'end_turn', 'stop_sequence': None, 'usage': {'input_tokens': 874, 'output_tokens': 16}}, id='run-fd1ac76f-4802-4ad9-8d52-2e64e8311705-0', usage_metadata={'input_tokens': 874, 'output_tokens': 16, 'total_tokens': 890, 'input_token_details': {}})"
      ]
     },
     "execution_count": 48,
     "metadata": {},
     "output_type": "execute_result"
    }
   ],
   "source": [
    "graph.get_state(config).values[\"messages\"][-1]"
   ]
  },
  {
   "cell_type": "markdown",
   "id": "a9100689-fa42-4c36-841f-2911a0cb2a10",
   "metadata": {},
   "source": [
    "---"
   ]
  },
  {
   "cell_type": "markdown",
   "id": "d3cc4cc6-cc76-4924-b296-d0bcd90994b4",
   "metadata": {},
   "source": [
    "### Different state schema in parent vs child state"
   ]
  },
  {
   "cell_type": "code",
   "execution_count": 49,
   "id": "57eece96-91a8-4e8d-a514-bbd370fed77e",
   "metadata": {},
   "outputs": [],
   "source": [
    "from langgraph.graph.message import add_messages\n",
    "from langchain_core.messages import BaseMessage\n",
    "from typing import Annotated, TypedDict"
   ]
  },
  {
   "cell_type": "code",
   "execution_count": 50,
   "id": "37edc91f-10c5-49c2-9bc4-16a3a275e005",
   "metadata": {},
   "outputs": [],
   "source": [
    "class CustomParentState(TypedDict):\n",
    "    # deliberately use a different key here\n",
    "    parent_messages: Annotated[list[BaseMessage], add_messages]\n",
    "    node: str"
   ]
  },
  {
   "cell_type": "code",
   "execution_count": 51,
   "id": "80ca274d-2240-405b-8d89-1cf8f911d92c",
   "metadata": {},
   "outputs": [],
   "source": [
    "def input_processor(state):\n",
    "    return {**state, \"messages\": state[\"parent_messages\"]}\n",
    "\n",
    "def output_processor(state):\n",
    "    updated_state = keep_last_message_as_human(state)\n",
    "    return {**updated_state, \"parent_messages\": updated_state[\"messages\"]}"
   ]
  },
  {
   "cell_type": "code",
   "execution_count": 56,
   "id": "6e6c8360-1e29-4e10-bb7a-3620851c8ab5",
   "metadata": {},
   "outputs": [],
   "source": [
    "alice = make_agent_node(\n",
    "    model_anthropic,\n",
    "    [multiply, bob_tool],\n",
    "    input_processor=input_processor,\n",
    "    output_processor=output_processor,\n",
    "    state_modifier=\"You're Alice, a multiplication expert. You can ask Bob for help with addition.\"\n",
    ")\n",
    "bob = make_agent_node(\n",
    "    model_anthropic,\n",
    "    [add, alice_tool],\n",
    "    input_processor=input_processor,\n",
    "    output_processor=output_processor,\n",
    "    state_modifier=\"You're Bob, an addition expert. You can ask Alice for help with muiltiplication.\"\n",
    ")\n",
    "\n",
    "builder = StateGraph(CustomParentState)\n",
    "add_entrypoint_router(builder, route_to=[(\"alice\", alice), (\"bob\", bob)], default_start_node=\"alice\")\n",
    "memory = MemorySaver()\n",
    "graph = builder.compile(checkpointer=memory)"
   ]
  },
  {
   "cell_type": "code",
   "execution_count": 57,
   "id": "88549d73-1415-4f18-9dac-65d3fbad4f21",
   "metadata": {},
   "outputs": [],
   "source": [
    "config = {\"configurable\": {\"thread_id\": \"1\"}}"
   ]
  },
  {
   "cell_type": "code",
   "execution_count": 58,
   "id": "eb45116b-45dd-4c44-8ec9-14d46a6f3af1",
   "metadata": {},
   "outputs": [
    {
     "name": "stdout",
     "output_type": "stream",
     "text": [
      "(('alice:ae8236de-3d52-4229-190d-e02c007a30fe',), {'agent': {'messages': [AIMessage(content=[{'text': \"I apologize, but as Alice the multiplication expert, I actually can't perform addition myself. However, I can ask Bob who is good at addition! Let me transfer to Bob who can help you with this calculation.\", 'type': 'text'}, {'id': 'toolu_015NwdJXBeiDTGPcKVBdH2iL', 'input': {}, 'name': 'transfer_to_bob', 'type': 'tool_use'}], additional_kwargs={}, response_metadata={'id': 'msg_01GUUL54HvtyDo63cU5QWr5E', 'model': 'claude-3-5-sonnet-20241022', 'stop_reason': 'tool_use', 'stop_sequence': None, 'usage': {'input_tokens': 457, 'output_tokens': 83}}, id='run-7f67061a-e7d5-4c33-bd2b-b0f639911d99-0', tool_calls=[{'name': 'transfer_to_bob', 'args': {}, 'id': 'toolu_015NwdJXBeiDTGPcKVBdH2iL', 'type': 'tool_call'}], usage_metadata={'input_tokens': 457, 'output_tokens': 83, 'total_tokens': 540, 'input_token_details': {}})]}})\n",
      "(('alice:ae8236de-3d52-4229-190d-e02c007a30fe',), {'tools': {'messages': [ToolMessage(content=\"Transferred to 'bob'!\", name='transfer_to_bob', id='d101b7b5-681b-498e-984f-e3d7e51c25f6', tool_call_id='toolu_015NwdJXBeiDTGPcKVBdH2iL', artifact=Command(goto='bob'))]}})\n",
      "((), {'alice': {'parent_messages': [HumanMessage(content=\"Transferred to 'bob'!\", additional_kwargs={}, response_metadata={})], 'node': 'bob'}})\n",
      "(('bob:9a24af37-8cc7-1ec6-3706-11a95ff58ec0',), {'agent': {'messages': [AIMessage(content=[{'text': \"I can help you with adding 2 + 3! As an addition expert, I'll use the `add` function with these numbers.\", 'type': 'text'}, {'id': 'toolu_017jU22KmqSHbeaysy37w66d', 'input': {'a': 2, 'b': 3}, 'name': 'add', 'type': 'tool_use'}], additional_kwargs={}, response_metadata={'id': 'msg_01LC4Y94Z4jDXuobZ6dC2tzx', 'model': 'claude-3-5-sonnet-20241022', 'stop_reason': 'tool_use', 'stop_sequence': None, 'usage': {'input_tokens': 467, 'output_tokens': 99}}, id='run-8d26c63e-127b-4884-99a6-a443d54d3924-0', tool_calls=[{'name': 'add', 'args': {'a': 2, 'b': 3}, 'id': 'toolu_017jU22KmqSHbeaysy37w66d', 'type': 'tool_call'}], usage_metadata={'input_tokens': 467, 'output_tokens': 99, 'total_tokens': 566, 'input_token_details': {}})]}})\n",
      "(('bob:9a24af37-8cc7-1ec6-3706-11a95ff58ec0',), {'tools': {'messages': [ToolMessage(content='5', name='add', id='a7434efe-20ec-4710-8140-c9eb204f6608', tool_call_id='toolu_017jU22KmqSHbeaysy37w66d')]}})\n",
      "(('bob:9a24af37-8cc7-1ec6-3706-11a95ff58ec0',), {'agent': {'messages': [AIMessage(content=\"The result is 5! If you need any help with multiplication, I can transfer you to Alice who's an expert in that area.\", additional_kwargs={}, response_metadata={'id': 'msg_016zmvABUqCqf6ySVtYd2w8r', 'model': 'claude-3-5-sonnet-20241022', 'stop_reason': 'end_turn', 'stop_sequence': None, 'usage': {'input_tokens': 578, 'output_tokens': 32}}, id='run-bd6096c9-1b4b-4dda-b4e0-098dbf94c7ef-0', usage_metadata={'input_tokens': 578, 'output_tokens': 32, 'total_tokens': 610, 'input_token_details': {}})]}})\n",
      "((), {'bob': {'parent_messages': [HumanMessage(content=\"The result is 5! If you need any help with multiplication, I can transfer you to Alice who's an expert in that area.\", additional_kwargs={}, response_metadata={})], 'node': 'bob'}})\n"
     ]
    }
   ],
   "source": [
    "for chunk in graph.stream({\"parent_messages\": [(\"user\", \"what's 2 + 3\")]}, config, subgraphs=True):\n",
    "    print(chunk)"
   ]
  },
  {
   "cell_type": "code",
   "execution_count": 59,
   "id": "1eed029e-3c15-416a-8067-ee7701fda748",
   "metadata": {},
   "outputs": [
    {
     "data": {
      "text/plain": [
       "dict_keys(['parent_messages', 'node'])"
      ]
     },
     "execution_count": 59,
     "metadata": {},
     "output_type": "execute_result"
    }
   ],
   "source": [
    "graph.get_state(config).values.keys()"
   ]
  },
  {
   "cell_type": "code",
   "execution_count": 60,
   "id": "06898fe1-58c6-4016-a5e7-e2a29897a520",
   "metadata": {},
   "outputs": [
    {
     "data": {
      "text/plain": [
       "[HumanMessage(content=\"what's 2 + 3\", additional_kwargs={}, response_metadata={}, id='1dca771b-970d-4752-b11e-e2a7ace155b0'),\n",
       " HumanMessage(content=\"Transferred to 'bob'!\", additional_kwargs={}, response_metadata={}, id='8c29d116-9d1c-4d2f-a914-8d6503cab128'),\n",
       " HumanMessage(content=\"The result is 5! If you need any help with multiplication, I can transfer you to Alice who's an expert in that area.\", additional_kwargs={}, response_metadata={}, id='cae1da2c-e7f0-43da-aad7-6bb920922c6d')]"
      ]
     },
     "execution_count": 60,
     "metadata": {},
     "output_type": "execute_result"
    }
   ],
   "source": [
    "graph.get_state(config).values[\"parent_messages\"]"
   ]
  },
  {
   "cell_type": "markdown",
   "id": "33294cd3-b158-47dc-84eb-1c1f7ba05a1f",
   "metadata": {},
   "source": [
    "### Tools that update state (externally)"
   ]
  },
  {
   "cell_type": "code",
   "execution_count": 61,
   "id": "903f1e05-c9a6-4c46-b9c5-3e798a025b1a",
   "metadata": {},
   "outputs": [],
   "source": [
    "class CustomParentState(TypedDict):\n",
    "    # deliberately use a different key here\n",
    "    parent_messages: Annotated[list[BaseMessage], add_messages]\n",
    "    node: str\n",
    "\n",
    "    # this key is not available to the child graph\n",
    "    user_name: str"
   ]
  },
  {
   "cell_type": "code",
   "execution_count": 62,
   "id": "f5322c61-2dfb-4fb0-bfdb-1f25831cc14c",
   "metadata": {},
   "outputs": [],
   "source": [
    "from langchain_core.tools import tool"
   ]
  },
  {
   "cell_type": "code",
   "execution_count": 63,
   "id": "9d1cd607-68f1-42d4-81bb-76b020ae3eaa",
   "metadata": {},
   "outputs": [],
   "source": [
    "@tool(response_format=\"content_and_artifact\", return_direct=True)\n",
    "def get_user_name():\n",
    "    \"\"\"Retrieve user name\"\"\"\n",
    "    return \"Successfully retrieved user name\", GraphCommand(update={\"user_name\": \"Meow\"})"
   ]
  },
  {
   "cell_type": "code",
   "execution_count": 64,
   "id": "638a2bf0-a3be-4589-b365-9ce859c97b38",
   "metadata": {},
   "outputs": [],
   "source": [
    "def input_processor(state):\n",
    "    return {**state, \"messages\": state[\"parent_messages\"]}\n",
    "\n",
    "def output_processor(state):\n",
    "    state = keep_last_message_as_human(state)\n",
    "    return {**state, \"parent_messages\": state[\"messages\"]}"
   ]
  },
  {
   "cell_type": "code",
   "execution_count": 65,
   "id": "760048d7-e5f4-48fe-bf4e-90d63ea2758b",
   "metadata": {},
   "outputs": [],
   "source": [
    "alice = make_agent_node(\n",
    "    model,\n",
    "    [get_user_name],\n",
    "    input_processor=input_processor,\n",
    "    output_processor=output_processor,\n",
    ")\n",
    "\n",
    "builder = StateGraph(CustomParentState)\n",
    "builder.add_node(\"alice\", alice)\n",
    "builder.add_edge(START, \"alice\")\n",
    "memory = MemorySaver()\n",
    "graph = builder.compile(checkpointer=memory)"
   ]
  },
  {
   "cell_type": "code",
   "execution_count": 66,
   "id": "e46e6cba-0f1f-4a16-8336-299a447e21fc",
   "metadata": {},
   "outputs": [],
   "source": [
    "config = {\"configurable\": {\"thread_id\": \"1\"}}"
   ]
  },
  {
   "cell_type": "code",
   "execution_count": 67,
   "id": "e2e8e5b3-b875-4b90-b207-9cf81985db5a",
   "metadata": {},
   "outputs": [
    {
     "name": "stdout",
     "output_type": "stream",
     "text": [
      "{'alice': {'parent_messages': [HumanMessage(content='Successfully retrieved user name', additional_kwargs={}, response_metadata={}, id='12b094ab-47bb-4612-9391-d94d1f5a6b5c')], 'user_name': 'Meow'}}\n"
     ]
    }
   ],
   "source": [
    "for chunk in graph.stream({\"parent_messages\": [(\"user\", \"get user name\")]}, config):\n",
    "    print(chunk)"
   ]
  },
  {
   "cell_type": "code",
   "execution_count": 68,
   "id": "5b599e9d-ec0b-46fb-a5d9-4fcdf7b564c0",
   "metadata": {},
   "outputs": [
    {
     "data": {
      "text/plain": [
       "{'parent_messages': [HumanMessage(content='get user name', additional_kwargs={}, response_metadata={}, id='200f8c62-6bcf-4d57-9d0b-a855406d0cd7'),\n",
       "  HumanMessage(content='Successfully retrieved user name', additional_kwargs={}, response_metadata={}, id='12b094ab-47bb-4612-9391-d94d1f5a6b5c')],\n",
       " 'user_name': 'Meow'}"
      ]
     },
     "execution_count": 68,
     "metadata": {},
     "output_type": "execute_result"
    }
   ],
   "source": [
    "graph.get_state(config).values"
   ]
  },
  {
   "cell_type": "markdown",
   "id": "0da838cb-3ad4-493a-81c4-d30d2c68d58b",
   "metadata": {},
   "source": [
    "### Tools that update state (internally)"
   ]
  },
  {
   "cell_type": "code",
   "execution_count": 69,
   "id": "64b5a0c2-aee1-4b05-81d8-3ff5f12c13e8",
   "metadata": {},
   "outputs": [],
   "source": [
    "class CustomParentState(TypedDict):\n",
    "    # deliberately use a different key here\n",
    "    parent_messages: Annotated[list[BaseMessage], add_messages]\n",
    "    node: str"
   ]
  },
  {
   "cell_type": "code",
   "execution_count": 70,
   "id": "e81473af-4801-4cd1-844d-021c549f652a",
   "metadata": {},
   "outputs": [],
   "source": [
    "class CustomChildState(AgentRouterState):\n",
    "    user_name: str"
   ]
  },
  {
   "cell_type": "code",
   "execution_count": 71,
   "id": "ee92b82c-146f-4e3f-b2a0-f41cb87492fa",
   "metadata": {},
   "outputs": [],
   "source": [
    "from langchain_core.tools import tool"
   ]
  },
  {
   "cell_type": "code",
   "execution_count": 72,
   "id": "9c1b34f2-0d36-4e00-bc98-e3562620cb4e",
   "metadata": {},
   "outputs": [],
   "source": [
    "@tool(response_format=\"content_and_artifact\")\n",
    "def get_user_name():\n",
    "    \"\"\"Retrieve user name\"\"\"\n",
    "    return \"Successfully retrieved user name\", GraphCommand(update={\"user_name\": \"Meow\"})"
   ]
  },
  {
   "cell_type": "code",
   "execution_count": 73,
   "id": "8a96ed12-36d4-4600-8721-fa90d19e30ef",
   "metadata": {},
   "outputs": [],
   "source": [
    "def input_processor(state):\n",
    "    return {**state, \"messages\": state[\"parent_messages\"]}\n",
    "\n",
    "def output_processor(state):\n",
    "    state = keep_last_message_as_human(state)\n",
    "    return {**state, \"parent_messages\": state[\"messages\"]}"
   ]
  },
  {
   "cell_type": "code",
   "execution_count": 74,
   "id": "7c059af0-fd2d-454d-9cf0-a2f0684e00d9",
   "metadata": {},
   "outputs": [],
   "source": [
    "def state_modifier(state):\n",
    "    user_name = state.get(\"user_name\")\n",
    "    if user_name is None:\n",
    "        return state[\"messages\"]\n",
    "\n",
    "    system_msg = f\"User name is {user_name}\"\n",
    "    return [{\"role\": \"system\", \"content\": system_msg}] + state[\"messages\"]"
   ]
  },
  {
   "cell_type": "code",
   "execution_count": 75,
   "id": "9962551c-1320-4578-8cdf-a481fc3e1519",
   "metadata": {},
   "outputs": [],
   "source": [
    "alice = make_agent_node(\n",
    "    model,\n",
    "    [get_user_name, add],\n",
    "    input_processor=input_processor,\n",
    "    output_processor=output_processor,\n",
    "    state_schema=CustomChildState,\n",
    "    state_modifier=state_modifier\n",
    ")\n",
    "\n",
    "builder = StateGraph(CustomParentState)\n",
    "builder.add_node(\"alice\", alice)\n",
    "builder.add_edge(START, \"alice\")\n",
    "memory = MemorySaver()\n",
    "graph = builder.compile(checkpointer=memory)"
   ]
  },
  {
   "cell_type": "code",
   "execution_count": 76,
   "id": "4a3dfb0c-7103-4687-9f7d-9820e075d624",
   "metadata": {},
   "outputs": [],
   "source": [
    "config = {\"configurable\": {\"thread_id\": \"1\"}}"
   ]
  },
  {
   "cell_type": "code",
   "execution_count": 77,
   "id": "44c7a2d4-a664-48d7-afef-ca5cffe3c665",
   "metadata": {},
   "outputs": [
    {
     "data": {
      "text/plain": [
       "{'parent_messages': [HumanMessage(content='look up my name, add 2 + 3 and respond to me by name', additional_kwargs={}, response_metadata={}, id='9d10f4fe-d2e1-498e-b85e-3f4fcf851348'),\n",
       "  HumanMessage(content='Hello Meow! The sum of 2 and 3 is 5.', additional_kwargs={}, response_metadata={}, id='c3c27a19-9662-4f78-9bba-c912f42a8944')]}"
      ]
     },
     "execution_count": 77,
     "metadata": {},
     "output_type": "execute_result"
    }
   ],
   "source": [
    "graph.invoke({\"parent_messages\": [(\"user\", \"look up my name, add 2 + 3 and respond to me by name\")]}, config)"
   ]
  },
  {
   "cell_type": "markdown",
   "id": "62ee09b3-6144-4c67-97aa-b64cf7b224ce",
   "metadata": {},
   "source": [
    "---"
   ]
  },
  {
   "cell_type": "markdown",
   "id": "12bbd4ad-c77b-4556-b91e-b0a98a2cb16e",
   "metadata": {},
   "source": [
    "### Test interrupts from inside tools"
   ]
  },
  {
   "cell_type": "markdown",
   "id": "6484cf5b-3217-4cbd-b6ce-a86852ad4afc",
   "metadata": {},
   "source": [
    "TL;DR works w/ a single graph, doesn't work w/ subgraphs"
   ]
  },
  {
   "cell_type": "code",
   "execution_count": 79,
   "id": "1f3fef42-c90c-4e62-91ba-3425eb1b52cf",
   "metadata": {},
   "outputs": [],
   "source": [
    "from langgraph.types import interrupt, Command"
   ]
  },
  {
   "cell_type": "code",
   "execution_count": 80,
   "id": "0421c787-801e-48dc-8978-e53d4d12a20a",
   "metadata": {},
   "outputs": [],
   "source": [
    "@tool(response_format=\"content_and_artifact\")  #, return_direct=True)\n",
    "def get_user_name():\n",
    "    \"\"\"Retrieve user name\"\"\"\n",
    "    user_name = interrupt(\"Please provider user name\")\n",
    "    return \"Successfully retrieved user name\", GraphCommand(update={\"user_name\": user_name})"
   ]
  },
  {
   "cell_type": "code",
   "execution_count": 81,
   "id": "03e32dfe-8702-406f-9efb-a88d51bf5869",
   "metadata": {},
   "outputs": [],
   "source": [
    "def state_modifier(state):\n",
    "    user_name = state.get(\"user_name\")\n",
    "    if user_name is None:\n",
    "        return state[\"messages\"]\n",
    "\n",
    "    system_msg = f\"User name is {user_name}\"\n",
    "    return [{\"role\": \"system\", \"content\": system_msg}] + state[\"messages\"]"
   ]
  },
  {
   "cell_type": "code",
   "execution_count": 89,
   "id": "b983206f-3f7c-42f6-a678-cb66bbdddabb",
   "metadata": {},
   "outputs": [],
   "source": [
    "test_agent = make_agent_node(model, [get_user_name], state_schema=CustomState, state_modifier=state_modifier)\n",
    "\n",
    "builder = StateGraph(CustomState)\n",
    "builder.add_node(\"agent\", test_agent)\n",
    "builder.add_edge(START, \"agent\")\n",
    "checkpointer = MemorySaver()\n",
    "graph = builder.compile(checkpointer=checkpointer)"
   ]
  },
  {
   "cell_type": "code",
   "execution_count": 90,
   "id": "21b7dcab-9335-4534-9f98-43088ad8c721",
   "metadata": {},
   "outputs": [],
   "source": [
    "# checkpointer = MemorySaver()\n",
    "# test_agent = create_react_agent(model, [get_user_name], checkpointer=checkpointer)"
   ]
  },
  {
   "cell_type": "code",
   "execution_count": 92,
   "id": "d3e520e3-1e6a-48d4-a21c-398575a4d4e1",
   "metadata": {},
   "outputs": [
    {
     "data": {
      "text/plain": [
       "{'messages': [HumanMessage(content='hi -- please get the user name', additional_kwargs={}, response_metadata={}, id='5b4f9de3-13d3-4d1e-963d-e1b8b80dea96')]}"
      ]
     },
     "execution_count": 92,
     "metadata": {},
     "output_type": "execute_result"
    }
   ],
   "source": [
    "graph.invoke({\"messages\": [(\"user\", \"hi -- please get the user name\")]}, config)"
   ]
  },
  {
   "cell_type": "code",
   "execution_count": 94,
   "id": "b5faa93a-691d-4434-8a90-5defee3dc040",
   "metadata": {},
   "outputs": [
    {
     "data": {
      "text/plain": [
       "(PregelTask(id='54922a05-cd7e-3094-ebe0-e55eb21bf24e', name='agent', path=('__pregel_pull', 'agent'), error=None, interrupts=(Interrupt(value='Please provider user name', resumable=True, ns=['agent:54922a05-cd7e-3094-ebe0-e55eb21bf24e', 'tools:d70d2003-c7b7-06fe-faf1-0ee3731a77f2'], when='during'),), state={'configurable': {'thread_id': '1', 'checkpoint_ns': 'agent:54922a05-cd7e-3094-ebe0-e55eb21bf24e'}}, result=None),)"
      ]
     },
     "execution_count": 94,
     "metadata": {},
     "output_type": "execute_result"
    }
   ],
   "source": [
    "graph.get_state(config).tasks"
   ]
  },
  {
   "cell_type": "code",
   "execution_count": 96,
   "id": "05bff0ec-05a6-4443-9fe5-923a3a960452",
   "metadata": {},
   "outputs": [],
   "source": [
    "# graph.invoke(Command(resume=\"Archibald\"), config)"
   ]
  },
  {
   "cell_type": "code",
   "execution_count": 88,
   "id": "4e36809d-9504-49cd-9b56-f27d88531af6",
   "metadata": {},
   "outputs": [
    {
     "data": {
      "text/plain": [
       "{'messages': [HumanMessage(content='hi -- please get the user name', additional_kwargs={}, response_metadata={}, id='3662d0e1-7f5b-4a39-b8fb-d114d69c5138'),\n",
       "  AIMessage(content='', additional_kwargs={'tool_calls': [{'id': 'call_KJah0Kamn5i3Gk8v8qaBukCR', 'function': {'arguments': '{}', 'name': 'get_user_name'}, 'type': 'function'}], 'refusal': None}, response_metadata={'token_usage': {'completion_tokens': 11, 'prompt_tokens': 43, 'total_tokens': 54, 'completion_tokens_details': {'accepted_prediction_tokens': 0, 'audio_tokens': 0, 'reasoning_tokens': 0, 'rejected_prediction_tokens': 0}, 'prompt_tokens_details': {'audio_tokens': 0, 'cached_tokens': 0}}, 'model_name': 'gpt-4o-2024-08-06', 'system_fingerprint': 'fp_62f96df568', 'finish_reason': 'tool_calls', 'logprobs': None}, id='run-d5cf2ceb-5417-4c57-9955-059cd1d84c9e-0', tool_calls=[{'name': 'get_user_name', 'args': {}, 'id': 'call_KJah0Kamn5i3Gk8v8qaBukCR', 'type': 'tool_call'}], usage_metadata={'input_tokens': 43, 'output_tokens': 11, 'total_tokens': 54, 'input_token_details': {'audio': 0, 'cache_read': 0}, 'output_token_details': {'audio': 0, 'reasoning': 0}}),\n",
       "  ToolMessage(content='Successfully retrieved user name', name='get_user_name', id='b6145308-e069-4d62-855b-0f08784e7ba3', tool_call_id='call_KJah0Kamn5i3Gk8v8qaBukCR', artifact={'update': {'user_name': 'Archibald'}, 'send': [], 'resume': None, 'goto': []}),\n",
       "  AIMessage(content=\"Hello! I've successfully retrieved the user name. How can I assist you further today?\", additional_kwargs={'refusal': None}, response_metadata={'token_usage': {'completion_tokens': 18, 'prompt_tokens': 67, 'total_tokens': 85, 'completion_tokens_details': {'accepted_prediction_tokens': 0, 'audio_tokens': 0, 'reasoning_tokens': 0, 'rejected_prediction_tokens': 0}, 'prompt_tokens_details': {'audio_tokens': 0, 'cached_tokens': 0}}, 'model_name': 'gpt-4o-2024-08-06', 'system_fingerprint': 'fp_62f96df568', 'finish_reason': 'stop', 'logprobs': None}, id='run-bf275205-dcb0-4ac3-903f-744c0124a16f-0', usage_metadata={'input_tokens': 67, 'output_tokens': 18, 'total_tokens': 85, 'input_token_details': {'audio': 0, 'cache_read': 0}, 'output_token_details': {'audio': 0, 'reasoning': 0}}),\n",
       "  HumanMessage(content='whats my name', additional_kwargs={}, response_metadata={}, id='7af4574e-1a61-4660-9482-f953870b2483'),\n",
       "  AIMessage(content='Your name is not displayed in the information I can access. If you would like me to remember or use a specific name, please let me know!', additional_kwargs={'refusal': None}, response_metadata={'token_usage': {'completion_tokens': 31, 'prompt_tokens': 96, 'total_tokens': 127, 'completion_tokens_details': {'accepted_prediction_tokens': 0, 'audio_tokens': 0, 'reasoning_tokens': 0, 'rejected_prediction_tokens': 0}, 'prompt_tokens_details': {'audio_tokens': 0, 'cached_tokens': 0}}, 'model_name': 'gpt-4o-2024-08-06', 'system_fingerprint': 'fp_467dc6e35f', 'finish_reason': 'stop', 'logprobs': None}, id='run-e80eb201-1d31-4093-9409-2091cca3c629-0', usage_metadata={'input_tokens': 96, 'output_tokens': 31, 'total_tokens': 127, 'input_token_details': {'audio': 0, 'cache_read': 0}, 'output_token_details': {'audio': 0, 'reasoning': 0}})]}"
      ]
     },
     "execution_count": 88,
     "metadata": {},
     "output_type": "execute_result"
    }
   ],
   "source": [
    "test_agent.invoke({\"messages\": [(\"user\", \"whats my name\")]}, config)"
   ]
  },
  {
   "cell_type": "markdown",
   "id": "5a0e3470-1f97-4259-bd6f-b0db1a4734d9",
   "metadata": {},
   "source": [
    "---"
   ]
  }
 ],
 "metadata": {
  "kernelspec": {
   "display_name": "langgraph",
   "language": "python",
   "name": "langgraph"
  },
  "language_info": {
   "codemirror_mode": {
    "name": "ipython",
    "version": 3
   },
   "file_extension": ".py",
   "mimetype": "text/x-python",
   "name": "python",
   "nbconvert_exporter": "python",
   "pygments_lexer": "ipython3",
   "version": "3.11.9"
  }
 },
 "nbformat": 4,
 "nbformat_minor": 5
}
