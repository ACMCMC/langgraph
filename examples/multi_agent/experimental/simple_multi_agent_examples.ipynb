{
 "cells": [
  {
   "cell_type": "code",
   "execution_count": 1,
   "id": "828c1d96-6940-44ed-983f-134972cd4570",
   "metadata": {},
   "outputs": [],
   "source": [
    "from langchain_openai import ChatOpenAI\n",
    "from langchain_anthropic import ChatAnthropic\n",
    "\n",
    "import os\n",
    "import getpass\n",
    "os.environ['OPENAI_API_KEY'] = \"\"\n",
    "os.environ['ANTHROPIC_API_KEY'] = \"\""
   ]
  },
  {
   "cell_type": "code",
   "execution_count": 2,
   "id": "fc99d428-67e9-45a7-b953-a6bf1ad96da8",
   "metadata": {},
   "outputs": [],
   "source": [
    "def add(a: int, b: int):\n",
    "    \"\"\"Adds two numbers\"\"\"\n",
    "    return a + b"
   ]
  },
  {
   "cell_type": "code",
   "execution_count": 3,
   "id": "8bf48bbb-8da9-4afc-bb7c-111e7fadb0f3",
   "metadata": {},
   "outputs": [],
   "source": [
    "def multiply(a: int, b: int):\n",
    "    \"\"\"Multiplies two numbers\"\"\"\n",
    "    return a * b"
   ]
  },
  {
   "cell_type": "markdown",
   "id": "f5b6ef4a-2cbb-4aee-9a37-7fd4881391cd",
   "metadata": {},
   "source": [
    "### Wrapper for a single agent that can both call tools and transfer to other agents"
   ]
  },
  {
   "cell_type": "code",
   "execution_count": 4,
   "id": "98fb7cb5-1ff4-4603-9aa1-467c3b047b60",
   "metadata": {},
   "outputs": [],
   "source": [
    "from langgraph.prebuilt import create_react_agent"
   ]
  },
  {
   "cell_type": "code",
   "execution_count": 5,
   "id": "96a9f030-e1b2-4355-8010-f322f76dfe26",
   "metadata": {},
   "outputs": [],
   "source": [
    "model = ChatOpenAI(model=\"gpt-4o\")"
   ]
  },
  {
   "cell_type": "code",
   "execution_count": 6,
   "id": "10133481-490b-4610-9603-62be431d6716",
   "metadata": {},
   "outputs": [],
   "source": [
    "model_anthropic = ChatAnthropic(model=\"claude-3-5-sonnet-latest\")"
   ]
  },
  {
   "cell_type": "code",
   "execution_count": 7,
   "id": "952dbd5f-f77b-4d64-92d2-cc7097c97f1a",
   "metadata": {},
   "outputs": [],
   "source": [
    "from langgraph.checkpoint.memory import MemorySaver\n",
    "from langgraph.graph import StateGraph, GraphCommand, START, END\n",
    "from typing import Literal"
   ]
  },
  {
   "cell_type": "code",
   "execution_count": 8,
   "id": "6417909f-afb0-429c-ac27-ecc57fa121df",
   "metadata": {},
   "outputs": [],
   "source": [
    "from langchain_core.runnables import RunnableConfig"
   ]
  },
  {
   "cell_type": "code",
   "execution_count": 9,
   "id": "01acdf66-8fb2-4cb1-9c10-010e229fa4aa",
   "metadata": {},
   "outputs": [],
   "source": [
    "from langchain_core.messages import HumanMessage"
   ]
  },
  {
   "cell_type": "code",
   "execution_count": 10,
   "id": "fe093411-50a3-4586-8931-3861c0dbd5de",
   "metadata": {},
   "outputs": [],
   "source": [
    "from typing import Callable"
   ]
  },
  {
   "cell_type": "code",
   "execution_count": 11,
   "id": "f028c25f-cb72-4aa9-8274-287c537a6eb6",
   "metadata": {},
   "outputs": [],
   "source": [
    "# output processors\n",
    "\n",
    "def keep_last_message_as_human(state, agent_name):\n",
    "    updated_state = state.copy()\n",
    "    last_message_content = updated_state[\"messages\"][-1].content\n",
    "    last_message = HumanMessage(content=last_message_content, name=agent_name)\n",
    "    updated_state[\"messages\"] = [last_message]\n",
    "    return updated_state"
   ]
  },
  {
   "cell_type": "markdown",
   "id": "6744f7d7-44fe-442b-a887-9745855d8863",
   "metadata": {},
   "source": [
    "---"
   ]
  },
  {
   "cell_type": "markdown",
   "id": "6dbb0f61-ac84-4328-8f36-b659e40a1f77",
   "metadata": {},
   "source": [
    "### Implement transfer tools with graph command + parent"
   ]
  },
  {
   "cell_type": "code",
   "execution_count": 12,
   "id": "5a489463-4500-4938-9157-9ee47f3e59d6",
   "metadata": {},
   "outputs": [],
   "source": [
    "from langchain_core.tools import tool\n",
    "from langgraph.graph import GraphCommand"
   ]
  },
  {
   "cell_type": "code",
   "execution_count": 13,
   "id": "3b19b793-1161-434a-928f-e093896ea45c",
   "metadata": {},
   "outputs": [],
   "source": [
    "from typing import Literal"
   ]
  },
  {
   "cell_type": "code",
   "execution_count": 14,
   "id": "fb7deabc-1616-45e5-8cfb-ee81ad3244d1",
   "metadata": {},
   "outputs": [],
   "source": [
    "from langchain_core.messages import ToolMessage, AIMessage"
   ]
  },
  {
   "cell_type": "code",
   "execution_count": 15,
   "id": "316a746a-fa9d-4726-81ad-cf0ae0c10171",
   "metadata": {},
   "outputs": [],
   "source": [
    "@tool#(return_direct=True)\n",
    "def transfer_to_bob() -> GraphCommand[Literal[\"bob\"]]:\n",
    "    \"\"\"Transfer to Bob\"\"\"\n",
    "    return GraphCommand(\n",
    "        # NOTE: this style of message is actually unnecessary for transfers, as react agent will break out directly\n",
    "        # update={\"messages\": [ToolMessage(content=\"Transfered to Bob\", tool_call_id=\"\")]},\n",
    "        update={\"node\": \"bob\"},\n",
    "\t    goto=\"bob\",\n",
    "        graph=GraphCommand.PARENT\n",
    "    )\n",
    "\n",
    "\n",
    "@tool(return_direct=True)\n",
    "def transfer_to_alice() -> GraphCommand[Literal[\"alice\"]]:\n",
    "    \"\"\"Transfer to Alice\"\"\"\n",
    "    return GraphCommand(\n",
    "        update={\"node\": \"alice\"},\n",
    "\t    goto=\"alice\",\n",
    "        graph=GraphCommand.PARENT\n",
    "    )\n",
    "\n",
    "\n",
    "@tool(return_direct=True)\n",
    "def transfer_to_charlie() -> GraphCommand[Literal[\"charlie\"]]:\n",
    "    \"\"\"Transfer to Charlie\"\"\"\n",
    "    return GraphCommand(\n",
    "        update={\"node\": \"charlie\"},\n",
    "        goto=\"charlie\",\n",
    "        graph=GraphCommand.PARENT\n",
    "    )"
   ]
  },
  {
   "cell_type": "code",
   "execution_count": 16,
   "id": "0b282102-f3d6-4133-8190-5702fd2ad0e5",
   "metadata": {},
   "outputs": [],
   "source": [
    "from langgraph.prebuilt import ToolNode"
   ]
  },
  {
   "cell_type": "code",
   "execution_count": 17,
   "id": "1fce9ca1-41e0-4f2e-a2b8-d15203a52d3d",
   "metadata": {},
   "outputs": [],
   "source": [
    "tool_node = ToolNode([transfer_to_bob, add])"
   ]
  },
  {
   "cell_type": "code",
   "execution_count": 18,
   "id": "46f003e2-d9cd-4b8a-8628-c6abeeeecdc4",
   "metadata": {},
   "outputs": [
    {
     "data": {
      "text/plain": [
       "Command(graph='__parent__', update={'node': 'bob'}, goto='bob')"
      ]
     },
     "execution_count": 18,
     "metadata": {},
     "output_type": "execute_result"
    }
   ],
   "source": [
    "bob_tool_call = {\"args\": {}, \"id\": \"1\", \"name\": \"transfer_to_bob\"}\n",
    "add_tool_call = {\"args\": {\"a\": 1, \"b\": 2}, \"id\": \"1\", \"name\": \"add\"}\n",
    "msg = AIMessage(\"\", tool_calls=[bob_tool_call])\n",
    "\n",
    "tool_node.invoke({\"messages\": [msg]})"
   ]
  },
  {
   "cell_type": "code",
   "execution_count": 19,
   "id": "5c3d7ae5-d055-4ae2-b9e0-90c6a716bcf3",
   "metadata": {},
   "outputs": [],
   "source": [
    "from typing import get_origin"
   ]
  },
  {
   "cell_type": "code",
   "execution_count": 20,
   "id": "16bdd514-0308-4a03-9cd9-189442e01715",
   "metadata": {},
   "outputs": [],
   "source": [
    "from langchain_core.tools import tool"
   ]
  },
  {
   "cell_type": "code",
   "execution_count": 21,
   "id": "fbda3ec9-b57f-4944-bdb8-5b5e04f4ae70",
   "metadata": {},
   "outputs": [],
   "source": [
    "from langgraph.graph import MessagesState"
   ]
  },
  {
   "cell_type": "code",
   "execution_count": 22,
   "id": "4ac00c49-902c-4185-aa3c-5dee20bbe690",
   "metadata": {},
   "outputs": [],
   "source": [
    "class AgentRouterState(MessagesState):\n",
    "    node: str"
   ]
  },
  {
   "cell_type": "code",
   "execution_count": 23,
   "id": "c74780ec-2a1e-47a5-a39e-70a9ee55f210",
   "metadata": {},
   "outputs": [],
   "source": [
    "alice = create_react_agent(model, [add, transfer_to_bob], state_modifier=\"You're Alice.\")\n",
    "bob = create_react_agent(model, [multiply, transfer_to_alice], state_modifier=\"You're Bob.\")\n",
    "\n",
    "def call_alice(state):\n",
    "    response = alice.invoke(state)\n",
    "    return keep_last_message_as_human(response, \"alice\")\n",
    "\n",
    "\n",
    "def call_bob(state):\n",
    "    response = bob.invoke(state)\n",
    "    return keep_last_message_as_human(response, \"bob\")\n",
    "\n",
    "\n",
    "builder = StateGraph(AgentRouterState)\n",
    "builder.add_node(\"alice\", call_alice)\n",
    "builder.add_node(\"bob\", call_bob)\n",
    "\n",
    "def router(state) -> Literal[\"alice\", \"bob\"]:\n",
    "    return state.get(\"node\", \"alice\")\n",
    "\n",
    "builder.add_conditional_edges(START, router)\n",
    "\n",
    "# add_entrypoint_router(builder, route_to=[(\"alice\", alice), (\"bob\", bob)], default_start_node=\"alice\")\n",
    "memory = MemorySaver()\n",
    "graph = builder.compile(checkpointer=memory)"
   ]
  },
  {
   "cell_type": "code",
   "execution_count": 24,
   "id": "44d8d5ce-e80b-4812-92de-fa550a226593",
   "metadata": {},
   "outputs": [],
   "source": [
    "config = {\"configurable\": {\"thread_id\": \"1\"}}"
   ]
  },
  {
   "cell_type": "code",
   "execution_count": 25,
   "id": "61f1ee4f-606b-4b4b-821d-584a710172f9",
   "metadata": {},
   "outputs": [],
   "source": [
    "from IPython.display import display, Image"
   ]
  },
  {
   "cell_type": "code",
   "execution_count": 26,
   "id": "f3fc3279-aabf-4965-b258-7a30b9042a0d",
   "metadata": {},
   "outputs": [
    {
     "data": {
      "image/jpeg": "[encoded data removed]",
      "text/plain": [
       "<IPython.core.display.Image object>"
      ]
     },
     "metadata": {},
     "output_type": "display_data"
    }
   ],
   "source": [
    "# rendering is naturally fucked\n",
    "display(Image(graph.get_graph(xray=0).draw_mermaid_png()))"
   ]
  },
  {
   "cell_type": "code",
   "execution_count": 27,
   "id": "98ed82fc-71ac-4e38-8213-dc10ea43b672",
   "metadata": {},
   "outputs": [
    {
     "name": "stdout",
     "output_type": "stream",
     "text": [
      "{'alice': {'node': 'bob'}}\n",
      "\n",
      "\n",
      "{'bob': {'messages': [HumanMessage(content=\"You're already speaking with Bob! How can I assist you today?\", additional_kwargs={}, response_metadata={}, name='bob', id='21f83d68-d096-470e-b58e-ea1384db997e')]}}\n",
      "\n",
      "\n"
     ]
    }
   ],
   "source": [
    "config = {\"configurable\": {\"thread_id\": \"1\"}}\n",
    "\n",
    "for chunk in graph.stream({\"messages\": [(\"user\", \"hi! transfer me to bob\")]}, config):\n",
    "    print(chunk)\n",
    "    print(\"\\n\")"
   ]
  },
  {
   "cell_type": "code",
   "execution_count": 28,
   "id": "eef9ca85-9c25-4e89-a222-aa2423b24427",
   "metadata": {},
   "outputs": [
    {
     "name": "stdout",
     "output_type": "stream",
     "text": [
      "{'bob': {'messages': [HumanMessage(content=\"You're speaking with Bob. How can I help you today?\", additional_kwargs={}, response_metadata={}, name='bob', id='316de63d-10c2-46e3-8b99-52cfcb5b7dc4')]}}\n",
      "\n",
      "\n"
     ]
    }
   ],
   "source": [
    "for chunk in graph.stream({\"messages\": [(\"user\", \"who am i speaking to?\")]}, config):\n",
    "    print(chunk)\n",
    "    print(\"\\n\")"
   ]
  },
  {
   "cell_type": "code",
   "execution_count": 29,
   "id": "2a2d56d8-ae6e-404d-84fb-9f2c689cd991",
   "metadata": {},
   "outputs": [
    {
     "name": "stdout",
     "output_type": "stream",
     "text": [
      "(('bob:4e109667-1509-91c1-ac06-1f7e04214354',), {'agent': {'messages': [AIMessage(content='', additional_kwargs={'tool_calls': [{'id': 'call_q6LAqFkGKd4wrorqP7jksUdW', 'function': {'arguments': '{\"a\":3,\"b\":14}', 'name': 'multiply'}, 'type': 'function'}], 'refusal': None}, response_metadata={'token_usage': {'completion_tokens': 17, 'prompt_tokens': 128, 'total_tokens': 145, 'completion_tokens_details': {'accepted_prediction_tokens': 0, 'audio_tokens': 0, 'reasoning_tokens': 0, 'rejected_prediction_tokens': 0}, 'prompt_tokens_details': {'audio_tokens': 0, 'cached_tokens': 0}}, 'model_name': 'gpt-4o-2024-08-06', 'system_fingerprint': 'fp_831e067d82', 'finish_reason': 'tool_calls', 'logprobs': None}, id='run-3e6ba6e8-1384-4b22-83fa-a15817796384-0', tool_calls=[{'name': 'multiply', 'args': {'a': 3, 'b': 14}, 'id': 'call_q6LAqFkGKd4wrorqP7jksUdW', 'type': 'tool_call'}], usage_metadata={'input_tokens': 128, 'output_tokens': 17, 'total_tokens': 145, 'input_token_details': {'audio': 0, 'cache_read': 0}, 'output_token_details': {'audio': 0, 'reasoning': 0}})]}})\n",
      "\n",
      "\n",
      "(('bob:4e109667-1509-91c1-ac06-1f7e04214354',), {'tools': {'messages': [ToolMessage(content='42', name='multiply', id='f4b5338f-7d7d-402c-8c0e-b5bd858fb532', tool_call_id='call_q6LAqFkGKd4wrorqP7jksUdW')]}})\n",
      "\n",
      "\n",
      "(('bob:4e109667-1509-91c1-ac06-1f7e04214354',), {'agent': {'messages': [AIMessage(content='3 times 14 is 42.', additional_kwargs={'refusal': None}, response_metadata={'token_usage': {'completion_tokens': 9, 'prompt_tokens': 153, 'total_tokens': 162, 'completion_tokens_details': {'accepted_prediction_tokens': 0, 'audio_tokens': 0, 'reasoning_tokens': 0, 'rejected_prediction_tokens': 0}, 'prompt_tokens_details': {'audio_tokens': 0, 'cached_tokens': 0}}, 'model_name': 'gpt-4o-2024-08-06', 'system_fingerprint': 'fp_831e067d82', 'finish_reason': 'stop', 'logprobs': None}, id='run-e5751b60-825b-46ae-9f2e-6cee632fe0a6-0', usage_metadata={'input_tokens': 153, 'output_tokens': 9, 'total_tokens': 162, 'input_token_details': {'audio': 0, 'cache_read': 0}, 'output_token_details': {'audio': 0, 'reasoning': 0}})]}})\n",
      "\n",
      "\n",
      "((), {'bob': {'messages': [HumanMessage(content='3 times 14 is 42.', additional_kwargs={}, response_metadata={}, name='bob')]}})\n",
      "\n",
      "\n"
     ]
    }
   ],
   "source": [
    "for chunk in graph.stream({\"messages\": [(\"user\", \"what's 3 times 14?\")]}, config, subgraphs=True):\n",
    "    print(chunk)\n",
    "    print(\"\\n\")"
   ]
  },
  {
   "cell_type": "code",
   "execution_count": 30,
   "id": "1fb07133-9599-4843-bcb9-77babbc266f1",
   "metadata": {},
   "outputs": [
    {
     "name": "stdout",
     "output_type": "stream",
     "text": [
      "{'bob': {'node': 'alice'}}\n",
      "\n",
      "\n",
      "{'alice': {'node': 'bob'}}\n",
      "\n",
      "\n",
      "{'bob': {'node': 'alice'}}\n",
      "\n",
      "\n",
      "{'alice': {'node': 'bob'}}\n",
      "\n",
      "\n",
      "{'bob': {'node': 'alice'}}\n",
      "\n",
      "\n",
      "{'alice': {'messages': [HumanMessage(content=\"You're back with Alice now! How can I assist you?\", additional_kwargs={}, response_metadata={}, name='alice', id='7756a85c-510a-4c91-af48-d7339657feb2')]}}\n",
      "\n",
      "\n"
     ]
    }
   ],
   "source": [
    "for chunk in graph.stream({\"messages\": [(\"user\", \"cool, now transfer me back to alice\")]}, config):\n",
    "    print(chunk)\n",
    "    print(\"\\n\")"
   ]
  },
  {
   "cell_type": "code",
   "execution_count": 31,
   "id": "16c2a896-2d2d-4b13-aca2-80a0dd83c28d",
   "metadata": {},
   "outputs": [
    {
     "name": "stdout",
     "output_type": "stream",
     "text": [
      "(('alice:c61fb534-0c1e-2122-c928-a664b269a4e3',), {'agent': {'messages': [AIMessage(content='', additional_kwargs={'tool_calls': [{'id': 'call_1HqdzWmKfw2XhAQUApxUdV8r', 'function': {'arguments': '{\"a\":4,\"b\":9}', 'name': 'add'}, 'type': 'function'}], 'refusal': None}, response_metadata={'token_usage': {'completion_tokens': 17, 'prompt_tokens': 181, 'total_tokens': 198, 'completion_tokens_details': {'accepted_prediction_tokens': 0, 'audio_tokens': 0, 'reasoning_tokens': 0, 'rejected_prediction_tokens': 0}, 'prompt_tokens_details': {'audio_tokens': 0, 'cached_tokens': 0}}, 'model_name': 'gpt-4o-2024-08-06', 'system_fingerprint': 'fp_7f6be3efb0', 'finish_reason': 'tool_calls', 'logprobs': None}, id='run-857cf747-3185-40e8-9111-395858a284c4-0', tool_calls=[{'name': 'add', 'args': {'a': 4, 'b': 9}, 'id': 'call_1HqdzWmKfw2XhAQUApxUdV8r', 'type': 'tool_call'}], usage_metadata={'input_tokens': 181, 'output_tokens': 17, 'total_tokens': 198, 'input_token_details': {'audio': 0, 'cache_read': 0}, 'output_token_details': {'audio': 0, 'reasoning': 0}})]}})\n",
      "\n",
      "\n",
      "(('alice:c61fb534-0c1e-2122-c928-a664b269a4e3',), {'tools': {'messages': [ToolMessage(content='13', name='add', id='0f74896a-1a74-47f6-b91e-a5fa67fc65ec', tool_call_id='call_1HqdzWmKfw2XhAQUApxUdV8r')]}})\n",
      "\n",
      "\n",
      "(('alice:c61fb534-0c1e-2122-c928-a664b269a4e3',), {'agent': {'messages': [AIMessage(content='4 + 9 is 13.', additional_kwargs={'refusal': None}, response_metadata={'token_usage': {'completion_tokens': 9, 'prompt_tokens': 206, 'total_tokens': 215, 'completion_tokens_details': {'accepted_prediction_tokens': 0, 'audio_tokens': 0, 'reasoning_tokens': 0, 'rejected_prediction_tokens': 0}, 'prompt_tokens_details': {'audio_tokens': 0, 'cached_tokens': 0}}, 'model_name': 'gpt-4o-2024-08-06', 'system_fingerprint': 'fp_7f6be3efb0', 'finish_reason': 'stop', 'logprobs': None}, id='run-2dc90249-d353-4d67-933b-ecf417eb7016-0', usage_metadata={'input_tokens': 206, 'output_tokens': 9, 'total_tokens': 215, 'input_token_details': {'audio': 0, 'cache_read': 0}, 'output_token_details': {'audio': 0, 'reasoning': 0}})]}})\n",
      "\n",
      "\n",
      "((), {'alice': {'messages': [HumanMessage(content='4 + 9 is 13.', additional_kwargs={}, response_metadata={}, name='alice')]}})\n",
      "\n",
      "\n"
     ]
    }
   ],
   "source": [
    "for chunk in graph.stream({\"messages\": [(\"user\", \"what's 4 + 9\")]}, config, subgraphs=True):\n",
    "    print(chunk)\n",
    "    print(\"\\n\")"
   ]
  },
  {
   "cell_type": "code",
   "execution_count": 32,
   "id": "c743f18e-caa4-4cb5-82ff-7aef7a1e5f7a",
   "metadata": {},
   "outputs": [
    {
     "data": {
      "text/plain": [
       "[HumanMessage(content='hi! transfer me to bob', additional_kwargs={}, response_metadata={}, id='b3504335-8e0c-4946-99c2-d5ef6db00422'),\n",
       " HumanMessage(content=\"You're already speaking with Bob! How can I assist you today?\", additional_kwargs={}, response_metadata={}, name='bob', id='21f83d68-d096-470e-b58e-ea1384db997e'),\n",
       " HumanMessage(content='who am i speaking to?', additional_kwargs={}, response_metadata={}, id='cf9093d6-2954-46ba-90c9-1039b5cf19f6'),\n",
       " HumanMessage(content=\"You're speaking with Bob. How can I help you today?\", additional_kwargs={}, response_metadata={}, name='bob', id='316de63d-10c2-46e3-8b99-52cfcb5b7dc4'),\n",
       " HumanMessage(content=\"what's 3 times 14?\", additional_kwargs={}, response_metadata={}, id='fbbd92b2-448e-44f6-aae1-2ec7ec88d067'),\n",
       " HumanMessage(content='3 times 14 is 42.', additional_kwargs={}, response_metadata={}, name='bob', id='d8a8dde6-d4f0-4ad6-b986-9008a0244242'),\n",
       " HumanMessage(content='cool, now transfer me back to alice', additional_kwargs={}, response_metadata={}, id='3f5e1e82-1f34-4619-9f3e-9995180fe91d'),\n",
       " HumanMessage(content=\"You're back with Alice now! How can I assist you?\", additional_kwargs={}, response_metadata={}, name='alice', id='7756a85c-510a-4c91-af48-d7339657feb2'),\n",
       " HumanMessage(content=\"what's 4 + 9\", additional_kwargs={}, response_metadata={}, id='e993ab5f-ad37-4c5b-a011-636c014132e2'),\n",
       " HumanMessage(content='4 + 9 is 13.', additional_kwargs={}, response_metadata={}, name='alice', id='613d4977-8075-4dbf-a6a2-bb49f02b80c9')]"
      ]
     },
     "execution_count": 32,
     "metadata": {},
     "output_type": "execute_result"
    }
   ],
   "source": [
    "graph.get_state(config).values[\"messages\"]"
   ]
  },
  {
   "cell_type": "markdown",
   "id": "e108a6d1-e159-43c1-a879-487f33d94f8c",
   "metadata": {},
   "source": [
    "---"
   ]
  },
  {
   "cell_type": "code",
   "execution_count": 162,
   "id": "b026ec2a-0b1a-4464-a4c4-e431e3551f22",
   "metadata": {},
   "outputs": [],
   "source": [
    "builder = StateGraph(AgentRouterState)\n",
    "\n",
    "alice = create_react_agent(\n",
    "    model,\n",
    "    [add, transfer_to_bob],\n",
    "    state_modifier=\"You're Alice the cat.\",\n",
    ")\n",
    "bob = create_react_agent(\n",
    "    model,\n",
    "    [multiply, transfer_to_alice, transfer_to_charlie],\n",
    "    state_modifier=\"You're Bob the dog.\",\n",
    ")\n",
    "charlie = create_react_agent(\n",
    "    model,\n",
    "    [transfer_to_bob],\n",
    "    state_modifier=\"You're Charlie the parrot.\",\n",
    ")\n",
    "\n",
    "def call_alice(state):\n",
    "    response = alice.invoke(state)\n",
    "    return keep_last_message_as_human(response, \"alice\")\n",
    "\n",
    "\n",
    "def call_bob(state):\n",
    "    response = bob.invoke(state)\n",
    "    return keep_last_message_as_human(response, \"bob\")\n",
    "\n",
    "\n",
    "def call_charlie(state):\n",
    "    response = charlie.invoke(state)\n",
    "    return keep_last_message_as_human(response, \"charlie\")\n",
    "\n",
    "\n",
    "builder = StateGraph(AgentRouterState)\n",
    "builder.add_node(\"alice\", call_alice)\n",
    "builder.add_node(\"bob\", call_bob)\n",
    "builder.add_node(\"charlie\", call_charlie)\n",
    "\n",
    "def router(state) -> Literal[\"alice\", \"bob\", \"charlie\"]:\n",
    "    return state.get(\"node\", \"alice\")\n",
    "\n",
    "builder.add_conditional_edges(START, router)\n",
    "\n",
    "memory = MemorySaver()\n",
    "graph = builder.compile(checkpointer=memory)"
   ]
  },
  {
   "cell_type": "code",
   "execution_count": 163,
   "id": "8ecdd447-23eb-4b8e-9431-7defe660d7eb",
   "metadata": {},
   "outputs": [
    {
     "data": {
      "image/jpeg": "[encoded data removed]",
      "text/plain": [
       "<IPython.core.display.Image object>"
      ]
     },
     "metadata": {},
     "output_type": "display_data"
    }
   ],
   "source": [
    "display(Image(graph.get_graph().draw_mermaid_png()))"
   ]
  },
  {
   "cell_type": "code",
   "execution_count": 164,
   "id": "23c0e2f4-ef0e-4f2e-b73c-ec7f9b67108d",
   "metadata": {},
   "outputs": [
    {
     "name": "stdout",
     "output_type": "stream",
     "text": [
      "{'alice': {'node': 'bob'}}\n",
      "\n",
      "\n",
      "{'bob': {'messages': [HumanMessage(content=\"I'm Bob, so you're already with me! How can I assist you today?\", additional_kwargs={}, response_metadata={}, name='bob', id='fd18a3a5-8d45-475a-868f-554a2b46a643')]}}\n",
      "\n",
      "\n"
     ]
    }
   ],
   "source": [
    "for chunk in graph.stream({\"messages\": [(\"user\", \"hi! transfer me to bob\")]}, config):\n",
    "    print(chunk)\n",
    "    print(\"\\n\")"
   ]
  },
  {
   "cell_type": "code",
   "execution_count": 165,
   "id": "406eb2a5-5366-4600-b1bd-1ce3fdacfe4c",
   "metadata": {},
   "outputs": [
    {
     "name": "stdout",
     "output_type": "stream",
     "text": [
      "{'bob': {'node': 'charlie'}}\n",
      "\n",
      "\n",
      "{'charlie': {'messages': [HumanMessage(content=\"You're already with Charlie the parrot! How can I assist you today?\", additional_kwargs={}, response_metadata={}, name='charlie', id='0703d459-717f-46ab-a550-57e0ee72f590')]}}\n",
      "\n",
      "\n"
     ]
    }
   ],
   "source": [
    "for chunk in graph.stream({\"messages\": [(\"user\", \"transfer me to charlie\")]}, config):\n",
    "    print(chunk)\n",
    "    print(\"\\n\")"
   ]
  },
  {
   "cell_type": "code",
   "execution_count": 166,
   "id": "0f2e469c-7f7f-4f58-a1bd-fa59965018f8",
   "metadata": {},
   "outputs": [
    {
     "name": "stdout",
     "output_type": "stream",
     "text": [
      "{'charlie': {'node': 'bob'}}\n",
      "\n",
      "\n",
      "{'bob': {'messages': [HumanMessage(content=\"I'm Bob the dog, and I'm here to help! What can I do for you today?\", additional_kwargs={}, response_metadata={}, name='bob', id='fc710398-e6c4-4aa2-b429-6e0ded206a70')]}}\n",
      "\n",
      "\n"
     ]
    }
   ],
   "source": [
    "for chunk in graph.stream({\"messages\": [(\"user\", \"back to bob please\")]}, config):\n",
    "    print(chunk)\n",
    "    print(\"\\n\")"
   ]
  },
  {
   "cell_type": "markdown",
   "id": "46618927-40a7-4bf2-a20e-9377dfd3827f",
   "metadata": {},
   "source": [
    "---"
   ]
  },
  {
   "cell_type": "markdown",
   "id": "b12eb795-ac11-452b-a7e4-4056db373f0d",
   "metadata": {},
   "source": [
    "### Supervisor"
   ]
  },
  {
   "cell_type": "code",
   "execution_count": 168,
   "id": "e1a3912e-4d63-4668-b87c-05e325ff0dcb",
   "metadata": {},
   "outputs": [],
   "source": [
    "builder = StateGraph(AgentRouterState)\n",
    "\n",
    "supervisor = create_react_agent(\n",
    "    model, \n",
    "    [transfer_to_alice, transfer_to_bob],\n",
    "    state_modifier=(\n",
    "        \"You're team supervisor managing Alice and Bob. \"\n",
    "        \"Alice is an expert at multiplication, Bob is great at addition. \"\n",
    "        \"To answer user question, transfer to one of them that has the requisite skills. \"\n",
    "        \"Once you have the final answer to user question, do not transfer -- respond to user directly!\"\n",
    "    )\n",
    ")\n",
    "bob = create_react_agent(\n",
    "    model,\n",
    "    [add],\n",
    "    state_modifier=\"You're Bob the addition expert.\",\n",
    ")\n",
    "alice = create_react_agent(\n",
    "    model,\n",
    "    [multiply],\n",
    "    state_modifier=\"You're Alice the multiplication expert.\",\n",
    ")\n",
    "\n",
    "def call_alice(state):\n",
    "    response = alice.invoke(state)\n",
    "    return keep_last_message_as_human(response, \"alice\")\n",
    "\n",
    "\n",
    "def call_bob(state):\n",
    "    response = bob.invoke(state)\n",
    "    return keep_last_message_as_human(response, \"bob\")\n",
    "\n",
    "\n",
    "builder = StateGraph(AgentRouterState)\n",
    "builder.add_node(\"supervisor\", supervisor)\n",
    "builder.add_node(\"alice\", call_alice)\n",
    "builder.add_node(\"bob\", call_bob)\n",
    "\n",
    "builder.add_edge(START, \"supervisor\")\n",
    "builder.add_edge(\"alice\", \"supervisor\")\n",
    "builder.add_edge(\"bob\", \"supervisor\")\n",
    "\n",
    "memory = MemorySaver()\n",
    "graph = builder.compile(checkpointer=memory)"
   ]
  },
  {
   "cell_type": "code",
   "execution_count": 169,
   "id": "439522c6-2abc-449f-beb6-7f3e6146965b",
   "metadata": {},
   "outputs": [
    {
     "data": {
      "image/jpeg": "[encoded data removed]",
      "text/plain": [
       "<IPython.core.display.Image object>"
      ]
     },
     "metadata": {},
     "output_type": "display_data"
    }
   ],
   "source": [
    "# graph is fucked here because there are no annotations\n",
    "display(Image(graph.get_graph().draw_mermaid_png()))"
   ]
  },
  {
   "cell_type": "code",
   "execution_count": 170,
   "id": "8ef440d3-a290-4625-8d28-f29d02d217fc",
   "metadata": {},
   "outputs": [
    {
     "name": "stdout",
     "output_type": "stream",
     "text": [
      "(('supervisor:b8cff451-6d45-5f25-bd3d-46c9db37fe6d',), {'agent': {'messages': [AIMessage(content='', additional_kwargs={'tool_calls': [{'id': 'call_aCbu6RvTXqKNjvuN7sjooWOF', 'function': {'arguments': '{}', 'name': 'transfer_to_bob'}, 'type': 'function'}], 'refusal': None}, response_metadata={'token_usage': {'completion_tokens': 12, 'prompt_tokens': 114, 'total_tokens': 126, 'completion_tokens_details': {'accepted_prediction_tokens': 0, 'audio_tokens': 0, 'reasoning_tokens': 0, 'rejected_prediction_tokens': 0}, 'prompt_tokens_details': {'audio_tokens': 0, 'cached_tokens': 0}}, 'model_name': 'gpt-4o-2024-08-06', 'system_fingerprint': 'fp_7f6be3efb0', 'finish_reason': 'tool_calls', 'logprobs': None}, id='run-58f591a2-6db5-4eb2-a705-7a654d7b2e97-0', tool_calls=[{'name': 'transfer_to_bob', 'args': {}, 'id': 'call_aCbu6RvTXqKNjvuN7sjooWOF', 'type': 'tool_call'}], usage_metadata={'input_tokens': 114, 'output_tokens': 12, 'total_tokens': 126, 'input_token_details': {'audio': 0, 'cache_read': 0}, 'output_token_details': {'audio': 0, 'reasoning': 0}})]}})\n",
      "\n",
      "\n",
      "((), {'supervisor': {'node': 'bob'}})\n",
      "\n",
      "\n",
      "(('bob:670ed4a3-dd40-819d-2075-e4c000bc30e4',), {'agent': {'messages': [AIMessage(content='', additional_kwargs={'tool_calls': [{'id': 'call_RGugM8PqrrWW1iD4iZCtNyUJ', 'function': {'arguments': '{\"a\":391,\"b\":193}', 'name': 'add'}, 'type': 'function'}], 'refusal': None}, response_metadata={'token_usage': {'completion_tokens': 17, 'prompt_tokens': 57, 'total_tokens': 74, 'completion_tokens_details': {'accepted_prediction_tokens': 0, 'audio_tokens': 0, 'reasoning_tokens': 0, 'rejected_prediction_tokens': 0}, 'prompt_tokens_details': {'audio_tokens': 0, 'cached_tokens': 0}}, 'model_name': 'gpt-4o-2024-08-06', 'system_fingerprint': 'fp_7f6be3efb0', 'finish_reason': 'tool_calls', 'logprobs': None}, id='run-8d708ad8-6a19-4e84-a706-bb8e45500ef3-0', tool_calls=[{'name': 'add', 'args': {'a': 391, 'b': 193}, 'id': 'call_RGugM8PqrrWW1iD4iZCtNyUJ', 'type': 'tool_call'}], usage_metadata={'input_tokens': 57, 'output_tokens': 17, 'total_tokens': 74, 'input_token_details': {'audio': 0, 'cache_read': 0}, 'output_token_details': {'audio': 0, 'reasoning': 0}})]}})\n",
      "\n",
      "\n",
      "(('bob:670ed4a3-dd40-819d-2075-e4c000bc30e4',), {'tools': {'messages': [ToolMessage(content='584', name='add', id='4ea1e371-def2-41a0-b3ca-a5b96def7c02', tool_call_id='call_RGugM8PqrrWW1iD4iZCtNyUJ')]}})\n",
      "\n",
      "\n",
      "(('bob:670ed4a3-dd40-819d-2075-e4c000bc30e4',), {'agent': {'messages': [AIMessage(content='The sum of 391 and 193 is 584.', additional_kwargs={'refusal': None}, response_metadata={'token_usage': {'completion_tokens': 13, 'prompt_tokens': 82, 'total_tokens': 95, 'completion_tokens_details': {'accepted_prediction_tokens': 0, 'audio_tokens': 0, 'reasoning_tokens': 0, 'rejected_prediction_tokens': 0}, 'prompt_tokens_details': {'audio_tokens': 0, 'cached_tokens': 0}}, 'model_name': 'gpt-4o-2024-08-06', 'system_fingerprint': 'fp_831e067d82', 'finish_reason': 'stop', 'logprobs': None}, id='run-4a4e0ca7-448a-41ca-8d06-9363080687a1-0', usage_metadata={'input_tokens': 82, 'output_tokens': 13, 'total_tokens': 95, 'input_token_details': {'audio': 0, 'cache_read': 0}, 'output_token_details': {'audio': 0, 'reasoning': 0}})]}})\n",
      "\n",
      "\n",
      "((), {'bob': {'messages': [HumanMessage(content='The sum of 391 and 193 is 584.', additional_kwargs={}, response_metadata={}, name='bob')]}})\n",
      "\n",
      "\n",
      "(('supervisor:7eb9a980-b247-c561-ecb7-c2b9fbeee112',), {'agent': {'messages': [AIMessage(content='The sum of 391 and 193 is 584.', additional_kwargs={'refusal': None}, response_metadata={'token_usage': {'completion_tokens': 13, 'prompt_tokens': 132, 'total_tokens': 145, 'completion_tokens_details': {'accepted_prediction_tokens': 0, 'audio_tokens': 0, 'reasoning_tokens': 0, 'rejected_prediction_tokens': 0}, 'prompt_tokens_details': {'audio_tokens': 0, 'cached_tokens': 0}}, 'model_name': 'gpt-4o-2024-08-06', 'system_fingerprint': 'fp_7f6be3efb0', 'finish_reason': 'stop', 'logprobs': None}, id='run-b80f2d3e-93e9-4c4b-a860-6b83f089e574-0', usage_metadata={'input_tokens': 132, 'output_tokens': 13, 'total_tokens': 145, 'input_token_details': {'audio': 0, 'cache_read': 0}, 'output_token_details': {'audio': 0, 'reasoning': 0}})]}})\n",
      "\n",
      "\n",
      "((), {'supervisor': {'messages': [HumanMessage(content=\"what's 391 + 193\", additional_kwargs={}, response_metadata={}, id='c8c71ad1-c40b-4be8-bef2-efc0c5e8b30a'), HumanMessage(content='The sum of 391 and 193 is 584.', additional_kwargs={}, response_metadata={}, name='bob', id='8de0726b-b0f5-4564-af7b-b743185ff979'), AIMessage(content='The sum of 391 and 193 is 584.', additional_kwargs={'refusal': None}, response_metadata={'token_usage': {'completion_tokens': 13, 'prompt_tokens': 132, 'total_tokens': 145, 'completion_tokens_details': {'accepted_prediction_tokens': 0, 'audio_tokens': 0, 'reasoning_tokens': 0, 'rejected_prediction_tokens': 0}, 'prompt_tokens_details': {'audio_tokens': 0, 'cached_tokens': 0}}, 'model_name': 'gpt-4o-2024-08-06', 'system_fingerprint': 'fp_7f6be3efb0', 'finish_reason': 'stop', 'logprobs': None}, id='run-b80f2d3e-93e9-4c4b-a860-6b83f089e574-0', usage_metadata={'input_tokens': 132, 'output_tokens': 13, 'total_tokens': 145, 'input_token_details': {'audio': 0, 'cache_read': 0}, 'output_token_details': {'audio': 0, 'reasoning': 0}})]}})\n",
      "\n",
      "\n"
     ]
    }
   ],
   "source": [
    "for chunk in graph.stream({\"messages\": [(\"user\", \"what's 391 + 193\")]}, config, subgraphs=True):\n",
    "    print(chunk)\n",
    "    print(\"\\n\")"
   ]
  },
  {
   "cell_type": "code",
   "execution_count": 171,
   "id": "83ae1259-0848-4fe0-a190-94ecfb557569",
   "metadata": {},
   "outputs": [
    {
     "data": {
      "text/plain": [
       "[HumanMessage(content=\"what's 391 + 193\", additional_kwargs={}, response_metadata={}, id='c8c71ad1-c40b-4be8-bef2-efc0c5e8b30a'),\n",
       " HumanMessage(content='The sum of 391 and 193 is 584.', additional_kwargs={}, response_metadata={}, name='bob', id='8de0726b-b0f5-4564-af7b-b743185ff979'),\n",
       " AIMessage(content='The sum of 391 and 193 is 584.', additional_kwargs={'refusal': None}, response_metadata={'token_usage': {'completion_tokens': 13, 'prompt_tokens': 132, 'total_tokens': 145, 'completion_tokens_details': {'accepted_prediction_tokens': 0, 'audio_tokens': 0, 'reasoning_tokens': 0, 'rejected_prediction_tokens': 0}, 'prompt_tokens_details': {'audio_tokens': 0, 'cached_tokens': 0}}, 'model_name': 'gpt-4o-2024-08-06', 'system_fingerprint': 'fp_7f6be3efb0', 'finish_reason': 'stop', 'logprobs': None}, id='run-b80f2d3e-93e9-4c4b-a860-6b83f089e574-0', usage_metadata={'input_tokens': 132, 'output_tokens': 13, 'total_tokens': 145, 'input_token_details': {'audio': 0, 'cache_read': 0}, 'output_token_details': {'audio': 0, 'reasoning': 0}})]"
      ]
     },
     "execution_count": 171,
     "metadata": {},
     "output_type": "execute_result"
    }
   ],
   "source": [
    "graph.get_state(config).values[\"messages\"]"
   ]
  },
  {
   "cell_type": "code",
   "execution_count": 172,
   "id": "ced6d25d-545e-4573-9d08-749ba28d6720",
   "metadata": {},
   "outputs": [
    {
     "data": {
      "text/plain": [
       "AIMessage(content='The sum of 391 and 193 is 584.', additional_kwargs={'refusal': None}, response_metadata={'token_usage': {'completion_tokens': 13, 'prompt_tokens': 132, 'total_tokens': 145, 'completion_tokens_details': {'accepted_prediction_tokens': 0, 'audio_tokens': 0, 'reasoning_tokens': 0, 'rejected_prediction_tokens': 0}, 'prompt_tokens_details': {'audio_tokens': 0, 'cached_tokens': 0}}, 'model_name': 'gpt-4o-2024-08-06', 'system_fingerprint': 'fp_7f6be3efb0', 'finish_reason': 'stop', 'logprobs': None}, id='run-b80f2d3e-93e9-4c4b-a860-6b83f089e574-0', usage_metadata={'input_tokens': 132, 'output_tokens': 13, 'total_tokens': 145, 'input_token_details': {'audio': 0, 'cache_read': 0}, 'output_token_details': {'audio': 0, 'reasoning': 0}})"
      ]
     },
     "execution_count": 172,
     "metadata": {},
     "output_type": "execute_result"
    }
   ],
   "source": [
    "graph.get_state(config).values[\"messages\"][-1]"
   ]
  },
  {
   "cell_type": "markdown",
   "id": "4fba110d-dfa1-44d1-9441-1dfa3a498520",
   "metadata": {},
   "source": [
    "---"
   ]
  },
  {
   "cell_type": "markdown",
   "id": "e9d0bc87-d23b-4b0b-90be-ba7b55a8b672",
   "metadata": {},
   "source": [
    "### Network"
   ]
  },
  {
   "cell_type": "code",
   "execution_count": 182,
   "id": "fe7547c4-d919-44bc-9058-e131df6ddcb7",
   "metadata": {},
   "outputs": [],
   "source": [
    "alice = create_react_agent(\n",
    "    model_anthropic,\n",
    "    [multiply, transfer_to_bob],\n",
    "    state_modifier=\"You're Alice, a multiplication expert. You can ask Bob for help with addition.\"\n",
    ")\n",
    "bob = create_react_agent(\n",
    "    model_anthropic,\n",
    "    [add, transfer_to_alice],\n",
    "    state_modifier=\"You're Bob, an addition expert. You can ask Alice for help with muiltiplication.\"\n",
    ")\n",
    "\n",
    "builder = StateGraph(AgentRouterState)\n",
    "builder.add_node(\"alice\", alice)\n",
    "builder.add_node(\"bob\", bob)\n",
    "\n",
    "def router(state) -> Literal[\"alice\", \"bob\"]:\n",
    "    return state.get(\"node\", \"alice\")\n",
    "\n",
    "builder.add_conditional_edges(START, router)\n",
    "\n",
    "memory = MemorySaver()\n",
    "graph = builder.compile(checkpointer=memory)"
   ]
  },
  {
   "cell_type": "code",
   "execution_count": 183,
   "id": "93c7b8fe-355a-4af3-af2d-09a8ab6dd32a",
   "metadata": {},
   "outputs": [],
   "source": [
    "config = {\"configurable\": {\"thread_id\": \"1\"}}"
   ]
  },
  {
   "cell_type": "code",
   "execution_count": 184,
   "id": "3327d9f9-1d93-40b7-ba95-d0552b91a4cb",
   "metadata": {},
   "outputs": [
    {
     "name": "stdout",
     "output_type": "stream",
     "text": [
      "(('alice:4996eac6-85f9-6913-a2db-773262b2f68f',), {'agent': {'messages': [AIMessage(content=[{'text': 'I apologize, but as Alice the multiplication expert, I actually specialize in multiplication rather than addition. However, I can help you get that answer by asking Bob, who is good with addition. Let me transfer this question to Bob.', 'type': 'text'}, {'id': 'toolu_01Ay2uyLgcbuM8sy9d4JS2bd', 'input': {}, 'name': 'transfer_to_bob', 'type': 'tool_use'}], additional_kwargs={}, response_metadata={'id': 'msg_01LQEq28661WkgZVRRyccL6H', 'model': 'claude-3-5-sonnet-20241022', 'stop_reason': 'tool_use', 'stop_sequence': None, 'usage': {'input_tokens': 449, 'output_tokens': 87}}, id='run-0983a50b-be70-492e-8b11-ca7459b87db4-0', tool_calls=[{'name': 'transfer_to_bob', 'args': {}, 'id': 'toolu_01Ay2uyLgcbuM8sy9d4JS2bd', 'type': 'tool_call'}], usage_metadata={'input_tokens': 449, 'output_tokens': 87, 'total_tokens': 536, 'input_token_details': {}})]}})\n",
      "((), {'alice': {'node': 'bob'}})\n",
      "(('bob:2d7d5bf6-bc01-f62f-2be9-ab0613cbfb32',), {'agent': {'messages': [AIMessage(content=[{'text': 'I can help you add 2 and 3 using the add function.', 'type': 'text'}, {'id': 'toolu_01GNNjqiLnJQcCLii6N1oCW9', 'input': {'a': 2, 'b': 3}, 'name': 'add', 'type': 'tool_use'}], additional_kwargs={}, response_metadata={'id': 'msg_014FRBgkLdmEpGohi55hAHRE', 'model': 'claude-3-5-sonnet-20241022', 'stop_reason': 'tool_use', 'stop_sequence': None, 'usage': {'input_tokens': 451, 'output_tokens': 86}}, id='run-997d6867-6886-4028-8445-b077505d5c20-0', tool_calls=[{'name': 'add', 'args': {'a': 2, 'b': 3}, 'id': 'toolu_01GNNjqiLnJQcCLii6N1oCW9', 'type': 'tool_call'}], usage_metadata={'input_tokens': 451, 'output_tokens': 86, 'total_tokens': 537, 'input_token_details': {}})]}})\n",
      "(('bob:2d7d5bf6-bc01-f62f-2be9-ab0613cbfb32',), {'tools': {'messages': [ToolMessage(content='5', name='add', id='486dea84-1468-4c4b-9640-55139e3fc685', tool_call_id='toolu_01GNNjqiLnJQcCLii6N1oCW9')]}})\n",
      "(('bob:2d7d5bf6-bc01-f62f-2be9-ab0613cbfb32',), {'agent': {'messages': [AIMessage(content='The sum of 2 and 3 is 5.', additional_kwargs={}, response_metadata={'id': 'msg_012oLevFDnxrhNqpYoD5deqK', 'model': 'claude-3-5-sonnet-20241022', 'stop_reason': 'end_turn', 'stop_sequence': None, 'usage': {'input_tokens': 549, 'output_tokens': 18}}, id='run-6f449ce7-d938-4a17-9c38-ffaf6a30332f-0', usage_metadata={'input_tokens': 549, 'output_tokens': 18, 'total_tokens': 567, 'input_token_details': {}})]}})\n",
      "((), {'bob': {'messages': [HumanMessage(content=\"what's 2 + 3\", additional_kwargs={}, response_metadata={}, id='5f0790bd-a7dc-41ec-989c-a7eb4b371f02'), AIMessage(content=[{'text': 'I can help you add 2 and 3 using the add function.', 'type': 'text'}, {'id': 'toolu_01GNNjqiLnJQcCLii6N1oCW9', 'input': {'a': 2, 'b': 3}, 'name': 'add', 'type': 'tool_use'}], additional_kwargs={}, response_metadata={'id': 'msg_014FRBgkLdmEpGohi55hAHRE', 'model': 'claude-3-5-sonnet-20241022', 'stop_reason': 'tool_use', 'stop_sequence': None, 'usage': {'input_tokens': 451, 'output_tokens': 86}}, id='run-997d6867-6886-4028-8445-b077505d5c20-0', tool_calls=[{'name': 'add', 'args': {'a': 2, 'b': 3}, 'id': 'toolu_01GNNjqiLnJQcCLii6N1oCW9', 'type': 'tool_call'}], usage_metadata={'input_tokens': 451, 'output_tokens': 86, 'total_tokens': 537, 'input_token_details': {}}), ToolMessage(content='5', name='add', id='486dea84-1468-4c4b-9640-55139e3fc685', tool_call_id='toolu_01GNNjqiLnJQcCLii6N1oCW9'), AIMessage(content='The sum of 2 and 3 is 5.', additional_kwargs={}, response_metadata={'id': 'msg_012oLevFDnxrhNqpYoD5deqK', 'model': 'claude-3-5-sonnet-20241022', 'stop_reason': 'end_turn', 'stop_sequence': None, 'usage': {'input_tokens': 549, 'output_tokens': 18}}, id='run-6f449ce7-d938-4a17-9c38-ffaf6a30332f-0', usage_metadata={'input_tokens': 549, 'output_tokens': 18, 'total_tokens': 567, 'input_token_details': {}})]}})\n"
     ]
    }
   ],
   "source": [
    "for chunk in graph.stream({\"messages\": [(\"user\", \"what's 2 + 3\")]}, config, subgraphs=True):\n",
    "    print(chunk)"
   ]
  },
  {
   "cell_type": "code",
   "execution_count": 185,
   "id": "4ca81767-4ac7-4486-a32d-6621fee26106",
   "metadata": {},
   "outputs": [
    {
     "name": "stdout",
     "output_type": "stream",
     "text": [
      "(('bob:1c0e2398-691f-ad00-44fb-52d66f0938d6',), {'agent': {'messages': [AIMessage(content=[{'text': \"Since I'm only an addition expert, I'll need to transfer this multiplication question to Alice who can help with multiplication.\", 'type': 'text'}, {'id': 'toolu_01Lq1ucryiQMX5bv7TzhGyRV', 'input': {}, 'name': 'transfer_to_alice', 'type': 'tool_use'}], additional_kwargs={}, response_metadata={'id': 'msg_01PAJhtN22FPviZ5cW8y31NR', 'model': 'claude-3-5-sonnet-20241022', 'stop_reason': 'tool_use', 'stop_sequence': None, 'usage': {'input_tokens': 576, 'output_tokens': 63}}, id='run-3f4a018a-6161-467a-8eab-857741ed7c23-0', tool_calls=[{'name': 'transfer_to_alice', 'args': {}, 'id': 'toolu_01Lq1ucryiQMX5bv7TzhGyRV', 'type': 'tool_call'}], usage_metadata={'input_tokens': 576, 'output_tokens': 63, 'total_tokens': 639, 'input_token_details': {}})]}})\n",
      "((), {'bob': {'node': 'alice'}})\n",
      "(('alice:79ee4cd6-7621-8a39-2632-4db12bd68a35',), {'agent': {'messages': [AIMessage(content=[{'text': \"I'll help you multiply 5 by 11 using the multiply function.\", 'type': 'text'}, {'id': 'toolu_01GEe7cobKyDDiEhZoMoe5qR', 'input': {'a': 5, 'b': 11}, 'name': 'multiply', 'type': 'tool_use'}], additional_kwargs={}, response_metadata={'id': 'msg_01EuGApT3Zn6XSt6DwHK3tLJ', 'model': 'claude-3-5-sonnet-20241022', 'stop_reason': 'tool_use', 'stop_sequence': None, 'usage': {'input_tokens': 574, 'output_tokens': 86}}, id='run-4149d5a9-ec78-4ea9-8492-a433bcd124e4-0', tool_calls=[{'name': 'multiply', 'args': {'a': 5, 'b': 11}, 'id': 'toolu_01GEe7cobKyDDiEhZoMoe5qR', 'type': 'tool_call'}], usage_metadata={'input_tokens': 574, 'output_tokens': 86, 'total_tokens': 660, 'input_token_details': {}})]}})\n",
      "(('alice:79ee4cd6-7621-8a39-2632-4db12bd68a35',), {'tools': {'messages': [ToolMessage(content='55', name='multiply', id='dc9e061d-7a86-45f8-92d6-71c8ad55b531', tool_call_id='toolu_01GEe7cobKyDDiEhZoMoe5qR')]}})\n",
      "(('alice:79ee4cd6-7621-8a39-2632-4db12bd68a35',), {'agent': {'messages': [AIMessage(content='The result of 5 × 11 is 55.', additional_kwargs={}, response_metadata={'id': 'msg_014gNqBzY6NgFCUo4wTX7wEs', 'model': 'claude-3-5-sonnet-20241022', 'stop_reason': 'end_turn', 'stop_sequence': None, 'usage': {'input_tokens': 672, 'output_tokens': 18}}, id='run-5b59c305-e9dd-4d37-8ffb-32c0a0112350-0', usage_metadata={'input_tokens': 672, 'output_tokens': 18, 'total_tokens': 690, 'input_token_details': {}})]}})\n",
      "((), {'alice': {'messages': [HumanMessage(content=\"what's 2 + 3\", additional_kwargs={}, response_metadata={}, id='5f0790bd-a7dc-41ec-989c-a7eb4b371f02'), AIMessage(content=[{'text': 'I can help you add 2 and 3 using the add function.', 'type': 'text'}, {'id': 'toolu_01GNNjqiLnJQcCLii6N1oCW9', 'input': {'a': 2, 'b': 3}, 'name': 'add', 'type': 'tool_use'}], additional_kwargs={}, response_metadata={'id': 'msg_014FRBgkLdmEpGohi55hAHRE', 'model': 'claude-3-5-sonnet-20241022', 'stop_reason': 'tool_use', 'stop_sequence': None, 'usage': {'input_tokens': 451, 'output_tokens': 86}}, id='run-997d6867-6886-4028-8445-b077505d5c20-0', tool_calls=[{'name': 'add', 'args': {'a': 2, 'b': 3}, 'id': 'toolu_01GNNjqiLnJQcCLii6N1oCW9', 'type': 'tool_call'}], usage_metadata={'input_tokens': 451, 'output_tokens': 86, 'total_tokens': 537, 'input_token_details': {}}), ToolMessage(content='5', name='add', id='486dea84-1468-4c4b-9640-55139e3fc685', tool_call_id='toolu_01GNNjqiLnJQcCLii6N1oCW9'), AIMessage(content='The sum of 2 and 3 is 5.', additional_kwargs={}, response_metadata={'id': 'msg_012oLevFDnxrhNqpYoD5deqK', 'model': 'claude-3-5-sonnet-20241022', 'stop_reason': 'end_turn', 'stop_sequence': None, 'usage': {'input_tokens': 549, 'output_tokens': 18}}, id='run-6f449ce7-d938-4a17-9c38-ffaf6a30332f-0', usage_metadata={'input_tokens': 549, 'output_tokens': 18, 'total_tokens': 567, 'input_token_details': {}}), HumanMessage(content='now multiply that by 11', additional_kwargs={}, response_metadata={}, id='b31ac4c1-1f36-4ae6-b04b-dfebdc4c2329'), AIMessage(content=[{'text': \"I'll help you multiply 5 by 11 using the multiply function.\", 'type': 'text'}, {'id': 'toolu_01GEe7cobKyDDiEhZoMoe5qR', 'input': {'a': 5, 'b': 11}, 'name': 'multiply', 'type': 'tool_use'}], additional_kwargs={}, response_metadata={'id': 'msg_01EuGApT3Zn6XSt6DwHK3tLJ', 'model': 'claude-3-5-sonnet-20241022', 'stop_reason': 'tool_use', 'stop_sequence': None, 'usage': {'input_tokens': 574, 'output_tokens': 86}}, id='run-4149d5a9-ec78-4ea9-8492-a433bcd124e4-0', tool_calls=[{'name': 'multiply', 'args': {'a': 5, 'b': 11}, 'id': 'toolu_01GEe7cobKyDDiEhZoMoe5qR', 'type': 'tool_call'}], usage_metadata={'input_tokens': 574, 'output_tokens': 86, 'total_tokens': 660, 'input_token_details': {}}), ToolMessage(content='55', name='multiply', id='dc9e061d-7a86-45f8-92d6-71c8ad55b531', tool_call_id='toolu_01GEe7cobKyDDiEhZoMoe5qR'), AIMessage(content='The result of 5 × 11 is 55.', additional_kwargs={}, response_metadata={'id': 'msg_014gNqBzY6NgFCUo4wTX7wEs', 'model': 'claude-3-5-sonnet-20241022', 'stop_reason': 'end_turn', 'stop_sequence': None, 'usage': {'input_tokens': 672, 'output_tokens': 18}}, id='run-5b59c305-e9dd-4d37-8ffb-32c0a0112350-0', usage_metadata={'input_tokens': 672, 'output_tokens': 18, 'total_tokens': 690, 'input_token_details': {}})]}})\n"
     ]
    }
   ],
   "source": [
    "for chunk in graph.stream({\"messages\": [(\"user\", \"now multiply that by 11\")]}, config, subgraphs=True):\n",
    "    print(chunk)"
   ]
  },
  {
   "cell_type": "code",
   "execution_count": 186,
   "id": "bc559526-5437-4cde-be80-b004b7398ea6",
   "metadata": {},
   "outputs": [
    {
     "data": {
      "text/plain": [
       "[HumanMessage(content=\"what's 2 + 3\", additional_kwargs={}, response_metadata={}, id='5f0790bd-a7dc-41ec-989c-a7eb4b371f02'),\n",
       " AIMessage(content=[{'text': 'I can help you add 2 and 3 using the add function.', 'type': 'text'}, {'id': 'toolu_01GNNjqiLnJQcCLii6N1oCW9', 'input': {'a': 2, 'b': 3}, 'name': 'add', 'type': 'tool_use'}], additional_kwargs={}, response_metadata={'id': 'msg_014FRBgkLdmEpGohi55hAHRE', 'model': 'claude-3-5-sonnet-20241022', 'stop_reason': 'tool_use', 'stop_sequence': None, 'usage': {'input_tokens': 451, 'output_tokens': 86}}, id='run-997d6867-6886-4028-8445-b077505d5c20-0', tool_calls=[{'name': 'add', 'args': {'a': 2, 'b': 3}, 'id': 'toolu_01GNNjqiLnJQcCLii6N1oCW9', 'type': 'tool_call'}], usage_metadata={'input_tokens': 451, 'output_tokens': 86, 'total_tokens': 537, 'input_token_details': {}}),\n",
       " ToolMessage(content='5', name='add', id='486dea84-1468-4c4b-9640-55139e3fc685', tool_call_id='toolu_01GNNjqiLnJQcCLii6N1oCW9'),\n",
       " AIMessage(content='The sum of 2 and 3 is 5.', additional_kwargs={}, response_metadata={'id': 'msg_012oLevFDnxrhNqpYoD5deqK', 'model': 'claude-3-5-sonnet-20241022', 'stop_reason': 'end_turn', 'stop_sequence': None, 'usage': {'input_tokens': 549, 'output_tokens': 18}}, id='run-6f449ce7-d938-4a17-9c38-ffaf6a30332f-0', usage_metadata={'input_tokens': 549, 'output_tokens': 18, 'total_tokens': 567, 'input_token_details': {}}),\n",
       " HumanMessage(content='now multiply that by 11', additional_kwargs={}, response_metadata={}, id='b31ac4c1-1f36-4ae6-b04b-dfebdc4c2329'),\n",
       " AIMessage(content=[{'text': \"I'll help you multiply 5 by 11 using the multiply function.\", 'type': 'text'}, {'id': 'toolu_01GEe7cobKyDDiEhZoMoe5qR', 'input': {'a': 5, 'b': 11}, 'name': 'multiply', 'type': 'tool_use'}], additional_kwargs={}, response_metadata={'id': 'msg_01EuGApT3Zn6XSt6DwHK3tLJ', 'model': 'claude-3-5-sonnet-20241022', 'stop_reason': 'tool_use', 'stop_sequence': None, 'usage': {'input_tokens': 574, 'output_tokens': 86}}, id='run-4149d5a9-ec78-4ea9-8492-a433bcd124e4-0', tool_calls=[{'name': 'multiply', 'args': {'a': 5, 'b': 11}, 'id': 'toolu_01GEe7cobKyDDiEhZoMoe5qR', 'type': 'tool_call'}], usage_metadata={'input_tokens': 574, 'output_tokens': 86, 'total_tokens': 660, 'input_token_details': {}}),\n",
       " ToolMessage(content='55', name='multiply', id='dc9e061d-7a86-45f8-92d6-71c8ad55b531', tool_call_id='toolu_01GEe7cobKyDDiEhZoMoe5qR'),\n",
       " AIMessage(content='The result of 5 × 11 is 55.', additional_kwargs={}, response_metadata={'id': 'msg_014gNqBzY6NgFCUo4wTX7wEs', 'model': 'claude-3-5-sonnet-20241022', 'stop_reason': 'end_turn', 'stop_sequence': None, 'usage': {'input_tokens': 672, 'output_tokens': 18}}, id='run-5b59c305-e9dd-4d37-8ffb-32c0a0112350-0', usage_metadata={'input_tokens': 672, 'output_tokens': 18, 'total_tokens': 690, 'input_token_details': {}})]"
      ]
     },
     "execution_count": 186,
     "metadata": {},
     "output_type": "execute_result"
    }
   ],
   "source": [
    "graph.get_state(config).values[\"messages\"]"
   ]
  },
  {
   "cell_type": "code",
   "execution_count": 187,
   "id": "bc502ddd-0250-4408-9272-0265da426058",
   "metadata": {},
   "outputs": [
    {
     "data": {
      "text/plain": [
       "AIMessage(content='The result of 5 × 11 is 55.', additional_kwargs={}, response_metadata={'id': 'msg_014gNqBzY6NgFCUo4wTX7wEs', 'model': 'claude-3-5-sonnet-20241022', 'stop_reason': 'end_turn', 'stop_sequence': None, 'usage': {'input_tokens': 672, 'output_tokens': 18}}, id='run-5b59c305-e9dd-4d37-8ffb-32c0a0112350-0', usage_metadata={'input_tokens': 672, 'output_tokens': 18, 'total_tokens': 690, 'input_token_details': {}})"
      ]
     },
     "execution_count": 187,
     "metadata": {},
     "output_type": "execute_result"
    }
   ],
   "source": [
    "graph.get_state(config).values[\"messages\"][-1]"
   ]
  },
  {
   "cell_type": "markdown",
   "id": "a9100689-fa42-4c36-841f-2911a0cb2a10",
   "metadata": {},
   "source": [
    "---"
   ]
  },
  {
   "cell_type": "markdown",
   "id": "d3cc4cc6-cc76-4924-b296-d0bcd90994b4",
   "metadata": {},
   "source": [
    "### Different state schema in parent vs child state"
   ]
  },
  {
   "cell_type": "code",
   "execution_count": 22,
   "id": "57eece96-91a8-4e8d-a514-bbd370fed77e",
   "metadata": {},
   "outputs": [],
   "source": [
    "from langgraph.graph.message import add_messages\n",
    "from langchain_core.messages import BaseMessage\n",
    "from typing import Annotated, TypedDict"
   ]
  },
  {
   "cell_type": "code",
   "execution_count": 189,
   "id": "37edc91f-10c5-49c2-9bc4-16a3a275e005",
   "metadata": {},
   "outputs": [],
   "source": [
    "class CustomParentState(TypedDict):\n",
    "    # deliberately use a different key here\n",
    "    parent_messages: Annotated[list[BaseMessage], add_messages]\n",
    "    node: str"
   ]
  },
  {
   "cell_type": "code",
   "execution_count": 201,
   "id": "80ca274d-2240-405b-8d89-1cf8f911d92c",
   "metadata": {},
   "outputs": [],
   "source": [
    "def input_processor(state):\n",
    "    return {**state, \"messages\": state[\"parent_messages\"]}\n",
    "\n",
    "def output_processor(state):\n",
    "    updated_state = keep_last_message_as_human(state, None)\n",
    "    return {**updated_state, \"parent_messages\": updated_state[\"messages\"]}"
   ]
  },
  {
   "cell_type": "code",
   "execution_count": 202,
   "id": "6e6c8360-1e29-4e10-bb7a-3620851c8ab5",
   "metadata": {},
   "outputs": [],
   "source": [
    "alice = create_react_agent(\n",
    "    model_anthropic,\n",
    "    [multiply, transfer_to_bob],\n",
    "    state_modifier=\"You're Alice, a multiplication expert. You can ask Bob for help with addition.\"\n",
    ")\n",
    "bob = create_react_agent(\n",
    "    model_anthropic,\n",
    "    [add, transfer_to_alice],\n",
    "    state_modifier=\"You're Bob, an addition expert. You can ask Alice for help with muiltiplication.\"\n",
    ")\n",
    "\n",
    "def call_alice(state):\n",
    "    response = alice.invoke(input_processor(state))\n",
    "    return output_processor(response)\n",
    "\n",
    "def call_bob(state):\n",
    "    response = bob.invoke(input_processor(state))\n",
    "    return output_processor(response)\n",
    "\n",
    "builder = StateGraph(CustomParentState)\n",
    "builder.add_node(\"alice\", call_alice)\n",
    "builder.add_node(\"bob\", call_bob)\n",
    "\n",
    "def router(state) -> Literal[\"alice\", \"bob\"]:\n",
    "    return state.get(\"node\", \"alice\")\n",
    "\n",
    "builder.add_conditional_edges(START, router)\n",
    "\n",
    "memory = MemorySaver()\n",
    "graph = builder.compile(checkpointer=memory)"
   ]
  },
  {
   "cell_type": "code",
   "execution_count": 203,
   "id": "88549d73-1415-4f18-9dac-65d3fbad4f21",
   "metadata": {},
   "outputs": [],
   "source": [
    "config = {\"configurable\": {\"thread_id\": \"1\"}}"
   ]
  },
  {
   "cell_type": "code",
   "execution_count": 204,
   "id": "eb45116b-45dd-4c44-8ec9-14d46a6f3af1",
   "metadata": {},
   "outputs": [
    {
     "name": "stdout",
     "output_type": "stream",
     "text": [
      "(('alice:b8acf948-caec-090d-e583-66d694ceb731',), {'agent': {'messages': [AIMessage(content=[{'text': 'As Alice, I specialize in multiplication, not addition. Let me ask Bob for help with this addition problem.', 'type': 'text'}, {'id': 'toolu_01V1kenfacc6KX1G1prA6tMy', 'input': {}, 'name': 'transfer_to_bob', 'type': 'tool_use'}], additional_kwargs={}, response_metadata={'id': 'msg_015TxVo1WAXFvHG2fPyYDaLc', 'model': 'claude-3-5-sonnet-20241022', 'stop_reason': 'tool_use', 'stop_sequence': None, 'usage': {'input_tokens': 449, 'output_tokens': 62}}, id='run-4273ae96-0f90-471f-b4b8-5e5e370ec5b1-0', tool_calls=[{'name': 'transfer_to_bob', 'args': {}, 'id': 'toolu_01V1kenfacc6KX1G1prA6tMy', 'type': 'tool_call'}], usage_metadata={'input_tokens': 449, 'output_tokens': 62, 'total_tokens': 511, 'input_token_details': {}})]}})\n",
      "((), {'alice': {'node': 'bob'}})\n",
      "(('bob:026cbecf-a6a9-a197-2163-6c61d0102c96',), {'agent': {'messages': [AIMessage(content=[{'text': 'I can help you add 2 and 3 using the add function.', 'type': 'text'}, {'id': 'toolu_01XPE2GY6Mz5kcDpnBiWv2Fd', 'input': {'a': 2, 'b': 3}, 'name': 'add', 'type': 'tool_use'}], additional_kwargs={}, response_metadata={'id': 'msg_015HVKQyQRRcNThmXRomAQyY', 'model': 'claude-3-5-sonnet-20241022', 'stop_reason': 'tool_use', 'stop_sequence': None, 'usage': {'input_tokens': 451, 'output_tokens': 86}}, id='run-cdacf555-26ae-40ae-a500-ae0c729c569c-0', tool_calls=[{'name': 'add', 'args': {'a': 2, 'b': 3}, 'id': 'toolu_01XPE2GY6Mz5kcDpnBiWv2Fd', 'type': 'tool_call'}], usage_metadata={'input_tokens': 451, 'output_tokens': 86, 'total_tokens': 537, 'input_token_details': {}})]}})\n",
      "(('bob:026cbecf-a6a9-a197-2163-6c61d0102c96',), {'tools': {'messages': [ToolMessage(content='5', name='add', id='c59a4ce2-c4ed-47c9-a757-a6a70b562e56', tool_call_id='toolu_01XPE2GY6Mz5kcDpnBiWv2Fd')]}})\n",
      "(('bob:026cbecf-a6a9-a197-2163-6c61d0102c96',), {'agent': {'messages': [AIMessage(content='The result of adding 2 and 3 is 5.', additional_kwargs={}, response_metadata={'id': 'msg_01EScL8mvF3wAW5eHYV6ESYV', 'model': 'claude-3-5-sonnet-20241022', 'stop_reason': 'end_turn', 'stop_sequence': None, 'usage': {'input_tokens': 549, 'output_tokens': 19}}, id='run-aad9a815-ca83-414e-a3ba-fb30f8b30208-0', usage_metadata={'input_tokens': 549, 'output_tokens': 19, 'total_tokens': 568, 'input_token_details': {}})]}})\n",
      "((), {'bob': {'parent_messages': [HumanMessage(content='The result of adding 2 and 3 is 5.', additional_kwargs={}, response_metadata={})]}})\n"
     ]
    }
   ],
   "source": [
    "for chunk in graph.stream({\"parent_messages\": [(\"user\", \"what's 2 + 3\")]}, config, subgraphs=True):\n",
    "    print(chunk)"
   ]
  },
  {
   "cell_type": "code",
   "execution_count": 206,
   "id": "91201b2b-a84b-4f83-9c3a-e69d802a0d8f",
   "metadata": {},
   "outputs": [
    {
     "data": {
      "text/plain": [
       "[HumanMessage(content=\"what's 2 + 3\", additional_kwargs={}, response_metadata={}, id='e6eb5200-b83e-4f0e-a829-576b7b02ea4f'),\n",
       " HumanMessage(content='The result of adding 2 and 3 is 5.', additional_kwargs={}, response_metadata={}, id='68479668-e5be-43cb-a884-fd3bb8e0a3f4')]"
      ]
     },
     "execution_count": 206,
     "metadata": {},
     "output_type": "execute_result"
    }
   ],
   "source": [
    "graph.get_state(config).values[\"parent_messages\"]"
   ]
  },
  {
   "cell_type": "markdown",
   "id": "33294cd3-b158-47dc-84eb-1c1f7ba05a1f",
   "metadata": {},
   "source": [
    "### Tools that update state (externally)"
   ]
  },
  {
   "cell_type": "code",
   "execution_count": 41,
   "id": "903f1e05-c9a6-4c46-b9c5-3e798a025b1a",
   "metadata": {},
   "outputs": [],
   "source": [
    "class CustomParentState(TypedDict):\n",
    "    # deliberately use a different key here\n",
    "    parent_messages: Annotated[list[BaseMessage], add_messages]\n",
    "    node: str\n",
    "\n",
    "    # this key is not available to the child graph\n",
    "    user_name: str"
   ]
  },
  {
   "cell_type": "code",
   "execution_count": 42,
   "id": "f5322c61-2dfb-4fb0-bfdb-1f25831cc14c",
   "metadata": {},
   "outputs": [],
   "source": [
    "from langchain_core.tools import tool"
   ]
  },
  {
   "cell_type": "code",
   "execution_count": 45,
   "id": "9d1cd607-68f1-42d4-81bb-76b020ae3eaa",
   "metadata": {},
   "outputs": [],
   "source": [
    "@tool(return_direct=True)\n",
    "def get_user_name() -> GraphCommand:\n",
    "    \"\"\"Retrieve user name\"\"\"\n",
    "    return GraphCommand(update={\"user_name\": \"Meow\"}, graph=GraphCommand.PARENT)"
   ]
  },
  {
   "cell_type": "code",
   "execution_count": 46,
   "id": "638a2bf0-a3be-4589-b365-9ce859c97b38",
   "metadata": {},
   "outputs": [],
   "source": [
    "def input_processor(state):\n",
    "    return {**state, \"messages\": state[\"parent_messages\"]}\n",
    "\n",
    "def output_processor(state):\n",
    "    state = keep_last_message_as_human(state, None)\n",
    "    return {**state, \"parent_messages\": state[\"messages\"]}"
   ]
  },
  {
   "cell_type": "code",
   "execution_count": 47,
   "id": "760048d7-e5f4-48fe-bf4e-90d63ea2758b",
   "metadata": {},
   "outputs": [],
   "source": [
    "alice = create_react_agent(model, [get_user_name])\n",
    "\n",
    "def call_alice(state):\n",
    "    response = alice.invoke(input_processor(state))\n",
    "    return output_processor(response)\n",
    "\n",
    "builder = StateGraph(CustomParentState)\n",
    "builder.add_node(\"alice\", call_alice)\n",
    "builder.add_edge(START, \"alice\")\n",
    "memory = MemorySaver()\n",
    "graph = builder.compile(checkpointer=memory)"
   ]
  },
  {
   "cell_type": "code",
   "execution_count": 48,
   "id": "e46e6cba-0f1f-4a16-8336-299a447e21fc",
   "metadata": {},
   "outputs": [],
   "source": [
    "config = {\"configurable\": {\"thread_id\": \"1\"}}"
   ]
  },
  {
   "cell_type": "code",
   "execution_count": 49,
   "id": "e2e8e5b3-b875-4b90-b207-9cf81985db5a",
   "metadata": {},
   "outputs": [
    {
     "name": "stdout",
     "output_type": "stream",
     "text": [
      "{'alice': {'user_name': 'Meow'}}\n"
     ]
    }
   ],
   "source": [
    "for chunk in graph.stream({\"parent_messages\": [(\"user\", \"get user name\")]}, config):\n",
    "    print(chunk)"
   ]
  },
  {
   "cell_type": "code",
   "execution_count": 50,
   "id": "5b599e9d-ec0b-46fb-a5d9-4fcdf7b564c0",
   "metadata": {},
   "outputs": [
    {
     "data": {
      "text/plain": [
       "{'parent_messages': [HumanMessage(content='get user name', additional_kwargs={}, response_metadata={}, id='d81197d8-7120-4d3c-9879-201dc372cd15')],\n",
       " 'user_name': 'Meow'}"
      ]
     },
     "execution_count": 50,
     "metadata": {},
     "output_type": "execute_result"
    }
   ],
   "source": [
    "graph.get_state(config).values"
   ]
  },
  {
   "cell_type": "markdown",
   "id": "0da838cb-3ad4-493a-81c4-d30d2c68d58b",
   "metadata": {},
   "source": [
    "### Tools that update state (internally)"
   ]
  },
  {
   "cell_type": "code",
   "execution_count": 23,
   "id": "64b5a0c2-aee1-4b05-81d8-3ff5f12c13e8",
   "metadata": {},
   "outputs": [],
   "source": [
    "class CustomParentState(TypedDict):\n",
    "    # deliberately use a different key here\n",
    "    parent_messages: Annotated[list[BaseMessage], add_messages]\n",
    "    node: str"
   ]
  },
  {
   "cell_type": "code",
   "execution_count": 24,
   "id": "78a901a5-952a-4b95-a645-dd869f441268",
   "metadata": {},
   "outputs": [],
   "source": [
    "from langgraph.prebuilt.chat_agent_executor import AgentState"
   ]
  },
  {
   "cell_type": "code",
   "execution_count": 25,
   "id": "e81473af-4801-4cd1-844d-021c549f652a",
   "metadata": {},
   "outputs": [],
   "source": [
    "class CustomChildState(AgentState):\n",
    "    user_name: str"
   ]
  },
  {
   "cell_type": "code",
   "execution_count": 26,
   "id": "ee92b82c-146f-4e3f-b2a0-f41cb87492fa",
   "metadata": {},
   "outputs": [],
   "source": [
    "from langchain_core.tools import tool"
   ]
  },
  {
   "cell_type": "code",
   "execution_count": 27,
   "id": "9c1b34f2-0d36-4e00-bc98-e3562620cb4e",
   "metadata": {},
   "outputs": [],
   "source": [
    "@tool\n",
    "def get_user_name() -> GraphCommand:\n",
    "    \"\"\"Retrieve user name\"\"\"\n",
    "    return GraphCommand(\n",
    "        update={\n",
    "            \"user_name\": \"Meow\",\n",
    "            \"messages\": [ToolMessage(\"Successfully retrieved user name\", tool_call_id=\"\")]\n",
    "        }\n",
    "    )"
   ]
  },
  {
   "cell_type": "code",
   "execution_count": 36,
   "id": "8a96ed12-36d4-4600-8721-fa90d19e30ef",
   "metadata": {},
   "outputs": [],
   "source": [
    "def input_processor(state):\n",
    "    return {**state, \"messages\": state[\"parent_messages\"]}\n",
    "\n",
    "def output_processor(state):\n",
    "    state = keep_last_message_as_human(state, None)\n",
    "    return {**state, \"parent_messages\": state[\"messages\"]}"
   ]
  },
  {
   "cell_type": "code",
   "execution_count": 37,
   "id": "7c059af0-fd2d-454d-9cf0-a2f0684e00d9",
   "metadata": {},
   "outputs": [],
   "source": [
    "def state_modifier(state):\n",
    "    user_name = state.get(\"user_name\")\n",
    "    if user_name is None:\n",
    "        return state[\"messages\"]\n",
    "\n",
    "    system_msg = f\"User name is {user_name}\"\n",
    "    return [{\"role\": \"system\", \"content\": system_msg}] + state[\"messages\"]"
   ]
  },
  {
   "cell_type": "code",
   "execution_count": 38,
   "id": "9962551c-1320-4578-8cdf-a481fc3e1519",
   "metadata": {},
   "outputs": [],
   "source": [
    "tools = [get_user_name, add]\n",
    "alice = create_react_agent(\n",
    "    # NOTE parallel tool calls = False\n",
    "    model.bind_tools(tools, parallel_tool_calls=False),\n",
    "    tools,\n",
    "    state_schema=CustomChildState,\n",
    "    state_modifier=state_modifier,\n",
    ")\n",
    "\n",
    "def call_alice(state):\n",
    "    response = alice.invoke(input_processor(state))\n",
    "    return output_processor(response)\n",
    "\n",
    "builder = StateGraph(CustomParentState)\n",
    "builder.add_node(\"alice\", call_alice)\n",
    "builder.add_edge(START, \"alice\")\n",
    "memory = MemorySaver()\n",
    "graph = builder.compile(checkpointer=memory)"
   ]
  },
  {
   "cell_type": "code",
   "execution_count": 39,
   "id": "4a3dfb0c-7103-4687-9f7d-9820e075d624",
   "metadata": {},
   "outputs": [],
   "source": [
    "config = {\"configurable\": {\"thread_id\": \"1\"}}"
   ]
  },
  {
   "cell_type": "code",
   "execution_count": 40,
   "id": "44c7a2d4-a664-48d7-afef-ca5cffe3c665",
   "metadata": {},
   "outputs": [
    {
     "data": {
      "text/plain": [
       "{'parent_messages': [HumanMessage(content='look up my name, add 2 + 3 and respond to me by name', additional_kwargs={}, response_metadata={}, id='fa1d54b3-d285-4750-839e-758385be7b24'),\n",
       "  HumanMessage(content='Hello Meow! The sum of 2 and 3 is 5.', additional_kwargs={}, response_metadata={}, id='58a6692a-4615-462e-b30d-3ee16544fc05')]}"
      ]
     },
     "execution_count": 40,
     "metadata": {},
     "output_type": "execute_result"
    }
   ],
   "source": [
    "graph.invoke({\"parent_messages\": [(\"user\", \"look up my name, add 2 + 3 and respond to me by name\")]}, config)"
   ]
  },
  {
   "cell_type": "markdown",
   "id": "62ee09b3-6144-4c67-97aa-b64cf7b224ce",
   "metadata": {},
   "source": [
    "---"
   ]
  },
  {
   "cell_type": "markdown",
   "id": "12bbd4ad-c77b-4556-b91e-b0a98a2cb16e",
   "metadata": {},
   "source": [
    "### Test interrupts from inside tools"
   ]
  },
  {
   "cell_type": "markdown",
   "id": "6484cf5b-3217-4cbd-b6ce-a86852ad4afc",
   "metadata": {},
   "source": [
    "TL;DR works w/ a single graph, doesn't work w/ subgraphs"
   ]
  },
  {
   "cell_type": "code",
   "execution_count": 49,
   "id": "1f3fef42-c90c-4e62-91ba-3425eb1b52cf",
   "metadata": {},
   "outputs": [],
   "source": [
    "from langgraph.types import interrupt, Command"
   ]
  },
  {
   "cell_type": "code",
   "execution_count": 50,
   "id": "e9d7199b-1b34-44b8-a676-41ce1f3a08b8",
   "metadata": {},
   "outputs": [],
   "source": [
    "class CustomChildState(AgentState):\n",
    "    user_name: str"
   ]
  },
  {
   "cell_type": "code",
   "execution_count": 65,
   "id": "0421c787-801e-48dc-8978-e53d4d12a20a",
   "metadata": {},
   "outputs": [],
   "source": [
    "@tool\n",
    "def get_user_name() -> GraphCommand:\n",
    "    \"\"\"Retrieve user name\"\"\"\n",
    "    user_name = interrupt(\"Please provider user name\")\n",
    "    return GraphCommand(\n",
    "        update={\n",
    "            \"user_name\": user_name,\n",
    "            \"messages\": [ToolMessage(\"Successfully retrieved user name\", tool_call_id=\"\")]\n",
    "        }\n",
    "    )"
   ]
  },
  {
   "cell_type": "code",
   "execution_count": 66,
   "id": "03e32dfe-8702-406f-9efb-a88d51bf5869",
   "metadata": {},
   "outputs": [],
   "source": [
    "def state_modifier(state):\n",
    "    user_name = state.get(\"user_name\")\n",
    "    if user_name is None:\n",
    "        return state[\"messages\"]\n",
    "\n",
    "    system_msg = f\"User name is {user_name}\"\n",
    "    return [{\"role\": \"system\", \"content\": system_msg}] + state[\"messages\"]"
   ]
  },
  {
   "cell_type": "code",
   "execution_count": 73,
   "id": "b983206f-3f7c-42f6-a678-cb66bbdddabb",
   "metadata": {},
   "outputs": [],
   "source": [
    "checkpointer = MemorySaver()\n",
    "test_agent = create_react_agent(model, [get_user_name], state_schema=CustomChildState, state_modifier=state_modifier, checkpointer=checkpointer)\n",
    "\n",
    "builder = StateGraph(AgentState)\n",
    "builder.add_node(\"agent\", test_agent)\n",
    "builder.add_edge(START, \"agent\")\n",
    "graph = builder.compile(checkpointer=checkpointer)"
   ]
  },
  {
   "cell_type": "code",
   "execution_count": 80,
   "id": "d3e520e3-1e6a-48d4-a21c-398575a4d4e1",
   "metadata": {},
   "outputs": [],
   "source": [
    "# graph.invoke({\"messages\": [(\"user\", \"hi -- please get the user name\")]}, config)"
   ]
  },
  {
   "cell_type": "code",
   "execution_count": 79,
   "id": "b5faa93a-691d-4434-8a90-5defee3dc040",
   "metadata": {},
   "outputs": [],
   "source": [
    "# graph.get_state(config).tasks"
   ]
  },
  {
   "cell_type": "code",
   "execution_count": 78,
   "id": "05bff0ec-05a6-4443-9fe5-923a3a960452",
   "metadata": {},
   "outputs": [],
   "source": [
    "# graph.invoke(Command(resume=\"Archibald\"), config)"
   ]
  },
  {
   "cell_type": "code",
   "execution_count": 71,
   "id": "4e36809d-9504-49cd-9b56-f27d88531af6",
   "metadata": {},
   "outputs": [
    {
     "data": {
      "text/plain": [
       "{'messages': [HumanMessage(content='whats my name', additional_kwargs={}, response_metadata={}, id='e0a178b7-a404-438f-a287-b8bd8a500797'),\n",
       "  AIMessage(content='', additional_kwargs={'tool_calls': [{'id': 'call_0r1Vh3GBJTwMM2fwoZ30iugA', 'function': {'arguments': '{}', 'name': 'get_user_name'}, 'type': 'function'}], 'refusal': None}, response_metadata={'token_usage': {'completion_tokens': 11, 'prompt_tokens': 40, 'total_tokens': 51, 'completion_tokens_details': {'accepted_prediction_tokens': 0, 'audio_tokens': 0, 'reasoning_tokens': 0, 'rejected_prediction_tokens': 0}, 'prompt_tokens_details': {'audio_tokens': 0, 'cached_tokens': 0}}, 'model_name': 'gpt-4o-2024-08-06', 'system_fingerprint': 'fp_831e067d82', 'finish_reason': 'tool_calls', 'logprobs': None}, id='run-929add1e-1d46-48f0-855c-472390ad0cf7-0', tool_calls=[{'name': 'get_user_name', 'args': {}, 'id': 'call_0r1Vh3GBJTwMM2fwoZ30iugA', 'type': 'tool_call'}], usage_metadata={'input_tokens': 40, 'output_tokens': 11, 'total_tokens': 51, 'input_token_details': {'audio': 0, 'cache_read': 0}, 'output_token_details': {'audio': 0, 'reasoning': 0}})]}"
      ]
     },
     "execution_count": 71,
     "metadata": {},
     "output_type": "execute_result"
    }
   ],
   "source": [
    "test_agent.invoke({\"messages\": [(\"user\", \"whats my name\")]}, config)"
   ]
  },
  {
   "cell_type": "code",
   "execution_count": 72,
   "id": "6e4ded8b-0bb8-445f-9e83-7ee96d1c3ce4",
   "metadata": {},
   "outputs": [
    {
     "data": {
      "text/plain": [
       "{'messages': [HumanMessage(content='whats my name', additional_kwargs={}, response_metadata={}, id='e0a178b7-a404-438f-a287-b8bd8a500797'),\n",
       "  AIMessage(content='', additional_kwargs={'tool_calls': [{'id': 'call_0r1Vh3GBJTwMM2fwoZ30iugA', 'function': {'arguments': '{}', 'name': 'get_user_name'}, 'type': 'function'}], 'refusal': None}, response_metadata={'token_usage': {'completion_tokens': 11, 'prompt_tokens': 40, 'total_tokens': 51, 'completion_tokens_details': {'accepted_prediction_tokens': 0, 'audio_tokens': 0, 'reasoning_tokens': 0, 'rejected_prediction_tokens': 0}, 'prompt_tokens_details': {'audio_tokens': 0, 'cached_tokens': 0}}, 'model_name': 'gpt-4o-2024-08-06', 'system_fingerprint': 'fp_831e067d82', 'finish_reason': 'tool_calls', 'logprobs': None}, id='run-929add1e-1d46-48f0-855c-472390ad0cf7-0', tool_calls=[{'name': 'get_user_name', 'args': {}, 'id': 'call_0r1Vh3GBJTwMM2fwoZ30iugA', 'type': 'tool_call'}], usage_metadata={'input_tokens': 40, 'output_tokens': 11, 'total_tokens': 51, 'input_token_details': {'audio': 0, 'cache_read': 0}, 'output_token_details': {'audio': 0, 'reasoning': 0}}),\n",
       "  ToolMessage(content='Successfully retrieved user name', name='get_user_name', id='69b00672-bc13-4ea9-b8d8-7ca7875f6141', tool_call_id='call_0r1Vh3GBJTwMM2fwoZ30iugA'),\n",
       "  AIMessage(content='Your name is Archibald.', additional_kwargs={'refusal': None}, response_metadata={'token_usage': {'completion_tokens': 8, 'prompt_tokens': 71, 'total_tokens': 79, 'completion_tokens_details': {'accepted_prediction_tokens': 0, 'audio_tokens': 0, 'reasoning_tokens': 0, 'rejected_prediction_tokens': 0}, 'prompt_tokens_details': {'audio_tokens': 0, 'cached_tokens': 0}}, 'model_name': 'gpt-4o-2024-08-06', 'system_fingerprint': 'fp_7f6be3efb0', 'finish_reason': 'stop', 'logprobs': None}, id='run-25201007-e9c0-4152-8f1a-fa171753f652-0', usage_metadata={'input_tokens': 71, 'output_tokens': 8, 'total_tokens': 79, 'input_token_details': {'audio': 0, 'cache_read': 0}, 'output_token_details': {'audio': 0, 'reasoning': 0}})],\n",
       " 'user_name': 'Archibald'}"
      ]
     },
     "execution_count": 72,
     "metadata": {},
     "output_type": "execute_result"
    }
   ],
   "source": [
    "test_agent.invoke(Command(resume=\"Archibald\"), config)"
   ]
  },
  {
   "cell_type": "markdown",
   "id": "5a0e3470-1f97-4259-bd6f-b0db1a4734d9",
   "metadata": {},
   "source": [
    "---"
   ]
  }
 ],
 "metadata": {
  "kernelspec": {
   "display_name": "langgraph",
   "language": "python",
   "name": "langgraph"
  },
  "language_info": {
   "codemirror_mode": {
    "name": "ipython",
    "version": 3
   },
   "file_extension": ".py",
   "mimetype": "text/x-python",
   "name": "python",
   "nbconvert_exporter": "python",
   "pygments_lexer": "ipython3",
   "version": "3.11.9"
  }
 },
 "nbformat": 4,
 "nbformat_minor": 5
}
