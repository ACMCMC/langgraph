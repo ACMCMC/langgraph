{
 "cells": [
  {
   "cell_type": "code",
   "execution_count": 1,
   "id": "828c1d96-6940-44ed-983f-134972cd4570",
   "metadata": {},
   "outputs": [],
   "source": [
    "from langchain_openai import ChatOpenAI\n",
    "from langchain_anthropic import ChatAnthropic\n",
    "\n",
    "import os\n",
    "import getpass\n",
    "os.environ['OPENAI_API_KEY'] = \"\"\n",
    "os.environ['ANTHROPIC_API_KEY'] = \"\""
   ]
  },
  {
   "cell_type": "code",
   "execution_count": 2,
   "id": "fc99d428-67e9-45a7-b953-a6bf1ad96da8",
   "metadata": {},
   "outputs": [],
   "source": [
    "def add(a: int, b: int):\n",
    "    \"\"\"Adds two numbers\"\"\"\n",
    "    return a + b"
   ]
  },
  {
   "cell_type": "code",
   "execution_count": 3,
   "id": "8bf48bbb-8da9-4afc-bb7c-111e7fadb0f3",
   "metadata": {},
   "outputs": [],
   "source": [
    "def multiply(a: int, b: int):\n",
    "    \"\"\"Multiplies two numbers\"\"\"\n",
    "    return a * b"
   ]
  },
  {
   "cell_type": "markdown",
   "id": "f5b6ef4a-2cbb-4aee-9a37-7fd4881391cd",
   "metadata": {},
   "source": [
    "### Wrapper for a single agent that can both call tools and transfer to other agents"
   ]
  },
  {
   "cell_type": "code",
   "execution_count": 4,
   "id": "98fb7cb5-1ff4-4603-9aa1-467c3b047b60",
   "metadata": {},
   "outputs": [],
   "source": [
    "from langgraph.prebuilt.chat_agent_executor import AgentRouterState\n",
    "from langgraph.prebuilt import create_react_agent"
   ]
  },
  {
   "cell_type": "code",
   "execution_count": 5,
   "id": "96a9f030-e1b2-4355-8010-f322f76dfe26",
   "metadata": {},
   "outputs": [],
   "source": [
    "model = ChatOpenAI(model=\"gpt-4o\")"
   ]
  },
  {
   "cell_type": "code",
   "execution_count": 6,
   "id": "10133481-490b-4610-9603-62be431d6716",
   "metadata": {},
   "outputs": [],
   "source": [
    "model_anthropic = ChatAnthropic(model=\"claude-3-5-sonnet-latest\")"
   ]
  },
  {
   "cell_type": "code",
   "execution_count": 7,
   "id": "952dbd5f-f77b-4d64-92d2-cc7097c97f1a",
   "metadata": {},
   "outputs": [],
   "source": [
    "from langgraph.checkpoint.memory import MemorySaver\n",
    "from langgraph.graph import StateGraph, GraphCommand, START, END\n",
    "from typing import Literal"
   ]
  },
  {
   "cell_type": "code",
   "execution_count": 8,
   "id": "0ee88f4f-e1d7-4f91-b50b-a4878064836f",
   "metadata": {},
   "outputs": [],
   "source": [
    "from langgraph.prebuilt.handoff import handoff"
   ]
  },
  {
   "cell_type": "code",
   "execution_count": 9,
   "id": "6417909f-afb0-429c-ac27-ecc57fa121df",
   "metadata": {},
   "outputs": [],
   "source": [
    "from langchain_core.runnables import RunnableConfig"
   ]
  },
  {
   "cell_type": "code",
   "execution_count": 10,
   "id": "01acdf66-8fb2-4cb1-9c10-010e229fa4aa",
   "metadata": {},
   "outputs": [],
   "source": [
    "from langchain_core.messages import HumanMessage"
   ]
  },
  {
   "cell_type": "code",
   "execution_count": 11,
   "id": "fe093411-50a3-4586-8931-3861c0dbd5de",
   "metadata": {},
   "outputs": [],
   "source": [
    "from typing import Callable"
   ]
  },
  {
   "cell_type": "code",
   "execution_count": 12,
   "id": "f028c25f-cb72-4aa9-8274-287c537a6eb6",
   "metadata": {},
   "outputs": [],
   "source": [
    "# output processors\n",
    "\n",
    "def keep_last_message_as_human(state):\n",
    "    updated_state = state.copy()\n",
    "    last_message_content = updated_state[\"messages\"][-1].content\n",
    "    # TODO: how do we propagate agent name here?\n",
    "    last_message = HumanMessage(content=last_message_content)\n",
    "    updated_state[\"messages\"] = [last_message]\n",
    "    return updated_state"
   ]
  },
  {
   "cell_type": "code",
   "execution_count": 13,
   "id": "fa1892b4-1f69-4ee3-8613-26c8cb94d28c",
   "metadata": {},
   "outputs": [],
   "source": [
    "from langgraph.prebuilt.chat_agent_executor import make_agent_node, add_entrypoint_router"
   ]
  },
  {
   "cell_type": "code",
   "execution_count": 14,
   "id": "495bcd76-1bea-4cbc-aedf-0250affeef0f",
   "metadata": {},
   "outputs": [],
   "source": [
    "from langgraph.prebuilt.handoff import handoff"
   ]
  },
  {
   "cell_type": "code",
   "execution_count": 15,
   "id": "6d5ab915-2b79-4e7d-bb26-9fc4c288e505",
   "metadata": {},
   "outputs": [],
   "source": [
    "bob_tool = handoff(goto=\"bob\", tool_message=\"Transferred to Bob\", name=\"transfer_to_bob\", description=\"Transfer to Bob\")\n",
    "alice_tool = handoff(goto=\"alice\", tool_message=\"Transferred to Alice\", name=\"transfer_to_alice\", description=\"Transfer to Alice\")\n",
    "charlie_tool = handoff(goto=\"charlie\", tool_message=\"Transferred to Charlie\", name=\"transfer_to_charlie\", description=\"Transfer to Charlie\")"
   ]
  },
  {
   "cell_type": "code",
   "execution_count": 16,
   "id": "7a7137f1-aece-44ff-8bb6-8b34e7f769a6",
   "metadata": {},
   "outputs": [
    {
     "data": {
      "text/plain": [
       "HandoffTool(name='transfer_to_bob', description='Transfer to Bob', args_schema=<class 'langchain_core.utils.pydantic.transfer_to_bob'>, func=<function handoff.<locals>.func at 0x1153bb420>, goto='bob')"
      ]
     },
     "execution_count": 16,
     "metadata": {},
     "output_type": "execute_result"
    }
   ],
   "source": [
    "bob_tool"
   ]
  },
  {
   "cell_type": "code",
   "execution_count": 20,
   "id": "16bdd514-0308-4a03-9cd9-189442e01715",
   "metadata": {},
   "outputs": [],
   "source": [
    "from langchain_core.tools import tool"
   ]
  },
  {
   "cell_type": "code",
   "execution_count": 21,
   "id": "c74780ec-2a1e-47a5-a39e-70a9ee55f210",
   "metadata": {},
   "outputs": [],
   "source": [
    "builder = StateGraph(AgentRouterState)\n",
    "\n",
    "alice = make_agent_node(model, [add, bob_tool], state_schema=AgentRouterState, state_modifier=\"You're Alice.\", output_processor=keep_last_message_as_human)\n",
    "bob = make_agent_node(model, [multiply, alice_tool], state_schema=AgentRouterState, state_modifier=\"You're Bob.\", output_processor=keep_last_message_as_human)\n",
    "\n",
    "add_entrypoint_router(builder, route_to=[(\"alice\", alice), (\"bob\", bob)], default_start_node=\"alice\")\n",
    "memory = MemorySaver()\n",
    "graph = builder.compile(checkpointer=memory)"
   ]
  },
  {
   "cell_type": "code",
   "execution_count": 22,
   "id": "61f1ee4f-606b-4b4b-821d-584a710172f9",
   "metadata": {},
   "outputs": [],
   "source": [
    "from IPython.display import display, Image"
   ]
  },
  {
   "cell_type": "code",
   "execution_count": 23,
   "id": "f3fc3279-aabf-4965-b258-7a30b9042a0d",
   "metadata": {},
   "outputs": [
    {
     "data": {
      "image/jpeg": "[encoded data removed]",
      "text/plain": [
       "<IPython.core.display.Image object>"
      ]
     },
     "metadata": {},
     "output_type": "display_data"
    }
   ],
   "source": [
    "display(Image(graph.get_graph().draw_mermaid_png()))"
   ]
  },
  {
   "cell_type": "code",
   "execution_count": 24,
   "id": "44dafb91-e603-4190-9eaa-b904ea02b864",
   "metadata": {},
   "outputs": [],
   "source": [
    "config = {\"configurable\": {\"thread_id\": \"1\"}}"
   ]
  },
  {
   "cell_type": "code",
   "execution_count": 22,
   "id": "cc5fb965-7164-4797-b686-a97accbb0663",
   "metadata": {},
   "outputs": [
    {
     "name": "stdout",
     "output_type": "stream",
     "text": [
      "{'alice': {'messages': [HumanMessage(content='Transferred to Bob', additional_kwargs={}, response_metadata={}, id='dfd65e48-3d9a-407d-9db6-921bf3963e2b')], 'node': 'bob'}}\n",
      "\n",
      "\n",
      "{'bob': {'messages': [HumanMessage(content='Hello! How can I assist you today?', additional_kwargs={}, response_metadata={}, id='a36b6f2e-4c8a-4360-9c21-33c0ecb256bb')], 'node': 'bob'}}\n",
      "\n",
      "\n"
     ]
    }
   ],
   "source": [
    "for chunk in graph.stream({\"messages\": [(\"user\", \"hi! transfer me to bob\")]}, config):\n",
    "    print(chunk)\n",
    "    print(\"\\n\")"
   ]
  },
  {
   "cell_type": "code",
   "execution_count": 23,
   "id": "eef9ca85-9c25-4e89-a222-aa2423b24427",
   "metadata": {},
   "outputs": [
    {
     "name": "stdout",
     "output_type": "stream",
     "text": [
      "{'bob': {'messages': [HumanMessage(content=\"You're speaking to Bob. How can I assist you today?\", additional_kwargs={}, response_metadata={}, id='8d8b58fb-fd68-4648-954d-a789b68d930d')], 'node': 'bob'}}\n",
      "\n",
      "\n"
     ]
    }
   ],
   "source": [
    "for chunk in graph.stream({\"messages\": [(\"user\", \"who am i speaking to?\")]}, config):\n",
    "    print(chunk)\n",
    "    print(\"\\n\")"
   ]
  },
  {
   "cell_type": "code",
   "execution_count": 24,
   "id": "4018a7e8-5665-403e-b1e2-1dad04090afb",
   "metadata": {},
   "outputs": [
    {
     "name": "stdout",
     "output_type": "stream",
     "text": [
      "{'bob': {'messages': [HumanMessage(content='My name is Bob. How can I help you today?', additional_kwargs={}, response_metadata={}, id='fcf4cc10-d631-4205-9ed3-f9e2035845f2')], 'node': 'bob'}}\n",
      "\n",
      "\n"
     ]
    }
   ],
   "source": [
    "for chunk in graph.stream({\"messages\": [(\"user\", \"what's your name?\")]}, config):\n",
    "    print(chunk)\n",
    "    print(\"\\n\")"
   ]
  },
  {
   "cell_type": "code",
   "execution_count": 25,
   "id": "2a2d56d8-ae6e-404d-84fb-9f2c689cd991",
   "metadata": {},
   "outputs": [
    {
     "name": "stdout",
     "output_type": "stream",
     "text": [
      "(('bob:32433981-b9d0-69f3-2fe4-6d0804664bd7',), {'agent': {'messages': [AIMessage(content='', additional_kwargs={'tool_calls': [{'id': 'call_hpi6sMyLMra8dtrU7Hvv6JSW', 'function': {'arguments': '{\"a\":3,\"b\":14}', 'name': 'multiply'}, 'type': 'function'}], 'refusal': None}, response_metadata={'token_usage': {'completion_tokens': 17, 'prompt_tokens': 152, 'total_tokens': 169, 'completion_tokens_details': {'accepted_prediction_tokens': 0, 'audio_tokens': 0, 'reasoning_tokens': 0, 'rejected_prediction_tokens': 0}, 'prompt_tokens_details': {'audio_tokens': 0, 'cached_tokens': 0}}, 'model_name': 'gpt-4o-2024-08-06', 'system_fingerprint': 'fp_7f6be3efb0', 'finish_reason': 'tool_calls', 'logprobs': None}, id='run-c91cfa16-2236-468d-aaae-b37b551a1e7c-0', tool_calls=[{'name': 'multiply', 'args': {'a': 3, 'b': 14}, 'id': 'call_hpi6sMyLMra8dtrU7Hvv6JSW', 'type': 'tool_call'}], usage_metadata={'input_tokens': 152, 'output_tokens': 17, 'total_tokens': 169, 'input_token_details': {'audio': 0, 'cache_read': 0}, 'output_token_details': {'audio': 0, 'reasoning': 0}})]}})\n",
      "\n",
      "\n",
      "(('bob:32433981-b9d0-69f3-2fe4-6d0804664bd7',), {'tools': {'messages': [ToolMessage(content='42', name='multiply', id='259b22ce-b767-4f9c-8400-ff888573fbf1', tool_call_id='call_hpi6sMyLMra8dtrU7Hvv6JSW')]}})\n",
      "\n",
      "\n",
      "(('bob:32433981-b9d0-69f3-2fe4-6d0804664bd7',), {'agent': {'messages': [AIMessage(content='3 times 14 is 42. How else can I assist you today?', additional_kwargs={'refusal': None}, response_metadata={'token_usage': {'completion_tokens': 17, 'prompt_tokens': 177, 'total_tokens': 194, 'completion_tokens_details': {'accepted_prediction_tokens': 0, 'audio_tokens': 0, 'reasoning_tokens': 0, 'rejected_prediction_tokens': 0}, 'prompt_tokens_details': {'audio_tokens': 0, 'cached_tokens': 0}}, 'model_name': 'gpt-4o-2024-08-06', 'system_fingerprint': 'fp_7f6be3efb0', 'finish_reason': 'stop', 'logprobs': None}, id='run-99f66b05-9759-4c4d-b6da-5c7057f344ac-0', usage_metadata={'input_tokens': 177, 'output_tokens': 17, 'total_tokens': 194, 'input_token_details': {'audio': 0, 'cache_read': 0}, 'output_token_details': {'audio': 0, 'reasoning': 0}})]}})\n",
      "\n",
      "\n",
      "((), {'bob': {'messages': [HumanMessage(content='3 times 14 is 42. How else can I assist you today?', additional_kwargs={}, response_metadata={})], 'node': 'bob'}})\n",
      "\n",
      "\n"
     ]
    }
   ],
   "source": [
    "for chunk in graph.stream({\"messages\": [(\"user\", \"what's 3 times 14?\")]}, config, subgraphs=True):\n",
    "    print(chunk)\n",
    "    print(\"\\n\")"
   ]
  },
  {
   "cell_type": "code",
   "execution_count": 26,
   "id": "1fb07133-9599-4843-bcb9-77babbc266f1",
   "metadata": {},
   "outputs": [
    {
     "name": "stdout",
     "output_type": "stream",
     "text": [
      "{'bob': {'messages': [HumanMessage(content='Transferred to Alice', additional_kwargs={}, response_metadata={}, id='1e3821f7-0e18-47df-a1c6-1d98c7230cc5')], 'node': 'alice'}}\n",
      "\n",
      "\n",
      "{'alice': {'messages': [HumanMessage(content='Hi there! How can I assist you today?', additional_kwargs={}, response_metadata={}, id='90aa91df-bac6-4bc7-befc-5b179856b202')], 'node': 'alice'}}\n",
      "\n",
      "\n"
     ]
    }
   ],
   "source": [
    "for chunk in graph.stream({\"messages\": [(\"user\", \"cool, now transfer me back to alice\")]}, config):\n",
    "    print(chunk)\n",
    "    print(\"\\n\")"
   ]
  },
  {
   "cell_type": "code",
   "execution_count": 27,
   "id": "16c2a896-2d2d-4b13-aca2-80a0dd83c28d",
   "metadata": {},
   "outputs": [
    {
     "name": "stdout",
     "output_type": "stream",
     "text": [
      "(('alice:b2501a77-6034-50ce-8a8d-f58436630249',), {'agent': {'messages': [AIMessage(content='', additional_kwargs={'tool_calls': [{'id': 'call_8ciBDBLJdN1dJugqCY1URlz1', 'function': {'arguments': '{\"a\":4,\"b\":9}', 'name': 'add'}, 'type': 'function'}], 'refusal': None}, response_metadata={'token_usage': {'completion_tokens': 17, 'prompt_tokens': 214, 'total_tokens': 231, 'completion_tokens_details': {'accepted_prediction_tokens': 0, 'audio_tokens': 0, 'reasoning_tokens': 0, 'rejected_prediction_tokens': 0}, 'prompt_tokens_details': {'audio_tokens': 0, 'cached_tokens': 0}}, 'model_name': 'gpt-4o-2024-08-06', 'system_fingerprint': 'fp_831e067d82', 'finish_reason': 'tool_calls', 'logprobs': None}, id='run-4ea905ee-c38c-4593-9d48-dcb9ec2005e8-0', tool_calls=[{'name': 'add', 'args': {'a': 4, 'b': 9}, 'id': 'call_8ciBDBLJdN1dJugqCY1URlz1', 'type': 'tool_call'}], usage_metadata={'input_tokens': 214, 'output_tokens': 17, 'total_tokens': 231, 'input_token_details': {'audio': 0, 'cache_read': 0}, 'output_token_details': {'audio': 0, 'reasoning': 0}})]}})\n",
      "\n",
      "\n",
      "(('alice:b2501a77-6034-50ce-8a8d-f58436630249',), {'tools': {'messages': [ToolMessage(content='13', name='add', id='377643fb-c558-49b0-8d93-3c62e6cfe4bf', tool_call_id='call_8ciBDBLJdN1dJugqCY1URlz1')]}})\n",
      "\n",
      "\n",
      "(('alice:b2501a77-6034-50ce-8a8d-f58436630249',), {'agent': {'messages': [AIMessage(content='4 plus 9 equals 13. How else can I assist you today?', additional_kwargs={'refusal': None}, response_metadata={'token_usage': {'completion_tokens': 17, 'prompt_tokens': 239, 'total_tokens': 256, 'completion_tokens_details': {'accepted_prediction_tokens': 0, 'audio_tokens': 0, 'reasoning_tokens': 0, 'rejected_prediction_tokens': 0}, 'prompt_tokens_details': {'audio_tokens': 0, 'cached_tokens': 0}}, 'model_name': 'gpt-4o-2024-08-06', 'system_fingerprint': 'fp_831e067d82', 'finish_reason': 'stop', 'logprobs': None}, id='run-280a49cd-86f4-47c2-be94-b1a0a20ac57c-0', usage_metadata={'input_tokens': 239, 'output_tokens': 17, 'total_tokens': 256, 'input_token_details': {'audio': 0, 'cache_read': 0}, 'output_token_details': {'audio': 0, 'reasoning': 0}})]}})\n",
      "\n",
      "\n",
      "((), {'alice': {'messages': [HumanMessage(content='4 plus 9 equals 13. How else can I assist you today?', additional_kwargs={}, response_metadata={})], 'node': 'alice'}})\n",
      "\n",
      "\n"
     ]
    }
   ],
   "source": [
    "for chunk in graph.stream({\"messages\": [(\"user\", \"what's 4 + 9\")]}, config, subgraphs=True):\n",
    "    print(chunk)\n",
    "    print(\"\\n\")"
   ]
  },
  {
   "cell_type": "markdown",
   "id": "e108a6d1-e159-43c1-a879-487f33d94f8c",
   "metadata": {},
   "source": [
    "---"
   ]
  },
  {
   "cell_type": "code",
   "execution_count": 33,
   "id": "b026ec2a-0b1a-4464-a4c4-e431e3551f22",
   "metadata": {},
   "outputs": [],
   "source": [
    "builder = StateGraph(AgentRouterState)\n",
    "\n",
    "alice = make_agent_node(\n",
    "    model,\n",
    "    [add, bob_tool],\n",
    "    state_schema=AgentRouterState,\n",
    "    state_modifier=\"You're Alice the cat.\",\n",
    "    output_processor=keep_last_message_as_human\n",
    ")\n",
    "bob = make_agent_node(\n",
    "    model,\n",
    "    [multiply, alice_tool, charlie_tool],\n",
    "    state_schema=AgentRouterState,\n",
    "    state_modifier=\"You're Bob the dog.\",\n",
    "    output_processor=keep_last_message_as_human\n",
    ")\n",
    "charlie = make_agent_node(\n",
    "    model,\n",
    "    [bob_tool],\n",
    "    state_schema=AgentRouterState,\n",
    "    state_modifier=\"You're Charlie the parrot.\",\n",
    "    output_processor=keep_last_message_as_human\n",
    ")\n",
    "\n",
    "add_entrypoint_router(builder, route_to=[(\"alice\", alice), (\"bob\", bob), (\"charlie\", charlie)], default_start_node=\"alice\")\n",
    "\n",
    "memory = MemorySaver()\n",
    "graph = builder.compile(checkpointer=memory)"
   ]
  },
  {
   "cell_type": "code",
   "execution_count": 34,
   "id": "8ecdd447-23eb-4b8e-9431-7defe660d7eb",
   "metadata": {},
   "outputs": [
    {
     "data": {
      "image/jpeg": "[encoded data removed]",
      "text/plain": [
       "<IPython.core.display.Image object>"
      ]
     },
     "metadata": {},
     "output_type": "display_data"
    }
   ],
   "source": [
    "display(Image(graph.get_graph().draw_mermaid_png()))"
   ]
  },
  {
   "cell_type": "code",
   "execution_count": 35,
   "id": "23c0e2f4-ef0e-4f2e-b73c-ec7f9b67108d",
   "metadata": {},
   "outputs": [
    {
     "name": "stdout",
     "output_type": "stream",
     "text": [
      "{'alice': {'messages': [HumanMessage(content='Transferred to Bob', additional_kwargs={}, response_metadata={}, id='b0d7bfb0-e252-4c6e-b851-1ccdf9be2136')], 'node': 'bob'}}\n",
      "\n",
      "\n",
      "{'bob': {'messages': [HumanMessage(content='Woof! How can I assist you today?', additional_kwargs={}, response_metadata={}, id='a97131d0-c993-48c3-8cf1-7d51e42cf461')], 'node': 'bob'}}\n",
      "\n",
      "\n"
     ]
    }
   ],
   "source": [
    "for chunk in graph.stream({\"messages\": [(\"user\", \"hi! transfer me to bob\")]}, config):\n",
    "    print(chunk)\n",
    "    print(\"\\n\")"
   ]
  },
  {
   "cell_type": "code",
   "execution_count": 36,
   "id": "406eb2a5-5366-4600-b1bd-1ce3fdacfe4c",
   "metadata": {},
   "outputs": [
    {
     "name": "stdout",
     "output_type": "stream",
     "text": [
      "{'bob': {'messages': [HumanMessage(content='Transferred to Charlie', additional_kwargs={}, response_metadata={}, id='d788d31f-2f7f-45da-8b54-fd97438d965b')], 'node': 'charlie'}}\n",
      "\n",
      "\n",
      "{'charlie': {'messages': [HumanMessage(content='Hello! How can I help you today?', additional_kwargs={}, response_metadata={}, id='d4c02177-bbb8-496a-9d4d-250cb0037839')], 'node': 'charlie'}}\n",
      "\n",
      "\n"
     ]
    }
   ],
   "source": [
    "for chunk in graph.stream({\"messages\": [(\"user\", \"transfer me to charlie\")]}, config):\n",
    "    print(chunk)\n",
    "    print(\"\\n\")"
   ]
  },
  {
   "cell_type": "code",
   "execution_count": 37,
   "id": "0f2e469c-7f7f-4f58-a1bd-fa59965018f8",
   "metadata": {},
   "outputs": [
    {
     "name": "stdout",
     "output_type": "stream",
     "text": [
      "{'charlie': {'messages': [HumanMessage(content='Transferred to Bob', additional_kwargs={}, response_metadata={}, id='b97514f1-6124-4ea5-84b3-54887331b4f7')], 'node': 'bob'}}\n",
      "\n",
      "\n",
      "{'bob': {'messages': [HumanMessage(content=\"Woof! I'm here to help. What do you need?\", additional_kwargs={}, response_metadata={}, id='c6cc3290-c50c-4869-8a57-cd126badff91')], 'node': 'bob'}}\n",
      "\n",
      "\n"
     ]
    }
   ],
   "source": [
    "for chunk in graph.stream({\"messages\": [(\"user\", \"back to bob please\")]}, config):\n",
    "    print(chunk)\n",
    "    print(\"\\n\")"
   ]
  },
  {
   "cell_type": "markdown",
   "id": "46618927-40a7-4bf2-a20e-9377dfd3827f",
   "metadata": {},
   "source": [
    "---"
   ]
  },
  {
   "cell_type": "markdown",
   "id": "b12eb795-ac11-452b-a7e4-4056db373f0d",
   "metadata": {},
   "source": [
    "### Supervisor"
   ]
  },
  {
   "cell_type": "code",
   "execution_count": 53,
   "id": "e1a3912e-4d63-4668-b87c-05e325ff0dcb",
   "metadata": {},
   "outputs": [],
   "source": [
    "builder = StateGraph(AgentRouterState)\n",
    "\n",
    "supervisor = make_agent_node(\n",
    "    model, \n",
    "    [alice_tool, bob_tool], \n",
    "    state_schema=AgentRouterState,\n",
    "    state_modifier=(\n",
    "        \"You're team supervisor managing Alice and Bob. \"\n",
    "        \"Alice is an expert at multiplication, Bob is great at addition. \"\n",
    "        \"To answer user question, transfer to one of them that has the requisite skills. \"\n",
    "        \"Once you have the final answer to user question, do not transfer -- respond to user directly!\"\n",
    "    )\n",
    ")\n",
    "bob = make_agent_node(\n",
    "    model,\n",
    "    [add],\n",
    "    state_schema=AgentRouterState,\n",
    "    state_modifier=\"You're Bob the addition expert.\",\n",
    "    output_processor=keep_last_message_as_human\n",
    ")\n",
    "alice = make_agent_node(\n",
    "    model,\n",
    "    [multiply],\n",
    "    state_schema=AgentRouterState,\n",
    "    state_modifier=\"You're Alice the multiplication expert.\",\n",
    "    output_processor=keep_last_message_as_human\n",
    ")\n",
    "\n",
    "add_entrypoint_router(builder, route_to=[(\"supervisor\", supervisor), (\"alice\", alice), (\"bob\", bob)], default_start_node=\"supervisor\")\n",
    "builder.add_edge(\"alice\", \"supervisor\")\n",
    "builder.add_edge(\"bob\", \"supervisor\")\n",
    "\n",
    "memory = MemorySaver()\n",
    "graph = builder.compile(checkpointer=memory)"
   ]
  },
  {
   "cell_type": "code",
   "execution_count": 54,
   "id": "439522c6-2abc-449f-beb6-7f3e6146965b",
   "metadata": {},
   "outputs": [
    {
     "data": {
      "image/jpeg": "[encoded data removed]",
      "text/plain": [
       "<IPython.core.display.Image object>"
      ]
     },
     "metadata": {},
     "output_type": "display_data"
    }
   ],
   "source": [
    "display(Image(graph.get_graph().draw_mermaid_png()))"
   ]
  },
  {
   "cell_type": "code",
   "execution_count": 55,
   "id": "8ef440d3-a290-4625-8d28-f29d02d217fc",
   "metadata": {
    "scrolled": true
   },
   "outputs": [
    {
     "name": "stdout",
     "output_type": "stream",
     "text": [
      "(('supervisor:3bb3d279-36fe-744f-efa1-649f5071807f',), {'agent': {'messages': [AIMessage(content='', additional_kwargs={'tool_calls': [{'id': 'call_ieVKe3dURsntZxm1GYDKg5T1', 'function': {'arguments': '{}', 'name': 'transfer_to_bob'}, 'type': 'function'}], 'refusal': None}, response_metadata={'token_usage': {'completion_tokens': 12, 'prompt_tokens': 114, 'total_tokens': 126, 'completion_tokens_details': {'accepted_prediction_tokens': 0, 'audio_tokens': 0, 'reasoning_tokens': 0, 'rejected_prediction_tokens': 0}, 'prompt_tokens_details': {'audio_tokens': 0, 'cached_tokens': 0}}, 'model_name': 'gpt-4o-2024-08-06', 'system_fingerprint': 'fp_7f6be3efb0', 'finish_reason': 'tool_calls', 'logprobs': None}, id='run-1e84989b-3152-4bb2-bffb-bb9179eccf02-0', tool_calls=[{'name': 'transfer_to_bob', 'args': {}, 'id': 'call_ieVKe3dURsntZxm1GYDKg5T1', 'type': 'tool_call'}], usage_metadata={'input_tokens': 114, 'output_tokens': 12, 'total_tokens': 126, 'input_token_details': {'audio': 0, 'cache_read': 0}, 'output_token_details': {'audio': 0, 'reasoning': 0}})]}})\n",
      "\n",
      "\n",
      "(('supervisor:3bb3d279-36fe-744f-efa1-649f5071807f',), {'tools': {'messages': [ToolMessage(content='Transferred to Bob', name='transfer_to_bob', id='a1de8d4e-e89f-4265-8815-d17f0e40f1e6', tool_call_id='call_ieVKe3dURsntZxm1GYDKg5T1', artifact=Command(goto='bob'))]}})\n",
      "\n",
      "\n",
      "((), {'supervisor': {'messages': [HumanMessage(content=\"what's 391 + 193\", additional_kwargs={}, response_metadata={}, id='3df27c46-f6a8-4aed-a20a-30b07b1d95b2'), AIMessage(content='', additional_kwargs={'tool_calls': [{'id': 'call_ieVKe3dURsntZxm1GYDKg5T1', 'function': {'arguments': '{}', 'name': 'transfer_to_bob'}, 'type': 'function'}], 'refusal': None}, response_metadata={'token_usage': {'completion_tokens': 12, 'prompt_tokens': 114, 'total_tokens': 126, 'completion_tokens_details': {'accepted_prediction_tokens': 0, 'audio_tokens': 0, 'reasoning_tokens': 0, 'rejected_prediction_tokens': 0}, 'prompt_tokens_details': {'audio_tokens': 0, 'cached_tokens': 0}}, 'model_name': 'gpt-4o-2024-08-06', 'system_fingerprint': 'fp_7f6be3efb0', 'finish_reason': 'tool_calls', 'logprobs': None}, id='run-1e84989b-3152-4bb2-bffb-bb9179eccf02-0', tool_calls=[{'name': 'transfer_to_bob', 'args': {}, 'id': 'call_ieVKe3dURsntZxm1GYDKg5T1', 'type': 'tool_call'}], usage_metadata={'input_tokens': 114, 'output_tokens': 12, 'total_tokens': 126, 'input_token_details': {'audio': 0, 'cache_read': 0}, 'output_token_details': {'audio': 0, 'reasoning': 0}}), ToolMessage(content='Transferred to Bob', name='transfer_to_bob', id='a1de8d4e-e89f-4265-8815-d17f0e40f1e6', tool_call_id='call_ieVKe3dURsntZxm1GYDKg5T1', artifact=Command(goto='bob'))], 'node': 'bob'}})\n",
      "\n",
      "\n",
      "(('bob:63781399-c5bb-c9aa-f62f-b8e7482266e0',), {'agent': {'messages': [AIMessage(content='', additional_kwargs={'tool_calls': [{'id': 'call_gD9lqenVQLdlqp4CnRHIy92t', 'function': {'arguments': '{\"a\":391,\"b\":193}', 'name': 'add'}, 'type': 'function'}], 'refusal': None}, response_metadata={'token_usage': {'completion_tokens': 17, 'prompt_tokens': 82, 'total_tokens': 99, 'completion_tokens_details': {'accepted_prediction_tokens': 0, 'audio_tokens': 0, 'reasoning_tokens': 0, 'rejected_prediction_tokens': 0}, 'prompt_tokens_details': {'audio_tokens': 0, 'cached_tokens': 0}}, 'model_name': 'gpt-4o-2024-08-06', 'system_fingerprint': 'fp_7f6be3efb0', 'finish_reason': 'tool_calls', 'logprobs': None}, id='run-8ff538d4-74fc-401f-9fbc-ed0913607d55-0', tool_calls=[{'name': 'add', 'args': {'a': 391, 'b': 193}, 'id': 'call_gD9lqenVQLdlqp4CnRHIy92t', 'type': 'tool_call'}], usage_metadata={'input_tokens': 82, 'output_tokens': 17, 'total_tokens': 99, 'input_token_details': {'audio': 0, 'cache_read': 0}, 'output_token_details': {'audio': 0, 'reasoning': 0}})]}})\n",
      "\n",
      "\n",
      "(('bob:63781399-c5bb-c9aa-f62f-b8e7482266e0',), {'tools': {'messages': [ToolMessage(content='584', name='add', id='bd8abfce-193c-4fb4-bd92-049db897bc55', tool_call_id='call_gD9lqenVQLdlqp4CnRHIy92t')]}})\n",
      "\n",
      "\n",
      "(('bob:63781399-c5bb-c9aa-f62f-b8e7482266e0',), {'agent': {'messages': [AIMessage(content='The result of \\\\( 391 + 193 \\\\) is 584.', additional_kwargs={'refusal': None}, response_metadata={'token_usage': {'completion_tokens': 16, 'prompt_tokens': 107, 'total_tokens': 123, 'completion_tokens_details': {'accepted_prediction_tokens': 0, 'audio_tokens': 0, 'reasoning_tokens': 0, 'rejected_prediction_tokens': 0}, 'prompt_tokens_details': {'audio_tokens': 0, 'cached_tokens': 0}}, 'model_name': 'gpt-4o-2024-08-06', 'system_fingerprint': 'fp_7f6be3efb0', 'finish_reason': 'stop', 'logprobs': None}, id='run-b9f9930b-4950-4f71-a7c1-1c229c828d5e-0', usage_metadata={'input_tokens': 107, 'output_tokens': 16, 'total_tokens': 123, 'input_token_details': {'audio': 0, 'cache_read': 0}, 'output_token_details': {'audio': 0, 'reasoning': 0}})]}})\n",
      "\n",
      "\n",
      "((), {'bob': {'messages': [HumanMessage(content='The result of \\\\( 391 + 193 \\\\) is 584.', additional_kwargs={}, response_metadata={})], 'node': 'bob'}})\n",
      "\n",
      "\n",
      "(('supervisor:aba87717-b25d-1a0e-a705-e50f2de82a6b',), {'agent': {'messages': [AIMessage(content='The result of \\\\( 391 + 193 \\\\) is 584.', additional_kwargs={'refusal': None}, response_metadata={'token_usage': {'completion_tokens': 16, 'prompt_tokens': 158, 'total_tokens': 174, 'completion_tokens_details': {'accepted_prediction_tokens': 0, 'audio_tokens': 0, 'reasoning_tokens': 0, 'rejected_prediction_tokens': 0}, 'prompt_tokens_details': {'audio_tokens': 0, 'cached_tokens': 0}}, 'model_name': 'gpt-4o-2024-08-06', 'system_fingerprint': 'fp_7f6be3efb0', 'finish_reason': 'stop', 'logprobs': None}, id='run-ce150139-38eb-497c-80ca-8fd433dea8b5-0', usage_metadata={'input_tokens': 158, 'output_tokens': 16, 'total_tokens': 174, 'input_token_details': {'audio': 0, 'cache_read': 0}, 'output_token_details': {'audio': 0, 'reasoning': 0}})]}})\n",
      "\n",
      "\n",
      "((), {'supervisor': {'messages': [HumanMessage(content=\"what's 391 + 193\", additional_kwargs={}, response_metadata={}, id='3df27c46-f6a8-4aed-a20a-30b07b1d95b2'), AIMessage(content='', additional_kwargs={'tool_calls': [{'id': 'call_ieVKe3dURsntZxm1GYDKg5T1', 'function': {'arguments': '{}', 'name': 'transfer_to_bob'}, 'type': 'function'}], 'refusal': None}, response_metadata={'token_usage': {'completion_tokens': 12, 'prompt_tokens': 114, 'total_tokens': 126, 'completion_tokens_details': {'accepted_prediction_tokens': 0, 'audio_tokens': 0, 'reasoning_tokens': 0, 'rejected_prediction_tokens': 0}, 'prompt_tokens_details': {'audio_tokens': 0, 'cached_tokens': 0}}, 'model_name': 'gpt-4o-2024-08-06', 'system_fingerprint': 'fp_7f6be3efb0', 'finish_reason': 'tool_calls', 'logprobs': None}, id='run-1e84989b-3152-4bb2-bffb-bb9179eccf02-0', tool_calls=[{'name': 'transfer_to_bob', 'args': {}, 'id': 'call_ieVKe3dURsntZxm1GYDKg5T1', 'type': 'tool_call'}], usage_metadata={'input_tokens': 114, 'output_tokens': 12, 'total_tokens': 126, 'input_token_details': {'audio': 0, 'cache_read': 0}, 'output_token_details': {'audio': 0, 'reasoning': 0}}), ToolMessage(content='Transferred to Bob', name='transfer_to_bob', id='a1de8d4e-e89f-4265-8815-d17f0e40f1e6', tool_call_id='call_ieVKe3dURsntZxm1GYDKg5T1', artifact=Command(goto='bob')), HumanMessage(content='The result of \\\\( 391 + 193 \\\\) is 584.', additional_kwargs={}, response_metadata={}, id='0dd200c1-0eca-4c8d-9019-d393b8be947f'), AIMessage(content='The result of \\\\( 391 + 193 \\\\) is 584.', additional_kwargs={'refusal': None}, response_metadata={'token_usage': {'completion_tokens': 16, 'prompt_tokens': 158, 'total_tokens': 174, 'completion_tokens_details': {'accepted_prediction_tokens': 0, 'audio_tokens': 0, 'reasoning_tokens': 0, 'rejected_prediction_tokens': 0}, 'prompt_tokens_details': {'audio_tokens': 0, 'cached_tokens': 0}}, 'model_name': 'gpt-4o-2024-08-06', 'system_fingerprint': 'fp_7f6be3efb0', 'finish_reason': 'stop', 'logprobs': None}, id='run-ce150139-38eb-497c-80ca-8fd433dea8b5-0', usage_metadata={'input_tokens': 158, 'output_tokens': 16, 'total_tokens': 174, 'input_token_details': {'audio': 0, 'cache_read': 0}, 'output_token_details': {'audio': 0, 'reasoning': 0}})], 'node': 'bob'}})\n",
      "\n",
      "\n"
     ]
    }
   ],
   "source": [
    "for chunk in graph.stream({\"messages\": [(\"user\", \"what's 391 + 193\")]}, config, subgraphs=True):\n",
    "    print(chunk)\n",
    "    print(\"\\n\")"
   ]
  },
  {
   "cell_type": "code",
   "execution_count": 56,
   "id": "83ae1259-0848-4fe0-a190-94ecfb557569",
   "metadata": {},
   "outputs": [
    {
     "data": {
      "text/plain": [
       "[HumanMessage(content=\"what's 391 + 193\", additional_kwargs={}, response_metadata={}, id='3df27c46-f6a8-4aed-a20a-30b07b1d95b2'),\n",
       " AIMessage(content='', additional_kwargs={'tool_calls': [{'id': 'call_ieVKe3dURsntZxm1GYDKg5T1', 'function': {'arguments': '{}', 'name': 'transfer_to_bob'}, 'type': 'function'}], 'refusal': None}, response_metadata={'token_usage': {'completion_tokens': 12, 'prompt_tokens': 114, 'total_tokens': 126, 'completion_tokens_details': {'accepted_prediction_tokens': 0, 'audio_tokens': 0, 'reasoning_tokens': 0, 'rejected_prediction_tokens': 0}, 'prompt_tokens_details': {'audio_tokens': 0, 'cached_tokens': 0}}, 'model_name': 'gpt-4o-2024-08-06', 'system_fingerprint': 'fp_7f6be3efb0', 'finish_reason': 'tool_calls', 'logprobs': None}, id='run-1e84989b-3152-4bb2-bffb-bb9179eccf02-0', tool_calls=[{'name': 'transfer_to_bob', 'args': {}, 'id': 'call_ieVKe3dURsntZxm1GYDKg5T1', 'type': 'tool_call'}], usage_metadata={'input_tokens': 114, 'output_tokens': 12, 'total_tokens': 126, 'input_token_details': {'audio': 0, 'cache_read': 0}, 'output_token_details': {'audio': 0, 'reasoning': 0}}),\n",
       " ToolMessage(content='Transferred to Bob', name='transfer_to_bob', id='a1de8d4e-e89f-4265-8815-d17f0e40f1e6', tool_call_id='call_ieVKe3dURsntZxm1GYDKg5T1', artifact={'update': None, 'send': [], 'resume': None, 'goto': 'bob'}),\n",
       " HumanMessage(content='The result of \\\\( 391 + 193 \\\\) is 584.', additional_kwargs={}, response_metadata={}, id='0dd200c1-0eca-4c8d-9019-d393b8be947f'),\n",
       " AIMessage(content='The result of \\\\( 391 + 193 \\\\) is 584.', additional_kwargs={'refusal': None}, response_metadata={'token_usage': {'completion_tokens': 16, 'prompt_tokens': 158, 'total_tokens': 174, 'completion_tokens_details': {'accepted_prediction_tokens': 0, 'audio_tokens': 0, 'reasoning_tokens': 0, 'rejected_prediction_tokens': 0}, 'prompt_tokens_details': {'audio_tokens': 0, 'cached_tokens': 0}}, 'model_name': 'gpt-4o-2024-08-06', 'system_fingerprint': 'fp_7f6be3efb0', 'finish_reason': 'stop', 'logprobs': None}, id='run-ce150139-38eb-497c-80ca-8fd433dea8b5-0', usage_metadata={'input_tokens': 158, 'output_tokens': 16, 'total_tokens': 174, 'input_token_details': {'audio': 0, 'cache_read': 0}, 'output_token_details': {'audio': 0, 'reasoning': 0}})]"
      ]
     },
     "execution_count": 56,
     "metadata": {},
     "output_type": "execute_result"
    }
   ],
   "source": [
    "graph.get_state(config).values[\"messages\"]"
   ]
  },
  {
   "cell_type": "code",
   "execution_count": 57,
   "id": "ced6d25d-545e-4573-9d08-749ba28d6720",
   "metadata": {},
   "outputs": [
    {
     "data": {
      "text/plain": [
       "AIMessage(content='The result of \\\\( 391 + 193 \\\\) is 584.', additional_kwargs={'refusal': None}, response_metadata={'token_usage': {'completion_tokens': 16, 'prompt_tokens': 158, 'total_tokens': 174, 'completion_tokens_details': {'accepted_prediction_tokens': 0, 'audio_tokens': 0, 'reasoning_tokens': 0, 'rejected_prediction_tokens': 0}, 'prompt_tokens_details': {'audio_tokens': 0, 'cached_tokens': 0}}, 'model_name': 'gpt-4o-2024-08-06', 'system_fingerprint': 'fp_7f6be3efb0', 'finish_reason': 'stop', 'logprobs': None}, id='run-ce150139-38eb-497c-80ca-8fd433dea8b5-0', usage_metadata={'input_tokens': 158, 'output_tokens': 16, 'total_tokens': 174, 'input_token_details': {'audio': 0, 'cache_read': 0}, 'output_token_details': {'audio': 0, 'reasoning': 0}})"
      ]
     },
     "execution_count": 57,
     "metadata": {},
     "output_type": "execute_result"
    }
   ],
   "source": [
    "graph.get_state(config).values[\"messages\"][-1]"
   ]
  },
  {
   "cell_type": "markdown",
   "id": "4fba110d-dfa1-44d1-9441-1dfa3a498520",
   "metadata": {},
   "source": [
    "---"
   ]
  },
  {
   "cell_type": "markdown",
   "id": "e9d0bc87-d23b-4b0b-90be-ba7b55a8b672",
   "metadata": {},
   "source": [
    "### Network"
   ]
  },
  {
   "cell_type": "code",
   "execution_count": 58,
   "id": "fe7547c4-d919-44bc-9058-e131df6ddcb7",
   "metadata": {},
   "outputs": [],
   "source": [
    "alice = make_agent_node(\n",
    "    model_anthropic,\n",
    "    [multiply, bob_tool],\n",
    "    state_schema=AgentRouterState,\n",
    "    state_modifier=\"You're Alice, a multiplication expert. You can ask Bob for help with addition.\"\n",
    ")\n",
    "bob = make_agent_node(\n",
    "    model_anthropic,\n",
    "    [add, alice_tool],\n",
    "    state_schema=AgentRouterState,\n",
    "    state_modifier=\"You're Bob, an addition expert. You can ask Alice for help with muiltiplication.\"\n",
    ")\n",
    "\n",
    "builder = StateGraph(AgentRouterState)\n",
    "add_entrypoint_router(builder, route_to=[(\"alice\", alice), (\"bob\", bob)], default_start_node=\"alice\")\n",
    "memory = MemorySaver()\n",
    "graph = builder.compile(checkpointer=memory)"
   ]
  },
  {
   "cell_type": "code",
   "execution_count": 59,
   "id": "93c7b8fe-355a-4af3-af2d-09a8ab6dd32a",
   "metadata": {},
   "outputs": [],
   "source": [
    "config = {\"configurable\": {\"thread_id\": \"1\"}}"
   ]
  },
  {
   "cell_type": "code",
   "execution_count": 60,
   "id": "3327d9f9-1d93-40b7-ba95-d0552b91a4cb",
   "metadata": {},
   "outputs": [
    {
     "name": "stdout",
     "output_type": "stream",
     "text": [
      "(('alice:fc2fb073-ffd7-a54e-d89d-ea83cf7fa240',), {'agent': {'messages': [AIMessage(content=[{'text': 'I apologize, but as Alice the multiplication expert, I actually specialize in multiplication rather than addition. However, I can ask Bob who is good with addition! Let me transfer this question to Bob.', 'type': 'text'}, {'id': 'toolu_012CgpjY8WrPKmXjFXU6Hwrk', 'input': {}, 'name': 'transfer_to_bob', 'type': 'tool_use'}], additional_kwargs={}, response_metadata={'id': 'msg_01RCzmjosUA1eo5x8ZDmgvi6', 'model': 'claude-3-5-sonnet-20241022', 'stop_reason': 'tool_use', 'stop_sequence': None, 'usage': {'input_tokens': 449, 'output_tokens': 80}}, id='run-bae67ff8-91d5-4c31-93a4-0e3a5c26364f-0', tool_calls=[{'name': 'transfer_to_bob', 'args': {}, 'id': 'toolu_012CgpjY8WrPKmXjFXU6Hwrk', 'type': 'tool_call'}], usage_metadata={'input_tokens': 449, 'output_tokens': 80, 'total_tokens': 529, 'input_token_details': {}})]}})\n",
      "(('alice:fc2fb073-ffd7-a54e-d89d-ea83cf7fa240',), {'tools': {'messages': [ToolMessage(content='Transferred to Bob', name='transfer_to_bob', id='861b6e6b-acb0-4116-a527-e2993aca7d15', tool_call_id='toolu_012CgpjY8WrPKmXjFXU6Hwrk', artifact=Command(goto='bob'))]}})\n",
      "((), {'alice': {'messages': [HumanMessage(content=\"what's 2 + 3\", additional_kwargs={}, response_metadata={}, id='0fe748d6-0f7c-430b-982e-70bbc75a34ad'), AIMessage(content=[{'text': 'I apologize, but as Alice the multiplication expert, I actually specialize in multiplication rather than addition. However, I can ask Bob who is good with addition! Let me transfer this question to Bob.', 'type': 'text'}, {'id': 'toolu_012CgpjY8WrPKmXjFXU6Hwrk', 'input': {}, 'name': 'transfer_to_bob', 'type': 'tool_use'}], additional_kwargs={}, response_metadata={'id': 'msg_01RCzmjosUA1eo5x8ZDmgvi6', 'model': 'claude-3-5-sonnet-20241022', 'stop_reason': 'tool_use', 'stop_sequence': None, 'usage': {'input_tokens': 449, 'output_tokens': 80}}, id='run-bae67ff8-91d5-4c31-93a4-0e3a5c26364f-0', tool_calls=[{'name': 'transfer_to_bob', 'args': {}, 'id': 'toolu_012CgpjY8WrPKmXjFXU6Hwrk', 'type': 'tool_call'}], usage_metadata={'input_tokens': 449, 'output_tokens': 80, 'total_tokens': 529, 'input_token_details': {}}), ToolMessage(content='Transferred to Bob', name='transfer_to_bob', id='861b6e6b-acb0-4116-a527-e2993aca7d15', tool_call_id='toolu_012CgpjY8WrPKmXjFXU6Hwrk', artifact=Command(goto='bob'))], 'node': 'bob'}})\n",
      "(('bob:7233520c-09ab-5bd8-c889-bcf2ed1ee796',), {'agent': {'messages': [AIMessage(content=[{'text': \"Hi! Bob here. I'm happy to help you add 2 + 3. Let me calculate that for you using my addition tool.\", 'type': 'text'}, {'id': 'toolu_013ehAERUSNyFckRmWaN7tKE', 'input': {'a': 2, 'b': 3}, 'name': 'add', 'type': 'tool_use'}], additional_kwargs={}, response_metadata={'id': 'msg_01SxrR8jKspLYciV1CtXuadX', 'model': 'claude-3-5-sonnet-20241022', 'stop_reason': 'tool_use', 'stop_sequence': None, 'usage': {'input_tokens': 546, 'output_tokens': 100}}, id='run-c773edc3-6a4e-4119-a58c-e9c8a4dda4fb-0', tool_calls=[{'name': 'add', 'args': {'a': 2, 'b': 3}, 'id': 'toolu_013ehAERUSNyFckRmWaN7tKE', 'type': 'tool_call'}], usage_metadata={'input_tokens': 546, 'output_tokens': 100, 'total_tokens': 646, 'input_token_details': {}})]}})\n",
      "(('bob:7233520c-09ab-5bd8-c889-bcf2ed1ee796',), {'tools': {'messages': [ToolMessage(content='5', name='add', id='0005c4fb-a705-4510-b137-b0ddada616ee', tool_call_id='toolu_013ehAERUSNyFckRmWaN7tKE')]}})\n",
      "(('bob:7233520c-09ab-5bd8-c889-bcf2ed1ee796',), {'agent': {'messages': [AIMessage(content='The sum of 2 + 3 = 5.', additional_kwargs={}, response_metadata={'id': 'msg_015pNcudWuLu4Hd4SEd6ibKX', 'model': 'claude-3-5-sonnet-20241022', 'stop_reason': 'end_turn', 'stop_sequence': None, 'usage': {'input_tokens': 658, 'output_tokens': 18}}, id='run-0cda0125-abbc-4571-8dae-4bb7ef83b443-0', usage_metadata={'input_tokens': 658, 'output_tokens': 18, 'total_tokens': 676, 'input_token_details': {}})]}})\n",
      "((), {'bob': {'messages': [HumanMessage(content=\"what's 2 + 3\", additional_kwargs={}, response_metadata={}, id='0fe748d6-0f7c-430b-982e-70bbc75a34ad'), AIMessage(content=[{'text': 'I apologize, but as Alice the multiplication expert, I actually specialize in multiplication rather than addition. However, I can ask Bob who is good with addition! Let me transfer this question to Bob.', 'type': 'text'}, {'id': 'toolu_012CgpjY8WrPKmXjFXU6Hwrk', 'input': {}, 'name': 'transfer_to_bob', 'type': 'tool_use'}], additional_kwargs={}, response_metadata={'id': 'msg_01RCzmjosUA1eo5x8ZDmgvi6', 'model': 'claude-3-5-sonnet-20241022', 'stop_reason': 'tool_use', 'stop_sequence': None, 'usage': {'input_tokens': 449, 'output_tokens': 80}}, id='run-bae67ff8-91d5-4c31-93a4-0e3a5c26364f-0', tool_calls=[{'name': 'transfer_to_bob', 'args': {}, 'id': 'toolu_012CgpjY8WrPKmXjFXU6Hwrk', 'type': 'tool_call'}], usage_metadata={'input_tokens': 449, 'output_tokens': 80, 'total_tokens': 529, 'input_token_details': {}}), ToolMessage(content='Transferred to Bob', name='transfer_to_bob', id='861b6e6b-acb0-4116-a527-e2993aca7d15', tool_call_id='toolu_012CgpjY8WrPKmXjFXU6Hwrk', artifact=Command(goto='bob')), AIMessage(content=[{'text': \"Hi! Bob here. I'm happy to help you add 2 + 3. Let me calculate that for you using my addition tool.\", 'type': 'text'}, {'id': 'toolu_013ehAERUSNyFckRmWaN7tKE', 'input': {'a': 2, 'b': 3}, 'name': 'add', 'type': 'tool_use'}], additional_kwargs={}, response_metadata={'id': 'msg_01SxrR8jKspLYciV1CtXuadX', 'model': 'claude-3-5-sonnet-20241022', 'stop_reason': 'tool_use', 'stop_sequence': None, 'usage': {'input_tokens': 546, 'output_tokens': 100}}, id='run-c773edc3-6a4e-4119-a58c-e9c8a4dda4fb-0', tool_calls=[{'name': 'add', 'args': {'a': 2, 'b': 3}, 'id': 'toolu_013ehAERUSNyFckRmWaN7tKE', 'type': 'tool_call'}], usage_metadata={'input_tokens': 546, 'output_tokens': 100, 'total_tokens': 646, 'input_token_details': {}}), ToolMessage(content='5', name='add', id='0005c4fb-a705-4510-b137-b0ddada616ee', tool_call_id='toolu_013ehAERUSNyFckRmWaN7tKE'), AIMessage(content='The sum of 2 + 3 = 5.', additional_kwargs={}, response_metadata={'id': 'msg_015pNcudWuLu4Hd4SEd6ibKX', 'model': 'claude-3-5-sonnet-20241022', 'stop_reason': 'end_turn', 'stop_sequence': None, 'usage': {'input_tokens': 658, 'output_tokens': 18}}, id='run-0cda0125-abbc-4571-8dae-4bb7ef83b443-0', usage_metadata={'input_tokens': 658, 'output_tokens': 18, 'total_tokens': 676, 'input_token_details': {}})], 'node': 'bob'}})\n"
     ]
    }
   ],
   "source": [
    "for chunk in graph.stream({\"messages\": [(\"user\", \"what's 2 + 3\")]}, config, subgraphs=True):\n",
    "    print(chunk)"
   ]
  },
  {
   "cell_type": "code",
   "execution_count": 62,
   "id": "4ca81767-4ac7-4486-a32d-6621fee26106",
   "metadata": {},
   "outputs": [
    {
     "name": "stdout",
     "output_type": "stream",
     "text": [
      "(('bob:67a15210-48e3-0a1c-d276-12c02673a830',), {'agent': {'messages': [AIMessage(content=[{'text': \"As an addition expert, I'm not able to do multiplication - that's Alice's specialty! Let me transfer this question to her.\", 'type': 'text'}, {'id': 'toolu_01MnpHuEgQFg8srogqVxv4e1', 'input': {}, 'name': 'transfer_to_alice', 'type': 'tool_use'}], additional_kwargs={}, response_metadata={'id': 'msg_01Jx51MuPiKnLCVDhNUVEe2K', 'model': 'claude-3-5-sonnet-20241022', 'stop_reason': 'tool_use', 'stop_sequence': None, 'usage': {'input_tokens': 685, 'output_tokens': 66}}, id='run-3efcaf6d-be2e-47d2-9bcf-210db6431d41-0', tool_calls=[{'name': 'transfer_to_alice', 'args': {}, 'id': 'toolu_01MnpHuEgQFg8srogqVxv4e1', 'type': 'tool_call'}], usage_metadata={'input_tokens': 685, 'output_tokens': 66, 'total_tokens': 751, 'input_token_details': {}})]}})\n",
      "(('bob:67a15210-48e3-0a1c-d276-12c02673a830',), {'tools': {'messages': [ToolMessage(content='Transferred to Alice', name='transfer_to_alice', id='13e3d8e0-52c3-4af3-a451-c0969e485ec8', tool_call_id='toolu_01MnpHuEgQFg8srogqVxv4e1', artifact=Command(goto='alice'))]}})\n",
      "((), {'bob': {'messages': [HumanMessage(content=\"what's 2 + 3\", additional_kwargs={}, response_metadata={}, id='0fe748d6-0f7c-430b-982e-70bbc75a34ad'), AIMessage(content=[{'text': 'I apologize, but as Alice the multiplication expert, I actually specialize in multiplication rather than addition. However, I can ask Bob who is good with addition! Let me transfer this question to Bob.', 'type': 'text'}, {'id': 'toolu_012CgpjY8WrPKmXjFXU6Hwrk', 'input': {}, 'name': 'transfer_to_bob', 'type': 'tool_use'}], additional_kwargs={}, response_metadata={'id': 'msg_01RCzmjosUA1eo5x8ZDmgvi6', 'model': 'claude-3-5-sonnet-20241022', 'stop_reason': 'tool_use', 'stop_sequence': None, 'usage': {'input_tokens': 449, 'output_tokens': 80}}, id='run-bae67ff8-91d5-4c31-93a4-0e3a5c26364f-0', tool_calls=[{'name': 'transfer_to_bob', 'args': {}, 'id': 'toolu_012CgpjY8WrPKmXjFXU6Hwrk', 'type': 'tool_call'}], usage_metadata={'input_tokens': 449, 'output_tokens': 80, 'total_tokens': 529, 'input_token_details': {}}), ToolMessage(content='Transferred to Bob', name='transfer_to_bob', id='861b6e6b-acb0-4116-a527-e2993aca7d15', tool_call_id='toolu_012CgpjY8WrPKmXjFXU6Hwrk', artifact={'update': None, 'send': [], 'resume': None, 'goto': 'bob'}), AIMessage(content=[{'text': \"Hi! Bob here. I'm happy to help you add 2 + 3. Let me calculate that for you using my addition tool.\", 'type': 'text'}, {'id': 'toolu_013ehAERUSNyFckRmWaN7tKE', 'input': {'a': 2, 'b': 3}, 'name': 'add', 'type': 'tool_use'}], additional_kwargs={}, response_metadata={'id': 'msg_01SxrR8jKspLYciV1CtXuadX', 'model': 'claude-3-5-sonnet-20241022', 'stop_reason': 'tool_use', 'stop_sequence': None, 'usage': {'input_tokens': 546, 'output_tokens': 100}}, id='run-c773edc3-6a4e-4119-a58c-e9c8a4dda4fb-0', tool_calls=[{'name': 'add', 'args': {'a': 2, 'b': 3}, 'id': 'toolu_013ehAERUSNyFckRmWaN7tKE', 'type': 'tool_call'}], usage_metadata={'input_tokens': 546, 'output_tokens': 100, 'total_tokens': 646, 'input_token_details': {}}), ToolMessage(content='5', name='add', id='0005c4fb-a705-4510-b137-b0ddada616ee', tool_call_id='toolu_013ehAERUSNyFckRmWaN7tKE'), AIMessage(content='The sum of 2 + 3 = 5.', additional_kwargs={}, response_metadata={'id': 'msg_015pNcudWuLu4Hd4SEd6ibKX', 'model': 'claude-3-5-sonnet-20241022', 'stop_reason': 'end_turn', 'stop_sequence': None, 'usage': {'input_tokens': 658, 'output_tokens': 18}}, id='run-0cda0125-abbc-4571-8dae-4bb7ef83b443-0', usage_metadata={'input_tokens': 658, 'output_tokens': 18, 'total_tokens': 676, 'input_token_details': {}}), HumanMessage(content='now multiply that by 11', additional_kwargs={}, response_metadata={}, id='0582d1bd-f95f-4d0b-ae2b-9836f2961d6b'), AIMessage(content=[{'text': \"As an addition expert, I'm not able to do multiplication - that's Alice's specialty! Let me transfer this question to her.\", 'type': 'text'}, {'id': 'toolu_01MnpHuEgQFg8srogqVxv4e1', 'input': {}, 'name': 'transfer_to_alice', 'type': 'tool_use'}], additional_kwargs={}, response_metadata={'id': 'msg_01Jx51MuPiKnLCVDhNUVEe2K', 'model': 'claude-3-5-sonnet-20241022', 'stop_reason': 'tool_use', 'stop_sequence': None, 'usage': {'input_tokens': 685, 'output_tokens': 66}}, id='run-3efcaf6d-be2e-47d2-9bcf-210db6431d41-0', tool_calls=[{'name': 'transfer_to_alice', 'args': {}, 'id': 'toolu_01MnpHuEgQFg8srogqVxv4e1', 'type': 'tool_call'}], usage_metadata={'input_tokens': 685, 'output_tokens': 66, 'total_tokens': 751, 'input_token_details': {}}), ToolMessage(content='Transferred to Alice', name='transfer_to_alice', id='13e3d8e0-52c3-4af3-a451-c0969e485ec8', tool_call_id='toolu_01MnpHuEgQFg8srogqVxv4e1', artifact=Command(goto='alice'))], 'node': 'alice'}})\n",
      "(('alice:9b6a13c6-54cd-ed36-10d5-a9de5353fbae',), {'agent': {'messages': [AIMessage(content=[{'text': 'Hi! Alice here. I can help you multiply 5 by 11! Let me do that calculation for you:', 'type': 'text'}, {'id': 'toolu_01BbWp6mkzc62dsVgKhP23MU', 'input': {'a': 5, 'b': 11}, 'name': 'multiply', 'type': 'tool_use'}], additional_kwargs={}, response_metadata={'id': 'msg_011mT4whXyPYC1yLtNmrZYGi', 'model': 'claude-3-5-sonnet-20241022', 'stop_reason': 'tool_use', 'stop_sequence': None, 'usage': {'input_tokens': 764, 'output_tokens': 95}}, id='run-1e45821e-adf9-4d2a-9250-d9c1aa6a7be3-0', tool_calls=[{'name': 'multiply', 'args': {'a': 5, 'b': 11}, 'id': 'toolu_01BbWp6mkzc62dsVgKhP23MU', 'type': 'tool_call'}], usage_metadata={'input_tokens': 764, 'output_tokens': 95, 'total_tokens': 859, 'input_token_details': {}})]}})\n",
      "(('alice:9b6a13c6-54cd-ed36-10d5-a9de5353fbae',), {'tools': {'messages': [ToolMessage(content='55', name='multiply', id='0482f463-2ba6-4350-9ffa-01b1527edb92', tool_call_id='toolu_01BbWp6mkzc62dsVgKhP23MU')]}})\n",
      "(('alice:9b6a13c6-54cd-ed36-10d5-a9de5353fbae',), {'agent': {'messages': [AIMessage(content='5 × 11 = 55', additional_kwargs={}, response_metadata={'id': 'msg_01RFwKtvU7FUgS6rMGQ9AFBo', 'model': 'claude-3-5-sonnet-20241022', 'stop_reason': 'end_turn', 'stop_sequence': None, 'usage': {'input_tokens': 871, 'output_tokens': 13}}, id='run-e1ef5948-0930-486d-9e20-85c4021726ce-0', usage_metadata={'input_tokens': 871, 'output_tokens': 13, 'total_tokens': 884, 'input_token_details': {}})]}})\n",
      "((), {'alice': {'messages': [HumanMessage(content=\"what's 2 + 3\", additional_kwargs={}, response_metadata={}, id='0fe748d6-0f7c-430b-982e-70bbc75a34ad'), AIMessage(content=[{'text': 'I apologize, but as Alice the multiplication expert, I actually specialize in multiplication rather than addition. However, I can ask Bob who is good with addition! Let me transfer this question to Bob.', 'type': 'text'}, {'id': 'toolu_012CgpjY8WrPKmXjFXU6Hwrk', 'input': {}, 'name': 'transfer_to_bob', 'type': 'tool_use'}], additional_kwargs={}, response_metadata={'id': 'msg_01RCzmjosUA1eo5x8ZDmgvi6', 'model': 'claude-3-5-sonnet-20241022', 'stop_reason': 'tool_use', 'stop_sequence': None, 'usage': {'input_tokens': 449, 'output_tokens': 80}}, id='run-bae67ff8-91d5-4c31-93a4-0e3a5c26364f-0', tool_calls=[{'name': 'transfer_to_bob', 'args': {}, 'id': 'toolu_012CgpjY8WrPKmXjFXU6Hwrk', 'type': 'tool_call'}], usage_metadata={'input_tokens': 449, 'output_tokens': 80, 'total_tokens': 529, 'input_token_details': {}}), ToolMessage(content='Transferred to Bob', name='transfer_to_bob', id='861b6e6b-acb0-4116-a527-e2993aca7d15', tool_call_id='toolu_012CgpjY8WrPKmXjFXU6Hwrk', artifact={'update': None, 'send': [], 'resume': None, 'goto': 'bob'}), AIMessage(content=[{'text': \"Hi! Bob here. I'm happy to help you add 2 + 3. Let me calculate that for you using my addition tool.\", 'type': 'text'}, {'id': 'toolu_013ehAERUSNyFckRmWaN7tKE', 'input': {'a': 2, 'b': 3}, 'name': 'add', 'type': 'tool_use'}], additional_kwargs={}, response_metadata={'id': 'msg_01SxrR8jKspLYciV1CtXuadX', 'model': 'claude-3-5-sonnet-20241022', 'stop_reason': 'tool_use', 'stop_sequence': None, 'usage': {'input_tokens': 546, 'output_tokens': 100}}, id='run-c773edc3-6a4e-4119-a58c-e9c8a4dda4fb-0', tool_calls=[{'name': 'add', 'args': {'a': 2, 'b': 3}, 'id': 'toolu_013ehAERUSNyFckRmWaN7tKE', 'type': 'tool_call'}], usage_metadata={'input_tokens': 546, 'output_tokens': 100, 'total_tokens': 646, 'input_token_details': {}}), ToolMessage(content='5', name='add', id='0005c4fb-a705-4510-b137-b0ddada616ee', tool_call_id='toolu_013ehAERUSNyFckRmWaN7tKE'), AIMessage(content='The sum of 2 + 3 = 5.', additional_kwargs={}, response_metadata={'id': 'msg_015pNcudWuLu4Hd4SEd6ibKX', 'model': 'claude-3-5-sonnet-20241022', 'stop_reason': 'end_turn', 'stop_sequence': None, 'usage': {'input_tokens': 658, 'output_tokens': 18}}, id='run-0cda0125-abbc-4571-8dae-4bb7ef83b443-0', usage_metadata={'input_tokens': 658, 'output_tokens': 18, 'total_tokens': 676, 'input_token_details': {}}), HumanMessage(content='now multiply that by 11', additional_kwargs={}, response_metadata={}, id='0582d1bd-f95f-4d0b-ae2b-9836f2961d6b'), AIMessage(content=[{'text': \"As an addition expert, I'm not able to do multiplication - that's Alice's specialty! Let me transfer this question to her.\", 'type': 'text'}, {'id': 'toolu_01MnpHuEgQFg8srogqVxv4e1', 'input': {}, 'name': 'transfer_to_alice', 'type': 'tool_use'}], additional_kwargs={}, response_metadata={'id': 'msg_01Jx51MuPiKnLCVDhNUVEe2K', 'model': 'claude-3-5-sonnet-20241022', 'stop_reason': 'tool_use', 'stop_sequence': None, 'usage': {'input_tokens': 685, 'output_tokens': 66}}, id='run-3efcaf6d-be2e-47d2-9bcf-210db6431d41-0', tool_calls=[{'name': 'transfer_to_alice', 'args': {}, 'id': 'toolu_01MnpHuEgQFg8srogqVxv4e1', 'type': 'tool_call'}], usage_metadata={'input_tokens': 685, 'output_tokens': 66, 'total_tokens': 751, 'input_token_details': {}}), ToolMessage(content='Transferred to Alice', name='transfer_to_alice', id='13e3d8e0-52c3-4af3-a451-c0969e485ec8', tool_call_id='toolu_01MnpHuEgQFg8srogqVxv4e1', artifact=Command(goto='alice')), AIMessage(content=[{'text': 'Hi! Alice here. I can help you multiply 5 by 11! Let me do that calculation for you:', 'type': 'text'}, {'id': 'toolu_01BbWp6mkzc62dsVgKhP23MU', 'input': {'a': 5, 'b': 11}, 'name': 'multiply', 'type': 'tool_use'}], additional_kwargs={}, response_metadata={'id': 'msg_011mT4whXyPYC1yLtNmrZYGi', 'model': 'claude-3-5-sonnet-20241022', 'stop_reason': 'tool_use', 'stop_sequence': None, 'usage': {'input_tokens': 764, 'output_tokens': 95}}, id='run-1e45821e-adf9-4d2a-9250-d9c1aa6a7be3-0', tool_calls=[{'name': 'multiply', 'args': {'a': 5, 'b': 11}, 'id': 'toolu_01BbWp6mkzc62dsVgKhP23MU', 'type': 'tool_call'}], usage_metadata={'input_tokens': 764, 'output_tokens': 95, 'total_tokens': 859, 'input_token_details': {}}), ToolMessage(content='55', name='multiply', id='0482f463-2ba6-4350-9ffa-01b1527edb92', tool_call_id='toolu_01BbWp6mkzc62dsVgKhP23MU'), AIMessage(content='5 × 11 = 55', additional_kwargs={}, response_metadata={'id': 'msg_01RFwKtvU7FUgS6rMGQ9AFBo', 'model': 'claude-3-5-sonnet-20241022', 'stop_reason': 'end_turn', 'stop_sequence': None, 'usage': {'input_tokens': 871, 'output_tokens': 13}}, id='run-e1ef5948-0930-486d-9e20-85c4021726ce-0', usage_metadata={'input_tokens': 871, 'output_tokens': 13, 'total_tokens': 884, 'input_token_details': {}})], 'node': 'alice'}})\n"
     ]
    }
   ],
   "source": [
    "for chunk in graph.stream({\"messages\": [(\"user\", \"now multiply that by 11\")]}, config, subgraphs=True):\n",
    "    print(chunk)"
   ]
  },
  {
   "cell_type": "code",
   "execution_count": 64,
   "id": "74be3121-f7da-4939-a33e-7a73b2dcf04b",
   "metadata": {},
   "outputs": [
    {
     "data": {
      "text/plain": [
       "[HumanMessage(content=\"what's 2 + 3\", additional_kwargs={}, response_metadata={}, id='0fe748d6-0f7c-430b-982e-70bbc75a34ad'),\n",
       " AIMessage(content=[{'text': 'I apologize, but as Alice the multiplication expert, I actually specialize in multiplication rather than addition. However, I can ask Bob who is good with addition! Let me transfer this question to Bob.', 'type': 'text'}, {'id': 'toolu_012CgpjY8WrPKmXjFXU6Hwrk', 'input': {}, 'name': 'transfer_to_bob', 'type': 'tool_use'}], additional_kwargs={}, response_metadata={'id': 'msg_01RCzmjosUA1eo5x8ZDmgvi6', 'model': 'claude-3-5-sonnet-20241022', 'stop_reason': 'tool_use', 'stop_sequence': None, 'usage': {'input_tokens': 449, 'output_tokens': 80}}, id='run-bae67ff8-91d5-4c31-93a4-0e3a5c26364f-0', tool_calls=[{'name': 'transfer_to_bob', 'args': {}, 'id': 'toolu_012CgpjY8WrPKmXjFXU6Hwrk', 'type': 'tool_call'}], usage_metadata={'input_tokens': 449, 'output_tokens': 80, 'total_tokens': 529, 'input_token_details': {}}),\n",
       " ToolMessage(content='Transferred to Bob', name='transfer_to_bob', id='861b6e6b-acb0-4116-a527-e2993aca7d15', tool_call_id='toolu_012CgpjY8WrPKmXjFXU6Hwrk', artifact={'update': None, 'send': [], 'resume': None, 'goto': 'bob'}),\n",
       " AIMessage(content=[{'text': \"Hi! Bob here. I'm happy to help you add 2 + 3. Let me calculate that for you using my addition tool.\", 'type': 'text'}, {'id': 'toolu_013ehAERUSNyFckRmWaN7tKE', 'input': {'a': 2, 'b': 3}, 'name': 'add', 'type': 'tool_use'}], additional_kwargs={}, response_metadata={'id': 'msg_01SxrR8jKspLYciV1CtXuadX', 'model': 'claude-3-5-sonnet-20241022', 'stop_reason': 'tool_use', 'stop_sequence': None, 'usage': {'input_tokens': 546, 'output_tokens': 100}}, id='run-c773edc3-6a4e-4119-a58c-e9c8a4dda4fb-0', tool_calls=[{'name': 'add', 'args': {'a': 2, 'b': 3}, 'id': 'toolu_013ehAERUSNyFckRmWaN7tKE', 'type': 'tool_call'}], usage_metadata={'input_tokens': 546, 'output_tokens': 100, 'total_tokens': 646, 'input_token_details': {}}),\n",
       " ToolMessage(content='5', name='add', id='0005c4fb-a705-4510-b137-b0ddada616ee', tool_call_id='toolu_013ehAERUSNyFckRmWaN7tKE'),\n",
       " AIMessage(content='The sum of 2 + 3 = 5.', additional_kwargs={}, response_metadata={'id': 'msg_015pNcudWuLu4Hd4SEd6ibKX', 'model': 'claude-3-5-sonnet-20241022', 'stop_reason': 'end_turn', 'stop_sequence': None, 'usage': {'input_tokens': 658, 'output_tokens': 18}}, id='run-0cda0125-abbc-4571-8dae-4bb7ef83b443-0', usage_metadata={'input_tokens': 658, 'output_tokens': 18, 'total_tokens': 676, 'input_token_details': {}}),\n",
       " HumanMessage(content='now multiply that by 11', additional_kwargs={}, response_metadata={}, id='0582d1bd-f95f-4d0b-ae2b-9836f2961d6b'),\n",
       " AIMessage(content=[{'text': \"As an addition expert, I'm not able to do multiplication - that's Alice's specialty! Let me transfer this question to her.\", 'type': 'text'}, {'id': 'toolu_01MnpHuEgQFg8srogqVxv4e1', 'input': {}, 'name': 'transfer_to_alice', 'type': 'tool_use'}], additional_kwargs={}, response_metadata={'id': 'msg_01Jx51MuPiKnLCVDhNUVEe2K', 'model': 'claude-3-5-sonnet-20241022', 'stop_reason': 'tool_use', 'stop_sequence': None, 'usage': {'input_tokens': 685, 'output_tokens': 66}}, id='run-3efcaf6d-be2e-47d2-9bcf-210db6431d41-0', tool_calls=[{'name': 'transfer_to_alice', 'args': {}, 'id': 'toolu_01MnpHuEgQFg8srogqVxv4e1', 'type': 'tool_call'}], usage_metadata={'input_tokens': 685, 'output_tokens': 66, 'total_tokens': 751, 'input_token_details': {}}),\n",
       " ToolMessage(content='Transferred to Alice', name='transfer_to_alice', id='13e3d8e0-52c3-4af3-a451-c0969e485ec8', tool_call_id='toolu_01MnpHuEgQFg8srogqVxv4e1', artifact={'update': None, 'send': [], 'resume': None, 'goto': 'alice'}),\n",
       " AIMessage(content=[{'text': 'Hi! Alice here. I can help you multiply 5 by 11! Let me do that calculation for you:', 'type': 'text'}, {'id': 'toolu_01BbWp6mkzc62dsVgKhP23MU', 'input': {'a': 5, 'b': 11}, 'name': 'multiply', 'type': 'tool_use'}], additional_kwargs={}, response_metadata={'id': 'msg_011mT4whXyPYC1yLtNmrZYGi', 'model': 'claude-3-5-sonnet-20241022', 'stop_reason': 'tool_use', 'stop_sequence': None, 'usage': {'input_tokens': 764, 'output_tokens': 95}}, id='run-1e45821e-adf9-4d2a-9250-d9c1aa6a7be3-0', tool_calls=[{'name': 'multiply', 'args': {'a': 5, 'b': 11}, 'id': 'toolu_01BbWp6mkzc62dsVgKhP23MU', 'type': 'tool_call'}], usage_metadata={'input_tokens': 764, 'output_tokens': 95, 'total_tokens': 859, 'input_token_details': {}}),\n",
       " ToolMessage(content='55', name='multiply', id='0482f463-2ba6-4350-9ffa-01b1527edb92', tool_call_id='toolu_01BbWp6mkzc62dsVgKhP23MU'),\n",
       " AIMessage(content='5 × 11 = 55', additional_kwargs={}, response_metadata={'id': 'msg_01RFwKtvU7FUgS6rMGQ9AFBo', 'model': 'claude-3-5-sonnet-20241022', 'stop_reason': 'end_turn', 'stop_sequence': None, 'usage': {'input_tokens': 871, 'output_tokens': 13}}, id='run-e1ef5948-0930-486d-9e20-85c4021726ce-0', usage_metadata={'input_tokens': 871, 'output_tokens': 13, 'total_tokens': 884, 'input_token_details': {}})]"
      ]
     },
     "execution_count": 64,
     "metadata": {},
     "output_type": "execute_result"
    }
   ],
   "source": [
    "graph.get_state(config).values[\"messages\"]"
   ]
  },
  {
   "cell_type": "code",
   "execution_count": 63,
   "id": "bc502ddd-0250-4408-9272-0265da426058",
   "metadata": {},
   "outputs": [
    {
     "data": {
      "text/plain": [
       "AIMessage(content='5 × 11 = 55', additional_kwargs={}, response_metadata={'id': 'msg_01RFwKtvU7FUgS6rMGQ9AFBo', 'model': 'claude-3-5-sonnet-20241022', 'stop_reason': 'end_turn', 'stop_sequence': None, 'usage': {'input_tokens': 871, 'output_tokens': 13}}, id='run-e1ef5948-0930-486d-9e20-85c4021726ce-0', usage_metadata={'input_tokens': 871, 'output_tokens': 13, 'total_tokens': 884, 'input_token_details': {}})"
      ]
     },
     "execution_count": 63,
     "metadata": {},
     "output_type": "execute_result"
    }
   ],
   "source": [
    "graph.get_state(config).values[\"messages\"][-1]"
   ]
  },
  {
   "cell_type": "markdown",
   "id": "a9100689-fa42-4c36-841f-2911a0cb2a10",
   "metadata": {},
   "source": [
    "---"
   ]
  },
  {
   "cell_type": "markdown",
   "id": "d3cc4cc6-cc76-4924-b296-d0bcd90994b4",
   "metadata": {},
   "source": [
    "### Different state schema in parent vs child state"
   ]
  },
  {
   "cell_type": "code",
   "execution_count": 25,
   "id": "57eece96-91a8-4e8d-a514-bbd370fed77e",
   "metadata": {},
   "outputs": [],
   "source": [
    "from langgraph.graph.message import add_messages\n",
    "from langchain_core.messages import BaseMessage\n",
    "from typing import Annotated, TypedDict"
   ]
  },
  {
   "cell_type": "code",
   "execution_count": 26,
   "id": "37edc91f-10c5-49c2-9bc4-16a3a275e005",
   "metadata": {},
   "outputs": [],
   "source": [
    "class CustomParentState(TypedDict):\n",
    "    # deliberately use a different key here\n",
    "    parent_messages: Annotated[list[BaseMessage], add_messages]\n",
    "    node: str"
   ]
  },
  {
   "cell_type": "code",
   "execution_count": 32,
   "id": "80ca274d-2240-405b-8d89-1cf8f911d92c",
   "metadata": {},
   "outputs": [],
   "source": [
    "def input_processor(state):\n",
    "    return {**state, \"messages\": state[\"parent_messages\"]}\n",
    "\n",
    "def output_processor(state):\n",
    "    updated_state = keep_last_message_as_human(state)\n",
    "    return {**updated_state, \"parent_messages\": updated_state[\"messages\"]}"
   ]
  },
  {
   "cell_type": "code",
   "execution_count": 33,
   "id": "6e6c8360-1e29-4e10-bb7a-3620851c8ab5",
   "metadata": {},
   "outputs": [],
   "source": [
    "alice = make_agent_node(\n",
    "    model_anthropic,\n",
    "    [multiply, bob_tool],\n",
    "    state_schema=AgentRouterState,\n",
    "    input_processor=input_processor,\n",
    "    output_processor=output_processor,\n",
    "    state_modifier=\"You're Alice, a multiplication expert. You can ask Bob for help with addition.\"\n",
    ")\n",
    "bob = make_agent_node(\n",
    "    model_anthropic,\n",
    "    [add, alice_tool],\n",
    "    state_schema=AgentRouterState,\n",
    "    input_processor=input_processor,\n",
    "    output_processor=output_processor,\n",
    "    state_modifier=\"You're Bob, an addition expert. You can ask Alice for help with muiltiplication.\"\n",
    ")\n",
    "\n",
    "builder = StateGraph(CustomParentState)\n",
    "add_entrypoint_router(builder, route_to=[(\"alice\", alice), (\"bob\", bob)], default_start_node=\"alice\")\n",
    "memory = MemorySaver()\n",
    "graph = builder.compile(checkpointer=memory)"
   ]
  },
  {
   "cell_type": "code",
   "execution_count": 34,
   "id": "88549d73-1415-4f18-9dac-65d3fbad4f21",
   "metadata": {},
   "outputs": [],
   "source": [
    "config = {\"configurable\": {\"thread_id\": \"1\"}}"
   ]
  },
  {
   "cell_type": "code",
   "execution_count": 35,
   "id": "eb45116b-45dd-4c44-8ec9-14d46a6f3af1",
   "metadata": {},
   "outputs": [
    {
     "name": "stdout",
     "output_type": "stream",
     "text": [
      "(('alice:03edac3b-33f0-913f-5fac-c7978f03b6c1',), {'agent': {'messages': [AIMessage(content=[{'text': \"I apologize, but as Alice the multiplication expert, I can't directly help with addition. However, I can ask Bob for help with this addition problem.\", 'type': 'text'}, {'id': 'toolu_01UVGqhbfVR3g5oSgc1ZNCFr', 'input': {}, 'name': 'transfer_to_bob', 'type': 'tool_use'}], additional_kwargs={}, response_metadata={'id': 'msg_01Prm7pnwyNNLM1pUidhzGH3', 'model': 'claude-3-5-sonnet-20241022', 'stop_reason': 'tool_use', 'stop_sequence': None, 'usage': {'input_tokens': 449, 'output_tokens': 71}}, id='run-51e326de-3c73-4830-a677-4aa1561fb788-0', tool_calls=[{'name': 'transfer_to_bob', 'args': {}, 'id': 'toolu_01UVGqhbfVR3g5oSgc1ZNCFr', 'type': 'tool_call'}], usage_metadata={'input_tokens': 449, 'output_tokens': 71, 'total_tokens': 520, 'input_token_details': {}})]}})\n",
      "(('alice:03edac3b-33f0-913f-5fac-c7978f03b6c1',), {'tools': {'messages': [ToolMessage(content='Transferred to Bob', name='transfer_to_bob', id='c04a6438-7144-4eb9-b81d-6edf017d63e3', tool_call_id='toolu_01UVGqhbfVR3g5oSgc1ZNCFr', artifact=Command(goto='bob'))]}})\n",
      "((), {'alice': {'parent_messages': [HumanMessage(content='Transferred to Bob', additional_kwargs={}, response_metadata={})], 'node': 'bob'}})\n",
      "(('bob:9c07983b-8016-d040-2178-cb0687816c36',), {'agent': {'messages': [AIMessage(content=[{'text': \"I'll help you with adding 2 + 3 since I'm Bob, the addition expert!\\n\\nLet me use the add function to calculate this:\", 'type': 'text'}, {'id': 'toolu_01CzqfdBqga7xnhyjHGpaToi', 'input': {'a': 2, 'b': 3}, 'name': 'add', 'type': 'tool_use'}], additional_kwargs={}, response_metadata={'id': 'msg_01GMogk8WYnYS44FZu5pJjod', 'model': 'claude-3-5-sonnet-20241022', 'stop_reason': 'tool_use', 'stop_sequence': None, 'usage': {'input_tokens': 455, 'output_tokens': 102}}, id='run-aa34f9af-0d8f-4500-b4b2-55059fc5a44f-0', tool_calls=[{'name': 'add', 'args': {'a': 2, 'b': 3}, 'id': 'toolu_01CzqfdBqga7xnhyjHGpaToi', 'type': 'tool_call'}], usage_metadata={'input_tokens': 455, 'output_tokens': 102, 'total_tokens': 557, 'input_token_details': {}})]}})\n",
      "(('bob:9c07983b-8016-d040-2178-cb0687816c36',), {'tools': {'messages': [ToolMessage(content='5', name='add', id='bf02efd7-930d-4f2e-be18-f6f8173cb650', tool_call_id='toolu_01CzqfdBqga7xnhyjHGpaToi')]}})\n",
      "(('bob:9c07983b-8016-d040-2178-cb0687816c36',), {'agent': {'messages': [AIMessage(content='2 + 3 = 5', additional_kwargs={}, response_metadata={'id': 'msg_01LdWCkyVB1MbAUbMYqpxTdg', 'model': 'claude-3-5-sonnet-20241022', 'stop_reason': 'end_turn', 'stop_sequence': None, 'usage': {'input_tokens': 569, 'output_tokens': 13}}, id='run-1f1722f0-3d6d-4c72-85a5-88067d5b2c2d-0', usage_metadata={'input_tokens': 569, 'output_tokens': 13, 'total_tokens': 582, 'input_token_details': {}})]}})\n",
      "((), {'bob': {'parent_messages': [HumanMessage(content='2 + 3 = 5', additional_kwargs={}, response_metadata={})], 'node': 'bob'}})\n"
     ]
    }
   ],
   "source": [
    "for chunk in graph.stream({\"parent_messages\": [(\"user\", \"what's 2 + 3\")]}, config, subgraphs=True):\n",
    "    print(chunk)"
   ]
  },
  {
   "cell_type": "code",
   "execution_count": 36,
   "id": "1eed029e-3c15-416a-8067-ee7701fda748",
   "metadata": {},
   "outputs": [
    {
     "data": {
      "text/plain": [
       "dict_keys(['parent_messages', 'node'])"
      ]
     },
     "execution_count": 36,
     "metadata": {},
     "output_type": "execute_result"
    }
   ],
   "source": [
    "graph.get_state(config).values.keys()"
   ]
  },
  {
   "cell_type": "code",
   "execution_count": 37,
   "id": "06898fe1-58c6-4016-a5e7-e2a29897a520",
   "metadata": {},
   "outputs": [
    {
     "data": {
      "text/plain": [
       "[HumanMessage(content=\"what's 2 + 3\", additional_kwargs={}, response_metadata={}, id='4ef46afa-5c92-4fd2-aec7-9984ab62b85d'),\n",
       " HumanMessage(content='Transferred to Bob', additional_kwargs={}, response_metadata={}, id='c045d8a4-72ea-4bc9-8128-9e583a24e4d7'),\n",
       " HumanMessage(content='2 + 3 = 5', additional_kwargs={}, response_metadata={}, id='315fd95f-8f1e-49d9-ad41-7cc7b51b9d78')]"
      ]
     },
     "execution_count": 37,
     "metadata": {},
     "output_type": "execute_result"
    }
   ],
   "source": [
    "graph.get_state(config).values[\"parent_messages\"]"
   ]
  },
  {
   "cell_type": "markdown",
   "id": "33294cd3-b158-47dc-84eb-1c1f7ba05a1f",
   "metadata": {},
   "source": [
    "### Tools that update state (externally)"
   ]
  },
  {
   "cell_type": "code",
   "execution_count": 38,
   "id": "903f1e05-c9a6-4c46-b9c5-3e798a025b1a",
   "metadata": {},
   "outputs": [],
   "source": [
    "class CustomParentState(TypedDict):\n",
    "    # deliberately use a different key here\n",
    "    parent_messages: Annotated[list[BaseMessage], add_messages]\n",
    "    node: str\n",
    "\n",
    "    # this key is not available to the child graph\n",
    "    user_name: str"
   ]
  },
  {
   "cell_type": "code",
   "execution_count": 39,
   "id": "f5322c61-2dfb-4fb0-bfdb-1f25831cc14c",
   "metadata": {},
   "outputs": [],
   "source": [
    "from langchain_core.tools import tool"
   ]
  },
  {
   "cell_type": "code",
   "execution_count": 40,
   "id": "9d1cd607-68f1-42d4-81bb-76b020ae3eaa",
   "metadata": {},
   "outputs": [],
   "source": [
    "@tool(response_format=\"content_and_artifact\", return_direct=True)\n",
    "def get_user_name():\n",
    "    \"\"\"Retrieve user name\"\"\"\n",
    "    return \"Successfully retrieved user name\", GraphCommand(update={\"user_name\": \"Meow\"})"
   ]
  },
  {
   "cell_type": "code",
   "execution_count": 41,
   "id": "638a2bf0-a3be-4589-b365-9ce859c97b38",
   "metadata": {},
   "outputs": [],
   "source": [
    "def input_processor(state):\n",
    "    return {**state, \"messages\": state[\"parent_messages\"]}\n",
    "\n",
    "def output_processor(state):\n",
    "    state = keep_last_message_as_human(state)\n",
    "    return {**state, \"parent_messages\": state[\"messages\"]}"
   ]
  },
  {
   "cell_type": "code",
   "execution_count": 43,
   "id": "760048d7-e5f4-48fe-bf4e-90d63ea2758b",
   "metadata": {},
   "outputs": [],
   "source": [
    "alice = make_agent_node(\n",
    "    model,\n",
    "    [get_user_name],\n",
    "    state_schema=AgentRouterState,\n",
    "    input_processor=input_processor,\n",
    "    output_processor=output_processor,\n",
    ")\n",
    "\n",
    "builder = StateGraph(CustomParentState)\n",
    "builder.add_node(\"alice\", alice)\n",
    "builder.add_edge(START, \"alice\")\n",
    "memory = MemorySaver()\n",
    "graph = builder.compile(checkpointer=memory)"
   ]
  },
  {
   "cell_type": "code",
   "execution_count": 44,
   "id": "e46e6cba-0f1f-4a16-8336-299a447e21fc",
   "metadata": {},
   "outputs": [],
   "source": [
    "config = {\"configurable\": {\"thread_id\": \"1\"}}"
   ]
  },
  {
   "cell_type": "code",
   "execution_count": 45,
   "id": "e2e8e5b3-b875-4b90-b207-9cf81985db5a",
   "metadata": {},
   "outputs": [
    {
     "name": "stdout",
     "output_type": "stream",
     "text": [
      "{'alice': {'parent_messages': [HumanMessage(content='Successfully retrieved user name', additional_kwargs={}, response_metadata={}, id='b7ed94af-0dd8-4e08-9f61-587e9b40cb3d')], 'user_name': 'Meow'}}\n"
     ]
    }
   ],
   "source": [
    "for chunk in graph.stream({\"parent_messages\": [(\"user\", \"get user name\")]}, config):\n",
    "    print(chunk)"
   ]
  },
  {
   "cell_type": "code",
   "execution_count": 46,
   "id": "5b599e9d-ec0b-46fb-a5d9-4fcdf7b564c0",
   "metadata": {},
   "outputs": [
    {
     "data": {
      "text/plain": [
       "{'parent_messages': [HumanMessage(content='get user name', additional_kwargs={}, response_metadata={}, id='a45dda29-2f97-4470-9bcf-4a5ba91d8c4e'),\n",
       "  HumanMessage(content='Successfully retrieved user name', additional_kwargs={}, response_metadata={}, id='b7ed94af-0dd8-4e08-9f61-587e9b40cb3d')],\n",
       " 'user_name': 'Meow'}"
      ]
     },
     "execution_count": 46,
     "metadata": {},
     "output_type": "execute_result"
    }
   ],
   "source": [
    "graph.get_state(config).values"
   ]
  },
  {
   "cell_type": "markdown",
   "id": "0da838cb-3ad4-493a-81c4-d30d2c68d58b",
   "metadata": {},
   "source": [
    "### Tools that update state (internally)"
   ]
  },
  {
   "cell_type": "code",
   "execution_count": 47,
   "id": "64b5a0c2-aee1-4b05-81d8-3ff5f12c13e8",
   "metadata": {},
   "outputs": [],
   "source": [
    "class CustomParentState(TypedDict):\n",
    "    # deliberately use a different key here\n",
    "    parent_messages: Annotated[list[BaseMessage], add_messages]\n",
    "    node: str"
   ]
  },
  {
   "cell_type": "code",
   "execution_count": 48,
   "id": "e81473af-4801-4cd1-844d-021c549f652a",
   "metadata": {},
   "outputs": [],
   "source": [
    "class CustomChildState(AgentRouterState):\n",
    "    user_name: str"
   ]
  },
  {
   "cell_type": "code",
   "execution_count": 49,
   "id": "ee92b82c-146f-4e3f-b2a0-f41cb87492fa",
   "metadata": {},
   "outputs": [],
   "source": [
    "from langchain_core.tools import tool"
   ]
  },
  {
   "cell_type": "code",
   "execution_count": 50,
   "id": "9c1b34f2-0d36-4e00-bc98-e3562620cb4e",
   "metadata": {},
   "outputs": [],
   "source": [
    "@tool(response_format=\"content_and_artifact\")\n",
    "def get_user_name():\n",
    "    \"\"\"Retrieve user name\"\"\"\n",
    "    return \"Successfully retrieved user name\", GraphCommand(update={\"user_name\": \"Meow\"})"
   ]
  },
  {
   "cell_type": "code",
   "execution_count": 51,
   "id": "8a96ed12-36d4-4600-8721-fa90d19e30ef",
   "metadata": {},
   "outputs": [],
   "source": [
    "def input_processor(state):\n",
    "    return {**state, \"messages\": state[\"parent_messages\"]}\n",
    "\n",
    "def output_processor(state):\n",
    "    state = keep_last_message_as_human(state)\n",
    "    return {**state, \"parent_messages\": state[\"messages\"]}"
   ]
  },
  {
   "cell_type": "code",
   "execution_count": 52,
   "id": "7c059af0-fd2d-454d-9cf0-a2f0684e00d9",
   "metadata": {},
   "outputs": [],
   "source": [
    "def state_modifier(state):\n",
    "    user_name = state.get(\"user_name\")\n",
    "    if user_name is None:\n",
    "        return state[\"messages\"]\n",
    "\n",
    "    system_msg = f\"User name is {user_name}\"\n",
    "    return [{\"role\": \"system\", \"content\": system_msg}] + state[\"messages\"]"
   ]
  },
  {
   "cell_type": "code",
   "execution_count": 53,
   "id": "9962551c-1320-4578-8cdf-a481fc3e1519",
   "metadata": {},
   "outputs": [],
   "source": [
    "alice = make_agent_node(\n",
    "    model,\n",
    "    [get_user_name, add],\n",
    "    input_processor=input_processor,\n",
    "    output_processor=output_processor,\n",
    "    state_schema=CustomChildState,\n",
    "    state_modifier=state_modifier\n",
    ")\n",
    "\n",
    "builder = StateGraph(CustomParentState)\n",
    "builder.add_node(\"alice\", alice)\n",
    "builder.add_edge(START, \"alice\")\n",
    "memory = MemorySaver()\n",
    "graph = builder.compile(checkpointer=memory)"
   ]
  },
  {
   "cell_type": "code",
   "execution_count": 54,
   "id": "4a3dfb0c-7103-4687-9f7d-9820e075d624",
   "metadata": {},
   "outputs": [],
   "source": [
    "config = {\"configurable\": {\"thread_id\": \"1\"}}"
   ]
  },
  {
   "cell_type": "code",
   "execution_count": 55,
   "id": "44c7a2d4-a664-48d7-afef-ca5cffe3c665",
   "metadata": {},
   "outputs": [
    {
     "data": {
      "text/plain": [
       "{'parent_messages': [HumanMessage(content='look up my name, add 2 + 3 and respond to me by name', additional_kwargs={}, response_metadata={}, id='b601af92-4acc-4820-b583-a09d0b5fd95c'),\n",
       "  HumanMessage(content='Hello, Meow! The result of adding 2 + 3 is 5.', additional_kwargs={}, response_metadata={}, id='b3eb767f-69fb-4bc0-a770-be37df363e6d')]}"
      ]
     },
     "execution_count": 55,
     "metadata": {},
     "output_type": "execute_result"
    }
   ],
   "source": [
    "graph.invoke({\"parent_messages\": [(\"user\", \"look up my name, add 2 + 3 and respond to me by name\")]}, config)"
   ]
  },
  {
   "cell_type": "markdown",
   "id": "62ee09b3-6144-4c67-97aa-b64cf7b224ce",
   "metadata": {},
   "source": [
    "---"
   ]
  },
  {
   "cell_type": "markdown",
   "id": "12bbd4ad-c77b-4556-b91e-b0a98a2cb16e",
   "metadata": {},
   "source": [
    "### Test interrupts from inside tools"
   ]
  },
  {
   "cell_type": "markdown",
   "id": "6484cf5b-3217-4cbd-b6ce-a86852ad4afc",
   "metadata": {},
   "source": [
    "TL;DR works w/ a single graph, doesn't work w/ subgraphs"
   ]
  },
  {
   "cell_type": "code",
   "execution_count": 79,
   "id": "1f3fef42-c90c-4e62-91ba-3425eb1b52cf",
   "metadata": {},
   "outputs": [],
   "source": [
    "from langgraph.types import interrupt, Command"
   ]
  },
  {
   "cell_type": "code",
   "execution_count": 80,
   "id": "0421c787-801e-48dc-8978-e53d4d12a20a",
   "metadata": {},
   "outputs": [],
   "source": [
    "@tool(response_format=\"content_and_artifact\")\n",
    "def get_user_name():\n",
    "    \"\"\"Retrieve user name\"\"\"\n",
    "    user_name = interrupt(\"Please provider user name\")\n",
    "    return \"Successfully retrieved user name\", GraphCommand(update={\"user_name\": user_name})"
   ]
  },
  {
   "cell_type": "code",
   "execution_count": 81,
   "id": "03e32dfe-8702-406f-9efb-a88d51bf5869",
   "metadata": {},
   "outputs": [],
   "source": [
    "def state_modifier(state):\n",
    "    user_name = state.get(\"user_name\")\n",
    "    if user_name is None:\n",
    "        return state[\"messages\"]\n",
    "\n",
    "    system_msg = f\"User name is {user_name}\"\n",
    "    return [{\"role\": \"system\", \"content\": system_msg}] + state[\"messages\"]"
   ]
  },
  {
   "cell_type": "code",
   "execution_count": 89,
   "id": "b983206f-3f7c-42f6-a678-cb66bbdddabb",
   "metadata": {},
   "outputs": [],
   "source": [
    "test_agent = make_agent_node(model, [get_user_name], state_schema=CustomState, state_modifier=state_modifier)\n",
    "\n",
    "builder = StateGraph(CustomState)\n",
    "builder.add_node(\"agent\", test_agent)\n",
    "builder.add_edge(START, \"agent\")\n",
    "checkpointer = MemorySaver()\n",
    "graph = builder.compile(checkpointer=checkpointer)"
   ]
  },
  {
   "cell_type": "code",
   "execution_count": 90,
   "id": "21b7dcab-9335-4534-9f98-43088ad8c721",
   "metadata": {},
   "outputs": [],
   "source": [
    "# checkpointer = MemorySaver()\n",
    "# test_agent = create_react_agent(model, [get_user_name], checkpointer=checkpointer)"
   ]
  },
  {
   "cell_type": "code",
   "execution_count": 92,
   "id": "d3e520e3-1e6a-48d4-a21c-398575a4d4e1",
   "metadata": {},
   "outputs": [
    {
     "data": {
      "text/plain": [
       "{'messages': [HumanMessage(content='hi -- please get the user name', additional_kwargs={}, response_metadata={}, id='5b4f9de3-13d3-4d1e-963d-e1b8b80dea96')]}"
      ]
     },
     "execution_count": 92,
     "metadata": {},
     "output_type": "execute_result"
    }
   ],
   "source": [
    "graph.invoke({\"messages\": [(\"user\", \"hi -- please get the user name\")]}, config)"
   ]
  },
  {
   "cell_type": "code",
   "execution_count": 94,
   "id": "b5faa93a-691d-4434-8a90-5defee3dc040",
   "metadata": {},
   "outputs": [
    {
     "data": {
      "text/plain": [
       "(PregelTask(id='54922a05-cd7e-3094-ebe0-e55eb21bf24e', name='agent', path=('__pregel_pull', 'agent'), error=None, interrupts=(Interrupt(value='Please provider user name', resumable=True, ns=['agent:54922a05-cd7e-3094-ebe0-e55eb21bf24e', 'tools:d70d2003-c7b7-06fe-faf1-0ee3731a77f2'], when='during'),), state={'configurable': {'thread_id': '1', 'checkpoint_ns': 'agent:54922a05-cd7e-3094-ebe0-e55eb21bf24e'}}, result=None),)"
      ]
     },
     "execution_count": 94,
     "metadata": {},
     "output_type": "execute_result"
    }
   ],
   "source": [
    "graph.get_state(config).tasks"
   ]
  },
  {
   "cell_type": "code",
   "execution_count": 96,
   "id": "05bff0ec-05a6-4443-9fe5-923a3a960452",
   "metadata": {},
   "outputs": [],
   "source": [
    "# graph.invoke(Command(resume=\"Archibald\"), config)"
   ]
  },
  {
   "cell_type": "code",
   "execution_count": 88,
   "id": "4e36809d-9504-49cd-9b56-f27d88531af6",
   "metadata": {},
   "outputs": [
    {
     "data": {
      "text/plain": [
       "{'messages': [HumanMessage(content='hi -- please get the user name', additional_kwargs={}, response_metadata={}, id='3662d0e1-7f5b-4a39-b8fb-d114d69c5138'),\n",
       "  AIMessage(content='', additional_kwargs={'tool_calls': [{'id': 'call_KJah0Kamn5i3Gk8v8qaBukCR', 'function': {'arguments': '{}', 'name': 'get_user_name'}, 'type': 'function'}], 'refusal': None}, response_metadata={'token_usage': {'completion_tokens': 11, 'prompt_tokens': 43, 'total_tokens': 54, 'completion_tokens_details': {'accepted_prediction_tokens': 0, 'audio_tokens': 0, 'reasoning_tokens': 0, 'rejected_prediction_tokens': 0}, 'prompt_tokens_details': {'audio_tokens': 0, 'cached_tokens': 0}}, 'model_name': 'gpt-4o-2024-08-06', 'system_fingerprint': 'fp_62f96df568', 'finish_reason': 'tool_calls', 'logprobs': None}, id='run-d5cf2ceb-5417-4c57-9955-059cd1d84c9e-0', tool_calls=[{'name': 'get_user_name', 'args': {}, 'id': 'call_KJah0Kamn5i3Gk8v8qaBukCR', 'type': 'tool_call'}], usage_metadata={'input_tokens': 43, 'output_tokens': 11, 'total_tokens': 54, 'input_token_details': {'audio': 0, 'cache_read': 0}, 'output_token_details': {'audio': 0, 'reasoning': 0}}),\n",
       "  ToolMessage(content='Successfully retrieved user name', name='get_user_name', id='b6145308-e069-4d62-855b-0f08784e7ba3', tool_call_id='call_KJah0Kamn5i3Gk8v8qaBukCR', artifact={'update': {'user_name': 'Archibald'}, 'send': [], 'resume': None, 'goto': []}),\n",
       "  AIMessage(content=\"Hello! I've successfully retrieved the user name. How can I assist you further today?\", additional_kwargs={'refusal': None}, response_metadata={'token_usage': {'completion_tokens': 18, 'prompt_tokens': 67, 'total_tokens': 85, 'completion_tokens_details': {'accepted_prediction_tokens': 0, 'audio_tokens': 0, 'reasoning_tokens': 0, 'rejected_prediction_tokens': 0}, 'prompt_tokens_details': {'audio_tokens': 0, 'cached_tokens': 0}}, 'model_name': 'gpt-4o-2024-08-06', 'system_fingerprint': 'fp_62f96df568', 'finish_reason': 'stop', 'logprobs': None}, id='run-bf275205-dcb0-4ac3-903f-744c0124a16f-0', usage_metadata={'input_tokens': 67, 'output_tokens': 18, 'total_tokens': 85, 'input_token_details': {'audio': 0, 'cache_read': 0}, 'output_token_details': {'audio': 0, 'reasoning': 0}}),\n",
       "  HumanMessage(content='whats my name', additional_kwargs={}, response_metadata={}, id='7af4574e-1a61-4660-9482-f953870b2483'),\n",
       "  AIMessage(content='Your name is not displayed in the information I can access. If you would like me to remember or use a specific name, please let me know!', additional_kwargs={'refusal': None}, response_metadata={'token_usage': {'completion_tokens': 31, 'prompt_tokens': 96, 'total_tokens': 127, 'completion_tokens_details': {'accepted_prediction_tokens': 0, 'audio_tokens': 0, 'reasoning_tokens': 0, 'rejected_prediction_tokens': 0}, 'prompt_tokens_details': {'audio_tokens': 0, 'cached_tokens': 0}}, 'model_name': 'gpt-4o-2024-08-06', 'system_fingerprint': 'fp_467dc6e35f', 'finish_reason': 'stop', 'logprobs': None}, id='run-e80eb201-1d31-4093-9409-2091cca3c629-0', usage_metadata={'input_tokens': 96, 'output_tokens': 31, 'total_tokens': 127, 'input_token_details': {'audio': 0, 'cache_read': 0}, 'output_token_details': {'audio': 0, 'reasoning': 0}})]}"
      ]
     },
     "execution_count": 88,
     "metadata": {},
     "output_type": "execute_result"
    }
   ],
   "source": [
    "test_agent.invoke({\"messages\": [(\"user\", \"whats my name\")]}, config)"
   ]
  },
  {
   "cell_type": "markdown",
   "id": "5a0e3470-1f97-4259-bd6f-b0db1a4734d9",
   "metadata": {},
   "source": [
    "---"
   ]
  }
 ],
 "metadata": {
  "kernelspec": {
   "display_name": "langgraph",
   "language": "python",
   "name": "langgraph"
  },
  "language_info": {
   "codemirror_mode": {
    "name": "ipython",
    "version": 3
   },
   "file_extension": ".py",
   "mimetype": "text/x-python",
   "name": "python",
   "nbconvert_exporter": "python",
   "pygments_lexer": "ipython3",
   "version": "3.11.9"
  }
 },
 "nbformat": 4,
 "nbformat_minor": 5
}
