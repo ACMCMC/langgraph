{
 "cells": [
  {
   "cell_type": "code",
   "execution_count": 34,
   "id": "47407fe6-5f32-4166-8df3-3d90389f7d46",
   "metadata": {},
   "outputs": [],
   "source": [
    "from typing import (\n",
    "    Annotated,\n",
    "    Sequence,\n",
    "    TypedDict,\n",
    "    Optional\n",
    ")\n",
    "from langchain_core.messages import BaseMessage\n",
    "from langgraph.graph.message import add_messages\n",
    "from langchain_openai import ChatOpenAI\n",
    "from langchain_core.tools import tool\n",
    "import json\n",
    "from langchain_core.messages import ToolMessage, SystemMessage\n",
    "from langchain_core.runnables import RunnableConfig\n",
    "from langgraph.graph import StateGraph, END\n",
    "\n",
    "from langchain_core.tools import tool\n",
    "from langchain_core.messages import HumanMessage, AIMessage\n",
    "from langgraph.checkpoint.memory import MemorySaver\n",
    "\n",
    "\n",
    "from langgraph.graph.state import GraphCommand\n",
    "\n",
    "from langgraph.prebuilt import create_react_agent\n",
    "from langgraph.prebuilt.chat_agent_executor import AgentState\n"
   ]
  },
  {
   "cell_type": "code",
   "execution_count": 35,
   "id": "8151a03d-d7da-4a36-9f97-c9dcd080e3eb",
   "metadata": {},
   "outputs": [],
   "source": [
    "class Foo(TypedDict):\n",
    "    a: int\n",
    "    b: Optional[int]"
   ]
  },
  {
   "cell_type": "code",
   "execution_count": 38,
   "id": "d963448c-5976-46cd-a8c6-39d959d10693",
   "metadata": {},
   "outputs": [],
   "source": [
    "builder = StateGraph(Foo)\n",
    "\n",
    "def node1(foo: Foo):\n",
    "    print(foo)\n",
    "    return {\n",
    "        \"a\": 2,\n",
    "        \"b\": 1,\n",
    "    }\n",
    "\n",
    "def node2(foo: Foo):\n",
    "    print(foo)\n",
    "    return {\n",
    "        \"a\": 1,\n",
    "        # \"b\": 2,\n",
    "    }\n",
    "\n",
    "builder.add_node(\"node1\", node1)\n",
    "builder.add_node(\"node2\", node2)\n",
    "builder.set_entry_point(\"node1\")\n",
    "builder.add_edge(\"node1\", \"node2\")\n",
    "\n",
    "checkpointer = MemorySaver()\n",
    "\n",
    "graph = builder.compile(checkpointer=checkpointer)\n",
    "\n",
    "# # Now let's do graph two\n",
    "\n",
    "# builder = StateGraph(AgentState)\n",
    "# builder = add_routing_edge(\n",
    "#     builder, routes=[(\"Jack\", agent1), (\"Jack\", )]\n",
    "# )"
   ]
  },
  {
   "cell_type": "code",
   "execution_count": 40,
   "id": "7e899bb3-b0bb-48d7-8f99-d2b7d7d7ece8",
   "metadata": {},
   "outputs": [
    {
     "name": "stdout",
     "output_type": "stream",
     "text": [
      "{'a': 5, 'b': 1}\n",
      "{'a': 2, 'b': 1}\n"
     ]
    },
    {
     "data": {
      "text/plain": [
       "{'a': 1, 'b': 1}"
      ]
     },
     "execution_count": 40,
     "metadata": {},
     "output_type": "execute_result"
    }
   ],
   "source": [
    "graph.invoke({\"a\": 5}, {\"configurable\": {\"thread_id\": 3}})"
   ]
  },
  {
   "cell_type": "code",
   "execution_count": null,
   "id": "9d1f864d-7f7c-4dc6-94c6-bbed4fea2c75",
   "metadata": {},
   "outputs": [],
   "source": []
  }
 ],
 "metadata": {
  "kernelspec": {
   "display_name": "Python 3 (ipykernel)",
   "language": "python",
   "name": "python3"
  },
  "language_info": {
   "codemirror_mode": {
    "name": "ipython",
    "version": 3
   },
   "file_extension": ".py",
   "mimetype": "text/x-python",
   "name": "python",
   "nbconvert_exporter": "python",
   "pygments_lexer": "ipython3",
   "version": "3.11.4"
  }
 },
 "nbformat": 4,
 "nbformat_minor": 5
}
