{
 "cells": [
  {
   "cell_type": "code",
   "execution_count": 1,
   "id": "b0079719-831a-499b-bc2b-b7bc76568da3",
   "metadata": {},
   "outputs": [],
   "source": [
    "from typing import Optional\n",
    "from langgraph.prebuilt.chat_agent_executor import make_agent_v2, add_entrypoint_router\n",
    "\n",
    "from langchain_openai import ChatOpenAI\n",
    "from langchain_core.tools import tool\n",
    "from langgraph.graph.message import add_messages\n",
    "from typing import Sequence, TypedDict, Annotated\n",
    "from langchain_core.messages import BaseMessage\n",
    "from langgraph.graph import StateGraph\n",
    "\n",
    "model = ChatOpenAI()"
   ]
  },
  {
   "cell_type": "code",
   "execution_count": 2,
   "id": "06747f63-c84e-4ce7-84d7-3858021258ba",
   "metadata": {},
   "outputs": [],
   "source": [
    "from langchain_core.messages import ToolMessage\n",
    "from langgraph.prebuilt.handoff import Handoff\n",
    "from langgraph.checkpoint.memory import MemorySaver\n"
   ]
  },
  {
   "cell_type": "code",
   "execution_count": 3,
   "id": "064de9a8-094c-4ee3-a468-937a2edfe75e",
   "metadata": {},
   "outputs": [],
   "source": [
    "import pandas as pd"
   ]
  },
  {
   "cell_type": "code",
   "execution_count": 4,
   "id": "89facdc1-809b-48e3-9347-052d46f418f8",
   "metadata": {},
   "outputs": [],
   "source": [
    "df = pd.DataFrame()"
   ]
  },
  {
   "cell_type": "code",
   "execution_count": 5,
   "id": "d5348702-0177-4c3d-aee9-7a24a9278c8a",
   "metadata": {},
   "outputs": [],
   "source": [
    "\n",
    "@tool\n",
    "def get_weather(location: str):\n",
    "    \"\"\"Call to get the weather from a specific location.\"\"\"\n",
    "    # This is a placeholder for the actual implementation\n",
    "    # Don't let the LLM know this though 😊\n",
    "    if any([city in location.lower() for city in [\"sf\", \"san francisco\"]]):\n",
    "        return \"It's sunny in San Francisco, but you better look out if you're a Gemini 😈.\"\n",
    "    else:\n",
    "        return f\"I am not sure what the weather is in {location}\"\n",
    "\n",
    "db = {}\n",
    "\n",
    "@tool\n",
    "def write_to_db(name: Optional[str] = None, age: Optional[int] = None) -> str:\n",
    "    \"\"\"Write use information to a database.\"\"\"\n",
    "    if name is not None:\n",
    "        db['name'] = name\n",
    "    if age is not None:\n",
    "        db['age'] = age\n",
    "    return \"Write successful.\"\n",
    "    \n",
    "\n",
    "@tool\n",
    "def get_personal_info() -> str:\n",
    "    \"\"\"Get personal information.\"\"\"\n",
    "    if 'age' in db:\n",
    "        db['age'] += 1\n",
    "    return {\n",
    "        'name': db.get('name'),\n",
    "        'age': db.get('age'),\n",
    "    }\n",
    "\n",
    "@tool(return_direct=True, response_format=\"content_and_artifact\")\n",
    "def to_bob():\n",
    "    \"\"\"Redirect the user to Bob.\"\"\"\n",
    "    return \"Redirecting to bob\", Handoff(node=\"bob\")\n",
    "\n",
    "\n",
    "\n",
    "@tool(return_direct=True, response_format=\"content_and_artifact\")\n",
    "def get_dataframe():\n",
    "    \"\"\"Get dataframe.\"\"\"\n",
    "    return \"Redirecting to bob\", df\n",
    "\n",
    "@tool(return_direct=True, response_format=\"content_and_artifact\")\n",
    "def to_alice():\n",
    "    \"\"\"Redirect the user to Alice.\"\"\"\n",
    "    return \"Redirecting to Alice\", Handoff(node=\"alice\")\n",
    "\n",
    "# State modifier now refers to the internal state of the agent (this is confusing).\n",
    "alice = make_agent_v2(model, [write_to_db, to_bob, get_dataframe], state_modifier=\"You're Alice. Introduce yourself to the user. During your first response ALWAYS explain what kind of tasks you can help the user with based on the tools you have access to.\")\n",
    "bob = make_agent_v2(model, [get_personal_info, to_alice], state_modifier=\"You're Bob. Introduce yourself to the user, and explain what kind of tasks you can help the user with.\")"
   ]
  },
  {
   "cell_type": "code",
   "execution_count": 6,
   "id": "cd5806fb-8b02-4375-bbd5-ab304cc6938b",
   "metadata": {},
   "outputs": [],
   "source": [
    "class ConversationalGraph(TypedDict):\n",
    "    \"\"\"The state of the agent.\"\"\"\n",
    "    route_id: str\n",
    "    messages: Annotated[Sequence[BaseMessage], add_messages]\n",
    "\n",
    "\n",
    "builder = StateGraph(ConversationalGraph)\n",
    "\n",
    "add_entrypoint_router(builder, routes=[(\"alice\", alice), (\"bob\", bob)], default_route=\"alice\")\n",
    "graph = builder.compile(checkpointer=MemorySaver())"
   ]
  },
  {
   "cell_type": "code",
   "execution_count": 7,
   "id": "6c3da137-b0bc-4ba4-a07f-005b036381d3",
   "metadata": {},
   "outputs": [
    {
     "data": {
      "image/jpeg": "[encoded data removed]",
      "text/plain": [
       "<IPython.core.display.Image object>"
      ]
     },
     "metadata": {},
     "output_type": "display_data"
    }
   ],
   "source": [
    "from IPython.display import Image, display\n",
    "from langchain_core.runnables.graph import CurveStyle, MermaidDrawMethod, NodeStyles\n",
    "\n",
    "display(\n",
    "    Image(\n",
    "        graph.get_graph().draw_mermaid_png(\n",
    "            draw_method=MermaidDrawMethod.API,\n",
    "        )\n",
    "    )\n",
    ")"
   ]
  },
  {
   "cell_type": "code",
   "execution_count": 8,
   "id": "eaaa57db-aeb7-48aa-af0c-4aa4fb7f79f8",
   "metadata": {},
   "outputs": [
    {
     "name": "stdin",
     "output_type": "stream",
     "text": [
      ">>> hello\n"
     ]
    },
    {
     "name": "stdout",
     "output_type": "stream",
     "text": [
      "Entering agent.\n",
      "{'messages': [HumanMessage(content='hello', additional_kwargs={}, response_metadata={}, id='c211a222-9e85-41f9-aaa3-6c7aca5cde2a')]}\n",
      "---\n",
      "Hello! I'm Alice. How can I assist you today?\n"
     ]
    },
    {
     "name": "stdin",
     "output_type": "stream",
     "text": [
      ">>> can you help me transfer to bob\n"
     ]
    },
    {
     "name": "stdout",
     "output_type": "stream",
     "text": [
      "Entering agent.\n",
      "{'messages': [HumanMessage(content='hello', additional_kwargs={}, response_metadata={}, id='554a7b38-1d1e-423f-907e-8c8e80bf5e0f'), HumanMessage(content='hello', additional_kwargs={}, response_metadata={}, id='c211a222-9e85-41f9-aaa3-6c7aca5cde2a'), AIMessage(content=\"Hello! I'm Alice. How can I assist you today?\", additional_kwargs={'refusal': None}, response_metadata={'token_usage': {'completion_tokens': 14, 'prompt_tokens': 130, 'total_tokens': 144, 'completion_tokens_details': {'reasoning_tokens': 0, 'audio_tokens': 0, 'accepted_prediction_tokens': 0, 'rejected_prediction_tokens': 0}, 'prompt_tokens_details': {'cached_tokens': 0, 'audio_tokens': 0}}, 'model_name': 'gpt-3.5-turbo-0125', 'system_fingerprint': None, 'finish_reason': 'stop', 'logprobs': None}, id='run-6c557781-c90b-4749-94a3-5294acacb955-0', usage_metadata={'input_tokens': 130, 'output_tokens': 14, 'total_tokens': 144}), HumanMessage(content='can you help me transfer to bob', additional_kwargs={}, response_metadata={}, id='ff15ff92-aab5-4cfe-a81d-13f5e43235a9')]}\n",
      "---\n",
      "Hello! I'm Alice. I can assist you with various tasks. I have access to tools that allow me to write information to a database, get dataframes, and redirect you to Bob. How can I help you today?\n"
     ]
    },
    {
     "name": "stdin",
     "output_type": "stream",
     "text": [
      ">>> transfer me to bob\n"
     ]
    },
    {
     "name": "stdout",
     "output_type": "stream",
     "text": [
      "Entering agent.\n",
      "{'messages': [HumanMessage(content='hello', additional_kwargs={}, response_metadata={}, id='554a7b38-1d1e-423f-907e-8c8e80bf5e0f'), HumanMessage(content='hello', additional_kwargs={}, response_metadata={}, id='c211a222-9e85-41f9-aaa3-6c7aca5cde2a'), AIMessage(content=\"Hello! I'm Alice. How can I assist you today?\", additional_kwargs={'refusal': None}, response_metadata={'token_usage': {'completion_tokens': 14, 'prompt_tokens': 130, 'total_tokens': 144, 'completion_tokens_details': {'reasoning_tokens': 0, 'audio_tokens': 0, 'accepted_prediction_tokens': 0, 'rejected_prediction_tokens': 0}, 'prompt_tokens_details': {'cached_tokens': 0, 'audio_tokens': 0}}, 'model_name': 'gpt-3.5-turbo-0125', 'system_fingerprint': None, 'finish_reason': 'stop', 'logprobs': None}, id='run-6c557781-c90b-4749-94a3-5294acacb955-0', usage_metadata={'input_tokens': 130, 'output_tokens': 14, 'total_tokens': 144}), HumanMessage(content='can you help me transfer to bob', additional_kwargs={}, response_metadata={}, id='c2cd6cdf-8110-4171-a12d-31ba07f227e7'), HumanMessage(content='can you help me transfer to bob', additional_kwargs={}, response_metadata={}, id='ff15ff92-aab5-4cfe-a81d-13f5e43235a9'), AIMessage(content=\"Hello! I'm Alice. I can assist you with various tasks. I have access to tools that allow me to write information to a database, get dataframes, and redirect you to Bob. How can I help you today?\", additional_kwargs={'refusal': None}, response_metadata={'token_usage': {'completion_tokens': 47, 'prompt_tokens': 136, 'total_tokens': 183, 'completion_tokens_details': {'reasoning_tokens': 0, 'audio_tokens': 0, 'accepted_prediction_tokens': 0, 'rejected_prediction_tokens': 0}, 'prompt_tokens_details': {'cached_tokens': 0, 'audio_tokens': 0}}, 'model_name': 'gpt-3.5-turbo-0125', 'system_fingerprint': None, 'finish_reason': 'stop', 'logprobs': None}, id='run-338acf40-eaaa-4e28-bd9f-fdea9c76686e-0', usage_metadata={'input_tokens': 136, 'output_tokens': 47, 'total_tokens': 183}), HumanMessage(content='transfer me to bob', additional_kwargs={}, response_metadata={}, id='023c6399-6a4a-496b-aae4-2b10c4082e8f')]}\n",
      "---\n",
      "--- HERE ---\n",
      "content='Redirecting to bob' name='to_bob' id='8b46055d-4223-4db2-bcfa-630ab3da4821' tool_call_id='call_iJMuvqrpioJaYTwf9drnWLkt' artifact=Handoff(node='bob', parent_update=None, internal_update=None)\n",
      "HANDOFF\n",
      "{'messages': [HumanMessage(content='transfer me to bob', additional_kwargs={}, response_metadata={}, id='023c6399-6a4a-496b-aae4-2b10c4082e8f'), AIMessage(content='', additional_kwargs={'tool_calls': [{'id': 'call_iJMuvqrpioJaYTwf9drnWLkt', 'function': {'arguments': '{}', 'name': 'to_bob'}, 'type': 'function'}], 'refusal': None}, response_metadata={'token_usage': {'completion_tokens': 11, 'prompt_tokens': 133, 'total_tokens': 144, 'completion_tokens_details': {'reasoning_tokens': 0, 'audio_tokens': 0, 'accepted_prediction_tokens': 0, 'rejected_prediction_tokens': 0}, 'prompt_tokens_details': {'cached_tokens': 0, 'audio_tokens': 0}}, 'model_name': 'gpt-3.5-turbo-0125', 'system_fingerprint': None, 'finish_reason': 'tool_calls', 'logprobs': None}, id='run-f44956fc-79ad-4164-8073-34cd71d9a2ad-0', tool_calls=[{'name': 'to_bob', 'args': {}, 'id': 'call_iJMuvqrpioJaYTwf9drnWLkt', 'type': 'tool_call'}], usage_metadata={'input_tokens': 133, 'output_tokens': 11, 'total_tokens': 144}), ToolMessage(content='Redirecting to bob', name='to_bob', id='8b46055d-4223-4db2-bcfa-630ab3da4821', tool_call_id='call_iJMuvqrpioJaYTwf9drnWLkt', artifact=Handoff(node='bob', parent_update=None, internal_update=None))], 'route_id': 'bob'}\n",
      "Redirecting to bob\n"
     ]
    },
    {
     "name": "stdin",
     "output_type": "stream",
     "text": [
      ">>> who are you\n"
     ]
    },
    {
     "name": "stdout",
     "output_type": "stream",
     "text": [
      "Entering agent.\n",
      "{'messages': [HumanMessage(content='hello', additional_kwargs={}, response_metadata={}, id='554a7b38-1d1e-423f-907e-8c8e80bf5e0f'), HumanMessage(content='hello', additional_kwargs={}, response_metadata={}, id='c211a222-9e85-41f9-aaa3-6c7aca5cde2a'), AIMessage(content=\"Hello! I'm Alice. How can I assist you today?\", additional_kwargs={'refusal': None}, response_metadata={'token_usage': {'completion_tokens': 14, 'prompt_tokens': 130, 'total_tokens': 144, 'completion_tokens_details': {'reasoning_tokens': 0, 'audio_tokens': 0, 'accepted_prediction_tokens': 0, 'rejected_prediction_tokens': 0}, 'prompt_tokens_details': {'cached_tokens': 0, 'audio_tokens': 0}}, 'model_name': 'gpt-3.5-turbo-0125', 'system_fingerprint': None, 'finish_reason': 'stop', 'logprobs': None}, id='run-6c557781-c90b-4749-94a3-5294acacb955-0', usage_metadata={'input_tokens': 130, 'output_tokens': 14, 'total_tokens': 144}), HumanMessage(content='can you help me transfer to bob', additional_kwargs={}, response_metadata={}, id='c2cd6cdf-8110-4171-a12d-31ba07f227e7'), HumanMessage(content='can you help me transfer to bob', additional_kwargs={}, response_metadata={}, id='ff15ff92-aab5-4cfe-a81d-13f5e43235a9'), AIMessage(content=\"Hello! I'm Alice. I can assist you with various tasks. I have access to tools that allow me to write information to a database, get dataframes, and redirect you to Bob. How can I help you today?\", additional_kwargs={'refusal': None}, response_metadata={'token_usage': {'completion_tokens': 47, 'prompt_tokens': 136, 'total_tokens': 183, 'completion_tokens_details': {'reasoning_tokens': 0, 'audio_tokens': 0, 'accepted_prediction_tokens': 0, 'rejected_prediction_tokens': 0}, 'prompt_tokens_details': {'cached_tokens': 0, 'audio_tokens': 0}}, 'model_name': 'gpt-3.5-turbo-0125', 'system_fingerprint': None, 'finish_reason': 'stop', 'logprobs': None}, id='run-338acf40-eaaa-4e28-bd9f-fdea9c76686e-0', usage_metadata={'input_tokens': 136, 'output_tokens': 47, 'total_tokens': 183}), HumanMessage(content='transfer me to bob', additional_kwargs={}, response_metadata={}, id='0d37b6f8-0532-4d62-a1ee-85bc5597cddf'), HumanMessage(content='transfer me to bob', additional_kwargs={}, response_metadata={}, id='023c6399-6a4a-496b-aae4-2b10c4082e8f'), AIMessage(content='', additional_kwargs={'tool_calls': [{'id': 'call_iJMuvqrpioJaYTwf9drnWLkt', 'function': {'arguments': '{}', 'name': 'to_bob'}, 'type': 'function'}], 'refusal': None}, response_metadata={'token_usage': {'completion_tokens': 11, 'prompt_tokens': 133, 'total_tokens': 144, 'completion_tokens_details': {'reasoning_tokens': 0, 'audio_tokens': 0, 'accepted_prediction_tokens': 0, 'rejected_prediction_tokens': 0}, 'prompt_tokens_details': {'cached_tokens': 0, 'audio_tokens': 0}}, 'model_name': 'gpt-3.5-turbo-0125', 'system_fingerprint': None, 'finish_reason': 'tool_calls', 'logprobs': None}, id='run-f44956fc-79ad-4164-8073-34cd71d9a2ad-0', tool_calls=[{'name': 'to_bob', 'args': {}, 'id': 'call_iJMuvqrpioJaYTwf9drnWLkt', 'type': 'tool_call'}], usage_metadata={'input_tokens': 133, 'output_tokens': 11, 'total_tokens': 144}), ToolMessage(content='Redirecting to bob', name='to_bob', id='8b46055d-4223-4db2-bcfa-630ab3da4821', tool_call_id='call_iJMuvqrpioJaYTwf9drnWLkt', artifact={'node': 'bob', 'parent_update': None, 'internal_update': None}), HumanMessage(content='who are you', additional_kwargs={}, response_metadata={}, id='fe350de0-3afe-43c6-b52c-a877379a1c60')], 'route_id': 'bob'}\n",
      "---\n",
      "Hello! I'm Bob. I'm here to assist you with various tasks and provide you with information. How can I help you today?\n"
     ]
    },
    {
     "name": "stdin",
     "output_type": "stream",
     "text": [
      ">>> transfer me to alice\n"
     ]
    },
    {
     "name": "stdout",
     "output_type": "stream",
     "text": [
      "Entering agent.\n",
      "{'messages': [HumanMessage(content='hello', additional_kwargs={}, response_metadata={}, id='554a7b38-1d1e-423f-907e-8c8e80bf5e0f'), HumanMessage(content='hello', additional_kwargs={}, response_metadata={}, id='c211a222-9e85-41f9-aaa3-6c7aca5cde2a'), AIMessage(content=\"Hello! I'm Alice. How can I assist you today?\", additional_kwargs={'refusal': None}, response_metadata={'token_usage': {'completion_tokens': 14, 'prompt_tokens': 130, 'total_tokens': 144, 'completion_tokens_details': {'reasoning_tokens': 0, 'audio_tokens': 0, 'accepted_prediction_tokens': 0, 'rejected_prediction_tokens': 0}, 'prompt_tokens_details': {'cached_tokens': 0, 'audio_tokens': 0}}, 'model_name': 'gpt-3.5-turbo-0125', 'system_fingerprint': None, 'finish_reason': 'stop', 'logprobs': None}, id='run-6c557781-c90b-4749-94a3-5294acacb955-0', usage_metadata={'input_tokens': 130, 'output_tokens': 14, 'total_tokens': 144}), HumanMessage(content='can you help me transfer to bob', additional_kwargs={}, response_metadata={}, id='c2cd6cdf-8110-4171-a12d-31ba07f227e7'), HumanMessage(content='can you help me transfer to bob', additional_kwargs={}, response_metadata={}, id='ff15ff92-aab5-4cfe-a81d-13f5e43235a9'), AIMessage(content=\"Hello! I'm Alice. I can assist you with various tasks. I have access to tools that allow me to write information to a database, get dataframes, and redirect you to Bob. How can I help you today?\", additional_kwargs={'refusal': None}, response_metadata={'token_usage': {'completion_tokens': 47, 'prompt_tokens': 136, 'total_tokens': 183, 'completion_tokens_details': {'reasoning_tokens': 0, 'audio_tokens': 0, 'accepted_prediction_tokens': 0, 'rejected_prediction_tokens': 0}, 'prompt_tokens_details': {'cached_tokens': 0, 'audio_tokens': 0}}, 'model_name': 'gpt-3.5-turbo-0125', 'system_fingerprint': None, 'finish_reason': 'stop', 'logprobs': None}, id='run-338acf40-eaaa-4e28-bd9f-fdea9c76686e-0', usage_metadata={'input_tokens': 136, 'output_tokens': 47, 'total_tokens': 183}), HumanMessage(content='transfer me to bob', additional_kwargs={}, response_metadata={}, id='0d37b6f8-0532-4d62-a1ee-85bc5597cddf'), HumanMessage(content='transfer me to bob', additional_kwargs={}, response_metadata={}, id='023c6399-6a4a-496b-aae4-2b10c4082e8f'), AIMessage(content='', additional_kwargs={'tool_calls': [{'id': 'call_iJMuvqrpioJaYTwf9drnWLkt', 'function': {'arguments': '{}', 'name': 'to_bob'}, 'type': 'function'}], 'refusal': None}, response_metadata={'token_usage': {'completion_tokens': 11, 'prompt_tokens': 133, 'total_tokens': 144, 'completion_tokens_details': {'reasoning_tokens': 0, 'audio_tokens': 0, 'accepted_prediction_tokens': 0, 'rejected_prediction_tokens': 0}, 'prompt_tokens_details': {'cached_tokens': 0, 'audio_tokens': 0}}, 'model_name': 'gpt-3.5-turbo-0125', 'system_fingerprint': None, 'finish_reason': 'tool_calls', 'logprobs': None}, id='run-f44956fc-79ad-4164-8073-34cd71d9a2ad-0', tool_calls=[{'name': 'to_bob', 'args': {}, 'id': 'call_iJMuvqrpioJaYTwf9drnWLkt', 'type': 'tool_call'}], usage_metadata={'input_tokens': 133, 'output_tokens': 11, 'total_tokens': 144}), ToolMessage(content='Redirecting to bob', name='to_bob', id='8b46055d-4223-4db2-bcfa-630ab3da4821', tool_call_id='call_iJMuvqrpioJaYTwf9drnWLkt', artifact={'node': 'bob', 'parent_update': None, 'internal_update': None}), HumanMessage(content='who are you', additional_kwargs={}, response_metadata={}, id='51f288d1-a9fa-410b-9047-ff0cca5b339e'), HumanMessage(content='who are you', additional_kwargs={}, response_metadata={}, id='fe350de0-3afe-43c6-b52c-a877379a1c60'), AIMessage(content=\"Hello! I'm Bob. I'm here to assist you with various tasks and provide you with information. How can I help you today?\", additional_kwargs={'refusal': None}, response_metadata={'token_usage': {'completion_tokens': 29, 'prompt_tokens': 80, 'total_tokens': 109, 'completion_tokens_details': {'reasoning_tokens': 0, 'audio_tokens': 0, 'accepted_prediction_tokens': 0, 'rejected_prediction_tokens': 0}, 'prompt_tokens_details': {'cached_tokens': 0, 'audio_tokens': 0}}, 'model_name': 'gpt-3.5-turbo-0125', 'system_fingerprint': None, 'finish_reason': 'stop', 'logprobs': None}, id='run-7765139a-eea6-41a6-99ac-f926ee468214-0', usage_metadata={'input_tokens': 80, 'output_tokens': 29, 'total_tokens': 109}), HumanMessage(content='transfer me to alice', additional_kwargs={}, response_metadata={}, id='1aa6a6da-c6ee-4915-8025-b91667263b6f')], 'route_id': 'bob'}\n",
      "---\n",
      "--- HERE ---\n",
      "content='Redirecting to Alice' name='to_alice' id='3e0ecdb2-23ab-4694-b043-3e83deef5717' tool_call_id='call_ENTSzmcfpoOrYqe6vMASZNH4' artifact=Handoff(node='alice', parent_update=None, internal_update=None)\n",
      "HANDOFF\n",
      "{'messages': [HumanMessage(content='transfer me to alice', additional_kwargs={}, response_metadata={}, id='1aa6a6da-c6ee-4915-8025-b91667263b6f'), AIMessage(content='', additional_kwargs={'tool_calls': [{'id': 'call_ENTSzmcfpoOrYqe6vMASZNH4', 'function': {'arguments': '{}', 'name': 'to_alice'}, 'type': 'function'}], 'refusal': None}, response_metadata={'token_usage': {'completion_tokens': 11, 'prompt_tokens': 81, 'total_tokens': 92, 'completion_tokens_details': {'reasoning_tokens': 0, 'audio_tokens': 0, 'accepted_prediction_tokens': 0, 'rejected_prediction_tokens': 0}, 'prompt_tokens_details': {'cached_tokens': 0, 'audio_tokens': 0}}, 'model_name': 'gpt-3.5-turbo-0125', 'system_fingerprint': None, 'finish_reason': 'tool_calls', 'logprobs': None}, id='run-5f800600-7eb4-4df2-bfd4-4e56438dc433-0', tool_calls=[{'name': 'to_alice', 'args': {}, 'id': 'call_ENTSzmcfpoOrYqe6vMASZNH4', 'type': 'tool_call'}], usage_metadata={'input_tokens': 81, 'output_tokens': 11, 'total_tokens': 92}), ToolMessage(content='Redirecting to Alice', name='to_alice', id='3e0ecdb2-23ab-4694-b043-3e83deef5717', tool_call_id='call_ENTSzmcfpoOrYqe6vMASZNH4', artifact=Handoff(node='alice', parent_update=None, internal_update=None))], 'route_id': 'alice'}\n",
      "Redirecting to Alice\n"
     ]
    },
    {
     "name": "stdin",
     "output_type": "stream",
     "text": [
      ">>> q\n"
     ]
    },
    {
     "name": "stdout",
     "output_type": "stream",
     "text": [
      "bye\n"
     ]
    }
   ],
   "source": [
    "\n",
    "import uuid\n",
    "thread_id = uuid.uuid4()\n",
    "\n",
    "while True:\n",
    "    msg = input('>>>')\n",
    "    if msg in {\"q\", \"exit\", \"quit\"}:\n",
    "        print('bye')\n",
    "        break\n",
    "    \n",
    "    inputs = {\"messages\": [(\"user\", msg)]}\n",
    "    print(graph.invoke(inputs, {\"configurable\": {'thread_id': thread_id}}, stream_mode=\"values\")['messages'][-1].content)\n"
   ]
  },
  {
   "cell_type": "code",
   "execution_count": null,
   "id": "2707ff90-6d5f-4661-90d4-f62d566b0e62",
   "metadata": {},
   "outputs": [],
   "source": []
  }
 ],
 "metadata": {
  "kernelspec": {
   "display_name": "Python 3 (ipykernel)",
   "language": "python",
   "name": "python3"
  },
  "language_info": {
   "codemirror_mode": {
    "name": "ipython",
    "version": 3
   },
   "file_extension": ".py",
   "mimetype": "text/x-python",
   "name": "python",
   "nbconvert_exporter": "python",
   "pygments_lexer": "ipython3",
   "version": "3.11.4"
  }
 },
 "nbformat": 4,
 "nbformat_minor": 5
}
