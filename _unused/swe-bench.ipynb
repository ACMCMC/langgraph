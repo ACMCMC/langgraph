{
 "cells": [
  {
   "cell_type": "code",
   "execution_count": 21,
   "id": "e95c6582-23f5-4b03-a08e-567fcc067bf7",
   "metadata": {},
   "outputs": [],
   "source": [
    "# %pip install swebench"
   ]
  },
  {
   "cell_type": "code",
   "execution_count": 7,
   "id": "726bf12f-a7cc-4267-a84f-5267e062299b",
   "metadata": {},
   "outputs": [],
   "source": [
    "from datasets import load_dataset\n",
    "\n",
    "ds = load_dataset(\"princeton-nlp/SWE-bench\")"
   ]
  },
  {
   "cell_type": "code",
   "execution_count": 29,
   "id": "6b2471ad-47f6-416b-964b-11974778cdb7",
   "metadata": {},
   "outputs": [
    {
     "data": {
      "text/plain": [
       "<module 'swebench' from '/Users/wfh/code/lc/langgraph/.venv/lib/python3.11/site-packages/swebench/__init__.py'>"
      ]
     },
     "execution_count": 29,
     "metadata": {},
     "output_type": "execute_result"
    }
   ],
   "source": [
    "swebench"
   ]
  },
  {
   "cell_type": "code",
   "execution_count": 12,
   "id": "dd7b7da7-90f2-4f2d-9700-4535c4a97389",
   "metadata": {},
   "outputs": [
    {
     "data": {
      "text/plain": [
       "Dataset({\n",
       "    features: ['repo', 'instance_id', 'base_commit', 'patch', 'test_patch', 'problem_statement', 'hints_text', 'created_at', 'version', 'FAIL_TO_PASS', 'PASS_TO_PASS', 'environment_setup_commit'],\n",
       "    num_rows: 225\n",
       "})"
      ]
     },
     "execution_count": 12,
     "metadata": {},
     "output_type": "execute_result"
    }
   ],
   "source": [
    "ds[\"dev\"]"
   ]
  },
  {
   "cell_type": "code",
   "execution_count": 16,
   "id": "a9da3184-da93-47c0-8242-3eac595e4fd4",
   "metadata": {},
   "outputs": [],
   "source": [
    "import numpy as np\n",
    "\n",
    "dataset = ds[\"dev\"]\n",
    "text_key = \"problem_statement\"  # \"text\"\n",
    "lens = np.array(list(map(len, dataset[text_key])))\n",
    "dataset = dataset.select(np.argsort(lens))"
   ]
  },
  {
   "cell_type": "code",
   "execution_count": 28,
   "id": "1e744ba2-aca1-4095-a5fb-1282d66190b0",
   "metadata": {},
   "outputs": [],
   "source": [
    "def format_output():\n",
    "    output_dict = {\"instance_id\": instance_id}\n",
    "    output_dict.update(basic_args)\n",
    "    output_dict[\"text\"] = f\"{datum['text']}\\n\\n\"\n",
    "    response, cost = call_chat(\n",
    "        output_dict[\"model_name_or_path\"],\n",
    "        output_dict[\"text\"],\n",
    "        use_azure,\n",
    "        temperature,\n",
    "        top_p,\n",
    "    )\n",
    "    completion = response.choices[0][\"message\"][\"content\"]\n",
    "    total_cost += cost\n",
    "    print(f\"Total Cost: {total_cost:.2f}\")\n",
    "    output_dict[\"full_output\"] = completion\n",
    "    output_dict[\"model_patch\"] = extract_diff(completion)\n",
    "    return output_dict"
   ]
  },
  {
   "cell_type": "code",
   "execution_count": null,
   "id": "e057e47e-1105-4585-8a15-839abf5867bd",
   "metadata": {},
   "outputs": [],
   "source": []
  },
  {
   "cell_type": "code",
   "execution_count": 22,
   "id": "637ce563-6652-44df-b239-392094a6aa31",
   "metadata": {},
   "outputs": [],
   "source": [
    "output_dict[\"full_output\"] = completion\n",
    "output_dict[\"model_patch\"] = extract_diff(completion)"
   ]
  },
  {
   "cell_type": "code",
   "execution_count": null,
   "id": "820e9b79-7807-4d1b-9093-6b6618658db0",
   "metadata": {},
   "outputs": [],
   "source": [
    "# python run_evaluation.py \\\n",
    "#     --predictions_path [Required] [.json]  Path to predictions \\\n",
    "#     --log_dir          [Required] [folder] Path to directory to save evaluation log files \\\n",
    "#     --swe_bench_tasks  [Required] [.json]  Path to SWE-bench task instances file \\\n",
    "#     --testbed          [Required] [folder] Path to testbed directory, for cloning GitHub repos to \\\n",
    "#     --skip_existing    [Optional] [bool]   Skip evaluating task instances with logs that already exist \\\n",
    "#     --timeout          [Optional] [int]    Timeout for installation + test script execution \\\n",
    "#     --verbose          [Optional] [bool]   Print verbosely"
   ]
  },
  {
   "cell_type": "code",
   "execution_count": 27,
   "id": "41b4503d-b7d5-4466-8ee3-544d84b5d26f",
   "metadata": {},
   "outputs": [],
   "source": [
    "import swebench\n",
    "\n",
    "\n",
    "def evaluate(\n",
    "    predictions_path: str,\n",
    "    swe_bench_tasks: str,\n",
    "    log_dir: str,\n",
    "    testbed: str,\n",
    "    log_suffix: str,\n",
    "    skip_existing: bool,\n",
    "    timeout: int,\n",
    "    verbose: bool,\n",
    "    num_processes: int = -1,\n",
    "):\n",
    "    return swebench.run_evaluation(\n",
    "        predictions_path,\n",
    "        swe_bench_tasks,\n",
    "        log_dir,\n",
    "        testbed,\n",
    "        log_suffix,\n",
    "        skip_existing,\n",
    "        timeout,\n",
    "        verbose,\n",
    "        num_processes,\n",
    "    )\n",
    "\n",
    "\n",
    "# def evaluate_task(run, example):"
   ]
  },
  {
   "cell_type": "code",
   "execution_count": null,
   "id": "827ef902-eb5f-48ec-8aeb-557d8efd51ee",
   "metadata": {},
   "outputs": [],
   "source": []
  }
 ],
 "metadata": {
  "kernelspec": {
   "display_name": "Python 3 (ipykernel)",
   "language": "python",
   "name": "python3"
  },
  "language_info": {
   "codemirror_mode": {
    "name": "ipython",
    "version": 3
   },
   "file_extension": ".py",
   "mimetype": "text/x-python",
   "name": "python",
   "nbconvert_exporter": "python",
   "pygments_lexer": "ipython3",
   "version": "3.11.2"
  }
 },
 "nbformat": 4,
 "nbformat_minor": 5
}
